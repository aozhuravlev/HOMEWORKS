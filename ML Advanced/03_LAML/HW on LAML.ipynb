{
 "cells": [
  {
   "cell_type": "code",
   "execution_count": 1,
   "metadata": {},
   "outputs": [],
   "source": [
    "%reload_ext autoreload\n",
    "%autoreload 2"
   ]
  },
  {
   "cell_type": "code",
   "execution_count": 10,
   "metadata": {},
   "outputs": [],
   "source": [
    "# Standard python libraries\n",
    "import os\n",
    "import time\n",
    "import requests\n",
    "import warnings\n",
    "\n",
    "\n",
    "# Installed libraries\n",
    "import numpy as np\n",
    "import pandas as pd\n",
    "from sklearn.metrics import roc_auc_score\n",
    "from sklearn.model_selection import train_test_split\n",
    "\n",
    "# import torch\n",
    "\n",
    "# Imports from our package\n",
    "from lightautoml.automl.base import AutoML\n",
    "from lightautoml.ml_algo.boost_lgbm import BoostLGBM\n",
    "from lightautoml.ml_algo.boost_cb import BoostCB\n",
    "from lightautoml.ml_algo.tuning.optuna import OptunaTuner\n",
    "from lightautoml.pipelines.features.lgb_pipeline import LGBSimpleFeatures\n",
    "from lightautoml.pipelines.ml.base import MLPipeline\n",
    "from lightautoml.pipelines.selection.importance_based import (\n",
    "    ImportanceCutoffSelector,\n",
    "    ModelBasedImportanceEstimator,\n",
    ")\n",
    "from lightautoml.reader.base import PandasToPandasReader\n",
    "from lightautoml.tasks import Task\n",
    "from lightautoml.automl.blend import WeightedBlender\n",
    "from lightautoml.automl.presets.tabular_presets import (\n",
    "    TabularAutoML,\n",
    "    TabularUtilizedAutoML,\n",
    ")\n",
    "from lightautoml.dataset.roles import DatetimeRole\n",
    "\n",
    "from funcs import (\n",
    "    get_num_features, \n",
    "    get_cat_features,\n",
    "    create_features,\n",
    "    get_mae,\n",
    "    playsound,\n",
    "    target_log1p,\n",
    ")\n",
    "\n",
    "warnings.filterwarnings(\"ignore\", category=FutureWarning)\n",
    "pd.set_option(\"display.max_columns\", None)"
   ]
  },
  {
   "cell_type": "code",
   "execution_count": 3,
   "metadata": {},
   "outputs": [],
   "source": [
    "N_THREADS = 8  # threads cnt for lgbm and linear models\n",
    "N_FOLDS = 5  # folds cnt for AutoML\n",
    "RANDOM_STATE = 137  # fixed random state for various reasons\n",
    "TEST_SIZE = 0.2  # Test size for metric check\n",
    "TARGET_NAME = \"SalePrice\"  # Target column name\n",
    "\n",
    "np.random.seed(RANDOM_STATE)\n",
    "\n",
    "\n",
    "DATASET_DIR = \"data/\"\n",
    "TRAIN_DATASET_NAME = \"train.csv\"\n",
    "TEST_DATASET_NAME = \"train.csv\"\n",
    "TRAIN_DATASET_FULLNAME = os.path.join(DATASET_DIR, TRAIN_DATASET_NAME)\n",
    "TEST_DATASET_FULLNAME = os.path.join(DATASET_DIR, TEST_DATASET_NAME)\n",
    "\n",
    "\n",
    "TIMEOUT = 3600\n",
    "THREADS = 4\n",
    "CV = 5"
   ]
  },
  {
   "cell_type": "code",
   "execution_count": 4,
   "metadata": {},
   "outputs": [
    {
     "data": {
      "text/html": [
       "<div>\n",
       "<style scoped>\n",
       "    .dataframe tbody tr th:only-of-type {\n",
       "        vertical-align: middle;\n",
       "    }\n",
       "\n",
       "    .dataframe tbody tr th {\n",
       "        vertical-align: top;\n",
       "    }\n",
       "\n",
       "    .dataframe thead th {\n",
       "        text-align: right;\n",
       "    }\n",
       "</style>\n",
       "<table border=\"1\" class=\"dataframe\">\n",
       "  <thead>\n",
       "    <tr style=\"text-align: right;\">\n",
       "      <th></th>\n",
       "      <th>Id</th>\n",
       "      <th>MSSubClass</th>\n",
       "      <th>MSZoning</th>\n",
       "      <th>LotFrontage</th>\n",
       "      <th>LotArea</th>\n",
       "      <th>Street</th>\n",
       "      <th>Alley</th>\n",
       "      <th>LotShape</th>\n",
       "      <th>LandContour</th>\n",
       "      <th>Utilities</th>\n",
       "      <th>LotConfig</th>\n",
       "      <th>LandSlope</th>\n",
       "      <th>Neighborhood</th>\n",
       "      <th>Condition1</th>\n",
       "      <th>Condition2</th>\n",
       "      <th>BldgType</th>\n",
       "      <th>HouseStyle</th>\n",
       "      <th>OverallQual</th>\n",
       "      <th>OverallCond</th>\n",
       "      <th>YearBuilt</th>\n",
       "      <th>YearRemodAdd</th>\n",
       "      <th>RoofStyle</th>\n",
       "      <th>RoofMatl</th>\n",
       "      <th>Exterior1st</th>\n",
       "      <th>Exterior2nd</th>\n",
       "      <th>MasVnrType</th>\n",
       "      <th>MasVnrArea</th>\n",
       "      <th>ExterQual</th>\n",
       "      <th>ExterCond</th>\n",
       "      <th>Foundation</th>\n",
       "      <th>BsmtQual</th>\n",
       "      <th>BsmtCond</th>\n",
       "      <th>BsmtExposure</th>\n",
       "      <th>BsmtFinType1</th>\n",
       "      <th>BsmtFinSF1</th>\n",
       "      <th>BsmtFinType2</th>\n",
       "      <th>BsmtFinSF2</th>\n",
       "      <th>BsmtUnfSF</th>\n",
       "      <th>TotalBsmtSF</th>\n",
       "      <th>Heating</th>\n",
       "      <th>HeatingQC</th>\n",
       "      <th>CentralAir</th>\n",
       "      <th>Electrical</th>\n",
       "      <th>1stFlrSF</th>\n",
       "      <th>2ndFlrSF</th>\n",
       "      <th>LowQualFinSF</th>\n",
       "      <th>GrLivArea</th>\n",
       "      <th>BsmtFullBath</th>\n",
       "      <th>BsmtHalfBath</th>\n",
       "      <th>FullBath</th>\n",
       "      <th>HalfBath</th>\n",
       "      <th>BedroomAbvGr</th>\n",
       "      <th>KitchenAbvGr</th>\n",
       "      <th>KitchenQual</th>\n",
       "      <th>TotRmsAbvGrd</th>\n",
       "      <th>Functional</th>\n",
       "      <th>Fireplaces</th>\n",
       "      <th>FireplaceQu</th>\n",
       "      <th>GarageType</th>\n",
       "      <th>GarageYrBlt</th>\n",
       "      <th>GarageFinish</th>\n",
       "      <th>GarageCars</th>\n",
       "      <th>GarageArea</th>\n",
       "      <th>GarageQual</th>\n",
       "      <th>GarageCond</th>\n",
       "      <th>PavedDrive</th>\n",
       "      <th>WoodDeckSF</th>\n",
       "      <th>OpenPorchSF</th>\n",
       "      <th>EnclosedPorch</th>\n",
       "      <th>3SsnPorch</th>\n",
       "      <th>ScreenPorch</th>\n",
       "      <th>PoolArea</th>\n",
       "      <th>PoolQC</th>\n",
       "      <th>Fence</th>\n",
       "      <th>MiscFeature</th>\n",
       "      <th>MiscVal</th>\n",
       "      <th>MoSold</th>\n",
       "      <th>YrSold</th>\n",
       "      <th>SaleType</th>\n",
       "      <th>SaleCondition</th>\n",
       "      <th>SalePrice</th>\n",
       "    </tr>\n",
       "  </thead>\n",
       "  <tbody>\n",
       "    <tr>\n",
       "      <th>0</th>\n",
       "      <td>1</td>\n",
       "      <td>60</td>\n",
       "      <td>RL</td>\n",
       "      <td>65.0</td>\n",
       "      <td>8450</td>\n",
       "      <td>Pave</td>\n",
       "      <td>NaN</td>\n",
       "      <td>Reg</td>\n",
       "      <td>Lvl</td>\n",
       "      <td>AllPub</td>\n",
       "      <td>Inside</td>\n",
       "      <td>Gtl</td>\n",
       "      <td>CollgCr</td>\n",
       "      <td>Norm</td>\n",
       "      <td>Norm</td>\n",
       "      <td>1Fam</td>\n",
       "      <td>2Story</td>\n",
       "      <td>7</td>\n",
       "      <td>5</td>\n",
       "      <td>2003</td>\n",
       "      <td>2003</td>\n",
       "      <td>Gable</td>\n",
       "      <td>CompShg</td>\n",
       "      <td>VinylSd</td>\n",
       "      <td>VinylSd</td>\n",
       "      <td>BrkFace</td>\n",
       "      <td>196.0</td>\n",
       "      <td>Gd</td>\n",
       "      <td>TA</td>\n",
       "      <td>PConc</td>\n",
       "      <td>Gd</td>\n",
       "      <td>TA</td>\n",
       "      <td>No</td>\n",
       "      <td>GLQ</td>\n",
       "      <td>706</td>\n",
       "      <td>Unf</td>\n",
       "      <td>0</td>\n",
       "      <td>150</td>\n",
       "      <td>856</td>\n",
       "      <td>GasA</td>\n",
       "      <td>Ex</td>\n",
       "      <td>Y</td>\n",
       "      <td>SBrkr</td>\n",
       "      <td>856</td>\n",
       "      <td>854</td>\n",
       "      <td>0</td>\n",
       "      <td>1710</td>\n",
       "      <td>1</td>\n",
       "      <td>0</td>\n",
       "      <td>2</td>\n",
       "      <td>1</td>\n",
       "      <td>3</td>\n",
       "      <td>1</td>\n",
       "      <td>Gd</td>\n",
       "      <td>8</td>\n",
       "      <td>Typ</td>\n",
       "      <td>0</td>\n",
       "      <td>NaN</td>\n",
       "      <td>Attchd</td>\n",
       "      <td>2003.0</td>\n",
       "      <td>RFn</td>\n",
       "      <td>2</td>\n",
       "      <td>548</td>\n",
       "      <td>TA</td>\n",
       "      <td>TA</td>\n",
       "      <td>Y</td>\n",
       "      <td>0</td>\n",
       "      <td>61</td>\n",
       "      <td>0</td>\n",
       "      <td>0</td>\n",
       "      <td>0</td>\n",
       "      <td>0</td>\n",
       "      <td>NaN</td>\n",
       "      <td>NaN</td>\n",
       "      <td>NaN</td>\n",
       "      <td>0</td>\n",
       "      <td>2</td>\n",
       "      <td>2008</td>\n",
       "      <td>WD</td>\n",
       "      <td>Normal</td>\n",
       "      <td>208500</td>\n",
       "    </tr>\n",
       "    <tr>\n",
       "      <th>1</th>\n",
       "      <td>2</td>\n",
       "      <td>20</td>\n",
       "      <td>RL</td>\n",
       "      <td>80.0</td>\n",
       "      <td>9600</td>\n",
       "      <td>Pave</td>\n",
       "      <td>NaN</td>\n",
       "      <td>Reg</td>\n",
       "      <td>Lvl</td>\n",
       "      <td>AllPub</td>\n",
       "      <td>FR2</td>\n",
       "      <td>Gtl</td>\n",
       "      <td>Veenker</td>\n",
       "      <td>Feedr</td>\n",
       "      <td>Norm</td>\n",
       "      <td>1Fam</td>\n",
       "      <td>1Story</td>\n",
       "      <td>6</td>\n",
       "      <td>8</td>\n",
       "      <td>1976</td>\n",
       "      <td>1976</td>\n",
       "      <td>Gable</td>\n",
       "      <td>CompShg</td>\n",
       "      <td>MetalSd</td>\n",
       "      <td>MetalSd</td>\n",
       "      <td>NaN</td>\n",
       "      <td>0.0</td>\n",
       "      <td>TA</td>\n",
       "      <td>TA</td>\n",
       "      <td>CBlock</td>\n",
       "      <td>Gd</td>\n",
       "      <td>TA</td>\n",
       "      <td>Gd</td>\n",
       "      <td>ALQ</td>\n",
       "      <td>978</td>\n",
       "      <td>Unf</td>\n",
       "      <td>0</td>\n",
       "      <td>284</td>\n",
       "      <td>1262</td>\n",
       "      <td>GasA</td>\n",
       "      <td>Ex</td>\n",
       "      <td>Y</td>\n",
       "      <td>SBrkr</td>\n",
       "      <td>1262</td>\n",
       "      <td>0</td>\n",
       "      <td>0</td>\n",
       "      <td>1262</td>\n",
       "      <td>0</td>\n",
       "      <td>1</td>\n",
       "      <td>2</td>\n",
       "      <td>0</td>\n",
       "      <td>3</td>\n",
       "      <td>1</td>\n",
       "      <td>TA</td>\n",
       "      <td>6</td>\n",
       "      <td>Typ</td>\n",
       "      <td>1</td>\n",
       "      <td>TA</td>\n",
       "      <td>Attchd</td>\n",
       "      <td>1976.0</td>\n",
       "      <td>RFn</td>\n",
       "      <td>2</td>\n",
       "      <td>460</td>\n",
       "      <td>TA</td>\n",
       "      <td>TA</td>\n",
       "      <td>Y</td>\n",
       "      <td>298</td>\n",
       "      <td>0</td>\n",
       "      <td>0</td>\n",
       "      <td>0</td>\n",
       "      <td>0</td>\n",
       "      <td>0</td>\n",
       "      <td>NaN</td>\n",
       "      <td>NaN</td>\n",
       "      <td>NaN</td>\n",
       "      <td>0</td>\n",
       "      <td>5</td>\n",
       "      <td>2007</td>\n",
       "      <td>WD</td>\n",
       "      <td>Normal</td>\n",
       "      <td>181500</td>\n",
       "    </tr>\n",
       "    <tr>\n",
       "      <th>2</th>\n",
       "      <td>3</td>\n",
       "      <td>60</td>\n",
       "      <td>RL</td>\n",
       "      <td>68.0</td>\n",
       "      <td>11250</td>\n",
       "      <td>Pave</td>\n",
       "      <td>NaN</td>\n",
       "      <td>IR1</td>\n",
       "      <td>Lvl</td>\n",
       "      <td>AllPub</td>\n",
       "      <td>Inside</td>\n",
       "      <td>Gtl</td>\n",
       "      <td>CollgCr</td>\n",
       "      <td>Norm</td>\n",
       "      <td>Norm</td>\n",
       "      <td>1Fam</td>\n",
       "      <td>2Story</td>\n",
       "      <td>7</td>\n",
       "      <td>5</td>\n",
       "      <td>2001</td>\n",
       "      <td>2002</td>\n",
       "      <td>Gable</td>\n",
       "      <td>CompShg</td>\n",
       "      <td>VinylSd</td>\n",
       "      <td>VinylSd</td>\n",
       "      <td>BrkFace</td>\n",
       "      <td>162.0</td>\n",
       "      <td>Gd</td>\n",
       "      <td>TA</td>\n",
       "      <td>PConc</td>\n",
       "      <td>Gd</td>\n",
       "      <td>TA</td>\n",
       "      <td>Mn</td>\n",
       "      <td>GLQ</td>\n",
       "      <td>486</td>\n",
       "      <td>Unf</td>\n",
       "      <td>0</td>\n",
       "      <td>434</td>\n",
       "      <td>920</td>\n",
       "      <td>GasA</td>\n",
       "      <td>Ex</td>\n",
       "      <td>Y</td>\n",
       "      <td>SBrkr</td>\n",
       "      <td>920</td>\n",
       "      <td>866</td>\n",
       "      <td>0</td>\n",
       "      <td>1786</td>\n",
       "      <td>1</td>\n",
       "      <td>0</td>\n",
       "      <td>2</td>\n",
       "      <td>1</td>\n",
       "      <td>3</td>\n",
       "      <td>1</td>\n",
       "      <td>Gd</td>\n",
       "      <td>6</td>\n",
       "      <td>Typ</td>\n",
       "      <td>1</td>\n",
       "      <td>TA</td>\n",
       "      <td>Attchd</td>\n",
       "      <td>2001.0</td>\n",
       "      <td>RFn</td>\n",
       "      <td>2</td>\n",
       "      <td>608</td>\n",
       "      <td>TA</td>\n",
       "      <td>TA</td>\n",
       "      <td>Y</td>\n",
       "      <td>0</td>\n",
       "      <td>42</td>\n",
       "      <td>0</td>\n",
       "      <td>0</td>\n",
       "      <td>0</td>\n",
       "      <td>0</td>\n",
       "      <td>NaN</td>\n",
       "      <td>NaN</td>\n",
       "      <td>NaN</td>\n",
       "      <td>0</td>\n",
       "      <td>9</td>\n",
       "      <td>2008</td>\n",
       "      <td>WD</td>\n",
       "      <td>Normal</td>\n",
       "      <td>223500</td>\n",
       "    </tr>\n",
       "    <tr>\n",
       "      <th>3</th>\n",
       "      <td>4</td>\n",
       "      <td>70</td>\n",
       "      <td>RL</td>\n",
       "      <td>60.0</td>\n",
       "      <td>9550</td>\n",
       "      <td>Pave</td>\n",
       "      <td>NaN</td>\n",
       "      <td>IR1</td>\n",
       "      <td>Lvl</td>\n",
       "      <td>AllPub</td>\n",
       "      <td>Corner</td>\n",
       "      <td>Gtl</td>\n",
       "      <td>Crawfor</td>\n",
       "      <td>Norm</td>\n",
       "      <td>Norm</td>\n",
       "      <td>1Fam</td>\n",
       "      <td>2Story</td>\n",
       "      <td>7</td>\n",
       "      <td>5</td>\n",
       "      <td>1915</td>\n",
       "      <td>1970</td>\n",
       "      <td>Gable</td>\n",
       "      <td>CompShg</td>\n",
       "      <td>Wd Sdng</td>\n",
       "      <td>Wd Shng</td>\n",
       "      <td>NaN</td>\n",
       "      <td>0.0</td>\n",
       "      <td>TA</td>\n",
       "      <td>TA</td>\n",
       "      <td>BrkTil</td>\n",
       "      <td>TA</td>\n",
       "      <td>Gd</td>\n",
       "      <td>No</td>\n",
       "      <td>ALQ</td>\n",
       "      <td>216</td>\n",
       "      <td>Unf</td>\n",
       "      <td>0</td>\n",
       "      <td>540</td>\n",
       "      <td>756</td>\n",
       "      <td>GasA</td>\n",
       "      <td>Gd</td>\n",
       "      <td>Y</td>\n",
       "      <td>SBrkr</td>\n",
       "      <td>961</td>\n",
       "      <td>756</td>\n",
       "      <td>0</td>\n",
       "      <td>1717</td>\n",
       "      <td>1</td>\n",
       "      <td>0</td>\n",
       "      <td>1</td>\n",
       "      <td>0</td>\n",
       "      <td>3</td>\n",
       "      <td>1</td>\n",
       "      <td>Gd</td>\n",
       "      <td>7</td>\n",
       "      <td>Typ</td>\n",
       "      <td>1</td>\n",
       "      <td>Gd</td>\n",
       "      <td>Detchd</td>\n",
       "      <td>1998.0</td>\n",
       "      <td>Unf</td>\n",
       "      <td>3</td>\n",
       "      <td>642</td>\n",
       "      <td>TA</td>\n",
       "      <td>TA</td>\n",
       "      <td>Y</td>\n",
       "      <td>0</td>\n",
       "      <td>35</td>\n",
       "      <td>272</td>\n",
       "      <td>0</td>\n",
       "      <td>0</td>\n",
       "      <td>0</td>\n",
       "      <td>NaN</td>\n",
       "      <td>NaN</td>\n",
       "      <td>NaN</td>\n",
       "      <td>0</td>\n",
       "      <td>2</td>\n",
       "      <td>2006</td>\n",
       "      <td>WD</td>\n",
       "      <td>Abnorml</td>\n",
       "      <td>140000</td>\n",
       "    </tr>\n",
       "    <tr>\n",
       "      <th>4</th>\n",
       "      <td>5</td>\n",
       "      <td>60</td>\n",
       "      <td>RL</td>\n",
       "      <td>84.0</td>\n",
       "      <td>14260</td>\n",
       "      <td>Pave</td>\n",
       "      <td>NaN</td>\n",
       "      <td>IR1</td>\n",
       "      <td>Lvl</td>\n",
       "      <td>AllPub</td>\n",
       "      <td>FR2</td>\n",
       "      <td>Gtl</td>\n",
       "      <td>NoRidge</td>\n",
       "      <td>Norm</td>\n",
       "      <td>Norm</td>\n",
       "      <td>1Fam</td>\n",
       "      <td>2Story</td>\n",
       "      <td>8</td>\n",
       "      <td>5</td>\n",
       "      <td>2000</td>\n",
       "      <td>2000</td>\n",
       "      <td>Gable</td>\n",
       "      <td>CompShg</td>\n",
       "      <td>VinylSd</td>\n",
       "      <td>VinylSd</td>\n",
       "      <td>BrkFace</td>\n",
       "      <td>350.0</td>\n",
       "      <td>Gd</td>\n",
       "      <td>TA</td>\n",
       "      <td>PConc</td>\n",
       "      <td>Gd</td>\n",
       "      <td>TA</td>\n",
       "      <td>Av</td>\n",
       "      <td>GLQ</td>\n",
       "      <td>655</td>\n",
       "      <td>Unf</td>\n",
       "      <td>0</td>\n",
       "      <td>490</td>\n",
       "      <td>1145</td>\n",
       "      <td>GasA</td>\n",
       "      <td>Ex</td>\n",
       "      <td>Y</td>\n",
       "      <td>SBrkr</td>\n",
       "      <td>1145</td>\n",
       "      <td>1053</td>\n",
       "      <td>0</td>\n",
       "      <td>2198</td>\n",
       "      <td>1</td>\n",
       "      <td>0</td>\n",
       "      <td>2</td>\n",
       "      <td>1</td>\n",
       "      <td>4</td>\n",
       "      <td>1</td>\n",
       "      <td>Gd</td>\n",
       "      <td>9</td>\n",
       "      <td>Typ</td>\n",
       "      <td>1</td>\n",
       "      <td>TA</td>\n",
       "      <td>Attchd</td>\n",
       "      <td>2000.0</td>\n",
       "      <td>RFn</td>\n",
       "      <td>3</td>\n",
       "      <td>836</td>\n",
       "      <td>TA</td>\n",
       "      <td>TA</td>\n",
       "      <td>Y</td>\n",
       "      <td>192</td>\n",
       "      <td>84</td>\n",
       "      <td>0</td>\n",
       "      <td>0</td>\n",
       "      <td>0</td>\n",
       "      <td>0</td>\n",
       "      <td>NaN</td>\n",
       "      <td>NaN</td>\n",
       "      <td>NaN</td>\n",
       "      <td>0</td>\n",
       "      <td>12</td>\n",
       "      <td>2008</td>\n",
       "      <td>WD</td>\n",
       "      <td>Normal</td>\n",
       "      <td>250000</td>\n",
       "    </tr>\n",
       "  </tbody>\n",
       "</table>\n",
       "</div>"
      ],
      "text/plain": [
       "   Id  MSSubClass MSZoning  LotFrontage  LotArea Street Alley LotShape  \\\n",
       "0   1          60       RL         65.0     8450   Pave   NaN      Reg   \n",
       "1   2          20       RL         80.0     9600   Pave   NaN      Reg   \n",
       "2   3          60       RL         68.0    11250   Pave   NaN      IR1   \n",
       "3   4          70       RL         60.0     9550   Pave   NaN      IR1   \n",
       "4   5          60       RL         84.0    14260   Pave   NaN      IR1   \n",
       "\n",
       "  LandContour Utilities LotConfig LandSlope Neighborhood Condition1  \\\n",
       "0         Lvl    AllPub    Inside       Gtl      CollgCr       Norm   \n",
       "1         Lvl    AllPub       FR2       Gtl      Veenker      Feedr   \n",
       "2         Lvl    AllPub    Inside       Gtl      CollgCr       Norm   \n",
       "3         Lvl    AllPub    Corner       Gtl      Crawfor       Norm   \n",
       "4         Lvl    AllPub       FR2       Gtl      NoRidge       Norm   \n",
       "\n",
       "  Condition2 BldgType HouseStyle  OverallQual  OverallCond  YearBuilt  \\\n",
       "0       Norm     1Fam     2Story            7            5       2003   \n",
       "1       Norm     1Fam     1Story            6            8       1976   \n",
       "2       Norm     1Fam     2Story            7            5       2001   \n",
       "3       Norm     1Fam     2Story            7            5       1915   \n",
       "4       Norm     1Fam     2Story            8            5       2000   \n",
       "\n",
       "   YearRemodAdd RoofStyle RoofMatl Exterior1st Exterior2nd MasVnrType  \\\n",
       "0          2003     Gable  CompShg     VinylSd     VinylSd    BrkFace   \n",
       "1          1976     Gable  CompShg     MetalSd     MetalSd        NaN   \n",
       "2          2002     Gable  CompShg     VinylSd     VinylSd    BrkFace   \n",
       "3          1970     Gable  CompShg     Wd Sdng     Wd Shng        NaN   \n",
       "4          2000     Gable  CompShg     VinylSd     VinylSd    BrkFace   \n",
       "\n",
       "   MasVnrArea ExterQual ExterCond Foundation BsmtQual BsmtCond BsmtExposure  \\\n",
       "0       196.0        Gd        TA      PConc       Gd       TA           No   \n",
       "1         0.0        TA        TA     CBlock       Gd       TA           Gd   \n",
       "2       162.0        Gd        TA      PConc       Gd       TA           Mn   \n",
       "3         0.0        TA        TA     BrkTil       TA       Gd           No   \n",
       "4       350.0        Gd        TA      PConc       Gd       TA           Av   \n",
       "\n",
       "  BsmtFinType1  BsmtFinSF1 BsmtFinType2  BsmtFinSF2  BsmtUnfSF  TotalBsmtSF  \\\n",
       "0          GLQ         706          Unf           0        150          856   \n",
       "1          ALQ         978          Unf           0        284         1262   \n",
       "2          GLQ         486          Unf           0        434          920   \n",
       "3          ALQ         216          Unf           0        540          756   \n",
       "4          GLQ         655          Unf           0        490         1145   \n",
       "\n",
       "  Heating HeatingQC CentralAir Electrical  1stFlrSF  2ndFlrSF  LowQualFinSF  \\\n",
       "0    GasA        Ex          Y      SBrkr       856       854             0   \n",
       "1    GasA        Ex          Y      SBrkr      1262         0             0   \n",
       "2    GasA        Ex          Y      SBrkr       920       866             0   \n",
       "3    GasA        Gd          Y      SBrkr       961       756             0   \n",
       "4    GasA        Ex          Y      SBrkr      1145      1053             0   \n",
       "\n",
       "   GrLivArea  BsmtFullBath  BsmtHalfBath  FullBath  HalfBath  BedroomAbvGr  \\\n",
       "0       1710             1             0         2         1             3   \n",
       "1       1262             0             1         2         0             3   \n",
       "2       1786             1             0         2         1             3   \n",
       "3       1717             1             0         1         0             3   \n",
       "4       2198             1             0         2         1             4   \n",
       "\n",
       "   KitchenAbvGr KitchenQual  TotRmsAbvGrd Functional  Fireplaces FireplaceQu  \\\n",
       "0             1          Gd             8        Typ           0         NaN   \n",
       "1             1          TA             6        Typ           1          TA   \n",
       "2             1          Gd             6        Typ           1          TA   \n",
       "3             1          Gd             7        Typ           1          Gd   \n",
       "4             1          Gd             9        Typ           1          TA   \n",
       "\n",
       "  GarageType  GarageYrBlt GarageFinish  GarageCars  GarageArea GarageQual  \\\n",
       "0     Attchd       2003.0          RFn           2         548         TA   \n",
       "1     Attchd       1976.0          RFn           2         460         TA   \n",
       "2     Attchd       2001.0          RFn           2         608         TA   \n",
       "3     Detchd       1998.0          Unf           3         642         TA   \n",
       "4     Attchd       2000.0          RFn           3         836         TA   \n",
       "\n",
       "  GarageCond PavedDrive  WoodDeckSF  OpenPorchSF  EnclosedPorch  3SsnPorch  \\\n",
       "0         TA          Y           0           61              0          0   \n",
       "1         TA          Y         298            0              0          0   \n",
       "2         TA          Y           0           42              0          0   \n",
       "3         TA          Y           0           35            272          0   \n",
       "4         TA          Y         192           84              0          0   \n",
       "\n",
       "   ScreenPorch  PoolArea PoolQC Fence MiscFeature  MiscVal  MoSold  YrSold  \\\n",
       "0            0         0    NaN   NaN         NaN        0       2    2008   \n",
       "1            0         0    NaN   NaN         NaN        0       5    2007   \n",
       "2            0         0    NaN   NaN         NaN        0       9    2008   \n",
       "3            0         0    NaN   NaN         NaN        0       2    2006   \n",
       "4            0         0    NaN   NaN         NaN        0      12    2008   \n",
       "\n",
       "  SaleType SaleCondition  SalePrice  \n",
       "0       WD        Normal     208500  \n",
       "1       WD        Normal     181500  \n",
       "2       WD        Normal     223500  \n",
       "3       WD       Abnorml     140000  \n",
       "4       WD        Normal     250000  "
      ]
     },
     "execution_count": 4,
     "metadata": {},
     "output_type": "execute_result"
    }
   ],
   "source": [
    "train_df = pd.read_csv(TRAIN_DATASET_FULLNAME)\n",
    "test_df = pd.read_csv(TEST_DATASET_FULLNAME)\n",
    "test_df.head()"
   ]
  },
  {
   "cell_type": "code",
   "execution_count": 5,
   "metadata": {},
   "outputs": [],
   "source": [
    "train_df_fe = create_features(train_df)\n",
    "test_df_fe = create_features(test_df)"
   ]
  },
  {
   "cell_type": "code",
   "execution_count": 6,
   "metadata": {},
   "outputs": [],
   "source": [
    "num_features = get_num_features(train_df_fe)\n",
    "cat_features = get_cat_features(train_df_fe)"
   ]
  },
  {
   "cell_type": "code",
   "execution_count": 7,
   "metadata": {},
   "outputs": [],
   "source": [
    "task = Task(\"reg\", metric=\"mae\")"
   ]
  },
  {
   "cell_type": "code",
   "execution_count": 8,
   "metadata": {},
   "outputs": [],
   "source": [
    "roles = {\n",
    "    \"target\": TARGET_NAME,\n",
    "    \"category\": cat_features,\n",
    "    \"numeric\": num_features,\n",
    "}"
   ]
  },
  {
   "cell_type": "markdown",
   "metadata": {},
   "source": [
    "# 1. TabularAutoML"
   ]
  },
  {
   "cell_type": "code",
   "execution_count": 30,
   "metadata": {},
   "outputs": [
    {
     "name": "stdout",
     "output_type": "stream",
     "text": [
      "CPU times: total: 0 ns\n",
      "Wall time: 18.6 ms\n"
     ]
    }
   ],
   "source": [
    "%%time\n",
    "automl = TabularAutoML(\n",
    "    task=task,\n",
    "    timeout=TIMEOUT,\n",
    "    cpu_limit=THREADS,\n",
    "    reader_params = {'n_jobs': THREADS, 'random_state': RANDOM_STATE, 'cv': CV},\n",
    "    general_params={'use_algos': [['lgb', 'cb', 'lgb_tuned', 'cb_tuned', 'xgb', 'xgb_tuned']]},\n",
    ")\n"
   ]
  },
  {
   "cell_type": "code",
   "execution_count": 31,
   "metadata": {},
   "outputs": [
    {
     "name": "stdout",
     "output_type": "stream",
     "text": [
      "[19:37:54] Stdout logging level is INFO.\n",
      "[19:37:54] Task: reg\n",
      "\n",
      "[19:37:54] Start automl preset with listed constraints:\n",
      "[19:37:54] - time: 3600.00 seconds\n",
      "[19:37:54] - CPU: 4 cores\n",
      "[19:37:54] - memory: 16 GB\n",
      "\n",
      "[19:37:54] \u001b[1mTrain data shape: (1460, 91)\u001b[0m\n",
      "\n",
      "[19:37:59] Layer \u001b[1m1\u001b[0m train process start. Time left 3594.81 secs\n",
      "[19:38:00] \u001b[1mSelector_LightGBM\u001b[0m fitting and predicting completed\n",
      "[19:38:00] Start fitting \u001b[1mLvl_0_Pipe_0_Mod_0_LightGBM\u001b[0m ...\n",
      "[19:38:04] Fitting \u001b[1mLvl_0_Pipe_0_Mod_0_LightGBM\u001b[0m finished. score = \u001b[1m-15990.206621896405\u001b[0m\n",
      "[19:38:04] \u001b[1mLvl_0_Pipe_0_Mod_0_LightGBM\u001b[0m fitting and predicting completed\n",
      "[19:38:04] Start hyperparameters optimization for \u001b[1mLvl_0_Pipe_0_Mod_1_Tuned_LightGBM\u001b[0m ... Time budget is 300.00 secs\n"
     ]
    },
    {
     "name": "stderr",
     "output_type": "stream",
     "text": [
      "Optimization Progress: 100%|██████████| 101/101 [01:27<00:00,  1.15it/s, best_trial=77, best_value=-1.46e+4]"
     ]
    },
    {
     "name": "stdout",
     "output_type": "stream",
     "text": [
      "[19:39:32] Hyperparameters optimization for \u001b[1mLvl_0_Pipe_0_Mod_1_Tuned_LightGBM\u001b[0m completed\n",
      "[19:39:32] Start fitting \u001b[1mLvl_0_Pipe_0_Mod_1_Tuned_LightGBM\u001b[0m ...\n"
     ]
    },
    {
     "name": "stderr",
     "output_type": "stream",
     "text": [
      "\n"
     ]
    },
    {
     "name": "stdout",
     "output_type": "stream",
     "text": [
      "[19:39:33] Fitting \u001b[1mLvl_0_Pipe_0_Mod_1_Tuned_LightGBM\u001b[0m finished. score = \u001b[1m-15770.901212007706\u001b[0m\n",
      "[19:39:33] \u001b[1mLvl_0_Pipe_0_Mod_1_Tuned_LightGBM\u001b[0m fitting and predicting completed\n",
      "[19:39:33] Start fitting \u001b[1mLvl_0_Pipe_0_Mod_2_CatBoost\u001b[0m ...\n",
      "[19:39:39] Fitting \u001b[1mLvl_0_Pipe_0_Mod_2_CatBoost\u001b[0m finished. score = \u001b[1m-15392.137561536814\u001b[0m\n",
      "[19:39:39] \u001b[1mLvl_0_Pipe_0_Mod_2_CatBoost\u001b[0m fitting and predicting completed\n",
      "[19:39:39] Start hyperparameters optimization for \u001b[1mLvl_0_Pipe_0_Mod_3_Tuned_CatBoost\u001b[0m ... Time budget is 300.00 secs\n"
     ]
    },
    {
     "name": "stderr",
     "output_type": "stream",
     "text": [
      "Exception ignored in: <function Booster.__del__ at 0x000001C110882200>\n",
      "Traceback (most recent call last):\n",
      "  File \"c:\\Users\\User\\skillbox\\HOMEWORKS\\HWs\\Lib\\site-packages\\lightgbm\\basic.py\", line 3713, in __del__\n",
      "    _safe_call(_LIB.LGBM_BoosterFree(self._handle))\n",
      "               ^^^^^^^^^^^^^^^^^^^^^^^^^^^^^^^^^^^\n",
      "OSError: exception: access violation reading 0xFFFFFFFFFFFFFFFF\n",
      "Optimization Progress:  10%|▉         | 10/101 [10:41<1:37:15, 64.13s/it, best_trial=5, best_value=-1.7e+4]\n",
      "Optimization Progress: 100%|██████████| 101/101 [01:47<00:00,  1.06s/it, best_trial=98, best_value=-1.48e+4]"
     ]
    },
    {
     "name": "stdout",
     "output_type": "stream",
     "text": [
      "[19:41:26] Hyperparameters optimization for \u001b[1mLvl_0_Pipe_0_Mod_3_Tuned_CatBoost\u001b[0m completed\n",
      "[19:41:26] Start fitting \u001b[1mLvl_0_Pipe_0_Mod_3_Tuned_CatBoost\u001b[0m ...\n"
     ]
    },
    {
     "name": "stderr",
     "output_type": "stream",
     "text": [
      "\n"
     ]
    },
    {
     "name": "stdout",
     "output_type": "stream",
     "text": [
      "[19:41:30] Fitting \u001b[1mLvl_0_Pipe_0_Mod_3_Tuned_CatBoost\u001b[0m finished. score = \u001b[1m-15199.133010488014\u001b[0m\n",
      "[19:41:30] \u001b[1mLvl_0_Pipe_0_Mod_3_Tuned_CatBoost\u001b[0m fitting and predicting completed\n",
      "[19:41:30] Start fitting \u001b[1mLvl_0_Pipe_0_Mod_4_XGBoost\u001b[0m ...\n",
      "[19:41:36] Fitting \u001b[1mLvl_0_Pipe_0_Mod_4_XGBoost\u001b[0m finished. score = \u001b[1m-17708.02184824486\u001b[0m\n",
      "[19:41:36] \u001b[1mLvl_0_Pipe_0_Mod_4_XGBoost\u001b[0m fitting and predicting completed\n",
      "[19:41:36] Start hyperparameters optimization for \u001b[1mLvl_0_Pipe_0_Mod_5_Tuned_XGBoost\u001b[0m ... Time budget is 300.00 secs\n"
     ]
    },
    {
     "name": "stderr",
     "output_type": "stream",
     "text": [
      "Optimization Progress:  91%|█████████ | 92/101 [05:02<00:29,  3.28s/it, best_trial=42, best_value=-1.5e+4] "
     ]
    },
    {
     "name": "stdout",
     "output_type": "stream",
     "text": [
      "[19:46:38] Hyperparameters optimization for \u001b[1mLvl_0_Pipe_0_Mod_5_Tuned_XGBoost\u001b[0m completed\n",
      "[19:46:38] Start fitting \u001b[1mLvl_0_Pipe_0_Mod_5_Tuned_XGBoost\u001b[0m ...\n"
     ]
    },
    {
     "name": "stderr",
     "output_type": "stream",
     "text": [
      "\n"
     ]
    },
    {
     "name": "stdout",
     "output_type": "stream",
     "text": [
      "[19:46:53] Fitting \u001b[1mLvl_0_Pipe_0_Mod_5_Tuned_XGBoost\u001b[0m finished. score = \u001b[1m-15886.25225010702\u001b[0m\n",
      "[19:46:53] \u001b[1mLvl_0_Pipe_0_Mod_5_Tuned_XGBoost\u001b[0m fitting and predicting completed\n",
      "[19:46:53] Time left 3061.58 secs\n",
      "\n",
      "[19:46:53] \u001b[1mLayer 1 training completed.\u001b[0m\n",
      "\n",
      "[19:46:53] Blending: optimization starts with equal weights. Score = \u001b[1m-15219.6183995\u001b[0m\n",
      "[19:46:53] Blending: iteration \u001b[1m0\u001b[0m: score = \u001b[1m-14969.6179688\u001b[0m, weights = \u001b[1m[0.         0.0780202  0.30118278 0.54482317 0.07597386 0.        ]\u001b[0m\n",
      "[19:46:53] Blending: iteration \u001b[1m1\u001b[0m: score = \u001b[1m-14942.9846104\u001b[0m, weights = \u001b[1m[0.         0.20653504 0.24665403 0.48914894 0.057662   0.        ]\u001b[0m\n",
      "[19:46:53] Blending: iteration \u001b[1m2\u001b[0m: score = \u001b[1m-14941.3443841\u001b[0m, weights = \u001b[1m[0.         0.22060794 0.24546716 0.48131558 0.05260937 0.        ]\u001b[0m\n",
      "[19:46:53] Blending: iteration \u001b[1m3\u001b[0m: score = \u001b[1m-14940.5679019\u001b[0m, weights = \u001b[1m[0.         0.23159336 0.25489444 0.4626338  0.05087845 0.        ]\u001b[0m\n",
      "[19:46:53] Blending: no improvements for score. Terminated.\n",
      "\n",
      "[19:46:53] Blending: best score = \u001b[1m-14940.5679019\u001b[0m, best weights = \u001b[1m[0.         0.23159336 0.25489444 0.4626338  0.05087845 0.        ]\u001b[0m\n",
      "[19:46:53] \u001b[1mAutoml preset training completed in 538.57 seconds\u001b[0m\n",
      "\n",
      "[19:46:53] Model description:\n",
      "Final prediction for new objects (level 0) = \n",
      "\t 0.23159 * (5 averaged models Lvl_0_Pipe_0_Mod_1_Tuned_LightGBM) +\n",
      "\t 0.25489 * (5 averaged models Lvl_0_Pipe_0_Mod_2_CatBoost) +\n",
      "\t 0.46263 * (5 averaged models Lvl_0_Pipe_0_Mod_3_Tuned_CatBoost) +\n",
      "\t 0.05088 * (5 averaged models Lvl_0_Pipe_0_Mod_4_XGBoost) \n",
      "\n"
     ]
    }
   ],
   "source": [
    "from lightautoml.report.report_deco import ReportDeco\n",
    "\n",
    "\n",
    "RD = ReportDeco(output_path = 'tabularAutoML_model_report')\n",
    "\n",
    "automl_rd = RD(\n",
    "    automl\n",
    ")\n",
    "\n",
    "oof_pred = automl_rd.fit_predict(train_df_fe, roles = roles, verbose = 1)"
   ]
  },
  {
   "cell_type": "code",
   "execution_count": 32,
   "metadata": {},
   "outputs": [
    {
     "name": "stdout",
     "output_type": "stream",
     "text": [
      "MAE on train: 14940.567901862158\n",
      "MAE on test: 8368.85595301798\n"
     ]
    }
   ],
   "source": [
    "get_mae(automl, oof_pred, train_df_fe, test_df_fe)"
   ]
  },
  {
   "cell_type": "markdown",
   "metadata": {},
   "source": [
    "**Ого! Неплохо-неплохо я фичей насоздавал. Здесь не сохранилось, но изначально скор был под 16k. Ну, попробуем TabularUtilizedAutoML. Пока оно тут пахало, накатал функцию под импутацию отсутствующих значений, но теперь не знаю, надо ли проверять.**"
   ]
  },
  {
   "cell_type": "markdown",
   "metadata": {},
   "source": [
    "# 2. TabularUtilizedAutoML"
   ]
  },
  {
   "cell_type": "code",
   "execution_count": 33,
   "metadata": {},
   "outputs": [],
   "source": [
    "automl_ut = TabularUtilizedAutoML(\n",
    "    task=task,\n",
    "    timeout=TIMEOUT,\n",
    "    cpu_limit=THREADS,\n",
    "    reader_params = {'n_jobs': THREADS, 'random_state': RANDOM_STATE, 'cv': CV},\n",
    "    general_params={'use_algos': [['lgb', 'cb', 'lgb_tuned', 'cb_tuned', 'xgb', 'xgb_tuned']]},\n",
    ")"
   ]
  },
  {
   "cell_type": "code",
   "execution_count": 34,
   "metadata": {},
   "outputs": [
    {
     "name": "stdout",
     "output_type": "stream",
     "text": [
      "[19:54:12] Start automl \u001b[1mutilizator\u001b[0m with listed constraints:\n",
      "[19:54:12] - time: 3600.00 seconds\n",
      "[19:54:12] - CPU: 4 cores\n",
      "[19:54:12] - memory: 16 GB\n",
      "\n",
      "[19:54:12] \u001b[1mIf one preset completes earlier, next preset configuration will be started\u001b[0m\n",
      "\n",
      "[19:54:12] ==================================================\n",
      "[19:54:12] Start 0 automl preset configuration:\n",
      "[19:54:12] \u001b[1mc:\\Users\\User\\skillbox\\HOMEWORKS\\HWs\\Lib\\site-packages\\lightautoml\\automl\\presets\\tabular_configs\\conf_0_sel_type_0.yml\u001b[0m, random state: {'reader_params': {'random_state': 42}, 'nn_params': {'random_state': 42}, 'general_params': {'return_all_predictions': False}}\n",
      "[19:54:12] Stdout logging level is INFO.\n",
      "[19:54:12] Task: reg\n",
      "\n",
      "[19:54:12] Start automl preset with listed constraints:\n",
      "[19:54:12] - time: 3600.00 seconds\n",
      "[19:54:12] - CPU: 4 cores\n",
      "[19:54:12] - memory: 16 GB\n",
      "\n",
      "[19:54:12] \u001b[1mTrain data shape: (1460, 91)\u001b[0m\n",
      "\n",
      "[19:54:17] Layer \u001b[1m1\u001b[0m train process start. Time left 3595.07 secs\n",
      "[19:54:18] Start fitting \u001b[1mLvl_0_Pipe_0_Mod_0_LightGBM\u001b[0m ...\n",
      "[19:54:22] Fitting \u001b[1mLvl_0_Pipe_0_Mod_0_LightGBM\u001b[0m finished. score = \u001b[1m-16170.644137949486\u001b[0m\n",
      "[19:54:22] \u001b[1mLvl_0_Pipe_0_Mod_0_LightGBM\u001b[0m fitting and predicting completed\n",
      "[19:54:22] Start hyperparameters optimization for \u001b[1mLvl_0_Pipe_0_Mod_1_Tuned_LightGBM\u001b[0m ... Time budget is 300.00 secs\n"
     ]
    },
    {
     "name": "stderr",
     "output_type": "stream",
     "text": [
      "Optimization Progress: 100%|██████████| 101/101 [02:38<00:00,  1.57s/it, best_trial=74, best_value=-1.52e+4]"
     ]
    },
    {
     "name": "stdout",
     "output_type": "stream",
     "text": [
      "[19:57:00] Hyperparameters optimization for \u001b[1mLvl_0_Pipe_0_Mod_1_Tuned_LightGBM\u001b[0m completed\n",
      "[19:57:00] Start fitting \u001b[1mLvl_0_Pipe_0_Mod_1_Tuned_LightGBM\u001b[0m ...\n"
     ]
    },
    {
     "name": "stderr",
     "output_type": "stream",
     "text": [
      "\n"
     ]
    },
    {
     "name": "stdout",
     "output_type": "stream",
     "text": [
      "[19:57:02] Fitting \u001b[1mLvl_0_Pipe_0_Mod_1_Tuned_LightGBM\u001b[0m finished. score = \u001b[1m-15798.178676155821\u001b[0m\n",
      "[19:57:02] \u001b[1mLvl_0_Pipe_0_Mod_1_Tuned_LightGBM\u001b[0m fitting and predicting completed\n",
      "[19:57:02] Start fitting \u001b[1mLvl_0_Pipe_0_Mod_2_CatBoost\u001b[0m ...\n",
      "[19:57:11] Fitting \u001b[1mLvl_0_Pipe_0_Mod_2_CatBoost\u001b[0m finished. score = \u001b[1m-15119.528047410102\u001b[0m\n",
      "[19:57:11] \u001b[1mLvl_0_Pipe_0_Mod_2_CatBoost\u001b[0m fitting and predicting completed\n",
      "[19:57:11] Start hyperparameters optimization for \u001b[1mLvl_0_Pipe_0_Mod_3_Tuned_CatBoost\u001b[0m ... Time budget is 300.00 secs\n"
     ]
    },
    {
     "name": "stderr",
     "output_type": "stream",
     "text": [
      "Optimization Progress: 100%|██████████| 101/101 [04:49<00:00,  2.87s/it, best_trial=70, best_value=-1.48e+4]"
     ]
    },
    {
     "name": "stdout",
     "output_type": "stream",
     "text": [
      "[20:02:00] Hyperparameters optimization for \u001b[1mLvl_0_Pipe_0_Mod_3_Tuned_CatBoost\u001b[0m completed\n",
      "[20:02:00] Start fitting \u001b[1mLvl_0_Pipe_0_Mod_3_Tuned_CatBoost\u001b[0m ...\n"
     ]
    },
    {
     "name": "stderr",
     "output_type": "stream",
     "text": [
      "\n"
     ]
    },
    {
     "name": "stdout",
     "output_type": "stream",
     "text": [
      "[20:02:10] Fitting \u001b[1mLvl_0_Pipe_0_Mod_3_Tuned_CatBoost\u001b[0m finished. score = \u001b[1m-15285.693225599314\u001b[0m\n",
      "[20:02:10] \u001b[1mLvl_0_Pipe_0_Mod_3_Tuned_CatBoost\u001b[0m fitting and predicting completed\n",
      "[20:02:10] Start fitting \u001b[1mLvl_0_Pipe_0_Mod_4_XGBoost\u001b[0m ...\n",
      "[20:02:20] Fitting \u001b[1mLvl_0_Pipe_0_Mod_4_XGBoost\u001b[0m finished. score = \u001b[1m-18701.194764019692\u001b[0m\n",
      "[20:02:20] \u001b[1mLvl_0_Pipe_0_Mod_4_XGBoost\u001b[0m fitting and predicting completed\n",
      "[20:02:20] Start hyperparameters optimization for \u001b[1mLvl_0_Pipe_0_Mod_5_Tuned_XGBoost\u001b[0m ... Time budget is 300.00 secs\n"
     ]
    },
    {
     "name": "stderr",
     "output_type": "stream",
     "text": [
      "Optimization Progress:  50%|█████     | 51/101 [05:00<04:55,  5.90s/it, best_trial=44, best_value=-1.5e+4] "
     ]
    },
    {
     "name": "stdout",
     "output_type": "stream",
     "text": [
      "[20:07:21] Hyperparameters optimization for \u001b[1mLvl_0_Pipe_0_Mod_5_Tuned_XGBoost\u001b[0m completed\n",
      "[20:07:21] Start fitting \u001b[1mLvl_0_Pipe_0_Mod_5_Tuned_XGBoost\u001b[0m ...\n"
     ]
    },
    {
     "name": "stderr",
     "output_type": "stream",
     "text": [
      "\n"
     ]
    },
    {
     "name": "stdout",
     "output_type": "stream",
     "text": [
      "[20:07:46] Fitting \u001b[1mLvl_0_Pipe_0_Mod_5_Tuned_XGBoost\u001b[0m finished. score = \u001b[1m-16360.581413206335\u001b[0m\n",
      "[20:07:46] \u001b[1mLvl_0_Pipe_0_Mod_5_Tuned_XGBoost\u001b[0m fitting and predicting completed\n",
      "[20:07:46] Time left 2786.23 secs\n",
      "\n",
      "[20:07:46] \u001b[1mLayer 1 training completed.\u001b[0m\n",
      "\n",
      "[20:07:46] Blending: optimization starts with equal weights. Score = \u001b[1m-15356.0859803\u001b[0m\n",
      "[20:07:46] Blending: iteration \u001b[1m0\u001b[0m: score = \u001b[1m-14898.9416765\u001b[0m, weights = \u001b[1m[0.         0.07546478 0.5405021  0.29742232 0.         0.08661082]\u001b[0m\n",
      "[20:07:46] Blending: iteration \u001b[1m1\u001b[0m: score = \u001b[1m-14872.4746067\u001b[0m, weights = \u001b[1m[0.         0.18109442 0.44288915 0.37601644 0.         0.        ]\u001b[0m\n",
      "[20:07:46] Blending: iteration \u001b[1m2\u001b[0m: score = \u001b[1m-14867.2716422\u001b[0m, weights = \u001b[1m[0.         0.21770084 0.42755625 0.35474288 0.         0.        ]\u001b[0m\n",
      "[20:07:46] Blending: no improvements for score. Terminated.\n",
      "\n",
      "[20:07:46] Blending: best score = \u001b[1m-14867.2716422\u001b[0m, best weights = \u001b[1m[0.         0.21770084 0.42755625 0.35474288 0.         0.        ]\u001b[0m\n",
      "[20:07:46] \u001b[1mAutoml preset training completed in 813.92 seconds\u001b[0m\n",
      "\n",
      "[20:07:46] Model description:\n",
      "Final prediction for new objects (level 0) = \n",
      "\t 0.21770 * (5 averaged models Lvl_0_Pipe_0_Mod_1_Tuned_LightGBM) +\n",
      "\t 0.42756 * (5 averaged models Lvl_0_Pipe_0_Mod_2_CatBoost) +\n",
      "\t 0.35474 * (5 averaged models Lvl_0_Pipe_0_Mod_3_Tuned_CatBoost) \n",
      "\n",
      "[20:07:46] ==================================================\n",
      "[20:07:46] Start 1 automl preset configuration:\n",
      "[20:07:46] \u001b[1mc:\\Users\\User\\skillbox\\HOMEWORKS\\HWs\\Lib\\site-packages\\lightautoml\\automl\\presets\\tabular_configs\\conf_1_sel_type_1.yml\u001b[0m, random state: {'reader_params': {'random_state': 43}, 'nn_params': {'random_state': 43}, 'general_params': {'return_all_predictions': False}}\n",
      "[20:07:46] Stdout logging level is INFO.\n",
      "[20:07:46] Task: reg\n",
      "\n",
      "[20:07:46] Start automl preset with listed constraints:\n",
      "[20:07:46] - time: 2786.04 seconds\n",
      "[20:07:46] - CPU: 4 cores\n",
      "[20:07:46] - memory: 16 GB\n",
      "\n",
      "[20:07:46] \u001b[1mTrain data shape: (1460, 91)\u001b[0m\n",
      "\n",
      "[20:07:52] Layer \u001b[1m1\u001b[0m train process start. Time left 2780.34 secs\n",
      "[20:07:53] \u001b[1mSelector_LightGBM\u001b[0m fitting and predicting completed\n",
      "[20:07:53] Start fitting \u001b[1mLvl_0_Pipe_0_Mod_0_LightGBM\u001b[0m ...\n",
      "[20:07:56] Fitting \u001b[1mLvl_0_Pipe_0_Mod_0_LightGBM\u001b[0m finished. score = \u001b[1m-15760.474550513698\u001b[0m\n",
      "[20:07:56] \u001b[1mLvl_0_Pipe_0_Mod_0_LightGBM\u001b[0m fitting and predicting completed\n",
      "[20:07:56] Start hyperparameters optimization for \u001b[1mLvl_0_Pipe_0_Mod_1_Tuned_LightGBM\u001b[0m ... Time budget is 300.00 secs\n"
     ]
    },
    {
     "name": "stderr",
     "output_type": "stream",
     "text": [
      "Optimization Progress: 100%|██████████| 101/101 [01:17<00:00,  1.31it/s, best_trial=35, best_value=-1.52e+4]"
     ]
    },
    {
     "name": "stdout",
     "output_type": "stream",
     "text": [
      "[20:09:14] Hyperparameters optimization for \u001b[1mLvl_0_Pipe_0_Mod_1_Tuned_LightGBM\u001b[0m completed\n",
      "[20:09:14] Start fitting \u001b[1mLvl_0_Pipe_0_Mod_1_Tuned_LightGBM\u001b[0m ...\n"
     ]
    },
    {
     "name": "stderr",
     "output_type": "stream",
     "text": [
      "\n"
     ]
    },
    {
     "name": "stdout",
     "output_type": "stream",
     "text": [
      "[20:09:15] Fitting \u001b[1mLvl_0_Pipe_0_Mod_1_Tuned_LightGBM\u001b[0m finished. score = \u001b[1m-15594.059219820205\u001b[0m\n",
      "[20:09:15] \u001b[1mLvl_0_Pipe_0_Mod_1_Tuned_LightGBM\u001b[0m fitting and predicting completed\n",
      "[20:09:15] Start fitting \u001b[1mLvl_0_Pipe_0_Mod_2_CatBoost\u001b[0m ...\n",
      "[20:09:20] Fitting \u001b[1mLvl_0_Pipe_0_Mod_2_CatBoost\u001b[0m finished. score = \u001b[1m-15050.269547303082\u001b[0m\n",
      "[20:09:20] \u001b[1mLvl_0_Pipe_0_Mod_2_CatBoost\u001b[0m fitting and predicting completed\n",
      "[20:09:20] Start hyperparameters optimization for \u001b[1mLvl_0_Pipe_0_Mod_3_Tuned_CatBoost\u001b[0m ... Time budget is 300.00 secs\n"
     ]
    },
    {
     "name": "stderr",
     "output_type": "stream",
     "text": [
      "Optimization Progress: 100%|██████████| 101/101 [01:50<00:00,  1.09s/it, best_trial=95, best_value=-1.47e+4]"
     ]
    },
    {
     "name": "stdout",
     "output_type": "stream",
     "text": [
      "[20:11:10] Hyperparameters optimization for \u001b[1mLvl_0_Pipe_0_Mod_3_Tuned_CatBoost\u001b[0m completed\n",
      "[20:11:10] Start fitting \u001b[1mLvl_0_Pipe_0_Mod_3_Tuned_CatBoost\u001b[0m ...\n"
     ]
    },
    {
     "name": "stderr",
     "output_type": "stream",
     "text": [
      "\n"
     ]
    },
    {
     "name": "stdout",
     "output_type": "stream",
     "text": [
      "[20:11:22] Fitting \u001b[1mLvl_0_Pipe_0_Mod_3_Tuned_CatBoost\u001b[0m finished. score = \u001b[1m-14805.265809610446\u001b[0m\n",
      "[20:11:22] \u001b[1mLvl_0_Pipe_0_Mod_3_Tuned_CatBoost\u001b[0m fitting and predicting completed\n",
      "[20:11:22] Start fitting \u001b[1mLvl_0_Pipe_0_Mod_4_XGBoost\u001b[0m ...\n",
      "[20:11:32] Fitting \u001b[1mLvl_0_Pipe_0_Mod_4_XGBoost\u001b[0m finished. score = \u001b[1m-18177.378258775683\u001b[0m\n",
      "[20:11:32] \u001b[1mLvl_0_Pipe_0_Mod_4_XGBoost\u001b[0m fitting and predicting completed\n",
      "[20:11:32] Start hyperparameters optimization for \u001b[1mLvl_0_Pipe_0_Mod_5_Tuned_XGBoost\u001b[0m ... Time budget is 300.00 secs\n"
     ]
    },
    {
     "name": "stderr",
     "output_type": "stream",
     "text": [
      "Optimization Progress:  66%|██████▋   | 67/101 [05:08<02:36,  4.60s/it, best_trial=32, best_value=-1.55e+4]"
     ]
    },
    {
     "name": "stdout",
     "output_type": "stream",
     "text": [
      "[20:16:41] Hyperparameters optimization for \u001b[1mLvl_0_Pipe_0_Mod_5_Tuned_XGBoost\u001b[0m completed\n",
      "[20:16:41] Start fitting \u001b[1mLvl_0_Pipe_0_Mod_5_Tuned_XGBoost\u001b[0m ...\n"
     ]
    },
    {
     "name": "stderr",
     "output_type": "stream",
     "text": [
      "\n"
     ]
    },
    {
     "name": "stdout",
     "output_type": "stream",
     "text": [
      "[20:17:02] Fitting \u001b[1mLvl_0_Pipe_0_Mod_5_Tuned_XGBoost\u001b[0m finished. score = \u001b[1m-15649.656752996576\u001b[0m\n",
      "[20:17:02] \u001b[1mLvl_0_Pipe_0_Mod_5_Tuned_XGBoost\u001b[0m fitting and predicting completed\n",
      "[20:17:02] Time left 2230.33 secs\n",
      "\n",
      "[20:17:02] \u001b[1mLayer 1 training completed.\u001b[0m\n",
      "\n",
      "[20:17:02] Blending: optimization starts with equal weights. Score = \u001b[1m-15132.8486007\u001b[0m\n",
      "[20:17:02] Blending: iteration \u001b[1m0\u001b[0m: score = \u001b[1m-14742.3100760\u001b[0m, weights = \u001b[1m[0.         0.         0.24542782 0.626999   0.         0.12757319]\u001b[0m\n",
      "[20:17:02] Blending: iteration \u001b[1m1\u001b[0m: score = \u001b[1m-14742.0202697\u001b[0m, weights = \u001b[1m[0.         0.         0.22433485 0.6389037  0.         0.13676152]\u001b[0m\n",
      "[20:17:02] Blending: iteration \u001b[1m2\u001b[0m: score = \u001b[1m-14741.9598298\u001b[0m, weights = \u001b[1m[0.         0.         0.21748668 0.64326656 0.         0.13924675]\u001b[0m\n",
      "[20:17:02] Blending: no improvements for score. Terminated.\n",
      "\n",
      "[20:17:02] Blending: best score = \u001b[1m-14741.9598298\u001b[0m, best weights = \u001b[1m[0.         0.         0.21748668 0.64326656 0.         0.13924675]\u001b[0m\n",
      "[20:17:02] \u001b[1mAutoml preset training completed in 555.91 seconds\u001b[0m\n",
      "\n",
      "[20:17:02] Model description:\n",
      "Final prediction for new objects (level 0) = \n",
      "\t 0.21749 * (5 averaged models Lvl_0_Pipe_0_Mod_2_CatBoost) +\n",
      "\t 0.64327 * (5 averaged models Lvl_0_Pipe_0_Mod_3_Tuned_CatBoost) +\n",
      "\t 0.13925 * (5 averaged models Lvl_0_Pipe_0_Mod_5_Tuned_XGBoost) \n",
      "\n",
      "[20:17:02] ==================================================\n",
      "[20:17:02] Start 2 automl preset configuration:\n",
      "[20:17:02] \u001b[1mc:\\Users\\User\\skillbox\\HOMEWORKS\\HWs\\Lib\\site-packages\\lightautoml\\automl\\presets\\tabular_configs\\conf_2_select_mode_1_no_typ.yml\u001b[0m, random state: {'reader_params': {'random_state': 44}, 'nn_params': {'random_state': 44}, 'general_params': {'return_all_predictions': False}}\n",
      "[20:17:02] Stdout logging level is INFO.\n",
      "[20:17:02] Task: reg\n",
      "\n",
      "[20:17:02] Start automl preset with listed constraints:\n",
      "[20:17:02] - time: 2230.10 seconds\n",
      "[20:17:02] - CPU: 4 cores\n",
      "[20:17:02] - memory: 16 GB\n",
      "\n",
      "[20:17:02] \u001b[1mTrain data shape: (1460, 91)\u001b[0m\n",
      "\n",
      "[20:17:03] Layer \u001b[1m1\u001b[0m train process start. Time left 2230.06 secs\n",
      "[20:17:03] \u001b[1mSelector_LightGBM\u001b[0m fitting and predicting completed\n",
      "[20:17:04] Start fitting \u001b[1mLvl_0_Pipe_0_Mod_0_LightGBM\u001b[0m ...\n",
      "[20:17:08] Fitting \u001b[1mLvl_0_Pipe_0_Mod_0_LightGBM\u001b[0m finished. score = \u001b[1m-16167.769911172945\u001b[0m\n",
      "[20:17:08] \u001b[1mLvl_0_Pipe_0_Mod_0_LightGBM\u001b[0m fitting and predicting completed\n",
      "[20:17:08] Start hyperparameters optimization for \u001b[1mLvl_0_Pipe_0_Mod_1_Tuned_LightGBM\u001b[0m ... Time budget is 300.00 secs\n"
     ]
    },
    {
     "name": "stderr",
     "output_type": "stream",
     "text": [
      "Optimization Progress: 100%|██████████| 101/101 [01:32<00:00,  1.09it/s, best_trial=93, best_value=-1.5e+4]"
     ]
    },
    {
     "name": "stdout",
     "output_type": "stream",
     "text": [
      "[20:18:41] Hyperparameters optimization for \u001b[1mLvl_0_Pipe_0_Mod_1_Tuned_LightGBM\u001b[0m completed\n",
      "[20:18:41] Start fitting \u001b[1mLvl_0_Pipe_0_Mod_1_Tuned_LightGBM\u001b[0m ...\n"
     ]
    },
    {
     "name": "stderr",
     "output_type": "stream",
     "text": [
      "\n"
     ]
    },
    {
     "name": "stdout",
     "output_type": "stream",
     "text": [
      "[20:18:42] Fitting \u001b[1mLvl_0_Pipe_0_Mod_1_Tuned_LightGBM\u001b[0m finished. score = \u001b[1m-16061.411563570206\u001b[0m\n",
      "[20:18:42] \u001b[1mLvl_0_Pipe_0_Mod_1_Tuned_LightGBM\u001b[0m fitting and predicting completed\n",
      "[20:18:42] Start fitting \u001b[1mLvl_0_Pipe_0_Mod_2_CatBoost\u001b[0m ...\n",
      "[20:18:50] Fitting \u001b[1mLvl_0_Pipe_0_Mod_2_CatBoost\u001b[0m finished. score = \u001b[1m-15571.528432684076\u001b[0m\n",
      "[20:18:50] \u001b[1mLvl_0_Pipe_0_Mod_2_CatBoost\u001b[0m fitting and predicting completed\n",
      "[20:18:50] Start hyperparameters optimization for \u001b[1mLvl_0_Pipe_0_Mod_3_Tuned_CatBoost\u001b[0m ... Time budget is 300.00 secs\n"
     ]
    },
    {
     "name": "stderr",
     "output_type": "stream",
     "text": [
      "Optimization Progress: 100%|██████████| 101/101 [03:23<00:00,  2.01s/it, best_trial=17, best_value=-1.5e+4]"
     ]
    },
    {
     "name": "stdout",
     "output_type": "stream",
     "text": [
      "[20:22:14] Hyperparameters optimization for \u001b[1mLvl_0_Pipe_0_Mod_3_Tuned_CatBoost\u001b[0m completed\n",
      "[20:22:14] Start fitting \u001b[1mLvl_0_Pipe_0_Mod_3_Tuned_CatBoost\u001b[0m ...\n"
     ]
    },
    {
     "name": "stderr",
     "output_type": "stream",
     "text": [
      "\n"
     ]
    },
    {
     "name": "stdout",
     "output_type": "stream",
     "text": [
      "[20:22:21] Fitting \u001b[1mLvl_0_Pipe_0_Mod_3_Tuned_CatBoost\u001b[0m finished. score = \u001b[1m-15306.969662350171\u001b[0m\n",
      "[20:22:21] \u001b[1mLvl_0_Pipe_0_Mod_3_Tuned_CatBoost\u001b[0m fitting and predicting completed\n",
      "[20:22:21] Start fitting \u001b[1mLvl_0_Pipe_0_Mod_4_XGBoost\u001b[0m ...\n",
      "[20:22:29] Fitting \u001b[1mLvl_0_Pipe_0_Mod_4_XGBoost\u001b[0m finished. score = \u001b[1m-18405.56665239726\u001b[0m\n",
      "[20:22:29] \u001b[1mLvl_0_Pipe_0_Mod_4_XGBoost\u001b[0m fitting and predicting completed\n",
      "[20:22:29] Start hyperparameters optimization for \u001b[1mLvl_0_Pipe_0_Mod_5_Tuned_XGBoost\u001b[0m ... Time budget is 300.00 secs\n"
     ]
    },
    {
     "name": "stderr",
     "output_type": "stream",
     "text": [
      "Optimization Progress:  80%|████████  | 81/101 [05:06<01:15,  3.79s/it, best_trial=73, best_value=-1.52e+4]"
     ]
    },
    {
     "name": "stdout",
     "output_type": "stream",
     "text": [
      "[20:27:36] Hyperparameters optimization for \u001b[1mLvl_0_Pipe_0_Mod_5_Tuned_XGBoost\u001b[0m completed\n",
      "[20:27:36] Start fitting \u001b[1mLvl_0_Pipe_0_Mod_5_Tuned_XGBoost\u001b[0m ...\n"
     ]
    },
    {
     "name": "stderr",
     "output_type": "stream",
     "text": [
      "\n"
     ]
    },
    {
     "name": "stdout",
     "output_type": "stream",
     "text": [
      "[20:27:55] Fitting \u001b[1mLvl_0_Pipe_0_Mod_5_Tuned_XGBoost\u001b[0m finished. score = \u001b[1m-16144.929580479453\u001b[0m\n",
      "[20:27:55] \u001b[1mLvl_0_Pipe_0_Mod_5_Tuned_XGBoost\u001b[0m fitting and predicting completed\n",
      "[20:27:55] Time left 1577.32 secs\n",
      "\n",
      "[20:27:55] \u001b[1mLayer 1 training completed.\u001b[0m\n",
      "\n",
      "[20:27:55] Blending: optimization starts with equal weights. Score = \u001b[1m-15535.9783578\u001b[0m\n",
      "[20:27:55] Blending: iteration \u001b[1m0\u001b[0m: score = \u001b[1m-15215.1470489\u001b[0m, weights = \u001b[1m[0.         0.06880526 0.2494438  0.62549144 0.         0.05625952]\u001b[0m\n",
      "[20:27:55] Blending: iteration \u001b[1m1\u001b[0m: score = \u001b[1m-15187.1115234\u001b[0m, weights = \u001b[1m[0.05391134 0.189755   0.22670466 0.529629   0.         0.        ]\u001b[0m\n",
      "[20:27:55] Blending: iteration \u001b[1m2\u001b[0m: score = \u001b[1m-15182.3966021\u001b[0m, weights = \u001b[1m[0.         0.20822951 0.18463095 0.6071395  0.         0.        ]\u001b[0m\n",
      "[20:27:55] Blending: iteration \u001b[1m3\u001b[0m: score = \u001b[1m-15178.7003532\u001b[0m, weights = \u001b[1m[0.         0.23549297 0.22908665 0.53542036 0.         0.        ]\u001b[0m\n",
      "[20:27:55] Blending: iteration \u001b[1m4\u001b[0m: score = \u001b[1m-15178.6133535\u001b[0m, weights = \u001b[1m[0.         0.2421128  0.21916686 0.5387203  0.         0.        ]\u001b[0m\n",
      "[20:27:55] Blending: best score = \u001b[1m-15178.6133535\u001b[0m, best weights = \u001b[1m[0.         0.2421128  0.21916686 0.5387203  0.         0.        ]\u001b[0m\n",
      "[20:27:55] \u001b[1mAutoml preset training completed in 653.03 seconds\u001b[0m\n",
      "\n",
      "[20:27:55] Model description:\n",
      "Final prediction for new objects (level 0) = \n",
      "\t 0.24211 * (5 averaged models Lvl_0_Pipe_0_Mod_1_Tuned_LightGBM) +\n",
      "\t 0.21917 * (5 averaged models Lvl_0_Pipe_0_Mod_2_CatBoost) +\n",
      "\t 0.53872 * (5 averaged models Lvl_0_Pipe_0_Mod_3_Tuned_CatBoost) \n",
      "\n",
      "[20:27:55] ==================================================\n",
      "[20:27:56] Start 3 automl preset configuration:\n",
      "[20:27:56] \u001b[1mc:\\Users\\User\\skillbox\\HOMEWORKS\\HWs\\Lib\\site-packages\\lightautoml\\automl\\presets\\tabular_configs\\conf_3_sel_type_1_no_inter_lgbm.yml\u001b[0m, random state: {'reader_params': {'random_state': 45}, 'nn_params': {'random_state': 45}, 'general_params': {'return_all_predictions': False}}\n",
      "[20:27:56] Stdout logging level is INFO.\n",
      "[20:27:56] Task: reg\n",
      "\n",
      "[20:27:56] Start automl preset with listed constraints:\n",
      "[20:27:56] - time: 1576.94 seconds\n",
      "[20:27:56] - CPU: 4 cores\n",
      "[20:27:56] - memory: 16 GB\n",
      "\n",
      "[20:27:56] \u001b[1mTrain data shape: (1460, 91)\u001b[0m\n",
      "\n",
      "[20:28:26] Layer \u001b[1m1\u001b[0m train process start. Time left 1546.66 secs\n",
      "[20:28:27] \u001b[1mSelector_LightGBM\u001b[0m fitting and predicting completed\n",
      "[20:28:27] Start fitting \u001b[1mLvl_0_Pipe_0_Mod_0_LightGBM\u001b[0m ...\n",
      "[20:28:32] Fitting \u001b[1mLvl_0_Pipe_0_Mod_0_LightGBM\u001b[0m finished. score = \u001b[1m-16014.464263163527\u001b[0m\n",
      "[20:28:32] \u001b[1mLvl_0_Pipe_0_Mod_0_LightGBM\u001b[0m fitting and predicting completed\n",
      "[20:28:32] Start hyperparameters optimization for \u001b[1mLvl_0_Pipe_0_Mod_1_Tuned_LightGBM\u001b[0m ... Time budget is 238.32 secs\n"
     ]
    },
    {
     "name": "stderr",
     "output_type": "stream",
     "text": [
      "Optimization Progress: 100%|██████████| 101/101 [01:53<00:00,  1.13s/it, best_trial=25, best_value=-1.45e+4]"
     ]
    },
    {
     "name": "stdout",
     "output_type": "stream",
     "text": [
      "[20:30:26] Hyperparameters optimization for \u001b[1mLvl_0_Pipe_0_Mod_1_Tuned_LightGBM\u001b[0m completed\n",
      "[20:30:26] Start fitting \u001b[1mLvl_0_Pipe_0_Mod_1_Tuned_LightGBM\u001b[0m ...\n"
     ]
    },
    {
     "name": "stderr",
     "output_type": "stream",
     "text": [
      "\n"
     ]
    },
    {
     "name": "stdout",
     "output_type": "stream",
     "text": [
      "[20:30:28] Fitting \u001b[1mLvl_0_Pipe_0_Mod_1_Tuned_LightGBM\u001b[0m finished. score = \u001b[1m-15622.103026005992\u001b[0m\n",
      "[20:30:28] \u001b[1mLvl_0_Pipe_0_Mod_1_Tuned_LightGBM\u001b[0m fitting and predicting completed\n",
      "[20:30:28] Start fitting \u001b[1mLvl_0_Pipe_0_Mod_2_CatBoost\u001b[0m ...\n",
      "[20:30:40] Fitting \u001b[1mLvl_0_Pipe_0_Mod_2_CatBoost\u001b[0m finished. score = \u001b[1m-14578.441831656679\u001b[0m\n",
      "[20:30:40] \u001b[1mLvl_0_Pipe_0_Mod_2_CatBoost\u001b[0m fitting and predicting completed\n",
      "[20:30:40] Start hyperparameters optimization for \u001b[1mLvl_0_Pipe_0_Mod_3_Tuned_CatBoost\u001b[0m ... Time budget is 300.00 secs\n"
     ]
    },
    {
     "name": "stderr",
     "output_type": "stream",
     "text": [
      "Optimization Progress: 100%|██████████| 101/101 [03:10<00:00,  1.89s/it, best_trial=73, best_value=-1.38e+4]"
     ]
    },
    {
     "name": "stdout",
     "output_type": "stream",
     "text": [
      "[20:33:51] Hyperparameters optimization for \u001b[1mLvl_0_Pipe_0_Mod_3_Tuned_CatBoost\u001b[0m completed\n",
      "[20:33:51] Start fitting \u001b[1mLvl_0_Pipe_0_Mod_3_Tuned_CatBoost\u001b[0m ...\n"
     ]
    },
    {
     "name": "stderr",
     "output_type": "stream",
     "text": [
      "\n"
     ]
    },
    {
     "name": "stdout",
     "output_type": "stream",
     "text": [
      "[20:33:57] Fitting \u001b[1mLvl_0_Pipe_0_Mod_3_Tuned_CatBoost\u001b[0m finished. score = \u001b[1m-14995.022420804795\u001b[0m\n",
      "[20:33:57] \u001b[1mLvl_0_Pipe_0_Mod_3_Tuned_CatBoost\u001b[0m fitting and predicting completed\n",
      "[20:33:57] Start fitting \u001b[1mLvl_0_Pipe_0_Mod_4_XGBoost\u001b[0m ...\n",
      "[20:34:06] Fitting \u001b[1mLvl_0_Pipe_0_Mod_4_XGBoost\u001b[0m finished. score = \u001b[1m-17296.354141695207\u001b[0m\n",
      "[20:34:06] \u001b[1mLvl_0_Pipe_0_Mod_4_XGBoost\u001b[0m fitting and predicting completed\n",
      "[20:34:06] Start hyperparameters optimization for \u001b[1mLvl_0_Pipe_0_Mod_5_Tuned_XGBoost\u001b[0m ... Time budget is 300.00 secs\n"
     ]
    },
    {
     "name": "stderr",
     "output_type": "stream",
     "text": [
      "Optimization Progress:  75%|███████▌  | 76/101 [05:01<01:39,  3.97s/it, best_trial=62, best_value=-1.44e+4]"
     ]
    },
    {
     "name": "stdout",
     "output_type": "stream",
     "text": [
      "[20:39:08] Hyperparameters optimization for \u001b[1mLvl_0_Pipe_0_Mod_5_Tuned_XGBoost\u001b[0m completed\n",
      "[20:39:08] Start fitting \u001b[1mLvl_0_Pipe_0_Mod_5_Tuned_XGBoost\u001b[0m ...\n"
     ]
    },
    {
     "name": "stderr",
     "output_type": "stream",
     "text": [
      "\n"
     ]
    },
    {
     "name": "stdout",
     "output_type": "stream",
     "text": [
      "[20:39:28] Fitting \u001b[1mLvl_0_Pipe_0_Mod_5_Tuned_XGBoost\u001b[0m finished. score = \u001b[1m-14931.160065282535\u001b[0m\n",
      "[20:39:28] \u001b[1mLvl_0_Pipe_0_Mod_5_Tuned_XGBoost\u001b[0m fitting and predicting completed\n",
      "[20:39:28] Time left 884.13 secs\n",
      "\n",
      "[20:39:28] \u001b[1mLayer 1 training completed.\u001b[0m\n",
      "\n",
      "[20:39:28] Blending: optimization starts with equal weights. Score = \u001b[1m-14805.2577750\u001b[0m\n",
      "[20:39:29] Blending: iteration \u001b[1m0\u001b[0m: score = \u001b[1m-14427.0000696\u001b[0m, weights = \u001b[1m[0.         0.         0.5363852  0.17748739 0.         0.28612742]\u001b[0m\n",
      "[20:39:29] Blending: iteration \u001b[1m1\u001b[0m: score = \u001b[1m-14426.5426209\u001b[0m, weights = \u001b[1m[0.         0.         0.55986154 0.1546544  0.         0.28548402]\u001b[0m\n",
      "[20:39:29] Blending: iteration \u001b[1m2\u001b[0m: score = \u001b[1m-14426.5400417\u001b[0m, weights = \u001b[1m[0.         0.         0.557475   0.15860382 0.         0.28392127]\u001b[0m\n",
      "[20:39:29] Blending: iteration \u001b[1m3\u001b[0m: score = \u001b[1m-14426.5350920\u001b[0m, weights = \u001b[1m[0.         0.         0.55393785 0.16211525 0.         0.28394696]\u001b[0m\n",
      "[20:39:29] Blending: no improvements for score. Terminated.\n",
      "\n",
      "[20:39:29] Blending: best score = \u001b[1m-14426.5350920\u001b[0m, best weights = \u001b[1m[0.         0.         0.55393785 0.16211525 0.         0.28394696]\u001b[0m\n",
      "[20:39:29] \u001b[1mAutoml preset training completed in 693.03 seconds\u001b[0m\n",
      "\n",
      "[20:39:29] Model description:\n",
      "Final prediction for new objects (level 0) = \n",
      "\t 0.55394 * (5 averaged models Lvl_0_Pipe_0_Mod_2_CatBoost) +\n",
      "\t 0.16212 * (5 averaged models Lvl_0_Pipe_0_Mod_3_Tuned_CatBoost) +\n",
      "\t 0.28395 * (5 averaged models Lvl_0_Pipe_0_Mod_5_Tuned_XGBoost) \n",
      "\n",
      "[20:39:29] ==================================================\n",
      "[20:39:29] Start 4 automl preset configuration:\n",
      "[20:39:29] \u001b[1mc:\\Users\\User\\skillbox\\HOMEWORKS\\HWs\\Lib\\site-packages\\lightautoml\\automl\\presets\\tabular_configs\\conf_4_sel_type_0_no_int.yml\u001b[0m, random state: {'reader_params': {'random_state': 46}, 'nn_params': {'random_state': 46}, 'general_params': {'return_all_predictions': False}}\n",
      "[20:39:29] Stdout logging level is INFO.\n",
      "[20:39:29] Task: reg\n",
      "\n",
      "[20:39:29] Start automl preset with listed constraints:\n",
      "[20:39:29] - time: 883.76 seconds\n",
      "[20:39:29] - CPU: 4 cores\n",
      "[20:39:29] - memory: 16 GB\n",
      "\n",
      "[20:39:29] \u001b[1mTrain data shape: (1460, 91)\u001b[0m\n",
      "\n",
      "[20:39:34] Layer \u001b[1m1\u001b[0m train process start. Time left 878.64 secs\n",
      "[20:39:34] Start fitting \u001b[1mLvl_0_Pipe_0_Mod_0_LightGBM\u001b[0m ...\n",
      "[20:39:41] Fitting \u001b[1mLvl_0_Pipe_0_Mod_0_LightGBM\u001b[0m finished. score = \u001b[1m-15476.936716074486\u001b[0m\n",
      "[20:39:41] \u001b[1mLvl_0_Pipe_0_Mod_0_LightGBM\u001b[0m fitting and predicting completed\n",
      "[20:39:41] Start hyperparameters optimization for \u001b[1mLvl_0_Pipe_0_Mod_1_Tuned_LightGBM\u001b[0m ... Time budget is 109.57 secs\n"
     ]
    },
    {
     "name": "stderr",
     "output_type": "stream",
     "text": [
      "Optimization Progress:  83%|████████▎ | 84/101 [01:50<00:22,  1.31s/it, best_trial=52, best_value=-1.41e+4]"
     ]
    },
    {
     "name": "stdout",
     "output_type": "stream",
     "text": [
      "[20:41:32] Hyperparameters optimization for \u001b[1mLvl_0_Pipe_0_Mod_1_Tuned_LightGBM\u001b[0m completed\n",
      "[20:41:32] Start fitting \u001b[1mLvl_0_Pipe_0_Mod_1_Tuned_LightGBM\u001b[0m ...\n"
     ]
    },
    {
     "name": "stderr",
     "output_type": "stream",
     "text": [
      "\n"
     ]
    },
    {
     "name": "stdout",
     "output_type": "stream",
     "text": [
      "[20:41:34] Fitting \u001b[1mLvl_0_Pipe_0_Mod_1_Tuned_LightGBM\u001b[0m finished. score = \u001b[1m-15274.860528146404\u001b[0m\n",
      "[20:41:34] \u001b[1mLvl_0_Pipe_0_Mod_1_Tuned_LightGBM\u001b[0m fitting and predicting completed\n",
      "[20:41:34] Start fitting \u001b[1mLvl_0_Pipe_0_Mod_2_CatBoost\u001b[0m ...\n",
      "[20:41:52] Fitting \u001b[1mLvl_0_Pipe_0_Mod_2_CatBoost\u001b[0m finished. score = \u001b[1m-14612.358414490582\u001b[0m\n",
      "[20:41:52] \u001b[1mLvl_0_Pipe_0_Mod_2_CatBoost\u001b[0m fitting and predicting completed\n",
      "[20:41:52] Start hyperparameters optimization for \u001b[1mLvl_0_Pipe_0_Mod_3_Tuned_CatBoost\u001b[0m ... Time budget is 300.00 secs\n"
     ]
    },
    {
     "name": "stderr",
     "output_type": "stream",
     "text": [
      "Optimization Progress: 100%|██████████| 101/101 [04:26<00:00,  2.63s/it, best_trial=31, best_value=-1.35e+4]"
     ]
    },
    {
     "name": "stdout",
     "output_type": "stream",
     "text": [
      "[20:46:18] Hyperparameters optimization for \u001b[1mLvl_0_Pipe_0_Mod_3_Tuned_CatBoost\u001b[0m completed\n",
      "[20:46:18] Start fitting \u001b[1mLvl_0_Pipe_0_Mod_3_Tuned_CatBoost\u001b[0m ...\n"
     ]
    },
    {
     "name": "stderr",
     "output_type": "stream",
     "text": [
      "\n"
     ]
    },
    {
     "name": "stdout",
     "output_type": "stream",
     "text": [
      "[20:46:38] Fitting \u001b[1mLvl_0_Pipe_0_Mod_3_Tuned_CatBoost\u001b[0m finished. score = \u001b[1m-14838.367091181506\u001b[0m\n",
      "[20:46:38] \u001b[1mLvl_0_Pipe_0_Mod_3_Tuned_CatBoost\u001b[0m fitting and predicting completed\n",
      "[20:46:38] Start fitting \u001b[1mLvl_0_Pipe_0_Mod_4_XGBoost\u001b[0m ...\n",
      "[20:46:47] Fitting \u001b[1mLvl_0_Pipe_0_Mod_4_XGBoost\u001b[0m finished. score = \u001b[1m-17360.432534246575\u001b[0m\n",
      "[20:46:47] \u001b[1mLvl_0_Pipe_0_Mod_4_XGBoost\u001b[0m fitting and predicting completed\n",
      "[20:46:47] Start hyperparameters optimization for \u001b[1mLvl_0_Pipe_0_Mod_5_Tuned_XGBoost\u001b[0m ... Time budget is 300.00 secs\n"
     ]
    },
    {
     "name": "stderr",
     "output_type": "stream",
     "text": [
      "Optimization Progress:  62%|██████▏   | 63/101 [05:02<03:02,  4.80s/it, best_trial=12, best_value=-1.38e+4]"
     ]
    },
    {
     "name": "stdout",
     "output_type": "stream",
     "text": [
      "[20:51:50] Hyperparameters optimization for \u001b[1mLvl_0_Pipe_0_Mod_5_Tuned_XGBoost\u001b[0m completed\n",
      "[20:51:50] Start fitting \u001b[1mLvl_0_Pipe_0_Mod_5_Tuned_XGBoost\u001b[0m ...\n"
     ]
    },
    {
     "name": "stderr",
     "output_type": "stream",
     "text": [
      "\n"
     ]
    },
    {
     "name": "stdout",
     "output_type": "stream",
     "text": [
      "[20:52:13] Fitting \u001b[1mLvl_0_Pipe_0_Mod_5_Tuned_XGBoost\u001b[0m finished. score = \u001b[1m-14898.031314212329\u001b[0m\n",
      "[20:52:13] \u001b[1mLvl_0_Pipe_0_Mod_5_Tuned_XGBoost\u001b[0m fitting and predicting completed\n",
      "[20:52:13] Time left 119.92 secs\n",
      "\n",
      "[20:52:13] \u001b[1mLayer 1 training completed.\u001b[0m\n",
      "\n",
      "[20:52:13] Blending: optimization starts with equal weights. Score = \u001b[1m-14605.5201975\u001b[0m\n",
      "[20:52:13] Blending: iteration \u001b[1m0\u001b[0m: score = \u001b[1m-14419.2585349\u001b[0m, weights = \u001b[1m[0.         0.07226162 0.46719557 0.18676287 0.05722149 0.21655844]\u001b[0m\n",
      "[20:52:13] Blending: iteration \u001b[1m1\u001b[0m: score = \u001b[1m-14409.9804928\u001b[0m, weights = \u001b[1m[0.         0.14369766 0.5385284  0.09776998 0.         0.22000399]\u001b[0m\n",
      "[20:52:13] Blending: iteration \u001b[1m2\u001b[0m: score = \u001b[1m-14408.8964897\u001b[0m, weights = \u001b[1m[0.         0.12417015 0.5164739  0.11975761 0.         0.23959832]\u001b[0m\n",
      "[20:52:13] Blending: no improvements for score. Terminated.\n",
      "\n",
      "[20:52:13] Blending: best score = \u001b[1m-14408.8964897\u001b[0m, best weights = \u001b[1m[0.         0.12417015 0.5164739  0.11975761 0.         0.23959832]\u001b[0m\n",
      "[20:52:13] \u001b[1mAutoml preset training completed in 764.10 seconds\u001b[0m\n",
      "\n",
      "[20:52:13] Model description:\n",
      "Final prediction for new objects (level 0) = \n",
      "\t 0.12417 * (5 averaged models Lvl_0_Pipe_0_Mod_1_Tuned_LightGBM) +\n",
      "\t 0.51647 * (5 averaged models Lvl_0_Pipe_0_Mod_2_CatBoost) +\n",
      "\t 0.11976 * (5 averaged models Lvl_0_Pipe_0_Mod_3_Tuned_CatBoost) +\n",
      "\t 0.23960 * (5 averaged models Lvl_0_Pipe_0_Mod_5_Tuned_XGBoost) \n",
      "\n",
      "[20:52:13] ==================================================\n",
      "[20:52:13] Blending: optimization starts with equal weights. Score = \u001b[1m-14346.0681239\u001b[0m\n",
      "[20:52:13] Blending: iteration \u001b[1m0\u001b[0m: score = \u001b[1m-14199.2313490\u001b[0m, weights = \u001b[1m[0.12358206 0.16382252 0.         0.25851035 0.45408508]\u001b[0m\n",
      "[20:52:13] Blending: iteration \u001b[1m1\u001b[0m: score = \u001b[1m-14183.2591770\u001b[0m, weights = \u001b[1m[0.         0.16140443 0.         0.3508707  0.4877249 ]\u001b[0m\n",
      "[20:52:13] Blending: iteration \u001b[1m2\u001b[0m: score = \u001b[1m-14183.0785477\u001b[0m, weights = \u001b[1m[0.         0.14854513 0.         0.3744943  0.47696057]\u001b[0m\n",
      "[20:52:13] Blending: no improvements for score. Terminated.\n",
      "\n",
      "[20:52:13] Blending: best score = \u001b[1m-14183.0785477\u001b[0m, best weights = \u001b[1m[0.         0.14854513 0.         0.3744943  0.47696057]\u001b[0m\n"
     ]
    }
   ],
   "source": [
    "oof_pred_ut = automl_ut.fit_predict(train_df_fe, roles = roles, verbose = 1)"
   ]
  },
  {
   "cell_type": "code",
   "execution_count": 35,
   "metadata": {},
   "outputs": [
    {
     "name": "stdout",
     "output_type": "stream",
     "text": [
      "pygame 2.6.1 (SDL 2.28.4, Python 3.11.0)\n",
      "Hello from the pygame community. https://www.pygame.org/contribute.html\n",
      "MAE on train: 14183.078547731164\n",
      "MAE on test: 6293.234658604452\n"
     ]
    }
   ],
   "source": [
    "get_mae(automl_ut, oof_pred_ut, train_df_fe, test_df_fe)"
   ]
  },
  {
   "cell_type": "code",
   "execution_count": 36,
   "metadata": {},
   "outputs": [
    {
     "name": "stdout",
     "output_type": "stream",
     "text": [
      "Final prediction for new objects = \n",
      "\t0.14855 * 1 averaged models with config = \"c:\\Users\\User\\skillbox\\HOMEWORKS\\HWs\\Lib\\site-packages\\lightautoml\\automl\\presets\\tabular_configs\\conf_1_sel_type_1.yml\" and different CV random_states. Their structures: \n",
      "\n",
      "\t    Model #0.\n",
      "\t\t================================================================================\n",
      "\t\tFinal prediction for new objects (level 0) = \n",
      "\t\t\t 0.21749 * (5 averaged models Lvl_0_Pipe_0_Mod_2_CatBoost) +\n",
      "\t\t\t 0.64327 * (5 averaged models Lvl_0_Pipe_0_Mod_3_Tuned_CatBoost) +\n",
      "\t\t\t 0.13925 * (5 averaged models Lvl_0_Pipe_0_Mod_5_Tuned_XGBoost) \n",
      "\t\t================================================================================\n",
      "\n",
      "\n",
      "\t+ 0.37449 * 1 averaged models with config = \"c:\\Users\\User\\skillbox\\HOMEWORKS\\HWs\\Lib\\site-packages\\lightautoml\\automl\\presets\\tabular_configs\\conf_3_sel_type_1_no_inter_lgbm.yml\" and different CV random_states. Their structures: \n",
      "\n",
      "\t    Model #0.\n",
      "\t\t================================================================================\n",
      "\t\tFinal prediction for new objects (level 0) = \n",
      "\t\t\t 0.55394 * (5 averaged models Lvl_0_Pipe_0_Mod_2_CatBoost) +\n",
      "\t\t\t 0.16212 * (5 averaged models Lvl_0_Pipe_0_Mod_3_Tuned_CatBoost) +\n",
      "\t\t\t 0.28395 * (5 averaged models Lvl_0_Pipe_0_Mod_5_Tuned_XGBoost) \n",
      "\t\t================================================================================\n",
      "\n",
      "\n",
      "\t+ 0.47696 * 1 averaged models with config = \"c:\\Users\\User\\skillbox\\HOMEWORKS\\HWs\\Lib\\site-packages\\lightautoml\\automl\\presets\\tabular_configs\\conf_4_sel_type_0_no_int.yml\" and different CV random_states. Their structures: \n",
      "\n",
      "\t    Model #0.\n",
      "\t\t================================================================================\n",
      "\t\tFinal prediction for new objects (level 0) = \n",
      "\t\t\t 0.12417 * (5 averaged models Lvl_0_Pipe_0_Mod_1_Tuned_LightGBM) +\n",
      "\t\t\t 0.51647 * (5 averaged models Lvl_0_Pipe_0_Mod_2_CatBoost) +\n",
      "\t\t\t 0.11976 * (5 averaged models Lvl_0_Pipe_0_Mod_3_Tuned_CatBoost) +\n",
      "\t\t\t 0.23960 * (5 averaged models Lvl_0_Pipe_0_Mod_5_Tuned_XGBoost) \n",
      "\t\t================================================================================\n",
      "\n",
      "\n",
      "\n"
     ]
    }
   ],
   "source": [
    "print(automl_ut.create_model_str_desc())"
   ]
  },
  {
   "cell_type": "code",
   "execution_count": 39,
   "metadata": {},
   "outputs": [
    {
     "data": {
      "image/png": "[encoded data removed]",
      "text/plain": [
       "<Figure size 3000x1000 with 1 Axes>"
      ]
     },
     "metadata": {},
     "output_type": "display_data"
    }
   ],
   "source": [
    "fast_fi = automl_ut.get_feature_scores('fast', test_data, silent=True)\n",
    "fast_fi.set_index('Feature')['Importance'].plot.bar(figsize = (30, 10), grid = True);"
   ]
  },
  {
   "cell_type": "code",
   "execution_count": 43,
   "metadata": {},
   "outputs": [],
   "source": [
    "playsound()"
   ]
  },
  {
   "cell_type": "markdown",
   "metadata": {},
   "source": [
    "# 3. Logarithmisation\n",
    "\n",
    "**Не могу не проверить, как повлияет логарифмизация таргета на МАЕ.**"
   ]
  },
  {
   "cell_type": "code",
   "execution_count": 12,
   "metadata": {},
   "outputs": [],
   "source": [
    "train_df_fe = target_log1p(train_df_fe)\n",
    "test_df_fe = target_log1p(test_df_fe)"
   ]
  },
  {
   "cell_type": "code",
   "execution_count": 14,
   "metadata": {},
   "outputs": [],
   "source": [
    "automl_ut = TabularUtilizedAutoML(\n",
    "    task=task,\n",
    "    timeout=TIMEOUT,\n",
    "    cpu_limit=THREADS,\n",
    "    reader_params = {'n_jobs': THREADS, 'random_state': RANDOM_STATE, 'cv': CV},\n",
    "    general_params={'use_algos': [['lgb', 'cb', 'lgb_tuned', 'cb_tuned', 'xgb', 'xgb_tuned']]},\n",
    ")"
   ]
  },
  {
   "cell_type": "code",
   "execution_count": 15,
   "metadata": {},
   "outputs": [
    {
     "name": "stdout",
     "output_type": "stream",
     "text": [
      "[09:21:02] Start automl \u001b[1mutilizator\u001b[0m with listed constraints:\n",
      "[09:21:02] - time: 3600.00 seconds\n",
      "[09:21:02] - CPU: 4 cores\n",
      "[09:21:02] - memory: 16 GB\n",
      "\n",
      "[09:21:02] \u001b[1mIf one preset completes earlier, next preset configuration will be started\u001b[0m\n",
      "\n",
      "[09:21:02] ==================================================\n",
      "[09:21:02] Start 0 automl preset configuration:\n",
      "[09:21:02] \u001b[1mc:\\Users\\User\\skillbox\\HOMEWORKS\\HWs\\Lib\\site-packages\\lightautoml\\automl\\presets\\tabular_configs\\conf_0_sel_type_0.yml\u001b[0m, random state: {'reader_params': {'random_state': 42}, 'nn_params': {'random_state': 42}, 'general_params': {'return_all_predictions': False}}\n",
      "[09:21:02] Stdout logging level is INFO.\n",
      "[09:21:02] Task: reg\n",
      "\n",
      "[09:21:02] Start automl preset with listed constraints:\n",
      "[09:21:02] - time: 3600.00 seconds\n",
      "[09:21:02] - CPU: 4 cores\n",
      "[09:21:02] - memory: 16 GB\n",
      "\n",
      "[09:21:02] \u001b[1mTrain data shape: (1460, 91)\u001b[0m\n",
      "\n",
      "[09:21:08] Layer \u001b[1m1\u001b[0m train process start. Time left 3594.19 secs\n",
      "[09:21:08] Start fitting \u001b[1mLvl_0_Pipe_0_Mod_0_LightGBM\u001b[0m ...\n",
      "[09:21:15] Fitting \u001b[1mLvl_0_Pipe_0_Mod_0_LightGBM\u001b[0m finished. score = \u001b[1m-0.08811434158161255\u001b[0m\n",
      "[09:21:15] \u001b[1mLvl_0_Pipe_0_Mod_0_LightGBM\u001b[0m fitting and predicting completed\n",
      "[09:21:15] Start hyperparameters optimization for \u001b[1mLvl_0_Pipe_0_Mod_1_Tuned_LightGBM\u001b[0m ... Time budget is 300.00 secs\n",
      "[09:21:15] Copying TaskTimer may affect the parent PipelineTimer, so copy will create new unlimited TaskTimer\n"
     ]
    },
    {
     "name": "stderr",
     "output_type": "stream",
     "text": [
      "Optimization Progress: 100%|██████████| 101/101 [01:53<00:00,  1.12s/it, best_trial=81, best_value=-0.0862]"
     ]
    },
    {
     "name": "stdout",
     "output_type": "stream",
     "text": [
      "[09:23:08] Hyperparameters optimization for \u001b[1mLvl_0_Pipe_0_Mod_1_Tuned_LightGBM\u001b[0m completed\n",
      "[09:23:08] Start fitting \u001b[1mLvl_0_Pipe_0_Mod_1_Tuned_LightGBM\u001b[0m ...\n"
     ]
    },
    {
     "name": "stderr",
     "output_type": "stream",
     "text": [
      "\n"
     ]
    },
    {
     "name": "stdout",
     "output_type": "stream",
     "text": [
      "[09:23:09] Fitting \u001b[1mLvl_0_Pipe_0_Mod_1_Tuned_LightGBM\u001b[0m finished. score = \u001b[1m-0.08699443848079931\u001b[0m\n",
      "[09:23:09] \u001b[1mLvl_0_Pipe_0_Mod_1_Tuned_LightGBM\u001b[0m fitting and predicting completed\n",
      "[09:23:09] Start fitting \u001b[1mLvl_0_Pipe_0_Mod_2_CatBoost\u001b[0m ...\n",
      "[09:23:16] Fitting \u001b[1mLvl_0_Pipe_0_Mod_2_CatBoost\u001b[0m finished. score = \u001b[1m-0.08513228370880617\u001b[0m\n",
      "[09:23:16] \u001b[1mLvl_0_Pipe_0_Mod_2_CatBoost\u001b[0m fitting and predicting completed\n",
      "[09:23:16] Start hyperparameters optimization for \u001b[1mLvl_0_Pipe_0_Mod_3_Tuned_CatBoost\u001b[0m ... Time budget is 300.00 secs\n"
     ]
    },
    {
     "name": "stderr",
     "output_type": "stream",
     "text": [
      "Optimization Progress: 100%|██████████| 101/101 [04:32<00:00,  2.70s/it, best_trial=82, best_value=-0.0824]"
     ]
    },
    {
     "name": "stdout",
     "output_type": "stream",
     "text": [
      "[09:27:49] Hyperparameters optimization for \u001b[1mLvl_0_Pipe_0_Mod_3_Tuned_CatBoost\u001b[0m completed\n",
      "[09:27:49] Start fitting \u001b[1mLvl_0_Pipe_0_Mod_3_Tuned_CatBoost\u001b[0m ...\n"
     ]
    },
    {
     "name": "stderr",
     "output_type": "stream",
     "text": [
      "\n"
     ]
    },
    {
     "name": "stdout",
     "output_type": "stream",
     "text": [
      "[09:28:02] Fitting \u001b[1mLvl_0_Pipe_0_Mod_3_Tuned_CatBoost\u001b[0m finished. score = \u001b[1m-0.08301203376008856\u001b[0m\n",
      "[09:28:02] \u001b[1mLvl_0_Pipe_0_Mod_3_Tuned_CatBoost\u001b[0m fitting and predicting completed\n",
      "[09:28:02] Start fitting \u001b[1mLvl_0_Pipe_0_Mod_4_XGBoost\u001b[0m ...\n",
      "[09:28:04] Fitting \u001b[1mLvl_0_Pipe_0_Mod_4_XGBoost\u001b[0m finished. score = \u001b[1m-0.09947171561955881\u001b[0m\n",
      "[09:28:04] \u001b[1mLvl_0_Pipe_0_Mod_4_XGBoost\u001b[0m fitting and predicting completed\n",
      "[09:28:04] Start hyperparameters optimization for \u001b[1mLvl_0_Pipe_0_Mod_5_Tuned_XGBoost\u001b[0m ... Time budget is 300.00 secs\n"
     ]
    },
    {
     "name": "stderr",
     "output_type": "stream",
     "text": [
      "Optimization Progress:  66%|██████▋   | 67/101 [05:24<02:44,  4.85s/it, best_trial=53, best_value=-0.0848]"
     ]
    },
    {
     "name": "stdout",
     "output_type": "stream",
     "text": [
      "[09:33:29] Hyperparameters optimization for \u001b[1mLvl_0_Pipe_0_Mod_5_Tuned_XGBoost\u001b[0m completed\n",
      "[09:33:29] Start fitting \u001b[1mLvl_0_Pipe_0_Mod_5_Tuned_XGBoost\u001b[0m ...\n"
     ]
    },
    {
     "name": "stderr",
     "output_type": "stream",
     "text": [
      "\n"
     ]
    },
    {
     "name": "stdout",
     "output_type": "stream",
     "text": [
      "[09:34:35] Fitting \u001b[1mLvl_0_Pipe_0_Mod_5_Tuned_XGBoost\u001b[0m finished. score = \u001b[1m-0.08588042652534852\u001b[0m\n",
      "[09:34:35] \u001b[1mLvl_0_Pipe_0_Mod_5_Tuned_XGBoost\u001b[0m fitting and predicting completed\n",
      "[09:34:35] Time left 2787.17 secs\n",
      "\n",
      "[09:34:35] \u001b[1mLayer 1 training completed.\u001b[0m\n",
      "\n",
      "[09:34:35] Blending: optimization starts with equal weights. Score = \u001b[1m-0.0841288\u001b[0m\n",
      "[09:34:35] Blending: iteration \u001b[1m0\u001b[0m: score = \u001b[1m-0.0823688\u001b[0m, weights = \u001b[1m[0.         0.0722523  0.17711687 0.5453333  0.         0.20529753]\u001b[0m\n",
      "[09:34:35] Blending: iteration \u001b[1m1\u001b[0m: score = \u001b[1m-0.0822772\u001b[0m, weights = \u001b[1m[0.         0.17854856 0.15059756 0.536449   0.         0.13440491]\u001b[0m\n",
      "[09:34:35] Blending: iteration \u001b[1m2\u001b[0m: score = \u001b[1m-0.0822753\u001b[0m, weights = \u001b[1m[0.         0.19419591 0.15299536 0.5220192  0.         0.13078958]\u001b[0m\n",
      "[09:34:35] Blending: no improvements for score. Terminated.\n",
      "\n",
      "[09:34:35] Blending: best score = \u001b[1m-0.0822753\u001b[0m, best weights = \u001b[1m[0.         0.19419591 0.15299536 0.5220192  0.         0.13078958]\u001b[0m\n",
      "[09:34:35] \u001b[1mAutoml preset training completed in 813.00 seconds\u001b[0m\n",
      "\n",
      "[09:34:35] Model description:\n",
      "Final prediction for new objects (level 0) = \n",
      "\t 0.19420 * (5 averaged models Lvl_0_Pipe_0_Mod_1_Tuned_LightGBM) +\n",
      "\t 0.15300 * (5 averaged models Lvl_0_Pipe_0_Mod_2_CatBoost) +\n",
      "\t 0.52202 * (5 averaged models Lvl_0_Pipe_0_Mod_3_Tuned_CatBoost) +\n",
      "\t 0.13079 * (5 averaged models Lvl_0_Pipe_0_Mod_5_Tuned_XGBoost) \n",
      "\n",
      "[09:34:35] ==================================================\n",
      "[09:34:35] Start 1 automl preset configuration:\n",
      "[09:34:35] \u001b[1mc:\\Users\\User\\skillbox\\HOMEWORKS\\HWs\\Lib\\site-packages\\lightautoml\\automl\\presets\\tabular_configs\\conf_1_sel_type_1.yml\u001b[0m, random state: {'reader_params': {'random_state': 43}, 'nn_params': {'random_state': 43}, 'general_params': {'return_all_predictions': False}}\n",
      "[09:34:35] Stdout logging level is INFO.\n",
      "[09:34:35] Task: reg\n",
      "\n",
      "[09:34:35] Start automl preset with listed constraints:\n",
      "[09:34:35] - time: 2786.92 seconds\n",
      "[09:34:35] - CPU: 4 cores\n",
      "[09:34:35] - memory: 16 GB\n",
      "\n",
      "[09:34:35] \u001b[1mTrain data shape: (1460, 91)\u001b[0m\n",
      "\n",
      "[09:34:41] Layer \u001b[1m1\u001b[0m train process start. Time left 2781.78 secs\n",
      "[09:34:42] \u001b[1mSelector_LightGBM\u001b[0m fitting and predicting completed\n",
      "[09:34:42] Start fitting \u001b[1mLvl_0_Pipe_0_Mod_0_LightGBM\u001b[0m ...\n",
      "[09:34:50] Fitting \u001b[1mLvl_0_Pipe_0_Mod_0_LightGBM\u001b[0m finished. score = \u001b[1m-0.08670689672463247\u001b[0m\n",
      "[09:34:50] \u001b[1mLvl_0_Pipe_0_Mod_0_LightGBM\u001b[0m fitting and predicting completed\n",
      "[09:34:50] Start hyperparameters optimization for \u001b[1mLvl_0_Pipe_0_Mod_1_Tuned_LightGBM\u001b[0m ... Time budget is 300.00 secs\n"
     ]
    },
    {
     "name": "stderr",
     "output_type": "stream",
     "text": [
      "Optimization Progress: 100%|██████████| 101/101 [02:23<00:00,  1.42s/it, best_trial=44, best_value=-0.0805]"
     ]
    },
    {
     "name": "stdout",
     "output_type": "stream",
     "text": [
      "[09:37:13] Hyperparameters optimization for \u001b[1mLvl_0_Pipe_0_Mod_1_Tuned_LightGBM\u001b[0m completed\n",
      "[09:37:13] Start fitting \u001b[1mLvl_0_Pipe_0_Mod_1_Tuned_LightGBM\u001b[0m ...\n"
     ]
    },
    {
     "name": "stderr",
     "output_type": "stream",
     "text": [
      "\n"
     ]
    },
    {
     "name": "stdout",
     "output_type": "stream",
     "text": [
      "[09:37:15] Fitting \u001b[1mLvl_0_Pipe_0_Mod_1_Tuned_LightGBM\u001b[0m finished. score = \u001b[1m-0.08562169524095507\u001b[0m\n",
      "[09:37:15] \u001b[1mLvl_0_Pipe_0_Mod_1_Tuned_LightGBM\u001b[0m fitting and predicting completed\n",
      "[09:37:15] Start fitting \u001b[1mLvl_0_Pipe_0_Mod_2_CatBoost\u001b[0m ...\n",
      "[09:37:25] Fitting \u001b[1mLvl_0_Pipe_0_Mod_2_CatBoost\u001b[0m finished. score = \u001b[1m-0.08411154151836223\u001b[0m\n",
      "[09:37:25] \u001b[1mLvl_0_Pipe_0_Mod_2_CatBoost\u001b[0m fitting and predicting completed\n",
      "[09:37:25] Start hyperparameters optimization for \u001b[1mLvl_0_Pipe_0_Mod_3_Tuned_CatBoost\u001b[0m ... Time budget is 300.00 secs\n"
     ]
    },
    {
     "name": "stderr",
     "output_type": "stream",
     "text": [
      "Optimization Progress: 100%|██████████| 101/101 [02:08<00:00,  1.27s/it, best_trial=82, best_value=-0.0821]"
     ]
    },
    {
     "name": "stdout",
     "output_type": "stream",
     "text": [
      "[09:39:33] Hyperparameters optimization for \u001b[1mLvl_0_Pipe_0_Mod_3_Tuned_CatBoost\u001b[0m completed\n",
      "[09:39:33] Start fitting \u001b[1mLvl_0_Pipe_0_Mod_3_Tuned_CatBoost\u001b[0m ...\n"
     ]
    },
    {
     "name": "stderr",
     "output_type": "stream",
     "text": [
      "\n"
     ]
    },
    {
     "name": "stdout",
     "output_type": "stream",
     "text": [
      "[09:39:38] Fitting \u001b[1mLvl_0_Pipe_0_Mod_3_Tuned_CatBoost\u001b[0m finished. score = \u001b[1m-0.08391458782360847\u001b[0m\n",
      "[09:39:38] \u001b[1mLvl_0_Pipe_0_Mod_3_Tuned_CatBoost\u001b[0m fitting and predicting completed\n",
      "[09:39:38] Start fitting \u001b[1mLvl_0_Pipe_0_Mod_4_XGBoost\u001b[0m ...\n",
      "[09:39:39] Fitting \u001b[1mLvl_0_Pipe_0_Mod_4_XGBoost\u001b[0m finished. score = \u001b[1m-0.09709625715225186\u001b[0m\n",
      "[09:39:39] \u001b[1mLvl_0_Pipe_0_Mod_4_XGBoost\u001b[0m fitting and predicting completed\n",
      "[09:39:39] Start hyperparameters optimization for \u001b[1mLvl_0_Pipe_0_Mod_5_Tuned_XGBoost\u001b[0m ... Time budget is 300.00 secs\n"
     ]
    },
    {
     "name": "stderr",
     "output_type": "stream",
     "text": [
      "Optimization Progress: 100%|██████████| 101/101 [05:01<00:00,  2.98s/it, best_trial=93, best_value=-0.082]"
     ]
    },
    {
     "name": "stdout",
     "output_type": "stream",
     "text": [
      "[09:44:40] Hyperparameters optimization for \u001b[1mLvl_0_Pipe_0_Mod_5_Tuned_XGBoost\u001b[0m completed\n",
      "[09:44:40] Start fitting \u001b[1mLvl_0_Pipe_0_Mod_5_Tuned_XGBoost\u001b[0m ...\n"
     ]
    },
    {
     "name": "stderr",
     "output_type": "stream",
     "text": [
      "\n"
     ]
    },
    {
     "name": "stdout",
     "output_type": "stream",
     "text": [
      "[09:45:01] Fitting \u001b[1mLvl_0_Pipe_0_Mod_5_Tuned_XGBoost\u001b[0m finished. score = \u001b[1m-0.08437955895841535\u001b[0m\n",
      "[09:45:01] \u001b[1mLvl_0_Pipe_0_Mod_5_Tuned_XGBoost\u001b[0m fitting and predicting completed\n",
      "[09:45:01] Time left 2161.71 secs\n",
      "\n",
      "[09:45:01] \u001b[1mLayer 1 training completed.\u001b[0m\n",
      "\n",
      "[09:45:01] Blending: optimization starts with equal weights. Score = \u001b[1m-0.0828575\u001b[0m\n",
      "[09:45:01] Blending: iteration \u001b[1m0\u001b[0m: score = \u001b[1m-0.0820745\u001b[0m, weights = \u001b[1m[0.         0.11712115 0.27736026 0.31359953 0.         0.29191908]\u001b[0m\n",
      "[09:45:01] Blending: iteration \u001b[1m1\u001b[0m: score = \u001b[1m-0.0820350\u001b[0m, weights = \u001b[1m[0.         0.19770701 0.23899513 0.31231806 0.         0.2509798 ]\u001b[0m\n",
      "[09:45:01] Blending: no improvements for score. Terminated.\n",
      "\n",
      "[09:45:01] Blending: best score = \u001b[1m-0.0820350\u001b[0m, best weights = \u001b[1m[0.         0.19770701 0.23899513 0.31231806 0.         0.2509798 ]\u001b[0m\n",
      "[09:45:01] \u001b[1mAutoml preset training completed in 625.34 seconds\u001b[0m\n",
      "\n",
      "[09:45:01] Model description:\n",
      "Final prediction for new objects (level 0) = \n",
      "\t 0.19771 * (5 averaged models Lvl_0_Pipe_0_Mod_1_Tuned_LightGBM) +\n",
      "\t 0.23900 * (5 averaged models Lvl_0_Pipe_0_Mod_2_CatBoost) +\n",
      "\t 0.31232 * (5 averaged models Lvl_0_Pipe_0_Mod_3_Tuned_CatBoost) +\n",
      "\t 0.25098 * (5 averaged models Lvl_0_Pipe_0_Mod_5_Tuned_XGBoost) \n",
      "\n",
      "[09:45:01] ==================================================\n",
      "[09:45:01] Start 2 automl preset configuration:\n",
      "[09:45:01] \u001b[1mc:\\Users\\User\\skillbox\\HOMEWORKS\\HWs\\Lib\\site-packages\\lightautoml\\automl\\presets\\tabular_configs\\conf_2_select_mode_1_no_typ.yml\u001b[0m, random state: {'reader_params': {'random_state': 44}, 'nn_params': {'random_state': 44}, 'general_params': {'return_all_predictions': False}}\n",
      "[09:45:01] Stdout logging level is INFO.\n",
      "[09:45:01] Task: reg\n",
      "\n",
      "[09:45:01] Start automl preset with listed constraints:\n",
      "[09:45:01] - time: 2161.53 seconds\n",
      "[09:45:01] - CPU: 4 cores\n",
      "[09:45:01] - memory: 16 GB\n",
      "\n",
      "[09:45:01] \u001b[1mTrain data shape: (1460, 91)\u001b[0m\n",
      "\n",
      "[09:45:01] Layer \u001b[1m1\u001b[0m train process start. Time left 2161.50 secs\n",
      "[09:45:03] \u001b[1mSelector_LightGBM\u001b[0m fitting and predicting completed\n",
      "[09:45:03] Start fitting \u001b[1mLvl_0_Pipe_0_Mod_0_LightGBM\u001b[0m ...\n",
      "[09:45:09] Fitting \u001b[1mLvl_0_Pipe_0_Mod_0_LightGBM\u001b[0m finished. score = \u001b[1m-0.09089875991931551\u001b[0m\n",
      "[09:45:09] \u001b[1mLvl_0_Pipe_0_Mod_0_LightGBM\u001b[0m fitting and predicting completed\n",
      "[09:45:09] Start hyperparameters optimization for \u001b[1mLvl_0_Pipe_0_Mod_1_Tuned_LightGBM\u001b[0m ... Time budget is 300.00 secs\n"
     ]
    },
    {
     "name": "stderr",
     "output_type": "stream",
     "text": [
      "Optimization Progress: 100%|██████████| 101/101 [01:36<00:00,  1.05it/s, best_trial=77, best_value=-0.0884]"
     ]
    },
    {
     "name": "stdout",
     "output_type": "stream",
     "text": [
      "[09:46:45] Hyperparameters optimization for \u001b[1mLvl_0_Pipe_0_Mod_1_Tuned_LightGBM\u001b[0m completed\n",
      "[09:46:45] Start fitting \u001b[1mLvl_0_Pipe_0_Mod_1_Tuned_LightGBM\u001b[0m ...\n"
     ]
    },
    {
     "name": "stderr",
     "output_type": "stream",
     "text": [
      "\n"
     ]
    },
    {
     "name": "stdout",
     "output_type": "stream",
     "text": [
      "[09:46:47] Fitting \u001b[1mLvl_0_Pipe_0_Mod_1_Tuned_LightGBM\u001b[0m finished. score = \u001b[1m-0.08809090091206129\u001b[0m\n",
      "[09:46:47] \u001b[1mLvl_0_Pipe_0_Mod_1_Tuned_LightGBM\u001b[0m fitting and predicting completed\n",
      "[09:46:47] Start fitting \u001b[1mLvl_0_Pipe_0_Mod_2_CatBoost\u001b[0m ...\n",
      "[09:46:55] Fitting \u001b[1mLvl_0_Pipe_0_Mod_2_CatBoost\u001b[0m finished. score = \u001b[1m-0.085958719876984\u001b[0m\n",
      "[09:46:55] \u001b[1mLvl_0_Pipe_0_Mod_2_CatBoost\u001b[0m fitting and predicting completed\n",
      "[09:46:55] Start hyperparameters optimization for \u001b[1mLvl_0_Pipe_0_Mod_3_Tuned_CatBoost\u001b[0m ... Time budget is 300.00 secs\n"
     ]
    },
    {
     "name": "stderr",
     "output_type": "stream",
     "text": [
      "Optimization Progress: 100%|██████████| 101/101 [03:19<00:00,  1.97s/it, best_trial=86, best_value=-0.0876]"
     ]
    },
    {
     "name": "stdout",
     "output_type": "stream",
     "text": [
      "[09:50:14] Hyperparameters optimization for \u001b[1mLvl_0_Pipe_0_Mod_3_Tuned_CatBoost\u001b[0m completed\n",
      "[09:50:14] Start fitting \u001b[1mLvl_0_Pipe_0_Mod_3_Tuned_CatBoost\u001b[0m ...\n"
     ]
    },
    {
     "name": "stderr",
     "output_type": "stream",
     "text": [
      "\n"
     ]
    },
    {
     "name": "stdout",
     "output_type": "stream",
     "text": [
      "[09:50:25] Fitting \u001b[1mLvl_0_Pipe_0_Mod_3_Tuned_CatBoost\u001b[0m finished. score = \u001b[1m-0.08489741050225655\u001b[0m\n",
      "[09:50:25] \u001b[1mLvl_0_Pipe_0_Mod_3_Tuned_CatBoost\u001b[0m fitting and predicting completed\n",
      "[09:50:25] Start fitting \u001b[1mLvl_0_Pipe_0_Mod_4_XGBoost\u001b[0m ...\n",
      "[09:50:27] Fitting \u001b[1mLvl_0_Pipe_0_Mod_4_XGBoost\u001b[0m finished. score = \u001b[1m-0.1032411862717287\u001b[0m\n",
      "[09:50:27] \u001b[1mLvl_0_Pipe_0_Mod_4_XGBoost\u001b[0m fitting and predicting completed\n",
      "[09:50:27] Start hyperparameters optimization for \u001b[1mLvl_0_Pipe_0_Mod_5_Tuned_XGBoost\u001b[0m ... Time budget is 300.00 secs\n"
     ]
    },
    {
     "name": "stderr",
     "output_type": "stream",
     "text": [
      "Optimization Progress:  74%|███████▍  | 75/101 [05:00<01:44,  4.01s/it, best_trial=62, best_value=-0.0892]"
     ]
    },
    {
     "name": "stdout",
     "output_type": "stream",
     "text": [
      "[09:55:28] Hyperparameters optimization for \u001b[1mLvl_0_Pipe_0_Mod_5_Tuned_XGBoost\u001b[0m completed\n",
      "[09:55:28] Start fitting \u001b[1mLvl_0_Pipe_0_Mod_5_Tuned_XGBoost\u001b[0m ...\n"
     ]
    },
    {
     "name": "stderr",
     "output_type": "stream",
     "text": [
      "\n"
     ]
    },
    {
     "name": "stdout",
     "output_type": "stream",
     "text": [
      "[09:55:45] Fitting \u001b[1mLvl_0_Pipe_0_Mod_5_Tuned_XGBoost\u001b[0m finished. score = \u001b[1m-0.08647654741822376\u001b[0m\n",
      "[09:55:45] \u001b[1mLvl_0_Pipe_0_Mod_5_Tuned_XGBoost\u001b[0m fitting and predicting completed\n",
      "[09:55:45] Time left 1517.01 secs\n",
      "\n",
      "[09:55:45] \u001b[1mLayer 1 training completed.\u001b[0m\n",
      "\n",
      "[09:55:45] Blending: optimization starts with equal weights. Score = \u001b[1m-0.0858584\u001b[0m\n",
      "[09:55:45] Blending: iteration \u001b[1m0\u001b[0m: score = \u001b[1m-0.0838886\u001b[0m, weights = \u001b[1m[0.         0.09481356 0.2075879  0.4639307  0.         0.23366785]\u001b[0m\n",
      "[09:55:45] Blending: iteration \u001b[1m1\u001b[0m: score = \u001b[1m-0.0838767\u001b[0m, weights = \u001b[1m[0.         0.11785799 0.14909028 0.49698377 0.         0.23606797]\u001b[0m\n",
      "[09:55:45] Blending: iteration \u001b[1m2\u001b[0m: score = \u001b[1m-0.0838766\u001b[0m, weights = \u001b[1m[0.         0.11354512 0.15230499 0.4977283  0.         0.23642163]\u001b[0m\n",
      "[09:55:45] Blending: no improvements for score. Terminated.\n",
      "\n",
      "[09:55:45] Blending: best score = \u001b[1m-0.0838766\u001b[0m, best weights = \u001b[1m[0.         0.11354512 0.15230499 0.4977283  0.         0.23642163]\u001b[0m\n",
      "[09:55:46] \u001b[1mAutoml preset training completed in 644.71 seconds\u001b[0m\n",
      "\n",
      "[09:55:46] Model description:\n",
      "Final prediction for new objects (level 0) = \n",
      "\t 0.11355 * (5 averaged models Lvl_0_Pipe_0_Mod_1_Tuned_LightGBM) +\n",
      "\t 0.15230 * (5 averaged models Lvl_0_Pipe_0_Mod_2_CatBoost) +\n",
      "\t 0.49773 * (5 averaged models Lvl_0_Pipe_0_Mod_3_Tuned_CatBoost) +\n",
      "\t 0.23642 * (5 averaged models Lvl_0_Pipe_0_Mod_5_Tuned_XGBoost) \n",
      "\n",
      "[09:55:46] ==================================================\n",
      "[09:55:46] Start 3 automl preset configuration:\n",
      "[09:55:46] \u001b[1mc:\\Users\\User\\skillbox\\HOMEWORKS\\HWs\\Lib\\site-packages\\lightautoml\\automl\\presets\\tabular_configs\\conf_3_sel_type_1_no_inter_lgbm.yml\u001b[0m, random state: {'reader_params': {'random_state': 45}, 'nn_params': {'random_state': 45}, 'general_params': {'return_all_predictions': False}}\n",
      "[09:55:46] Stdout logging level is INFO.\n",
      "[09:55:46] Task: reg\n",
      "\n",
      "[09:55:46] Start automl preset with listed constraints:\n",
      "[09:55:46] - time: 1516.76 seconds\n",
      "[09:55:46] - CPU: 4 cores\n",
      "[09:55:46] - memory: 16 GB\n",
      "\n",
      "[09:55:46] \u001b[1mTrain data shape: (1460, 91)\u001b[0m\n",
      "\n",
      "[09:56:13] Layer \u001b[1m1\u001b[0m train process start. Time left 1489.03 secs\n",
      "[09:56:15] \u001b[1mSelector_LightGBM\u001b[0m fitting and predicting completed\n",
      "[09:56:15] Start fitting \u001b[1mLvl_0_Pipe_0_Mod_0_LightGBM\u001b[0m ...\n",
      "[09:56:21] Fitting \u001b[1mLvl_0_Pipe_0_Mod_0_LightGBM\u001b[0m finished. score = \u001b[1m-0.0869413873318074\u001b[0m\n",
      "[09:56:21] \u001b[1mLvl_0_Pipe_0_Mod_0_LightGBM\u001b[0m fitting and predicting completed\n",
      "[09:56:21] Start hyperparameters optimization for \u001b[1mLvl_0_Pipe_0_Mod_1_Tuned_LightGBM\u001b[0m ... Time budget is 224.46 secs\n"
     ]
    },
    {
     "name": "stderr",
     "output_type": "stream",
     "text": [
      "Optimization Progress: 100%|██████████| 101/101 [01:47<00:00,  1.06s/it, best_trial=7, best_value=-0.0857]"
     ]
    },
    {
     "name": "stdout",
     "output_type": "stream",
     "text": [
      "[09:58:08] Hyperparameters optimization for \u001b[1mLvl_0_Pipe_0_Mod_1_Tuned_LightGBM\u001b[0m completed\n",
      "[09:58:08] Start fitting \u001b[1mLvl_0_Pipe_0_Mod_1_Tuned_LightGBM\u001b[0m ...\n"
     ]
    },
    {
     "name": "stderr",
     "output_type": "stream",
     "text": [
      "\n"
     ]
    },
    {
     "name": "stdout",
     "output_type": "stream",
     "text": [
      "[09:58:09] Fitting \u001b[1mLvl_0_Pipe_0_Mod_1_Tuned_LightGBM\u001b[0m finished. score = \u001b[1m-0.08528953340261787\u001b[0m\n",
      "[09:58:09] \u001b[1mLvl_0_Pipe_0_Mod_1_Tuned_LightGBM\u001b[0m fitting and predicting completed\n",
      "[09:58:09] Start fitting \u001b[1mLvl_0_Pipe_0_Mod_2_CatBoost\u001b[0m ...\n",
      "[09:58:16] Fitting \u001b[1mLvl_0_Pipe_0_Mod_2_CatBoost\u001b[0m finished. score = \u001b[1m-0.08312147336737552\u001b[0m\n",
      "[09:58:16] \u001b[1mLvl_0_Pipe_0_Mod_2_CatBoost\u001b[0m fitting and predicting completed\n",
      "[09:58:16] Start hyperparameters optimization for \u001b[1mLvl_0_Pipe_0_Mod_3_Tuned_CatBoost\u001b[0m ... Time budget is 300.00 secs\n"
     ]
    },
    {
     "name": "stderr",
     "output_type": "stream",
     "text": [
      "Optimization Progress: 100%|██████████| 101/101 [01:25<00:00,  1.18it/s, best_trial=78, best_value=-0.0847]"
     ]
    },
    {
     "name": "stdout",
     "output_type": "stream",
     "text": [
      "[09:59:42] Hyperparameters optimization for \u001b[1mLvl_0_Pipe_0_Mod_3_Tuned_CatBoost\u001b[0m completed\n",
      "[09:59:42] Start fitting \u001b[1mLvl_0_Pipe_0_Mod_3_Tuned_CatBoost\u001b[0m ...\n"
     ]
    },
    {
     "name": "stderr",
     "output_type": "stream",
     "text": [
      "\n"
     ]
    },
    {
     "name": "stdout",
     "output_type": "stream",
     "text": [
      "[09:59:45] Fitting \u001b[1mLvl_0_Pipe_0_Mod_3_Tuned_CatBoost\u001b[0m finished. score = \u001b[1m-0.08312384620127242\u001b[0m\n",
      "[09:59:45] \u001b[1mLvl_0_Pipe_0_Mod_3_Tuned_CatBoost\u001b[0m fitting and predicting completed\n",
      "[09:59:45] Start fitting \u001b[1mLvl_0_Pipe_0_Mod_4_XGBoost\u001b[0m ...\n",
      "[09:59:47] Fitting \u001b[1mLvl_0_Pipe_0_Mod_4_XGBoost\u001b[0m finished. score = \u001b[1m-0.09445046326085739\u001b[0m\n",
      "[09:59:47] \u001b[1mLvl_0_Pipe_0_Mod_4_XGBoost\u001b[0m fitting and predicting completed\n",
      "[09:59:47] Start hyperparameters optimization for \u001b[1mLvl_0_Pipe_0_Mod_5_Tuned_XGBoost\u001b[0m ... Time budget is 300.00 secs\n"
     ]
    },
    {
     "name": "stderr",
     "output_type": "stream",
     "text": [
      "Optimization Progress:  96%|█████████▌| 97/101 [05:02<00:12,  3.12s/it, best_trial=78, best_value=-0.0869]"
     ]
    },
    {
     "name": "stdout",
     "output_type": "stream",
     "text": [
      "[10:04:49] Hyperparameters optimization for \u001b[1mLvl_0_Pipe_0_Mod_5_Tuned_XGBoost\u001b[0m completed\n",
      "[10:04:49] Start fitting \u001b[1mLvl_0_Pipe_0_Mod_5_Tuned_XGBoost\u001b[0m ...\n"
     ]
    },
    {
     "name": "stderr",
     "output_type": "stream",
     "text": [
      "\n"
     ]
    },
    {
     "name": "stdout",
     "output_type": "stream",
     "text": [
      "[10:05:09] Fitting \u001b[1mLvl_0_Pipe_0_Mod_5_Tuned_XGBoost\u001b[0m finished. score = \u001b[1m-0.08353957298424386\u001b[0m\n",
      "[10:05:09] \u001b[1mLvl_0_Pipe_0_Mod_5_Tuned_XGBoost\u001b[0m fitting and predicting completed\n",
      "[10:05:09] Time left 953.81 secs\n",
      "\n",
      "[10:05:09] \u001b[1mLayer 1 training completed.\u001b[0m\n",
      "\n",
      "[10:05:09] Blending: optimization starts with equal weights. Score = \u001b[1m-0.0820359\u001b[0m\n",
      "[10:05:09] Blending: iteration \u001b[1m0\u001b[0m: score = \u001b[1m-0.0813357\u001b[0m, weights = \u001b[1m[0.         0.11999322 0.31502226 0.25205225 0.         0.31293225]\u001b[0m\n",
      "[10:05:09] Blending: iteration \u001b[1m1\u001b[0m: score = \u001b[1m-0.0813040\u001b[0m, weights = \u001b[1m[0.         0.19382097 0.25569335 0.26605093 0.         0.28443477]\u001b[0m\n",
      "[10:05:09] Blending: iteration \u001b[1m2\u001b[0m: score = \u001b[1m-0.0813024\u001b[0m, weights = \u001b[1m[0.         0.20127755 0.2500185  0.26925096 0.         0.279453  ]\u001b[0m\n",
      "[10:05:09] Blending: iteration \u001b[1m3\u001b[0m: score = \u001b[1m-0.0813012\u001b[0m, weights = \u001b[1m[0.         0.2079625  0.24319157 0.27475804 0.         0.27408788]\u001b[0m\n",
      "[10:05:09] Blending: iteration \u001b[1m4\u001b[0m: score = \u001b[1m-0.0813010\u001b[0m, weights = \u001b[1m[0.         0.2114923  0.24220954 0.2736485  0.         0.2726497 ]\u001b[0m\n",
      "[10:05:09] Blending: best score = \u001b[1m-0.0813010\u001b[0m, best weights = \u001b[1m[0.         0.2114923  0.24220954 0.2736485  0.         0.2726497 ]\u001b[0m\n",
      "[10:05:09] \u001b[1mAutoml preset training completed in 563.09 seconds\u001b[0m\n",
      "\n",
      "[10:05:09] Model description:\n",
      "Final prediction for new objects (level 0) = \n",
      "\t 0.21149 * (5 averaged models Lvl_0_Pipe_0_Mod_1_Tuned_LightGBM) +\n",
      "\t 0.24221 * (5 averaged models Lvl_0_Pipe_0_Mod_2_CatBoost) +\n",
      "\t 0.27365 * (5 averaged models Lvl_0_Pipe_0_Mod_3_Tuned_CatBoost) +\n",
      "\t 0.27265 * (5 averaged models Lvl_0_Pipe_0_Mod_5_Tuned_XGBoost) \n",
      "\n",
      "[10:05:09] ==================================================\n",
      "[10:05:09] Start 4 automl preset configuration:\n",
      "[10:05:09] \u001b[1mc:\\Users\\User\\skillbox\\HOMEWORKS\\HWs\\Lib\\site-packages\\lightautoml\\automl\\presets\\tabular_configs\\conf_4_sel_type_0_no_int.yml\u001b[0m, random state: {'reader_params': {'random_state': 46}, 'nn_params': {'random_state': 46}, 'general_params': {'return_all_predictions': False}}\n",
      "[10:05:09] Stdout logging level is INFO.\n",
      "[10:05:09] Task: reg\n",
      "\n",
      "[10:05:09] Start automl preset with listed constraints:\n",
      "[10:05:09] - time: 953.58 seconds\n",
      "[10:05:09] - CPU: 4 cores\n",
      "[10:05:09] - memory: 16 GB\n",
      "\n",
      "[10:05:09] \u001b[1mTrain data shape: (1460, 91)\u001b[0m\n",
      "\n",
      "[10:05:14] Layer \u001b[1m1\u001b[0m train process start. Time left 948.62 secs\n",
      "[10:05:14] Start fitting \u001b[1mLvl_0_Pipe_0_Mod_0_LightGBM\u001b[0m ...\n",
      "[10:05:20] Fitting \u001b[1mLvl_0_Pipe_0_Mod_0_LightGBM\u001b[0m finished. score = \u001b[1m-0.08781009495600443\u001b[0m\n",
      "[10:05:20] \u001b[1mLvl_0_Pipe_0_Mod_0_LightGBM\u001b[0m fitting and predicting completed\n",
      "[10:05:20] Start hyperparameters optimization for \u001b[1mLvl_0_Pipe_0_Mod_1_Tuned_LightGBM\u001b[0m ... Time budget is 148.35 secs\n"
     ]
    },
    {
     "name": "stderr",
     "output_type": "stream",
     "text": [
      "Optimization Progress: 100%|██████████| 101/101 [01:53<00:00,  1.12s/it, best_trial=50, best_value=-0.0761]"
     ]
    },
    {
     "name": "stdout",
     "output_type": "stream",
     "text": [
      "[10:07:13] Hyperparameters optimization for \u001b[1mLvl_0_Pipe_0_Mod_1_Tuned_LightGBM\u001b[0m completed\n",
      "[10:07:13] Start fitting \u001b[1mLvl_0_Pipe_0_Mod_1_Tuned_LightGBM\u001b[0m ...\n"
     ]
    },
    {
     "name": "stderr",
     "output_type": "stream",
     "text": [
      "\n"
     ]
    },
    {
     "name": "stdout",
     "output_type": "stream",
     "text": [
      "[10:07:15] Fitting \u001b[1mLvl_0_Pipe_0_Mod_1_Tuned_LightGBM\u001b[0m finished. score = \u001b[1m-0.08400174487554221\u001b[0m\n",
      "[10:07:15] \u001b[1mLvl_0_Pipe_0_Mod_1_Tuned_LightGBM\u001b[0m fitting and predicting completed\n",
      "[10:07:15] Start fitting \u001b[1mLvl_0_Pipe_0_Mod_2_CatBoost\u001b[0m ...\n",
      "[10:07:28] Fitting \u001b[1mLvl_0_Pipe_0_Mod_2_CatBoost\u001b[0m finished. score = \u001b[1m-0.08242643274393793\u001b[0m\n",
      "[10:07:28] \u001b[1mLvl_0_Pipe_0_Mod_2_CatBoost\u001b[0m fitting and predicting completed\n",
      "[10:07:28] Start hyperparameters optimization for \u001b[1mLvl_0_Pipe_0_Mod_3_Tuned_CatBoost\u001b[0m ... Time budget is 300.00 secs\n"
     ]
    },
    {
     "name": "stderr",
     "output_type": "stream",
     "text": [
      "Optimization Progress: 100%|██████████| 101/101 [02:23<00:00,  1.42s/it, best_trial=99, best_value=-0.0758]"
     ]
    },
    {
     "name": "stdout",
     "output_type": "stream",
     "text": [
      "[10:09:51] Hyperparameters optimization for \u001b[1mLvl_0_Pipe_0_Mod_3_Tuned_CatBoost\u001b[0m completed\n",
      "[10:09:51] Start fitting \u001b[1mLvl_0_Pipe_0_Mod_3_Tuned_CatBoost\u001b[0m ...\n"
     ]
    },
    {
     "name": "stderr",
     "output_type": "stream",
     "text": [
      "\n"
     ]
    },
    {
     "name": "stdout",
     "output_type": "stream",
     "text": [
      "[10:09:59] Fitting \u001b[1mLvl_0_Pipe_0_Mod_3_Tuned_CatBoost\u001b[0m finished. score = \u001b[1m-0.08118514234370212\u001b[0m\n",
      "[10:09:59] \u001b[1mLvl_0_Pipe_0_Mod_3_Tuned_CatBoost\u001b[0m fitting and predicting completed\n",
      "[10:09:59] Start fitting \u001b[1mLvl_0_Pipe_0_Mod_4_XGBoost\u001b[0m ...\n",
      "[10:10:01] Fitting \u001b[1mLvl_0_Pipe_0_Mod_4_XGBoost\u001b[0m finished. score = \u001b[1m-0.09618952579565847\u001b[0m\n",
      "[10:10:01] \u001b[1mLvl_0_Pipe_0_Mod_4_XGBoost\u001b[0m fitting and predicting completed\n",
      "[10:10:01] Start hyperparameters optimization for \u001b[1mLvl_0_Pipe_0_Mod_5_Tuned_XGBoost\u001b[0m ... Time budget is 300.00 secs\n"
     ]
    },
    {
     "name": "stderr",
     "output_type": "stream",
     "text": [
      "Optimization Progress:  77%|███████▋  | 78/101 [05:02<01:29,  3.88s/it, best_trial=32, best_value=-0.0787]"
     ]
    },
    {
     "name": "stdout",
     "output_type": "stream",
     "text": [
      "[10:15:03] Hyperparameters optimization for \u001b[1mLvl_0_Pipe_0_Mod_5_Tuned_XGBoost\u001b[0m completed\n",
      "[10:15:03] Start fitting \u001b[1mLvl_0_Pipe_0_Mod_5_Tuned_XGBoost\u001b[0m ...\n"
     ]
    },
    {
     "name": "stderr",
     "output_type": "stream",
     "text": [
      "\n"
     ]
    },
    {
     "name": "stdout",
     "output_type": "stream",
     "text": [
      "[10:15:33] Fitting \u001b[1mLvl_0_Pipe_0_Mod_5_Tuned_XGBoost\u001b[0m finished. score = \u001b[1m-0.08434325581959703\u001b[0m\n",
      "[10:15:33] \u001b[1mLvl_0_Pipe_0_Mod_5_Tuned_XGBoost\u001b[0m fitting and predicting completed\n",
      "[10:15:33] Time left 328.91 secs\n",
      "\n",
      "[10:15:33] \u001b[1mLayer 1 training completed.\u001b[0m\n",
      "\n",
      "[10:15:33] Blending: optimization starts with equal weights. Score = \u001b[1m-0.0815719\u001b[0m\n",
      "[10:15:33] Blending: iteration \u001b[1m0\u001b[0m: score = \u001b[1m-0.0803417\u001b[0m, weights = \u001b[1m[0.         0.12913248 0.23610245 0.44022688 0.0525723  0.1419659 ]\u001b[0m\n",
      "[10:15:34] Blending: iteration \u001b[1m1\u001b[0m: score = \u001b[1m-0.0802377\u001b[0m, weights = \u001b[1m[0.         0.22405995 0.1397838  0.47622278 0.05287758 0.1070558 ]\u001b[0m\n",
      "[10:15:34] Blending: iteration \u001b[1m2\u001b[0m: score = \u001b[1m-0.0802233\u001b[0m, weights = \u001b[1m[0.         0.24770933 0.09787798 0.5003083  0.05095039 0.10315401]\u001b[0m\n",
      "[10:15:34] Blending: no improvements for score. Terminated.\n",
      "\n",
      "[10:15:34] Blending: best score = \u001b[1m-0.0802233\u001b[0m, best weights = \u001b[1m[0.         0.24770933 0.09787798 0.5003083  0.05095039 0.10315401]\u001b[0m\n",
      "[10:15:34] \u001b[1mAutoml preset training completed in 624.86 seconds\u001b[0m\n",
      "\n",
      "[10:15:34] Model description:\n",
      "Final prediction for new objects (level 0) = \n",
      "\t 0.24771 * (5 averaged models Lvl_0_Pipe_0_Mod_1_Tuned_LightGBM) +\n",
      "\t 0.09788 * (5 averaged models Lvl_0_Pipe_0_Mod_2_CatBoost) +\n",
      "\t 0.50031 * (5 averaged models Lvl_0_Pipe_0_Mod_3_Tuned_CatBoost) +\n",
      "\t 0.05095 * (5 averaged models Lvl_0_Pipe_0_Mod_4_XGBoost) +\n",
      "\t 0.10315 * (5 averaged models Lvl_0_Pipe_0_Mod_5_Tuned_XGBoost) \n",
      "\n",
      "[10:15:34] ==================================================\n",
      "[10:15:34] Blending: optimization starts with equal weights. Score = \u001b[1m-0.0800649\u001b[0m\n",
      "[10:15:34] Blending: iteration \u001b[1m0\u001b[0m: score = \u001b[1m-0.0794324\u001b[0m, weights = \u001b[1m[0.23354758 0.17012194 0.         0.10597377 0.49035665]\u001b[0m\n",
      "[10:15:34] Blending: iteration \u001b[1m1\u001b[0m: score = \u001b[1m-0.0794016\u001b[0m, weights = \u001b[1m[0.16767779 0.17775    0.         0.16637398 0.48819822]\u001b[0m\n",
      "[10:15:34] Blending: iteration \u001b[1m2\u001b[0m: score = \u001b[1m-0.0793997\u001b[0m, weights = \u001b[1m[0.14253122 0.1772617  0.         0.18789941 0.4923077 ]\u001b[0m\n",
      "[10:15:34] Blending: no improvements for score. Terminated.\n",
      "\n",
      "[10:15:34] Blending: best score = \u001b[1m-0.0793997\u001b[0m, best weights = \u001b[1m[0.14253122 0.1772617  0.         0.18789941 0.4923077 ]\u001b[0m\n"
     ]
    }
   ],
   "source": [
    "oof_pred_ut = automl_ut.fit_predict(train_df_fe, roles = roles, verbose = 1)"
   ]
  },
  {
   "cell_type": "code",
   "execution_count": 16,
   "metadata": {},
   "outputs": [
    {
     "name": "stdout",
     "output_type": "stream",
     "text": [
      "MAE on train: 0.07939973747000961\n",
      "MAE on test: 0.042922088497490615\n"
     ]
    }
   ],
   "source": [
    "get_mae(automl_ut, oof_pred_ut, train_df_fe, test_df_fe)"
   ]
  },
  {
   "cell_type": "markdown",
   "metadata": {},
   "source": [
    "**Ох.Ре.Не.Ть.**"
   ]
  },
  {
   "cell_type": "code",
   "execution_count": 18,
   "metadata": {},
   "outputs": [
    {
     "data": {
      "image/png": "[encoded data removed]",
      "text/plain": [
       "<Figure size 3000x1000 with 1 Axes>"
      ]
     },
     "metadata": {},
     "output_type": "display_data"
    }
   ],
   "source": [
    "fast_fi = automl_ut.get_feature_scores('fast', test_df_fe, silent=True)\n",
    "fast_fi.set_index('Feature')['Importance'].plot.bar(figsize = (30, 10), grid = True);"
   ]
  },
  {
   "cell_type": "code",
   "execution_count": 17,
   "metadata": {},
   "outputs": [
    {
     "name": "stdout",
     "output_type": "stream",
     "text": [
      "Final prediction for new objects = \n",
      "\t0.14253 * 1 averaged models with config = \"c:\\Users\\User\\skillbox\\HOMEWORKS\\HWs\\Lib\\site-packages\\lightautoml\\automl\\presets\\tabular_configs\\conf_0_sel_type_0.yml\" and different CV random_states. Their structures: \n",
      "\n",
      "\t    Model #0.\n",
      "\t\t================================================================================\n",
      "\t\tFinal prediction for new objects (level 0) = \n",
      "\t\t\t 0.19420 * (5 averaged models Lvl_0_Pipe_0_Mod_1_Tuned_LightGBM) +\n",
      "\t\t\t 0.15300 * (5 averaged models Lvl_0_Pipe_0_Mod_2_CatBoost) +\n",
      "\t\t\t 0.52202 * (5 averaged models Lvl_0_Pipe_0_Mod_3_Tuned_CatBoost) +\n",
      "\t\t\t 0.13079 * (5 averaged models Lvl_0_Pipe_0_Mod_5_Tuned_XGBoost) \n",
      "\t\t================================================================================\n",
      "\n",
      "\n",
      "\t+ 0.17726 * 1 averaged models with config = \"c:\\Users\\User\\skillbox\\HOMEWORKS\\HWs\\Lib\\site-packages\\lightautoml\\automl\\presets\\tabular_configs\\conf_1_sel_type_1.yml\" and different CV random_states. Their structures: \n",
      "\n",
      "\t    Model #0.\n",
      "\t\t================================================================================\n",
      "\t\tFinal prediction for new objects (level 0) = \n",
      "\t\t\t 0.19771 * (5 averaged models Lvl_0_Pipe_0_Mod_1_Tuned_LightGBM) +\n",
      "\t\t\t 0.23900 * (5 averaged models Lvl_0_Pipe_0_Mod_2_CatBoost) +\n",
      "\t\t\t 0.31232 * (5 averaged models Lvl_0_Pipe_0_Mod_3_Tuned_CatBoost) +\n",
      "\t\t\t 0.25098 * (5 averaged models Lvl_0_Pipe_0_Mod_5_Tuned_XGBoost) \n",
      "\t\t================================================================================\n",
      "\n",
      "\n",
      "\t+ 0.18790 * 1 averaged models with config = \"c:\\Users\\User\\skillbox\\HOMEWORKS\\HWs\\Lib\\site-packages\\lightautoml\\automl\\presets\\tabular_configs\\conf_3_sel_type_1_no_inter_lgbm.yml\" and different CV random_states. Their structures: \n",
      "\n",
      "\t    Model #0.\n",
      "\t\t================================================================================\n",
      "\t\tFinal prediction for new objects (level 0) = \n",
      "\t\t\t 0.21149 * (5 averaged models Lvl_0_Pipe_0_Mod_1_Tuned_LightGBM) +\n",
      "\t\t\t 0.24221 * (5 averaged models Lvl_0_Pipe_0_Mod_2_CatBoost) +\n",
      "\t\t\t 0.27365 * (5 averaged models Lvl_0_Pipe_0_Mod_3_Tuned_CatBoost) +\n",
      "\t\t\t 0.27265 * (5 averaged models Lvl_0_Pipe_0_Mod_5_Tuned_XGBoost) \n",
      "\t\t================================================================================\n",
      "\n",
      "\n",
      "\t+ 0.49231 * 1 averaged models with config = \"c:\\Users\\User\\skillbox\\HOMEWORKS\\HWs\\Lib\\site-packages\\lightautoml\\automl\\presets\\tabular_configs\\conf_4_sel_type_0_no_int.yml\" and different CV random_states. Their structures: \n",
      "\n",
      "\t    Model #0.\n",
      "\t\t================================================================================\n",
      "\t\tFinal prediction for new objects (level 0) = \n",
      "\t\t\t 0.24771 * (5 averaged models Lvl_0_Pipe_0_Mod_1_Tuned_LightGBM) +\n",
      "\t\t\t 0.09788 * (5 averaged models Lvl_0_Pipe_0_Mod_2_CatBoost) +\n",
      "\t\t\t 0.50031 * (5 averaged models Lvl_0_Pipe_0_Mod_3_Tuned_CatBoost) +\n",
      "\t\t\t 0.05095 * (5 averaged models Lvl_0_Pipe_0_Mod_4_XGBoost) +\n",
      "\t\t\t 0.10315 * (5 averaged models Lvl_0_Pipe_0_Mod_5_Tuned_XGBoost) \n",
      "\t\t================================================================================\n",
      "\n",
      "\n",
      "\n"
     ]
    }
   ],
   "source": [
    "print(automl_ut.create_model_str_desc())\n",
    "playsound()"
   ]
  },
  {
   "cell_type": "markdown",
   "metadata": {},
   "source": [
    "# 4. Выводы по проделанной работе  \n",
    "\n",
    "<br>  \n",
    "  \n",
    "1. **Эффективность создания новых фичей**:\n",
    "   - Изначально, без создания новых фичей, модель **TabularAutoML** показала MAE ≈16000, что является достаточно высоким значением ошибки.\n",
    "   - После добавления новых фичей, MAE снизилось до **8368.85595301798**, что свидетельствует о значительном улучшении качества модели. Это подтверждает важность генерации новых признаков для повышения точности предсказаний.\n",
    "\n",
    "<br>  \n",
    "\n",
    "2. **Использование TabularUtilizedAutoML**:\n",
    "   - Переход на **TabularUtilizedAutoML** позволил дополнительно снизить MAE до **6293.234658604452**. Это говорит о том, что данная версия модели лучше справляется с задачей регрессии, возможно, за счёт более эффективного использования данных или улучшенных алгоритмов.\n",
    "\n",
    "<br>  \n",
    "\n",
    "3. **Логарифмирование таргета**:\n",
    "   - После логарифмирования целевой переменной, MAE на кросс-валидации составило **0.042922088497490615**. Это значительное улучшение метрики, что указывает на то, что логарифмирование таргета помогло модели лучше справляться с задачей, особенно если исходное распределение целевой переменной было скошено или имело выбросы. Логарифмирование, вероятно, сделало данные более \"удобными\" для модели, уменьшив влияние экстремальных значений.\n",
    "\n",
    "<br>\n",
    "\n",
    "4. **Общие наблюдения**:\n",
    "   - Каждый этап улучшения (создание новых фичей, использование более продвинутой модели, логарифмирование таргета) вносил значительный вклад в снижение ошибки. Это подчеркивает важность тщательной предобработки данных и выбора подходящих методов моделирования.\n",
    "   - Логарифмирование таргета оказалось особенно эффективным, что может быть полезным приёмом в задачах регрессии, где целевая переменная имеет широкий диапазон значений или асимметричное распределение.\n",
    "\n",
    "<br>\n",
    "\n",
    "В целом, проделанная работа демонстрирует, что тщательная предобработка данных и выбор подходящих методов моделирования могут значительно улучшить качество предсказаний в задачах регрессии."
   ]
  },
  {
   "cell_type": "markdown",
   "metadata": {},
   "source": []
  }
 ],
 "metadata": {
  "kernelspec": {
   "display_name": "HWs",
   "language": "python",
   "name": "python3"
  },
  "language_info": {
   "codemirror_mode": {
    "name": "ipython",
    "version": 3
   },
   "file_extension": ".py",
   "mimetype": "text/x-python",
   "name": "python",
   "nbconvert_exporter": "python",
   "pygments_lexer": "ipython3",
   "version": "3.11.0"
  }
 },
 "nbformat": 4,
 "nbformat_minor": 2
}
