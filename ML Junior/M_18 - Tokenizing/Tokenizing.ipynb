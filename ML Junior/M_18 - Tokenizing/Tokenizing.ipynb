{
  "cells": [
    {
      "cell_type": "markdown",
      "id": "3fc2cf5e",
      "metadata": {
        "id": "3fc2cf5e"
      },
      "source": [
        "# Модуль 18. Практическая работа\n",
        "\n",
        "## Цели работы\n",
        "\n",
        "- Попрактиковаться в предобработке текстовых данных (токенизация, лемматизация, векторизация).\n",
        "\n",
        "- Построить две модели классификации с разными способами векторизации текстов (`CountVectorizer` и `TfIdfVectorizer`).\n",
        "- Сравнить качество моделей.\n",
        "\n",
        "## Что нужно сделать\n",
        "\n",
        "1. Загрузите датасет из файла, приложенного к заданию (`m18_jokes_dataset.csv`).\n",
        "\n",
        "1. Закодируйте целевую переменную с помощью `LabelEncoder`.\n",
        "1. Разделите выборку на тренировочную и тестовую.\n",
        "1. Используя знания из модуля, подготовьте функцию `preprocess`, которая:\n",
        "- удаляет стоп-слова в соответствии со списком `nltk.corpus.stopwords`;\n",
        "- приводит слова к нормальной форме с помощью `pymorphy2`.\n",
        "5. Создайте экзепляры векторизаторов `CountVectorizer` и `TfIdfVectorizer`. В качестве функции предобработки данных оба должны использовать функцию `preprocess`.\n",
        "\n",
        "1. Векторизуйте признаки тренировочной и тестовой выборок. Сохраните результаты `CountVectorizer` в `X_train_count` и `X_test_count`, а результаты `TfIdfVectorizer` – в `X_train_tfidf` и `X_test_tfidf`.\n",
        "1. Обучите две модели классификации, например `LinearSVC`.\n",
        "1. Оцените работу обеих моделей на тестовой выборке, используя `f1_score` с методом усреднения `macro` (параметр `average='macro'`) – это арифметическое среднее f1-метрик, рассчитанных для каждого класса. \n",
        "\n",
        "## Что оценивается\n",
        "\n",
        "- Все шаги выполнены правильно.\n",
        "\n",
        "- Код решения соответствует референсному коду, который есть у куратора. \n",
        "- Обучены две модели, которые используют текстовые данные, обработанные разными векторизаторами (`CountVectorizer` и `TfIdfVectorizer`). Для обеих моделей вычислен усреднённый `f1_score` (метод усреднения — `macro`). \n",
        "\n",
        "## Информация о задаче\n",
        "\n",
        "### Описание датасета\n",
        "\n",
        "`m18_jokes_dataset.csv` – датасет, подготовленный на основе датасета, размещённого [на kaggle](https://www.kaggle.com/datasets/konstantinalbul/russian-jokes). Наш датасет содержит две колонки:\n",
        "\n",
        "- **text** — текст анекдота (скорее всего, несмешного, но ваша задача не смеяться, а решить задачу классификации);\n",
        "\n",
        "- **theme** — категория, к которой относится шутка. \n",
        "\n",
        "Датасет содержит данные для задачи многоклассовой классификации. В отличие от оригинального датасета, в нашем классов меньше, зато они идеально сбалансированы: в каждом ровно тысяча примеров. Так вам будет проще сконцентрироваться на текстовых данных.\n",
        "\n",
        "### Порядок выполнения \n",
        "\n",
        "Напишите весь необходимый код в ячейках ниже.\n",
        "\n",
        "### Рекомендации\n",
        "\n",
        "- Обратите внимание, что модели sklearn (например, `LinearSVC`) умеют работать с разреженными матрицами (`scipy.sparse._csr.csr_matrix`), которые возвращают методы и `fit_transform` и `transform` векторизаторов `CountVectorizer` и `TfIdfVectorizer`.\n",
        "\n",
        "- Когда подготавливаете векторизатор, вызывайте `fit_transform` на тренировочной выборке, а потом `fit` на тестовой, примерно так:\n",
        "    > X_train_count = count_vectorizer.fit_transform(X_train)\n",
        "    >\n",
        "    > X_test_count = count_vectorizer.transform(X_test)\n",
        "\n",
        "Затем используйте полученные результаты для обучения и контроля моделей `sklearn`."
      ]
    },
    {
      "cell_type": "code",
      "execution_count": 8,
      "id": "398d32d2",
      "metadata": {
        "id": "398d32d2"
      },
      "outputs": [],
      "source": [
        "import pandas as pd\n",
        "import numpy as np\n",
        "import nltk\n",
        "import pymorphy2\n",
        "\n",
        "from sklearn.preprocessing import LabelEncoder\n",
        "from sklearn.svm import LinearSVC\n",
        "from sklearn.model_selection import train_test_split\n",
        "from sklearn.feature_extraction.text import TfidfVectorizer, CountVectorizer\n",
        "from sklearn.metrics import classification_report\n",
        "from sklearn.metrics import f1_score\n",
        "\n"
      ]
    },
    {
      "cell_type": "code",
      "execution_count": 2,
      "metadata": {},
      "outputs": [
        {
          "data": {
            "text/html": [
              "<div>\n",
              "<style scoped>\n",
              "    .dataframe tbody tr th:only-of-type {\n",
              "        vertical-align: middle;\n",
              "    }\n",
              "\n",
              "    .dataframe tbody tr th {\n",
              "        vertical-align: top;\n",
              "    }\n",
              "\n",
              "    .dataframe thead th {\n",
              "        text-align: right;\n",
              "    }\n",
              "</style>\n",
              "<table border=\"1\" class=\"dataframe\">\n",
              "  <thead>\n",
              "    <tr style=\"text-align: right;\">\n",
              "      <th></th>\n",
              "      <th>theme</th>\n",
              "      <th>text</th>\n",
              "    </tr>\n",
              "  </thead>\n",
              "  <tbody>\n",
              "    <tr>\n",
              "      <th>0</th>\n",
              "      <td>aforizmi</td>\n",
              "      <td>Почему удар в спину наносят те, кого,как прави...</td>\n",
              "    </tr>\n",
              "    <tr>\n",
              "      <th>1</th>\n",
              "      <td>aforizmi</td>\n",
              "      <td>Музы - пожалуй самые мудрые представительницы...</td>\n",
              "    </tr>\n",
              "    <tr>\n",
              "      <th>2</th>\n",
              "      <td>aforizmi</td>\n",
              "      <td>Тяжело бухать всю ночь, особенно если ночь пол...</td>\n",
              "    </tr>\n",
              "    <tr>\n",
              "      <th>3</th>\n",
              "      <td>aforizmi</td>\n",
              "      <td>ПОКУШЕНИЕ. НАЛИЧНОСТЬ.\\r\\n\\r\\n\\r\\n</td>\n",
              "    </tr>\n",
              "    <tr>\n",
              "      <th>4</th>\n",
              "      <td>aforizmi</td>\n",
              "      <td>Когда медленно танцуешь, ничего не мешает...\\r...</td>\n",
              "    </tr>\n",
              "  </tbody>\n",
              "</table>\n",
              "</div>"
            ],
            "text/plain": [
              "      theme                                               text\n",
              "0  aforizmi  Почему удар в спину наносят те, кого,как прави...\n",
              "1  aforizmi  Музы - пожалуй самые мудрые представительницы...\n",
              "2  aforizmi  Тяжело бухать всю ночь, особенно если ночь пол...\n",
              "3  aforizmi                 ПОКУШЕНИЕ. НАЛИЧНОСТЬ.\\r\\n\\r\\n\\r\\n\n",
              "4  aforizmi  Когда медленно танцуешь, ничего не мешает...\\r..."
            ]
          },
          "execution_count": 2,
          "metadata": {},
          "output_type": "execute_result"
        }
      ],
      "source": [
        "df = pd.read_csv('m18_jokes_dataset.csv')\n",
        "\n",
        "df.head()"
      ]
    },
    {
      "cell_type": "code",
      "execution_count": 3,
      "metadata": {},
      "outputs": [
        {
          "data": {
            "text/plain": [
              "theme\n",
              "aforizmi                 1000\n",
              "meditsinskie             1000\n",
              "narodnie                 1000\n",
              "poshlie-i-intimnie       1000\n",
              "pro-alkogolikov          1000\n",
              "pro-armiu                1000\n",
              "pro-detey                1000\n",
              "pro-evreev               1000\n",
              "pro-militsiyu            1000\n",
              "pro-mugchin              1000\n",
              "pro-novih-russkih        1000\n",
              "pro-semyu                1000\n",
              "pro-studentov            1000\n",
              "pro-vovochku             1000\n",
              "raznie                   1000\n",
              "shkolnie-i-pro-shkolu    1000\n",
              "tsitati                  1000\n",
              "dtype: int64"
            ]
          },
          "execution_count": 3,
          "metadata": {},
          "output_type": "execute_result"
        }
      ],
      "source": [
        "df.groupby('theme').size()"
      ]
    },
    {
      "cell_type": "code",
      "execution_count": 4,
      "metadata": {},
      "outputs": [
        {
          "data": {
            "text/html": [
              "<div>\n",
              "<style scoped>\n",
              "    .dataframe tbody tr th:only-of-type {\n",
              "        vertical-align: middle;\n",
              "    }\n",
              "\n",
              "    .dataframe tbody tr th {\n",
              "        vertical-align: top;\n",
              "    }\n",
              "\n",
              "    .dataframe thead th {\n",
              "        text-align: right;\n",
              "    }\n",
              "</style>\n",
              "<table border=\"1\" class=\"dataframe\">\n",
              "  <thead>\n",
              "    <tr style=\"text-align: right;\">\n",
              "      <th></th>\n",
              "      <th>theme</th>\n",
              "      <th>text</th>\n",
              "    </tr>\n",
              "  </thead>\n",
              "  <tbody>\n",
              "    <tr>\n",
              "      <th>1472</th>\n",
              "      <td>1</td>\n",
              "      <td>Пациент: Доктоp! Я плохо себя чувствую!\\r\\nВpа...</td>\n",
              "    </tr>\n",
              "    <tr>\n",
              "      <th>9207</th>\n",
              "      <td>9</td>\n",
              "      <td>Генерал и его адъютант пошли на охоту. Вошли в...</td>\n",
              "    </tr>\n",
              "    <tr>\n",
              "      <th>832</th>\n",
              "      <td>0</td>\n",
              "      <td>Тяжело ответить на тот вопрос, который не был...</td>\n",
              "    </tr>\n",
              "    <tr>\n",
              "      <th>6219</th>\n",
              "      <td>6</td>\n",
              "      <td>Стоят две проститутки на панели, одна говорит ...</td>\n",
              "    </tr>\n",
              "    <tr>\n",
              "      <th>1128</th>\n",
              "      <td>1</td>\n",
              "      <td>Сталкиваются два мерса:- А где запорожец?\\r\\n</td>\n",
              "    </tr>\n",
              "  </tbody>\n",
              "</table>\n",
              "</div>"
            ],
            "text/plain": [
              "      theme                                               text\n",
              "1472      1  Пациент: Доктоp! Я плохо себя чувствую!\\r\\nВpа...\n",
              "9207      9  Генерал и его адъютант пошли на охоту. Вошли в...\n",
              "832       0  Тяжело ответить на тот вопрос, который не был...\n",
              "6219      6  Стоят две проститутки на панели, одна говорит ...\n",
              "1128      1      Сталкиваются два мерса:- А где запорожец?\\r\\n"
            ]
          },
          "execution_count": 4,
          "metadata": {},
          "output_type": "execute_result"
        }
      ],
      "source": [
        "le = LabelEncoder()\n",
        "df['theme'] = le.fit_transform(df['theme'])\n",
        "\n",
        "df.sample(5)"
      ]
    },
    {
      "cell_type": "code",
      "execution_count": 5,
      "metadata": {},
      "outputs": [],
      "source": [
        "X_train, X_test, y_train, y_test = train_test_split(\n",
        "    df['text'], df['theme'],\n",
        "    test_size=0.2,\n",
        "    shuffle=True\n",
        ")"
      ]
    },
    {
      "cell_type": "code",
      "execution_count": 30,
      "metadata": {},
      "outputs": [],
      "source": [
        "from nltk.corpus import stopwords\n",
        "from pymorphy3 import MorphAnalyzer\n",
        "\n",
        "tokenizer = nltk.RegexpTokenizer('\\w+')\n",
        "russian_stopwords = stopwords.words('russian')\n",
        "morph = MorphAnalyzer()\n",
        "\n",
        "def preprocess(text):\n",
        "    stemmed_words = []\n",
        "    for word in tokenizer.tokenize(text):\n",
        "        word = word.lower()\n",
        "        if word not in russian_stopwords:\n",
        "            stemmed_words.append(morph.parse(word)[0].normal_form)\n",
        "    return ' '.join(stemmed_words)"
      ]
    },
    {
      "cell_type": "code",
      "execution_count": 31,
      "metadata": {},
      "outputs": [],
      "source": [
        "# Создаём векторизаторы с одинаковым препроцессингом\n",
        "\n",
        "count_vectorizer = CountVectorizer(\n",
        "    preprocessor=preprocess\n",
        ")\n",
        "\n",
        "tfidf_vectorizer = TfidfVectorizer(\n",
        "    preprocessor=preprocess\n",
        ")"
      ]
    },
    {
      "cell_type": "code",
      "execution_count": 32,
      "metadata": {},
      "outputs": [
        {
          "name": "stdout",
          "output_type": "stream",
          "text": [
            "CPU times: total: 13.7 s\n",
            "Wall time: 43.1 s\n"
          ]
        }
      ],
      "source": [
        "# Векторизуем текст, используя CountVectorizer\n",
        "X_train_count = count_vectorizer.fit_transform(X_train)\n",
        "X_test_count = count_vectorizer.transform(X_test)"
      ]
    },
    {
      "cell_type": "code",
      "execution_count": 33,
      "metadata": {},
      "outputs": [
        {
          "name": "stdout",
          "output_type": "stream",
          "text": [
            "CPU times: total: 15.2 s\n",
            "Wall time: 41.9 s\n"
          ]
        }
      ],
      "source": [
        "# Векторизуем текст, используя TfidfVectorizer\n",
        "X_train_tfidf = tfidf_vectorizer.fit_transform(X_train)\n",
        "X_test_tfidf = tfidf_vectorizer.transform(X_test)"
      ]
    },
    {
      "cell_type": "code",
      "execution_count": 35,
      "metadata": {},
      "outputs": [
        {
          "name": "stdout",
          "output_type": "stream",
          "text": [
            "0.600932136281302\n",
            "              precision    recall  f1-score   support\n",
            "\n",
            "           0       0.40      0.66      0.50       211\n",
            "           1       0.55      0.57      0.56       220\n",
            "           2       0.45      0.33      0.38       216\n",
            "           3       0.35      0.34      0.34       187\n",
            "           4       0.88      0.86      0.87       215\n",
            "           5       0.59      0.66      0.62       180\n",
            "           6       0.92      0.91      0.91       186\n",
            "           7       0.77      0.75      0.76       214\n",
            "           8       0.85      0.67      0.75       172\n",
            "           9       0.26      0.32      0.28       191\n",
            "          10       0.79      0.78      0.79       220\n",
            "          11       0.36      0.43      0.39       192\n",
            "          12       0.70      0.65      0.67       200\n",
            "          13       0.88      0.86      0.87       187\n",
            "          14       0.16      0.15      0.16       202\n",
            "          15       0.95      0.84      0.89       204\n",
            "          16       0.68      0.35      0.46       203\n",
            "\n",
            "    accuracy                           0.60      3400\n",
            "   macro avg       0.62      0.60      0.60      3400\n",
            "weighted avg       0.62      0.60      0.60      3400\n",
            "\n"
          ]
        }
      ],
      "source": [
        "svc_count = LinearSVC(max_iter=10000)\n",
        "\n",
        "svc_count.fit(X_train_count, y_train)\n",
        "\n",
        "y_pred_count = svc_count.predict(X_test_count)\n",
        "\n",
        "print(classification_report(y_test, y_pred_count))"
      ]
    },
    {
      "cell_type": "code",
      "execution_count": 36,
      "metadata": {},
      "outputs": [
        {
          "name": "stdout",
          "output_type": "stream",
          "text": [
            "              precision    recall  f1-score   support\n",
            "\n",
            "           0       0.39      0.37      0.38       211\n",
            "           1       0.58      0.66      0.62       220\n",
            "           2       0.52      0.48      0.50       216\n",
            "           3       0.40      0.49      0.44       187\n",
            "           4       0.88      0.88      0.88       215\n",
            "           5       0.67      0.74      0.71       180\n",
            "           6       0.89      0.91      0.90       186\n",
            "           7       0.81      0.82      0.82       214\n",
            "           8       0.80      0.70      0.75       172\n",
            "           9       0.31      0.34      0.32       191\n",
            "          10       0.79      0.85      0.82       220\n",
            "          11       0.45      0.52      0.48       192\n",
            "          12       0.74      0.70      0.72       200\n",
            "          13       0.85      0.88      0.87       187\n",
            "          14       0.19      0.15      0.17       202\n",
            "          15       0.95      0.85      0.89       204\n",
            "          16       0.64      0.53      0.58       203\n",
            "\n",
            "    accuracy                           0.64      3400\n",
            "   macro avg       0.64      0.64      0.64      3400\n",
            "weighted avg       0.64      0.64      0.64      3400\n",
            "\n"
          ]
        }
      ],
      "source": [
        "svc_tfidf = LinearSVC(max_iter=10000)\n",
        "\n",
        "svc_tfidf.fit(X_train_tfidf, y_train)\n",
        "\n",
        "y_pred_tfidf = svc_tfidf.predict(X_test_tfidf)\n",
        "\n",
        "print(classification_report(y_test, y_pred_tfidf))"
      ]
    },
    {
      "cell_type": "code",
      "execution_count": null,
      "metadata": {},
      "outputs": [],
      "source": []
    },
    {
      "cell_type": "markdown",
      "id": "c9f1495f",
      "metadata": {
        "id": "c9f1495f"
      },
      "source": [
        "# Решение\n",
        "(для куратора)"
      ]
    },
    {
      "cell_type": "code",
      "execution_count": null,
      "metadata": {},
      "outputs": [],
      "source": []
    },
    {
      "cell_type": "code",
      "execution_count": 16,
      "id": "bcea7b71",
      "metadata": {
        "id": "bcea7b71"
      },
      "outputs": [],
      "source": [
        "import pandas as pd\n",
        "import numpy as np\n",
        "from nltk.corpus import stopwords\n",
        "from nltk.tokenize import RegexpTokenizer\n",
        "import pymorphy2\n",
        "\n",
        "from sklearn.preprocessing import LabelEncoder\n",
        "from sklearn.svm import LinearSVC\n",
        "from sklearn.model_selection import train_test_split\n",
        "from sklearn.feature_extraction.text import TfidfVectorizer, CountVectorizer\n",
        "from sklearn.metrics import classification_report\n",
        "from sklearn.metrics import f1_score"
      ]
    },
    {
      "cell_type": "code",
      "execution_count": 18,
      "id": "94724837",
      "metadata": {
        "id": "94724837",
        "outputId": "e2da96e0-7ff8-408c-c1dd-942dc1921580"
      },
      "outputs": [
        {
          "data": {
            "text/html": [
              "<div>\n",
              "<style scoped>\n",
              "    .dataframe tbody tr th:only-of-type {\n",
              "        vertical-align: middle;\n",
              "    }\n",
              "\n",
              "    .dataframe tbody tr th {\n",
              "        vertical-align: top;\n",
              "    }\n",
              "\n",
              "    .dataframe thead th {\n",
              "        text-align: right;\n",
              "    }\n",
              "</style>\n",
              "<table border=\"1\" class=\"dataframe\">\n",
              "  <thead>\n",
              "    <tr style=\"text-align: right;\">\n",
              "      <th></th>\n",
              "      <th>theme</th>\n",
              "      <th>text</th>\n",
              "    </tr>\n",
              "  </thead>\n",
              "  <tbody>\n",
              "    <tr>\n",
              "      <th>0</th>\n",
              "      <td>aforizmi</td>\n",
              "      <td>Почему удар в спину наносят те, кого,как прави...</td>\n",
              "    </tr>\n",
              "    <tr>\n",
              "      <th>1</th>\n",
              "      <td>aforizmi</td>\n",
              "      <td>Музы - пожалуй самые мудрые представительницы...</td>\n",
              "    </tr>\n",
              "    <tr>\n",
              "      <th>2</th>\n",
              "      <td>aforizmi</td>\n",
              "      <td>Тяжело бухать всю ночь, особенно если ночь пол...</td>\n",
              "    </tr>\n",
              "    <tr>\n",
              "      <th>3</th>\n",
              "      <td>aforizmi</td>\n",
              "      <td>ПОКУШЕНИЕ. НАЛИЧНОСТЬ.\\r\\n\\r\\n\\r\\n</td>\n",
              "    </tr>\n",
              "    <tr>\n",
              "      <th>4</th>\n",
              "      <td>aforizmi</td>\n",
              "      <td>Когда медленно танцуешь, ничего не мешает...\\r...</td>\n",
              "    </tr>\n",
              "  </tbody>\n",
              "</table>\n",
              "</div>"
            ],
            "text/plain": [
              "      theme                                               text\n",
              "0  aforizmi  Почему удар в спину наносят те, кого,как прави...\n",
              "1  aforizmi  Музы - пожалуй самые мудрые представительницы...\n",
              "2  aforizmi  Тяжело бухать всю ночь, особенно если ночь пол...\n",
              "3  aforizmi                 ПОКУШЕНИЕ. НАЛИЧНОСТЬ.\\r\\n\\r\\n\\r\\n\n",
              "4  aforizmi  Когда медленно танцуешь, ничего не мешает...\\r..."
            ]
          },
          "execution_count": 18,
          "metadata": {},
          "output_type": "execute_result"
        }
      ],
      "source": [
        "df = pd.read_csv('m18_jokes_dataset.csv')\n",
        "\n",
        "df.head()"
      ]
    },
    {
      "cell_type": "code",
      "execution_count": 19,
      "id": "a033a0df",
      "metadata": {
        "id": "a033a0df",
        "outputId": "d943e121-9753-42e3-84db-f4a80047a322"
      },
      "outputs": [
        {
          "data": {
            "text/plain": [
              "theme\n",
              "aforizmi                 1000\n",
              "meditsinskie             1000\n",
              "narodnie                 1000\n",
              "poshlie-i-intimnie       1000\n",
              "pro-alkogolikov          1000\n",
              "pro-armiu                1000\n",
              "pro-detey                1000\n",
              "pro-evreev               1000\n",
              "pro-militsiyu            1000\n",
              "pro-mugchin              1000\n",
              "pro-novih-russkih        1000\n",
              "pro-semyu                1000\n",
              "pro-studentov            1000\n",
              "pro-vovochku             1000\n",
              "raznie                   1000\n",
              "shkolnie-i-pro-shkolu    1000\n",
              "tsitati                  1000\n",
              "dtype: int64"
            ]
          },
          "execution_count": 19,
          "metadata": {},
          "output_type": "execute_result"
        }
      ],
      "source": [
        "# Датасет идеально сбалансирован\n",
        "df.groupby('theme').size()"
      ]
    },
    {
      "cell_type": "code",
      "execution_count": 20,
      "id": "82232bec",
      "metadata": {
        "id": "82232bec",
        "outputId": "05833735-1fb0-482f-d2b3-2430dd14d997"
      },
      "outputs": [
        {
          "data": {
            "text/html": [
              "<div>\n",
              "<style scoped>\n",
              "    .dataframe tbody tr th:only-of-type {\n",
              "        vertical-align: middle;\n",
              "    }\n",
              "\n",
              "    .dataframe tbody tr th {\n",
              "        vertical-align: top;\n",
              "    }\n",
              "\n",
              "    .dataframe thead th {\n",
              "        text-align: right;\n",
              "    }\n",
              "</style>\n",
              "<table border=\"1\" class=\"dataframe\">\n",
              "  <thead>\n",
              "    <tr style=\"text-align: right;\">\n",
              "      <th></th>\n",
              "      <th>theme</th>\n",
              "      <th>text</th>\n",
              "    </tr>\n",
              "  </thead>\n",
              "  <tbody>\n",
              "    <tr>\n",
              "      <th>13337</th>\n",
              "      <td>13</td>\n",
              "      <td>Вовочка стоит у двери и ковыряет в замке каран...</td>\n",
              "    </tr>\n",
              "    <tr>\n",
              "      <th>6038</th>\n",
              "      <td>6</td>\n",
              "      <td>Приходит как-то дочка домой и говорит маме:- ...</td>\n",
              "    </tr>\n",
              "    <tr>\n",
              "      <th>11659</th>\n",
              "      <td>11</td>\n",
              "      <td>Муж- интеллигент, возвращается из командировки...</td>\n",
              "    </tr>\n",
              "    <tr>\n",
              "      <th>7520</th>\n",
              "      <td>7</td>\n",
              "      <td>- Рабинович, над чем задумался?- Да вот думаю,...</td>\n",
              "    </tr>\n",
              "    <tr>\n",
              "      <th>9673</th>\n",
              "      <td>9</td>\n",
              "      <td>Один приятель звонит другому:- У меня юбилей....</td>\n",
              "    </tr>\n",
              "  </tbody>\n",
              "</table>\n",
              "</div>"
            ],
            "text/plain": [
              "       theme                                               text\n",
              "13337     13  Вовочка стоит у двери и ковыряет в замке каран...\n",
              "6038       6  Приходит как-то дочка домой и говорит маме:- ...\n",
              "11659     11  Муж- интеллигент, возвращается из командировки...\n",
              "7520       7  - Рабинович, над чем задумался?- Да вот думаю,...\n",
              "9673       9  Один приятель звонит другому:- У меня юбилей...."
            ]
          },
          "execution_count": 20,
          "metadata": {},
          "output_type": "execute_result"
        }
      ],
      "source": [
        "# Кодируем категориальную целевую переменную (метку класса),\n",
        "# используя LabelEncoder\n",
        "\n",
        "label_encoder = LabelEncoder()\n",
        "df['theme'] = label_encoder.fit_transform(df['theme'])\n",
        "df.sample(5)"
      ]
    },
    {
      "cell_type": "code",
      "execution_count": 21,
      "id": "cc79ab2c",
      "metadata": {
        "id": "cc79ab2c"
      },
      "outputs": [],
      "source": [
        "# Разделяем выборку на тренировочную и тестовую\n",
        "\n",
        "X_train, X_test, y_train, y_test = train_test_split(\n",
        "  df['text'], df['theme'],\n",
        "  test_size=0.2\n",
        ")"
      ]
    },
    {
      "cell_type": "code",
      "execution_count": 22,
      "id": "fe4ff3e3",
      "metadata": {
        "id": "fe4ff3e3"
      },
      "outputs": [
        {
          "ename": "AttributeError",
          "evalue": "module 'inspect' has no attribute 'getargspec'",
          "output_type": "error",
          "traceback": [
            "\u001b[1;31m---------------------------------------------------------------------------\u001b[0m",
            "\u001b[1;31mAttributeError\u001b[0m                            Traceback (most recent call last)",
            "\u001b[1;32mc:\\Users\\User\\skillbox\\HOMEWORKS\\ML Junior\\M_18 - Tokenizing\\Tokenizing.ipynb Cell 19\u001b[0m line \u001b[0;36m5\n\u001b[0;32m      <a href='vscode-notebook-cell:/c%3A/Users/User/skillbox/HOMEWORKS/ML%20Junior/M_18%20-%20Tokenizing/Tokenizing.ipynb#X24sZmlsZQ%3D%3D?line=2'>3</a>\u001b[0m tokenizer \u001b[39m=\u001b[39m RegexpTokenizer(\u001b[39m'\u001b[39m\u001b[39m\\\u001b[39m\u001b[39mw+\u001b[39m\u001b[39m'\u001b[39m)\n\u001b[0;32m      <a href='vscode-notebook-cell:/c%3A/Users/User/skillbox/HOMEWORKS/ML%20Junior/M_18%20-%20Tokenizing/Tokenizing.ipynb#X24sZmlsZQ%3D%3D?line=3'>4</a>\u001b[0m russian_stopwords \u001b[39m=\u001b[39m stopwords\u001b[39m.\u001b[39mwords(\u001b[39m'\u001b[39m\u001b[39mrussian\u001b[39m\u001b[39m'\u001b[39m)\n\u001b[1;32m----> <a href='vscode-notebook-cell:/c%3A/Users/User/skillbox/HOMEWORKS/ML%20Junior/M_18%20-%20Tokenizing/Tokenizing.ipynb#X24sZmlsZQ%3D%3D?line=4'>5</a>\u001b[0m morph \u001b[39m=\u001b[39m pymorphy2\u001b[39m.\u001b[39;49mMorphAnalyzer()\n\u001b[0;32m      <a href='vscode-notebook-cell:/c%3A/Users/User/skillbox/HOMEWORKS/ML%20Junior/M_18%20-%20Tokenizing/Tokenizing.ipynb#X24sZmlsZQ%3D%3D?line=6'>7</a>\u001b[0m \u001b[39mdef\u001b[39;00m \u001b[39mpreprocess\u001b[39m(text):\n\u001b[0;32m      <a href='vscode-notebook-cell:/c%3A/Users/User/skillbox/HOMEWORKS/ML%20Junior/M_18%20-%20Tokenizing/Tokenizing.ipynb#X24sZmlsZQ%3D%3D?line=7'>8</a>\u001b[0m     stemmed_words \u001b[39m=\u001b[39m []\n",
            "File \u001b[1;32mc:\\Users\\User\\skillbox\\HOMEWORKS\\HWs\\Lib\\site-packages\\pymorphy2\\analyzer.py:224\u001b[0m, in \u001b[0;36mMorphAnalyzer.__init__\u001b[1;34m(self, path, lang, result_type, units, probability_estimator_cls, char_substitutes)\u001b[0m\n\u001b[0;32m    222\u001b[0m \u001b[39mself\u001b[39m\u001b[39m.\u001b[39m_result_type_orig \u001b[39m=\u001b[39m result_type\n\u001b[0;32m    223\u001b[0m \u001b[39mself\u001b[39m\u001b[39m.\u001b[39m_init_char_substitutes(char_substitutes)\n\u001b[1;32m--> 224\u001b[0m \u001b[39mself\u001b[39;49m\u001b[39m.\u001b[39;49m_init_units(units)\n",
            "File \u001b[1;32mc:\\Users\\User\\skillbox\\HOMEWORKS\\HWs\\Lib\\site-packages\\pymorphy2\\analyzer.py:235\u001b[0m, in \u001b[0;36mMorphAnalyzer._init_units\u001b[1;34m(self, units_unbound)\u001b[0m\n\u001b[0;32m    233\u001b[0m \u001b[39mif\u001b[39;00m \u001b[39misinstance\u001b[39m(item, (\u001b[39mlist\u001b[39m, \u001b[39mtuple\u001b[39m)):\n\u001b[0;32m    234\u001b[0m     \u001b[39mfor\u001b[39;00m unit \u001b[39min\u001b[39;00m item[:\u001b[39m-\u001b[39m\u001b[39m1\u001b[39m]:\n\u001b[1;32m--> 235\u001b[0m         \u001b[39mself\u001b[39m\u001b[39m.\u001b[39m_units\u001b[39m.\u001b[39mappend((\u001b[39mself\u001b[39;49m\u001b[39m.\u001b[39;49m_bound_unit(unit), \u001b[39mFalse\u001b[39;00m))\n\u001b[0;32m    236\u001b[0m     \u001b[39mself\u001b[39m\u001b[39m.\u001b[39m_units\u001b[39m.\u001b[39mappend((\u001b[39mself\u001b[39m\u001b[39m.\u001b[39m_bound_unit(item[\u001b[39m-\u001b[39m\u001b[39m1\u001b[39m]), \u001b[39mTrue\u001b[39;00m))\n\u001b[0;32m    237\u001b[0m \u001b[39melse\u001b[39;00m:\n",
            "File \u001b[1;32mc:\\Users\\User\\skillbox\\HOMEWORKS\\HWs\\Lib\\site-packages\\pymorphy2\\analyzer.py:246\u001b[0m, in \u001b[0;36mMorphAnalyzer._bound_unit\u001b[1;34m(self, unit)\u001b[0m\n\u001b[0;32m    245\u001b[0m \u001b[39mdef\u001b[39;00m \u001b[39m_bound_unit\u001b[39m(\u001b[39mself\u001b[39m, unit):\n\u001b[1;32m--> 246\u001b[0m     unit \u001b[39m=\u001b[39m unit\u001b[39m.\u001b[39;49mclone()\n\u001b[0;32m    247\u001b[0m     unit\u001b[39m.\u001b[39minit(\u001b[39mself\u001b[39m)\n\u001b[0;32m    248\u001b[0m     \u001b[39mreturn\u001b[39;00m unit\n",
            "File \u001b[1;32mc:\\Users\\User\\skillbox\\HOMEWORKS\\HWs\\Lib\\site-packages\\pymorphy2\\units\\base.py:35\u001b[0m, in \u001b[0;36mBaseAnalyzerUnit.clone\u001b[1;34m(self)\u001b[0m\n\u001b[0;32m     34\u001b[0m \u001b[39mdef\u001b[39;00m \u001b[39mclone\u001b[39m(\u001b[39mself\u001b[39m):\n\u001b[1;32m---> 35\u001b[0m     \u001b[39mreturn\u001b[39;00m \u001b[39mself\u001b[39m\u001b[39m.\u001b[39m\u001b[39m__class__\u001b[39m(\u001b[39m*\u001b[39m\u001b[39m*\u001b[39m\u001b[39mself\u001b[39;49m\u001b[39m.\u001b[39;49m_get_params())\n",
            "File \u001b[1;32mc:\\Users\\User\\skillbox\\HOMEWORKS\\HWs\\Lib\\site-packages\\pymorphy2\\units\\base.py:76\u001b[0m, in \u001b[0;36mBaseAnalyzerUnit._get_params\u001b[1;34m(self)\u001b[0m\n\u001b[0;32m     73\u001b[0m \u001b[39mdef\u001b[39;00m \u001b[39m_get_params\u001b[39m(\u001b[39mself\u001b[39m):\n\u001b[0;32m     74\u001b[0m \u001b[39m    \u001b[39m\u001b[39m\"\"\" Return a dict with the parameters for this analyzer unit. \"\"\"\u001b[39;00m\n\u001b[0;32m     75\u001b[0m     \u001b[39mreturn\u001b[39;00m \u001b[39mdict\u001b[39m(\n\u001b[1;32m---> 76\u001b[0m         (key, \u001b[39mgetattr\u001b[39m(\u001b[39mself\u001b[39m, key, \u001b[39mNone\u001b[39;00m)) \u001b[39mfor\u001b[39;00m key \u001b[39min\u001b[39;00m \u001b[39mself\u001b[39;49m\u001b[39m.\u001b[39;49m_get_param_names()\n\u001b[0;32m     77\u001b[0m     )\n",
            "File \u001b[1;32mc:\\Users\\User\\skillbox\\HOMEWORKS\\HWs\\Lib\\site-packages\\pymorphy2\\units\\base.py:70\u001b[0m, in \u001b[0;36mBaseAnalyzerUnit._get_param_names\u001b[1;34m(cls)\u001b[0m\n\u001b[0;32m     68\u001b[0m \u001b[39mif\u001b[39;00m \u001b[39mcls\u001b[39m\u001b[39m.\u001b[39m\u001b[39m__init__\u001b[39m \u001b[39mis\u001b[39;00m \u001b[39mobject\u001b[39m\u001b[39m.\u001b[39m\u001b[39m__init__\u001b[39m:\n\u001b[0;32m     69\u001b[0m     \u001b[39mreturn\u001b[39;00m []\n\u001b[1;32m---> 70\u001b[0m args, varargs, kw, default \u001b[39m=\u001b[39m inspect\u001b[39m.\u001b[39;49mgetargspec(\u001b[39mcls\u001b[39m\u001b[39m.\u001b[39m\u001b[39m__init__\u001b[39m)\n\u001b[0;32m     71\u001b[0m \u001b[39mreturn\u001b[39;00m \u001b[39msorted\u001b[39m(args[\u001b[39m1\u001b[39m:])\n",
            "\u001b[1;31mAttributeError\u001b[0m: module 'inspect' has no attribute 'getargspec'"
          ]
        }
      ],
      "source": [
        "# Создаём функцию препроцессинга, которую будем использовать в векторизаторах\n",
        "\n",
        "tokenizer = RegexpTokenizer('\\w+')\n",
        "russian_stopwords = stopwords.words('russian')\n",
        "morph = pymorphy2.MorphAnalyzer()\n",
        "\n",
        "def preprocess(text):\n",
        "    stemmed_words = []\n",
        "    for word in tokenizer.tokenize(text):\n",
        "        word = word.lower()\n",
        "        if word not in russian_stopwords:\n",
        "            stemmed_words.append(morph.parse(word)[0].normal_form)\n",
        "    return ' '.join(stemmed_words)"
      ]
    },
    {
      "cell_type": "code",
      "execution_count": null,
      "id": "53151c8d",
      "metadata": {
        "id": "53151c8d"
      },
      "outputs": [],
      "source": [
        "# Создаём векторизаторы с одинаковым препроцессингом\n",
        "\n",
        "count_vectorizer = CountVectorizer(\n",
        "    preprocessor=preprocess\n",
        ")\n",
        "\n",
        "tfidf_vectorizer = TfidfVectorizer(\n",
        "    preprocessor=preprocess\n",
        ")"
      ]
    },
    {
      "cell_type": "code",
      "execution_count": null,
      "id": "3e2d6866",
      "metadata": {
        "id": "3e2d6866",
        "outputId": "f78f1e99-c0d8-41e2-a558-f849a021a0cb"
      },
      "outputs": [
        {
          "name": "stdout",
          "output_type": "stream",
          "text": [
            "CPU times: user 43.4 s, sys: 216 ms, total: 43.6 s\n",
            "Wall time: 43.9 s\n"
          ]
        }
      ],
      "source": [
        "%%time\n",
        "\n",
        "# Векторизуем текст, используя CountVectorizer\n",
        "X_train_count = count_vectorizer.fit_transform(X_train)\n",
        "X_test_count = count_vectorizer.transform(X_test)"
      ]
    },
    {
      "cell_type": "code",
      "execution_count": null,
      "id": "34536677",
      "metadata": {
        "id": "34536677",
        "outputId": "929fade6-95ce-4fd8-bf90-0bbebc7e1980"
      },
      "outputs": [
        {
          "name": "stdout",
          "output_type": "stream",
          "text": [
            "CPU times: user 43.2 s, sys: 176 ms, total: 43.4 s\n",
            "Wall time: 43.6 s\n"
          ]
        }
      ],
      "source": [
        "%%time\n",
        "\n",
        "# Векторизуем текст, используя TfidfVectorizer\n",
        "X_train_tfidf = tfidf_vectorizer.fit_transform(X_train)\n",
        "X_test_tfidf = tfidf_vectorizer.transform(X_test)"
      ]
    },
    {
      "cell_type": "code",
      "execution_count": null,
      "id": "bc51ee7d",
      "metadata": {
        "id": "bc51ee7d",
        "outputId": "29a03fbe-808c-40ad-f54d-71988cb01e81"
      },
      "outputs": [
        {
          "name": "stdout",
          "output_type": "stream",
          "text": [
            "              precision    recall  f1-score   support\n",
            "\n",
            "           0       0.39      0.65      0.49       198\n",
            "           1       0.52      0.51      0.51       209\n",
            "           2       0.48      0.39      0.43       201\n",
            "           3       0.39      0.37      0.38       215\n",
            "           4       0.89      0.84      0.86       196\n",
            "           5       0.65      0.68      0.66       197\n",
            "           6       0.95      0.91      0.93       198\n",
            "           7       0.78      0.81      0.80       206\n",
            "           8       0.84      0.64      0.73       182\n",
            "           9       0.32      0.35      0.33       211\n",
            "          10       0.75      0.80      0.78       163\n",
            "          11       0.36      0.46      0.40       192\n",
            "          12       0.75      0.74      0.74       223\n",
            "          13       0.87      0.85      0.86       192\n",
            "          14       0.12      0.13      0.13       183\n",
            "          15       0.97      0.87      0.91       226\n",
            "          16       0.68      0.34      0.45       208\n",
            "\n",
            "    accuracy                           0.61      3400\n",
            "   macro avg       0.63      0.61      0.61      3400\n",
            "weighted avg       0.63      0.61      0.61      3400\n",
            "\n"
          ]
        }
      ],
      "source": [
        "svc_count = LinearSVC(max_iter=10000)\n",
        "\n",
        "svc_count.fit(X_train_count, y_train)\n",
        "\n",
        "y_pred_count = svc_count.predict(X_test_count)\n",
        "\n",
        "print(classification_report(y_test, y_pred_count))"
      ]
    },
    {
      "cell_type": "code",
      "execution_count": null,
      "id": "5fdda855",
      "metadata": {
        "id": "5fdda855",
        "outputId": "909731c5-0ceb-46d6-e756-b7c97e32858c"
      },
      "outputs": [
        {
          "data": {
            "text/plain": [
              "0.6117208815090223"
            ]
          },
          "execution_count": 30,
          "metadata": {},
          "output_type": "execute_result"
        }
      ],
      "source": [
        "f1_score(y_test, y_pred_count, average='macro')"
      ]
    },
    {
      "cell_type": "code",
      "execution_count": null,
      "id": "336ea929",
      "metadata": {
        "id": "336ea929",
        "outputId": "6ef91fec-0f60-4a20-c0bf-9c5c7d1c9944"
      },
      "outputs": [
        {
          "name": "stdout",
          "output_type": "stream",
          "text": [
            "              precision    recall  f1-score   support\n",
            "\n",
            "           0       0.39      0.42      0.40       198\n",
            "           1       0.58      0.60      0.59       209\n",
            "           2       0.51      0.50      0.51       201\n",
            "           3       0.44      0.50      0.47       215\n",
            "           4       0.86      0.86      0.86       196\n",
            "           5       0.69      0.74      0.72       197\n",
            "           6       0.91      0.92      0.91       198\n",
            "           7       0.80      0.85      0.82       206\n",
            "           8       0.82      0.69      0.75       182\n",
            "           9       0.36      0.34      0.35       211\n",
            "          10       0.74      0.87      0.80       163\n",
            "          11       0.40      0.49      0.44       192\n",
            "          12       0.78      0.74      0.76       223\n",
            "          13       0.85      0.88      0.86       192\n",
            "          14       0.14      0.11      0.12       183\n",
            "          15       0.95      0.88      0.92       226\n",
            "          16       0.63      0.49      0.55       208\n",
            "\n",
            "    accuracy                           0.64      3400\n",
            "   macro avg       0.64      0.64      0.64      3400\n",
            "weighted avg       0.64      0.64      0.64      3400\n",
            "\n",
            "CPU times: user 290 ms, sys: 5.79 ms, total: 296 ms\n",
            "Wall time: 295 ms\n"
          ]
        }
      ],
      "source": [
        "%%time\n",
        "\n",
        "svc_tfidf = LinearSVC(max_iter=10000)\n",
        "\n",
        "svc_tfidf.fit(X_train_tfidf, y_train)\n",
        "\n",
        "y_pred_tfidf = svc_tfidf.predict(X_test_tfidf)\n",
        "\n",
        "print(classification_report(y_test, y_pred_tfidf))"
      ]
    },
    {
      "cell_type": "code",
      "execution_count": null,
      "id": "58905c0a",
      "metadata": {
        "id": "58905c0a",
        "outputId": "301b41e6-a87e-41f5-e611-3cf167f25b94"
      },
      "outputs": [
        {
          "data": {
            "text/plain": [
              "0.6373363554759008"
            ]
          },
          "execution_count": 32,
          "metadata": {},
          "output_type": "execute_result"
        }
      ],
      "source": [
        "f1_score(y_test, y_pred_tfidf, average='macro')"
      ]
    },
    {
      "cell_type": "code",
      "execution_count": null,
      "id": "a5ce7426",
      "metadata": {
        "id": "a5ce7426"
      },
      "outputs": [],
      "source": []
    }
  ],
  "metadata": {
    "colab": {
      "provenance": []
    },
    "kernelspec": {
      "display_name": "Python 3 (ipykernel)",
      "language": "python",
      "name": "python3"
    },
    "language_info": {
      "codemirror_mode": {
        "name": "ipython",
        "version": 3
      },
      "file_extension": ".py",
      "mimetype": "text/x-python",
      "name": "python",
      "nbconvert_exporter": "python",
      "pygments_lexer": "ipython3",
      "version": "3.11.0"
    }
  },
  "nbformat": 4,
  "nbformat_minor": 5
}
