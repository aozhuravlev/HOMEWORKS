{
 "cells": [
  {
   "cell_type": "code",
   "execution_count": 1,
   "metadata": {},
   "outputs": [],
   "source": [
    "%reload_ext autoreload\n",
    "%autoreload 2"
   ]
  },
  {
   "cell_type": "code",
   "execution_count": 2,
   "metadata": {},
   "outputs": [],
   "source": [
    "import warnings\n",
    "\n",
    "import funcs\n",
    "\n",
    "import pandas as pd\n",
    "# import numpy as np\n",
    "# import seaborn as sns\n",
    "import matplotlib.pyplot as plt\n",
    "# from ydata_profiling import ProfileReport\n",
    "from catboost import CatBoostRegressor\n",
    "from lightgbm import LGBMRegressor\n",
    "from sklearn.model_selection import train_test_split\n",
    "from sklearn.metrics import mean_squared_error\n",
    "from sklearn.model_selection import cross_validate\n",
    "from sklearn.model_selection import cross_val_score\n",
    "from sklearn.ensemble import (\n",
    "    ExtraTreesRegressor,\n",
    "    RandomForestRegressor,\n",
    "    VotingRegressor,\n",
    ")\n",
    "from sklearn.impute import KNNImputer\n",
    "from sklearn.linear_model import ElasticNet\n",
    "from sklearn.preprocessing import MaxAbsScaler\n",
    "from xgboost import XGBRegressor\n",
    "\n",
    "%matplotlib inline\n",
    "warnings.filterwarnings(\"ignore\", category=FutureWarning)"
   ]
  },
  {
   "cell_type": "code",
   "execution_count": 3,
   "metadata": {},
   "outputs": [
    {
     "name": "stdout",
     "output_type": "stream",
     "text": [
      "<class 'pandas.core.frame.DataFrame'>\n",
      "RangeIndex: 800 entries, 0 to 799\n",
      "Data columns (total 9 columns):\n",
      " #   Column  Non-Null Count  Dtype  \n",
      "---  ------  --------------  -----  \n",
      " 0   C       800 non-null    float64\n",
      " 1   BFS     800 non-null    float64\n",
      " 2   FA      800 non-null    float64\n",
      " 3   W       800 non-null    float64\n",
      " 4   SP      800 non-null    float64\n",
      " 5   Ag      800 non-null    float64\n",
      " 6   Af      800 non-null    float64\n",
      " 7   t       800 non-null    int64  \n",
      " 8   target  800 non-null    float64\n",
      "dtypes: float64(8), int64(1)\n",
      "memory usage: 56.4 KB\n",
      "<class 'pandas.core.frame.DataFrame'>\n",
      "RangeIndex: 800 entries, 0 to 799\n",
      "Data columns (total 9 columns):\n",
      " #   Column  Non-Null Count  Dtype  \n",
      "---  ------  --------------  -----  \n",
      " 0   C       800 non-null    float64\n",
      " 1   BFS     800 non-null    float64\n",
      " 2   FA      800 non-null    float64\n",
      " 3   W       800 non-null    float64\n",
      " 4   SP      800 non-null    float64\n",
      " 5   Ag      800 non-null    float64\n",
      " 6   Af      800 non-null    float64\n",
      " 7   t       800 non-null    int64  \n",
      " 8   target  800 non-null    float64\n",
      "dtypes: float64(8), int64(1)\n",
      "memory usage: 56.4 KB\n",
      "<class 'pandas.core.frame.DataFrame'>\n",
      "RangeIndex: 230 entries, 0 to 229\n",
      "Data columns (total 8 columns):\n",
      " #   Column  Non-Null Count  Dtype  \n",
      "---  ------  --------------  -----  \n",
      " 0   C       230 non-null    float64\n",
      " 1   BFS     230 non-null    float64\n",
      " 2   FA      230 non-null    float64\n",
      " 3   W       230 non-null    float64\n",
      " 4   SP      230 non-null    float64\n",
      " 5   Ag      230 non-null    float64\n",
      " 6   Af      230 non-null    float64\n",
      " 7   t       230 non-null    int64  \n",
      "dtypes: float64(7), int64(1)\n",
      "memory usage: 14.5 KB\n"
     ]
    }
   ],
   "source": [
    "df = pd.read_csv(\"data/train.csv\")\n",
    "df_test = pd.read_csv(\"data/test.csv\")\n",
    "df = df.drop(['Id'], axis=1)\n",
    "df_test = df_test.drop(['Id'], axis=1)\n",
    "df.rename(\n",
    "    columns={\n",
    "        \"Strength\": \"target\",\n",
    "        \"Superplasticizer\": \"SP\",\n",
    "        \"Fly Ash\": \"FA\",\n",
    "        \"Water\": \"W\",\n",
    "        \"Coarse Aggregate\": \"Ag\",\n",
    "        \"Fine Aggregate\": \"Af\",\n",
    "        \"Blast Furnace Slag\": \"BFS\",\n",
    "        \"Cement\": \"C\",\n",
    "        \"Age\": \"t\",\n",
    "    },\n",
    "    inplace=True,\n",
    ")\n",
    "df.info()\n",
    "\n",
    "df_test.rename(\n",
    "    columns={\n",
    "        \"Strength\": \"target\",\n",
    "        \"Superplasticizer\": \"SP\",\n",
    "        \"Fly Ash\": \"FA\",\n",
    "        \"Water\": \"W\",\n",
    "        \"Coarse Aggregate\": \"Ag\",\n",
    "        \"Fine Aggregate\": \"Af\",\n",
    "        \"Blast Furnace Slag\": \"BFS\",\n",
    "        \"Cement\": \"C\",\n",
    "        \"Age\": \"t\",\n",
    "    },\n",
    "    inplace=True,\n",
    ")\n",
    "df.info()\n",
    "df_test.info()"
   ]
  },
  {
   "cell_type": "code",
   "execution_count": 4,
   "metadata": {},
   "outputs": [],
   "source": [
    "# from scipy.stats import zscore\n",
    "\n",
    "# for i in df.columns:\n",
    "#     df['z_score'] = zscore(df[i])\n",
    "#     df = df[df['z_score'].abs() <= 3]\n",
    "# df.shape"
   ]
  },
  {
   "cell_type": "code",
   "execution_count": 5,
   "metadata": {},
   "outputs": [
    {
     "data": {
      "text/plain": [
       "Index(['C', 'BFS', 'FA', 'W', 'SP', 'Ag', 'Af', 't'], dtype='object')"
      ]
     },
     "execution_count": 5,
     "metadata": {},
     "output_type": "execute_result"
    }
   ],
   "source": [
    "X = df.drop([\"target\"], axis=1)\n",
    "y = df[\"target\"]\n",
    "\n",
    "X.columns"
   ]
  },
  {
   "cell_type": "code",
   "execution_count": 6,
   "metadata": {},
   "outputs": [
    {
     "name": "stdout",
     "output_type": "stream",
     "text": [
      "CV RMSE   : 4.56\n",
      "MAPE      : 0.13\n"
     ]
    }
   ],
   "source": [
    "X_fe = funcs.engineer_features(X)\n",
    "\n",
    "cb = CatBoostRegressor(\n",
    "    iterations=1200,\n",
    "    learning_rate=.9,\n",
    "    depth=3,\n",
    "    random_seed=137,\n",
    "    eval_metric='RMSE',\n",
    "    logging_level='Silent',\n",
    "    loss_function='RMSE',\n",
    ")\n",
    "\n",
    "funcs.get_cv_rmse(cb, X_fe, y)\n"
   ]
  },
  {
   "cell_type": "code",
   "execution_count": 7,
   "metadata": {},
   "outputs": [
    {
     "data": {
      "text/html": [
       "<div>\n",
       "<style scoped>\n",
       "    .dataframe tbody tr th:only-of-type {\n",
       "        vertical-align: middle;\n",
       "    }\n",
       "\n",
       "    .dataframe tbody tr th {\n",
       "        vertical-align: top;\n",
       "    }\n",
       "\n",
       "    .dataframe thead th {\n",
       "        text-align: right;\n",
       "    }\n",
       "</style>\n",
       "<table border=\"1\" class=\"dataframe\">\n",
       "  <thead>\n",
       "    <tr style=\"text-align: right;\">\n",
       "      <th></th>\n",
       "      <th>target</th>\n",
       "      <th>pred</th>\n",
       "    </tr>\n",
       "  </thead>\n",
       "  <tbody>\n",
       "    <tr>\n",
       "      <th>0</th>\n",
       "      <td>13.22</td>\n",
       "      <td>14.168811</td>\n",
       "    </tr>\n",
       "    <tr>\n",
       "      <th>1</th>\n",
       "      <td>21.92</td>\n",
       "      <td>19.348057</td>\n",
       "    </tr>\n",
       "    <tr>\n",
       "      <th>2</th>\n",
       "      <td>25.56</td>\n",
       "      <td>25.585811</td>\n",
       "    </tr>\n",
       "    <tr>\n",
       "      <th>3</th>\n",
       "      <td>31.74</td>\n",
       "      <td>31.908278</td>\n",
       "    </tr>\n",
       "    <tr>\n",
       "      <th>4</th>\n",
       "      <td>24.07</td>\n",
       "      <td>24.486467</td>\n",
       "    </tr>\n",
       "    <tr>\n",
       "      <th>...</th>\n",
       "      <td>...</td>\n",
       "      <td>...</td>\n",
       "    </tr>\n",
       "    <tr>\n",
       "      <th>75</th>\n",
       "      <td>39.29</td>\n",
       "      <td>37.049245</td>\n",
       "    </tr>\n",
       "    <tr>\n",
       "      <th>76</th>\n",
       "      <td>19.20</td>\n",
       "      <td>15.550771</td>\n",
       "    </tr>\n",
       "    <tr>\n",
       "      <th>77</th>\n",
       "      <td>33.96</td>\n",
       "      <td>43.818279</td>\n",
       "    </tr>\n",
       "    <tr>\n",
       "      <th>78</th>\n",
       "      <td>41.72</td>\n",
       "      <td>42.812908</td>\n",
       "    </tr>\n",
       "    <tr>\n",
       "      <th>79</th>\n",
       "      <td>41.15</td>\n",
       "      <td>41.515902</td>\n",
       "    </tr>\n",
       "  </tbody>\n",
       "</table>\n",
       "<p>80 rows × 2 columns</p>\n",
       "</div>"
      ],
      "text/plain": [
       "    target       pred\n",
       "0    13.22  14.168811\n",
       "1    21.92  19.348057\n",
       "2    25.56  25.585811\n",
       "3    31.74  31.908278\n",
       "4    24.07  24.486467\n",
       "..     ...        ...\n",
       "75   39.29  37.049245\n",
       "76   19.20  15.550771\n",
       "77   33.96  43.818279\n",
       "78   41.72  42.812908\n",
       "79   41.15  41.515902\n",
       "\n",
       "[80 rows x 2 columns]"
      ]
     },
     "execution_count": 7,
     "metadata": {},
     "output_type": "execute_result"
    }
   ],
   "source": [
    "X_train, X_test, y_train, y_test = train_test_split(\n",
    "    X, y, test_size=0.1, random_state=137\n",
    ")\n",
    "\n",
    "X_train_fe = funcs.engineer_features(X_train)\n",
    "X_test_fe = funcs.engineer_features(X_test)\n",
    "\n",
    "cb.fit(X_train_fe, y_train)\n",
    "check = cb.predict(X_test_fe)\n",
    "check_df = pd.DataFrame(\n",
    "    y_test.reset_index(drop=True), columns=[\"target\"]\n",
    ")\n",
    "check_df['pred'] = pd.DataFrame(check, columns=[\"pred\"])\n",
    "check_df"
   ]
  },
  {
   "cell_type": "code",
   "execution_count": 8,
   "metadata": {},
   "outputs": [],
   "source": [
    "# X_val = funcs.engineer_features(df_test)\n",
    "# X_val.head()"
   ]
  },
  {
   "cell_type": "code",
   "execution_count": 9,
   "metadata": {},
   "outputs": [],
   "source": [
    "# import numpy as np\n",
    "# y_pred_val = cb.predict(X_test)\n",
    "# y_pred_df = pd.DataFrame({'Id': range(0, len(y_pred_val)), 'Strength': np.round(y_pred_val, 1)})\n",
    "# y_pred_df.to_csv('y_pred_regression.csv', index=False)"
   ]
  },
  {
   "cell_type": "code",
   "execution_count": null,
   "metadata": {},
   "outputs": [],
   "source": []
  }
 ],
 "metadata": {
  "kernelspec": {
   "display_name": "HWs",
   "language": "python",
   "name": "python3"
  },
  "language_info": {
   "codemirror_mode": {
    "name": "ipython",
    "version": 3
   },
   "file_extension": ".py",
   "mimetype": "text/x-python",
   "name": "python",
   "nbconvert_exporter": "python",
   "pygments_lexer": "ipython3",
   "version": "3.11.0"
  }
 },
 "nbformat": 4,
 "nbformat_minor": 2
}
