{
  "cells": [
    {
      "cell_type": "markdown",
      "metadata": {
        "id": "9eF9F2FVBpWX"
      },
      "source": [
        "# Несбалансированные выборки. Практическая работа"
      ]
    },
    {
      "cell_type": "markdown",
      "metadata": {
        "id": "MUo9HeJiBmFx"
      },
      "source": [
        "## Цель практической работы\n",
        "\n",
        "Научиться обрабатывать несбалансированные данные и обучать модели машинного обучения на таких данных."
      ]
    },
    {
      "cell_type": "markdown",
      "metadata": {
        "id": "Vzx_4gqxB6Ug"
      },
      "source": [
        "## Что входит в работу\n",
        "\n",
        "\n",
        "1. Загрузить данные и провести разведочный анализ.\n",
        "2. Разделить данные на обучающую и тестовую выборки.\n",
        "3. Подготовить данные для моделирования.\n",
        "4. Сбалансировать данные методом SMOTE и обучить модель машинного обучения.\n",
        "5. Обучить модель машинного обучения с использованием весов классов и кросс-валидации.\n",
        "6. Сравнить метрики качества четырёх моделей.\n",
        "\n",
        "\n"
      ]
    },
    {
      "cell_type": "markdown",
      "metadata": {
        "id": "mIR4D9d7B90r"
      },
      "source": [
        "## Что оценивается \n",
        "\n",
        "- Выполнены все этапы работы.\n",
        "- Не допущена утечка данных при разделении выборок и подготовке данных.\n",
        "- Данные корректным образом сбалансированы.\n",
        "- Модели не переобучены.\n"
      ]
    },
    {
      "cell_type": "markdown",
      "metadata": {
        "id": "eCZ1TMt0CBBY"
      },
      "source": [
        "## Как отправить работу на проверку\n",
        "\n",
        "Скачайте файл с заданиями в материалах, откройте его через Jupyter Notebook и выполните задания. Сохраните изменения при помощи опции Save and Checkpoint из вкладки меню File или кнопки Save and Checkpoint на панели инструментов. Отправьте через форму ниже итоговый файл Jupyter Notebook (в формате .ipynb) или ссылку на него.\n"
      ]
    },
    {
      "cell_type": "markdown",
      "metadata": {
        "id": "byYgWFXWCEUP"
      },
      "source": [
        "# Задача\n",
        "\n",
        "Пусть у нас имеется некоторый набор данных `german_credit_data.csv` о заёмщиках банка:"
      ]
    },
    {
      "cell_type": "markdown",
      "metadata": {
        "id": "A2jH3ATlCG8g"
      },
      "source": [
        "* Age — возраст заёмщика.\n",
        "* Sex — пол заёмщика.\n",
        "* Job — тип работы заёмщика.\n",
        "* Housing — тип жилья заёмщика.\n",
        "* Saving accounts — объём средств на сберегательных счетах заёмщика.\n",
        "* Checking account — объём средств на основном счёте заёмщика.\n",
        "* Credit amount — размер кредита. \n",
        "* Duration — срок кредита (в месяцах).\n",
        "* Purpose — цель кредита.\n",
        "* Risk — таргет, допустил ли заёмщик просрочку платежей по кредиту.\n",
        "\n",
        "Решите задачу классификации заёмщиков, чтобы банк умел заранее предсказывать просрочку платежей по кредиту. \n",
        "\n"
      ]
    },
    {
      "cell_type": "code",
      "execution_count": 116,
      "metadata": {},
      "outputs": [],
      "source": [
        "%reload_ext autoreload\n",
        "%autoreload 2"
      ]
    },
    {
      "cell_type": "code",
      "execution_count": 117,
      "metadata": {},
      "outputs": [],
      "source": [
        "import warnings\n",
        "\n",
        "import model_funcs\n",
        "\n",
        "import pandas as pd\n",
        "import numpy as np\n",
        "import seaborn as sns\n",
        "import matplotlib.pyplot as plt\n",
        "from ydata_profiling import ProfileReport\n",
        "from catboost import CatBoostClassifier\n",
        "from sklearn.metrics import roc_auc_score\n",
        "from sklearn.model_selection import train_test_split\n",
        "from sklearn.preprocessing import LabelEncoder\n",
        "from sklearn.impute import KNNImputer\n",
        "from sklearn.ensemble import ExtraTreesClassifier\n",
        "from imblearn.over_sampling import SMOTE, ADASYN \n",
        "from imblearn.combine import SMOTEENN, SMOTETomek\n",
        "from imblearn.ensemble import BalancedBaggingClassifier, EasyEnsembleClassifier\n",
        "%matplotlib inline\n",
        "\n",
        "warnings.filterwarnings(\"ignore\", category=FutureWarning)"
      ]
    },
    {
      "cell_type": "markdown",
      "metadata": {},
      "source": []
    },
    {
      "cell_type": "markdown",
      "metadata": {
        "id": "vsKhI6p8CQ5b"
      },
      "source": [
        "# Задание 1\n",
        "\n",
        "Загрузите датасет и выполните разведочный анализ данных. Сделайте выводы о найденных закономерностях, особенностях и других свойствах данных, которые вы обнаружите."
      ]
    },
    {
      "cell_type": "markdown",
      "metadata": {
        "id": "UNvKHWNjzGxw"
      },
      "source": [
        "xgboost, catboost + всё из имблерна"
      ]
    },
    {
      "cell_type": "code",
      "execution_count": 118,
      "metadata": {},
      "outputs": [
        {
          "data": {
            "text/html": [
              "<div>\n",
              "<style scoped>\n",
              "    .dataframe tbody tr th:only-of-type {\n",
              "        vertical-align: middle;\n",
              "    }\n",
              "\n",
              "    .dataframe tbody tr th {\n",
              "        vertical-align: top;\n",
              "    }\n",
              "\n",
              "    .dataframe thead th {\n",
              "        text-align: right;\n",
              "    }\n",
              "</style>\n",
              "<table border=\"1\" class=\"dataframe\">\n",
              "  <thead>\n",
              "    <tr style=\"text-align: right;\">\n",
              "      <th></th>\n",
              "      <th>Age</th>\n",
              "      <th>Sex</th>\n",
              "      <th>Job</th>\n",
              "      <th>Housing</th>\n",
              "      <th>Saving accounts</th>\n",
              "      <th>Checking account</th>\n",
              "      <th>Credit amount</th>\n",
              "      <th>Duration</th>\n",
              "      <th>Purpose</th>\n",
              "      <th>target</th>\n",
              "    </tr>\n",
              "  </thead>\n",
              "  <tbody>\n",
              "    <tr>\n",
              "      <th>0</th>\n",
              "      <td>67</td>\n",
              "      <td>male</td>\n",
              "      <td>2</td>\n",
              "      <td>own</td>\n",
              "      <td>NaN</td>\n",
              "      <td>little</td>\n",
              "      <td>1169</td>\n",
              "      <td>6</td>\n",
              "      <td>radio/TV</td>\n",
              "      <td>good</td>\n",
              "    </tr>\n",
              "    <tr>\n",
              "      <th>1</th>\n",
              "      <td>22</td>\n",
              "      <td>female</td>\n",
              "      <td>2</td>\n",
              "      <td>own</td>\n",
              "      <td>little</td>\n",
              "      <td>moderate</td>\n",
              "      <td>5951</td>\n",
              "      <td>48</td>\n",
              "      <td>radio/TV</td>\n",
              "      <td>bad</td>\n",
              "    </tr>\n",
              "    <tr>\n",
              "      <th>2</th>\n",
              "      <td>49</td>\n",
              "      <td>male</td>\n",
              "      <td>1</td>\n",
              "      <td>own</td>\n",
              "      <td>little</td>\n",
              "      <td>NaN</td>\n",
              "      <td>2096</td>\n",
              "      <td>12</td>\n",
              "      <td>education</td>\n",
              "      <td>good</td>\n",
              "    </tr>\n",
              "    <tr>\n",
              "      <th>3</th>\n",
              "      <td>45</td>\n",
              "      <td>male</td>\n",
              "      <td>2</td>\n",
              "      <td>free</td>\n",
              "      <td>little</td>\n",
              "      <td>little</td>\n",
              "      <td>7882</td>\n",
              "      <td>42</td>\n",
              "      <td>furniture/equipment</td>\n",
              "      <td>good</td>\n",
              "    </tr>\n",
              "    <tr>\n",
              "      <th>4</th>\n",
              "      <td>53</td>\n",
              "      <td>male</td>\n",
              "      <td>2</td>\n",
              "      <td>free</td>\n",
              "      <td>little</td>\n",
              "      <td>little</td>\n",
              "      <td>4870</td>\n",
              "      <td>24</td>\n",
              "      <td>car</td>\n",
              "      <td>bad</td>\n",
              "    </tr>\n",
              "  </tbody>\n",
              "</table>\n",
              "</div>"
            ],
            "text/plain": [
              "   Age     Sex  Job Housing Saving accounts Checking account  Credit amount  \\\n",
              "0   67    male    2     own             NaN           little           1169   \n",
              "1   22  female    2     own          little         moderate           5951   \n",
              "2   49    male    1     own          little              NaN           2096   \n",
              "3   45    male    2    free          little           little           7882   \n",
              "4   53    male    2    free          little           little           4870   \n",
              "\n",
              "   Duration              Purpose target  \n",
              "0         6             radio/TV   good  \n",
              "1        48             radio/TV    bad  \n",
              "2        12            education   good  \n",
              "3        42  furniture/equipment   good  \n",
              "4        24                  car    bad  "
            ]
          },
          "execution_count": 118,
          "metadata": {},
          "output_type": "execute_result"
        }
      ],
      "source": [
        "df = pd.read_csv(\"german_credit_data.csv\")\n",
        "df.rename(\n",
        "    columns={\"Risk\": \"target\"},\n",
        "    inplace=True,\n",
        ")\n",
        "df.head()"
      ]
    },
    {
      "cell_type": "code",
      "execution_count": 119,
      "metadata": {},
      "outputs": [
        {
          "name": "stdout",
          "output_type": "stream",
          "text": [
            "<class 'pandas.core.frame.DataFrame'>\n",
            "RangeIndex: 1000 entries, 0 to 999\n",
            "Data columns (total 10 columns):\n",
            " #   Column            Non-Null Count  Dtype \n",
            "---  ------            --------------  ----- \n",
            " 0   Age               1000 non-null   int64 \n",
            " 1   Sex               1000 non-null   object\n",
            " 2   Job               1000 non-null   int64 \n",
            " 3   Housing           1000 non-null   object\n",
            " 4   Saving accounts   817 non-null    object\n",
            " 5   Checking account  606 non-null    object\n",
            " 6   Credit amount     1000 non-null   int64 \n",
            " 7   Duration          1000 non-null   int64 \n",
            " 8   Purpose           1000 non-null   object\n",
            " 9   target            1000 non-null   object\n",
            "dtypes: int64(4), object(6)\n",
            "memory usage: 78.2+ KB\n"
          ]
        }
      ],
      "source": [
        "df.info()"
      ]
    },
    {
      "cell_type": "code",
      "execution_count": 120,
      "metadata": {},
      "outputs": [],
      "source": [
        "# report = ProfileReport(df)\n",
        "# report.to_notebook_iframe()"
      ]
    },
    {
      "cell_type": "markdown",
      "metadata": {},
      "source": [
        "### **1.1. Небольшой эксперимент с катбустом на входе без всяких-яких.**"
      ]
    },
    {
      "cell_type": "code",
      "execution_count": 121,
      "metadata": {},
      "outputs": [],
      "source": [
        "df_exp = df.copy()\n",
        "\n",
        "df_exp.fillna(\"unknown\", inplace=True)\n",
        "df_exp.Job = df_exp.Job.astype(str)"
      ]
    },
    {
      "cell_type": "code",
      "execution_count": 122,
      "metadata": {},
      "outputs": [],
      "source": [
        "X_exp = df_exp.drop(\"target\", axis=1)\n",
        "y_exp = df_exp[\"target\"]"
      ]
    },
    {
      "cell_type": "code",
      "execution_count": 123,
      "metadata": {},
      "outputs": [],
      "source": [
        "X_train_exp, X_test_exp, y_train_exp, y_test_exp = train_test_split(\n",
        "    X_exp, y_exp, test_size=0.2, random_state=137\n",
        ")"
      ]
    },
    {
      "cell_type": "code",
      "execution_count": 124,
      "metadata": {},
      "outputs": [
        {
          "name": "stdout",
          "output_type": "stream",
          "text": [
            "ROC-AUC with Initial CatBoostCl        : 76.64%\n"
          ]
        },
        {
          "data": {
            "text/plain": [
              "('Initial CatBoostCl', 0.7664233576642335)"
            ]
          },
          "execution_count": 124,
          "metadata": {},
          "output_type": "execute_result"
        }
      ],
      "source": [
        "cat_features = [\n",
        "    \"Sex\",\n",
        "    \"Housing\",\n",
        "    \"Job\",\n",
        "    \"Saving accounts\",\n",
        "    \"Checking account\",\n",
        "    \"Purpose\",\n",
        "]\n",
        "cb = CatBoostClassifier(\n",
        "    iterations=100,\n",
        "    cat_features=cat_features,\n",
        "    random_seed=137,\n",
        "    eval_metric=\"AUC\",\n",
        "    logging_level=\"Silent\",\n",
        ")\n",
        "\n",
        "model_funcs.get_roc_auc_special(\n",
        "    cb, X_train_exp, y_train_exp, X_test_exp, y_test_exp, \"Initial CatBoostCl\"\n",
        ")"
      ]
    },
    {
      "cell_type": "markdown",
      "metadata": {},
      "source": [
        "**Запомним это значение — 76.64%. Очень хорошее значение. Очень. Будем пробовать его переплюнуть всяческими методами.**"
      ]
    },
    {
      "cell_type": "markdown",
      "metadata": {
        "id": "lYEL0ZX_REkj"
      },
      "source": [
        "# Задание 2\n",
        "\n",
        "Разделите датасет на обучающую и тестовую выборки в пропорции 80:20. Разделение должно быть стратифицированным по таргету Risk.\n",
        "\n",
        "В этом и следующих заданиях используйте random_state = 1."
      ]
    },
    {
      "cell_type": "markdown",
      "metadata": {},
      "source": [
        "**Сразу закодирую таргет, чтобы потом не возвращаться:**"
      ]
    },
    {
      "cell_type": "code",
      "execution_count": 125,
      "metadata": {},
      "outputs": [
        {
          "data": {
            "text/html": [
              "<div>\n",
              "<style scoped>\n",
              "    .dataframe tbody tr th:only-of-type {\n",
              "        vertical-align: middle;\n",
              "    }\n",
              "\n",
              "    .dataframe tbody tr th {\n",
              "        vertical-align: top;\n",
              "    }\n",
              "\n",
              "    .dataframe thead th {\n",
              "        text-align: right;\n",
              "    }\n",
              "</style>\n",
              "<table border=\"1\" class=\"dataframe\">\n",
              "  <thead>\n",
              "    <tr style=\"text-align: right;\">\n",
              "      <th></th>\n",
              "      <th>Age</th>\n",
              "      <th>Sex</th>\n",
              "      <th>Job</th>\n",
              "      <th>Housing</th>\n",
              "      <th>Saving accounts</th>\n",
              "      <th>Checking account</th>\n",
              "      <th>Credit amount</th>\n",
              "      <th>Duration</th>\n",
              "      <th>Purpose</th>\n",
              "      <th>target</th>\n",
              "    </tr>\n",
              "  </thead>\n",
              "  <tbody>\n",
              "    <tr>\n",
              "      <th>0</th>\n",
              "      <td>67</td>\n",
              "      <td>male</td>\n",
              "      <td>2</td>\n",
              "      <td>own</td>\n",
              "      <td>NaN</td>\n",
              "      <td>little</td>\n",
              "      <td>1169</td>\n",
              "      <td>6</td>\n",
              "      <td>radio/TV</td>\n",
              "      <td>1</td>\n",
              "    </tr>\n",
              "    <tr>\n",
              "      <th>1</th>\n",
              "      <td>22</td>\n",
              "      <td>female</td>\n",
              "      <td>2</td>\n",
              "      <td>own</td>\n",
              "      <td>little</td>\n",
              "      <td>moderate</td>\n",
              "      <td>5951</td>\n",
              "      <td>48</td>\n",
              "      <td>radio/TV</td>\n",
              "      <td>0</td>\n",
              "    </tr>\n",
              "    <tr>\n",
              "      <th>2</th>\n",
              "      <td>49</td>\n",
              "      <td>male</td>\n",
              "      <td>1</td>\n",
              "      <td>own</td>\n",
              "      <td>little</td>\n",
              "      <td>NaN</td>\n",
              "      <td>2096</td>\n",
              "      <td>12</td>\n",
              "      <td>education</td>\n",
              "      <td>1</td>\n",
              "    </tr>\n",
              "    <tr>\n",
              "      <th>3</th>\n",
              "      <td>45</td>\n",
              "      <td>male</td>\n",
              "      <td>2</td>\n",
              "      <td>free</td>\n",
              "      <td>little</td>\n",
              "      <td>little</td>\n",
              "      <td>7882</td>\n",
              "      <td>42</td>\n",
              "      <td>furniture/equipment</td>\n",
              "      <td>1</td>\n",
              "    </tr>\n",
              "    <tr>\n",
              "      <th>4</th>\n",
              "      <td>53</td>\n",
              "      <td>male</td>\n",
              "      <td>2</td>\n",
              "      <td>free</td>\n",
              "      <td>little</td>\n",
              "      <td>little</td>\n",
              "      <td>4870</td>\n",
              "      <td>24</td>\n",
              "      <td>car</td>\n",
              "      <td>0</td>\n",
              "    </tr>\n",
              "  </tbody>\n",
              "</table>\n",
              "</div>"
            ],
            "text/plain": [
              "   Age     Sex  Job Housing Saving accounts Checking account  Credit amount  \\\n",
              "0   67    male    2     own             NaN           little           1169   \n",
              "1   22  female    2     own          little         moderate           5951   \n",
              "2   49    male    1     own          little              NaN           2096   \n",
              "3   45    male    2    free          little           little           7882   \n",
              "4   53    male    2    free          little           little           4870   \n",
              "\n",
              "   Duration              Purpose  target  \n",
              "0         6             radio/TV       1  \n",
              "1        48             radio/TV       0  \n",
              "2        12            education       1  \n",
              "3        42  furniture/equipment       1  \n",
              "4        24                  car       0  "
            ]
          },
          "execution_count": 125,
          "metadata": {},
          "output_type": "execute_result"
        }
      ],
      "source": [
        "df.target = (df.target == \"good\").astype(int)\n",
        "df.head()"
      ]
    },
    {
      "cell_type": "code",
      "execution_count": 126,
      "metadata": {
        "id": "PY2Ea9ETzH9f"
      },
      "outputs": [],
      "source": [
        "X = df.drop(\"target\", axis=1)\n",
        "y = df[\"target\"]\n",
        "\n",
        "X_train, X_test, y_train, y_test = train_test_split(\n",
        "    X, y, test_size=0.2, random_state=137, stratify=y\n",
        ")"
      ]
    },
    {
      "cell_type": "markdown",
      "metadata": {
        "id": "W9rsryWmVTm_"
      },
      "source": [
        "# Задание 3\n",
        "\n",
        "Проведите этап очистки и подготовки данных (data preparation) и подготовьте данные к моделированию."
      ]
    },
    {
      "cell_type": "markdown",
      "metadata": {},
      "source": [
        "**Используем LabelEncoder, т.к. мы будем использовать леса, а им по барабану значение категории.**"
      ]
    },
    {
      "cell_type": "code",
      "execution_count": 127,
      "metadata": {
        "id": "pRD0SVykzKDV"
      },
      "outputs": [
        {
          "data": {
            "text/html": [
              "<div>\n",
              "<style scoped>\n",
              "    .dataframe tbody tr th:only-of-type {\n",
              "        vertical-align: middle;\n",
              "    }\n",
              "\n",
              "    .dataframe tbody tr th {\n",
              "        vertical-align: top;\n",
              "    }\n",
              "\n",
              "    .dataframe thead th {\n",
              "        text-align: right;\n",
              "    }\n",
              "</style>\n",
              "<table border=\"1\" class=\"dataframe\">\n",
              "  <thead>\n",
              "    <tr style=\"text-align: right;\">\n",
              "      <th></th>\n",
              "      <th>Age</th>\n",
              "      <th>Sex</th>\n",
              "      <th>Job</th>\n",
              "      <th>Housing</th>\n",
              "      <th>Saving accounts</th>\n",
              "      <th>Checking account</th>\n",
              "      <th>Credit amount</th>\n",
              "      <th>Duration</th>\n",
              "      <th>Purpose</th>\n",
              "    </tr>\n",
              "  </thead>\n",
              "  <tbody>\n",
              "    <tr>\n",
              "      <th>211</th>\n",
              "      <td>45</td>\n",
              "      <td>0</td>\n",
              "      <td>1</td>\n",
              "      <td>1</td>\n",
              "      <td>4</td>\n",
              "      <td>3</td>\n",
              "      <td>3835</td>\n",
              "      <td>36</td>\n",
              "      <td>5</td>\n",
              "    </tr>\n",
              "    <tr>\n",
              "      <th>93</th>\n",
              "      <td>20</td>\n",
              "      <td>1</td>\n",
              "      <td>2</td>\n",
              "      <td>2</td>\n",
              "      <td>4</td>\n",
              "      <td>2</td>\n",
              "      <td>3617</td>\n",
              "      <td>24</td>\n",
              "      <td>4</td>\n",
              "    </tr>\n",
              "    <tr>\n",
              "      <th>414</th>\n",
              "      <td>35</td>\n",
              "      <td>0</td>\n",
              "      <td>2</td>\n",
              "      <td>1</td>\n",
              "      <td>4</td>\n",
              "      <td>0</td>\n",
              "      <td>1381</td>\n",
              "      <td>24</td>\n",
              "      <td>1</td>\n",
              "    </tr>\n",
              "    <tr>\n",
              "      <th>687</th>\n",
              "      <td>30</td>\n",
              "      <td>1</td>\n",
              "      <td>2</td>\n",
              "      <td>0</td>\n",
              "      <td>1</td>\n",
              "      <td>1</td>\n",
              "      <td>2862</td>\n",
              "      <td>36</td>\n",
              "      <td>1</td>\n",
              "    </tr>\n",
              "    <tr>\n",
              "      <th>346</th>\n",
              "      <td>23</td>\n",
              "      <td>1</td>\n",
              "      <td>2</td>\n",
              "      <td>1</td>\n",
              "      <td>0</td>\n",
              "      <td>1</td>\n",
              "      <td>882</td>\n",
              "      <td>13</td>\n",
              "      <td>5</td>\n",
              "    </tr>\n",
              "  </tbody>\n",
              "</table>\n",
              "</div>"
            ],
            "text/plain": [
              "     Age  Sex  Job  Housing  Saving accounts  Checking account  Credit amount  \\\n",
              "211   45    0    1        1                4                 3           3835   \n",
              "93    20    1    2        2                4                 2           3617   \n",
              "414   35    0    2        1                4                 0           1381   \n",
              "687   30    1    2        0                1                 1           2862   \n",
              "346   23    1    2        1                0                 1            882   \n",
              "\n",
              "     Duration  Purpose  \n",
              "211        36        5  \n",
              "93         24        4  \n",
              "414        24        1  \n",
              "687        36        1  \n",
              "346        13        5  "
            ]
          },
          "execution_count": 127,
          "metadata": {},
          "output_type": "execute_result"
        }
      ],
      "source": [
        "cat_features = [\"Sex\", \"Housing\", \"Job\", \"Saving accounts\", \"Checking account\", \"Purpose\"]\n",
        "\n",
        "le = LabelEncoder()\n",
        "for col in cat_features:\n",
        "    X_train[col] = le.fit_transform(X_train[col])\n",
        "    X_test[col] = le.transform(X_test[col])\n",
        "\n",
        "X_train.head()"
      ]
    },
    {
      "cell_type": "markdown",
      "metadata": {},
      "source": [
        "Учитывая, что признак `Credit amount` сильно смещён, прологарифмируем его, чтобы привести к равномерному распределению."
      ]
    },
    {
      "cell_type": "code",
      "execution_count": 128,
      "metadata": {},
      "outputs": [
        {
          "data": {
            "text/html": [
              "<div>\n",
              "<style scoped>\n",
              "    .dataframe tbody tr th:only-of-type {\n",
              "        vertical-align: middle;\n",
              "    }\n",
              "\n",
              "    .dataframe tbody tr th {\n",
              "        vertical-align: top;\n",
              "    }\n",
              "\n",
              "    .dataframe thead th {\n",
              "        text-align: right;\n",
              "    }\n",
              "</style>\n",
              "<table border=\"1\" class=\"dataframe\">\n",
              "  <thead>\n",
              "    <tr style=\"text-align: right;\">\n",
              "      <th></th>\n",
              "      <th>Age</th>\n",
              "      <th>Sex</th>\n",
              "      <th>Job</th>\n",
              "      <th>Housing</th>\n",
              "      <th>Saving accounts</th>\n",
              "      <th>Checking account</th>\n",
              "      <th>Credit amount</th>\n",
              "      <th>Duration</th>\n",
              "      <th>Purpose</th>\n",
              "    </tr>\n",
              "  </thead>\n",
              "  <tbody>\n",
              "    <tr>\n",
              "      <th>211</th>\n",
              "      <td>45</td>\n",
              "      <td>0</td>\n",
              "      <td>1</td>\n",
              "      <td>1</td>\n",
              "      <td>4</td>\n",
              "      <td>3</td>\n",
              "      <td>8.252185</td>\n",
              "      <td>36</td>\n",
              "      <td>5</td>\n",
              "    </tr>\n",
              "    <tr>\n",
              "      <th>93</th>\n",
              "      <td>20</td>\n",
              "      <td>1</td>\n",
              "      <td>2</td>\n",
              "      <td>2</td>\n",
              "      <td>4</td>\n",
              "      <td>2</td>\n",
              "      <td>8.193677</td>\n",
              "      <td>24</td>\n",
              "      <td>4</td>\n",
              "    </tr>\n",
              "    <tr>\n",
              "      <th>414</th>\n",
              "      <td>35</td>\n",
              "      <td>0</td>\n",
              "      <td>2</td>\n",
              "      <td>1</td>\n",
              "      <td>4</td>\n",
              "      <td>0</td>\n",
              "      <td>7.231287</td>\n",
              "      <td>24</td>\n",
              "      <td>1</td>\n",
              "    </tr>\n",
              "    <tr>\n",
              "      <th>687</th>\n",
              "      <td>30</td>\n",
              "      <td>1</td>\n",
              "      <td>2</td>\n",
              "      <td>0</td>\n",
              "      <td>1</td>\n",
              "      <td>1</td>\n",
              "      <td>7.959625</td>\n",
              "      <td>36</td>\n",
              "      <td>1</td>\n",
              "    </tr>\n",
              "    <tr>\n",
              "      <th>346</th>\n",
              "      <td>23</td>\n",
              "      <td>1</td>\n",
              "      <td>2</td>\n",
              "      <td>1</td>\n",
              "      <td>0</td>\n",
              "      <td>1</td>\n",
              "      <td>6.783325</td>\n",
              "      <td>13</td>\n",
              "      <td>5</td>\n",
              "    </tr>\n",
              "  </tbody>\n",
              "</table>\n",
              "</div>"
            ],
            "text/plain": [
              "     Age  Sex  Job  Housing  Saving accounts  Checking account  Credit amount  \\\n",
              "211   45    0    1        1                4                 3       8.252185   \n",
              "93    20    1    2        2                4                 2       8.193677   \n",
              "414   35    0    2        1                4                 0       7.231287   \n",
              "687   30    1    2        0                1                 1       7.959625   \n",
              "346   23    1    2        1                0                 1       6.783325   \n",
              "\n",
              "     Duration  Purpose  \n",
              "211        36        5  \n",
              "93         24        4  \n",
              "414        24        1  \n",
              "687        36        1  \n",
              "346        13        5  "
            ]
          },
          "execution_count": 128,
          "metadata": {},
          "output_type": "execute_result"
        }
      ],
      "source": [
        "X_train['Credit amount'] = np.log1p(X_train['Credit amount'])\n",
        "X_test['Credit amount'] = np.log1p(X_test['Credit amount'])\n",
        "X_train.head()"
      ]
    },
    {
      "cell_type": "code",
      "execution_count": 129,
      "metadata": {},
      "outputs": [
        {
          "data": {
            "image/png": "[encoded data removed]",
            "text/plain": [
              "<Figure size 500x300 with 1 Axes>"
            ]
          },
          "metadata": {},
          "output_type": "display_data"
        }
      ],
      "source": [
        "plt.figure(figsize=(5, 3))\n",
        "sns.histplot(X_train['Credit amount'], color='blue');"
      ]
    },
    {
      "cell_type": "code",
      "execution_count": 130,
      "metadata": {},
      "outputs": [
        {
          "data": {
            "text/html": [
              "<div>\n",
              "<style scoped>\n",
              "    .dataframe tbody tr th:only-of-type {\n",
              "        vertical-align: middle;\n",
              "    }\n",
              "\n",
              "    .dataframe tbody tr th {\n",
              "        vertical-align: top;\n",
              "    }\n",
              "\n",
              "    .dataframe thead th {\n",
              "        text-align: right;\n",
              "    }\n",
              "</style>\n",
              "<table border=\"1\" class=\"dataframe\">\n",
              "  <thead>\n",
              "    <tr style=\"text-align: right;\">\n",
              "      <th></th>\n",
              "      <th>Age</th>\n",
              "      <th>Sex</th>\n",
              "      <th>Job</th>\n",
              "      <th>Housing</th>\n",
              "      <th>Saving accounts</th>\n",
              "      <th>Checking account</th>\n",
              "      <th>Credit amount</th>\n",
              "      <th>Duration</th>\n",
              "      <th>Purpose</th>\n",
              "    </tr>\n",
              "  </thead>\n",
              "  <tbody>\n",
              "    <tr>\n",
              "      <th>0</th>\n",
              "      <td>45.0</td>\n",
              "      <td>0.0</td>\n",
              "      <td>1.0</td>\n",
              "      <td>1.0</td>\n",
              "      <td>4.0</td>\n",
              "      <td>3.0</td>\n",
              "      <td>8.252185</td>\n",
              "      <td>36.0</td>\n",
              "      <td>5.0</td>\n",
              "    </tr>\n",
              "    <tr>\n",
              "      <th>1</th>\n",
              "      <td>20.0</td>\n",
              "      <td>1.0</td>\n",
              "      <td>2.0</td>\n",
              "      <td>2.0</td>\n",
              "      <td>4.0</td>\n",
              "      <td>2.0</td>\n",
              "      <td>8.193677</td>\n",
              "      <td>24.0</td>\n",
              "      <td>4.0</td>\n",
              "    </tr>\n",
              "    <tr>\n",
              "      <th>2</th>\n",
              "      <td>35.0</td>\n",
              "      <td>0.0</td>\n",
              "      <td>2.0</td>\n",
              "      <td>1.0</td>\n",
              "      <td>4.0</td>\n",
              "      <td>0.0</td>\n",
              "      <td>7.231287</td>\n",
              "      <td>24.0</td>\n",
              "      <td>1.0</td>\n",
              "    </tr>\n",
              "    <tr>\n",
              "      <th>3</th>\n",
              "      <td>30.0</td>\n",
              "      <td>1.0</td>\n",
              "      <td>2.0</td>\n",
              "      <td>0.0</td>\n",
              "      <td>1.0</td>\n",
              "      <td>1.0</td>\n",
              "      <td>7.959625</td>\n",
              "      <td>36.0</td>\n",
              "      <td>1.0</td>\n",
              "    </tr>\n",
              "    <tr>\n",
              "      <th>4</th>\n",
              "      <td>23.0</td>\n",
              "      <td>1.0</td>\n",
              "      <td>2.0</td>\n",
              "      <td>1.0</td>\n",
              "      <td>0.0</td>\n",
              "      <td>1.0</td>\n",
              "      <td>6.783325</td>\n",
              "      <td>13.0</td>\n",
              "      <td>5.0</td>\n",
              "    </tr>\n",
              "  </tbody>\n",
              "</table>\n",
              "</div>"
            ],
            "text/plain": [
              "    Age  Sex  Job  Housing  Saving accounts  Checking account  Credit amount  \\\n",
              "0  45.0  0.0  1.0      1.0              4.0               3.0       8.252185   \n",
              "1  20.0  1.0  2.0      2.0              4.0               2.0       8.193677   \n",
              "2  35.0  0.0  2.0      1.0              4.0               0.0       7.231287   \n",
              "3  30.0  1.0  2.0      0.0              1.0               1.0       7.959625   \n",
              "4  23.0  1.0  2.0      1.0              0.0               1.0       6.783325   \n",
              "\n",
              "   Duration  Purpose  \n",
              "0      36.0      5.0  \n",
              "1      24.0      4.0  \n",
              "2      24.0      1.0  \n",
              "3      36.0      1.0  \n",
              "4      13.0      5.0  "
            ]
          },
          "execution_count": 130,
          "metadata": {},
          "output_type": "execute_result"
        }
      ],
      "source": [
        "knn_imputer = KNNImputer(n_neighbors=5, weights=\"uniform\")\n",
        "\n",
        "X_train_imputed = knn_imputer.fit_transform(X_train)\n",
        "X_test_imputed = knn_imputer.transform(X_test)\n",
        "\n",
        "X_train_imputed = pd.DataFrame(X_train_imputed, columns=X_train.columns)\n",
        "X_test_imputed = pd.DataFrame(X_test_imputed, columns=X_test.columns)\n",
        "\n",
        "X_train_imputed.head()"
      ]
    },
    {
      "cell_type": "code",
      "execution_count": 131,
      "metadata": {},
      "outputs": [
        {
          "data": {
            "text/plain": [
              "Age                 0\n",
              "Sex                 0\n",
              "Job                 0\n",
              "Housing             0\n",
              "Saving accounts     0\n",
              "Checking account    0\n",
              "Credit amount       0\n",
              "Duration            0\n",
              "Purpose             0\n",
              "dtype: int64"
            ]
          },
          "execution_count": 131,
          "metadata": {},
          "output_type": "execute_result"
        }
      ],
      "source": [
        "X_train_imputed.isna().sum()"
      ]
    },
    {
      "cell_type": "markdown",
      "metadata": {
        "id": "Lfve80cbldFX"
      },
      "source": [
        "# Задание 4\n",
        "\n",
        "Сбалансируйте обучающую выборку методом SMOTE и обучите модель RandomForestClassifier. Подберите оптимальные гиперпараметры с помощью GridSearch. Посчитайте метрику ROC-AUC на тестовой выборке."
      ]
    },
    {
      "cell_type": "code",
      "execution_count": 132,
      "metadata": {
        "id": "yVfrSFCszMD_"
      },
      "outputs": [],
      "source": [
        "os = SMOTE(random_state=137)\n",
        "adasyn = ADASYN(random_state=137)\n",
        "enn = SMOTEENN(random_state=137)\n",
        "st = SMOTETomek(random_state=137)\n",
        "\n",
        "\n",
        "X_train_os, y_train_os = os.fit_resample(X_train_imputed, y_train)\n",
        "X_train_adasyn, y_train_adasyn = adasyn.fit_resample(X_train_imputed, y_train)\n",
        "X_train_enn, y_train_enn = enn.fit_resample(X_train_imputed, y_train)\n",
        "X_train_st, y_train_st = st.fit_resample(X_train_imputed, y_train)\n"
      ]
    },
    {
      "cell_type": "code",
      "execution_count": 133,
      "metadata": {},
      "outputs": [
        {
          "name": "stdout",
          "output_type": "stream",
          "text": [
            "ROC-AUC with SMOTE                     : 73.17%\n",
            "ROC-AUC with ADASYN                    : 74.54%\n",
            "ROC-AUC with SMOTEENN                  : 74.50%\n",
            "ROC-AUC with SMOTETomek                : 72.86%\n"
          ]
        },
        {
          "data": {
            "text/plain": [
              "('SMOTETomek', 0.7285714285714286)"
            ]
          },
          "execution_count": 133,
          "metadata": {},
          "output_type": "execute_result"
        }
      ],
      "source": [
        "model_funcs.get_roc_auc_cb(X_train_os, y_train_os, X_test_imputed, y_test, \"SMOTE\")\n",
        "model_funcs.get_roc_auc_cb(X_train_adasyn, y_train_adasyn, X_test_imputed, y_test, \"ADASYN\")\n",
        "model_funcs.get_roc_auc_cb(X_train_enn, y_train_enn, X_test_imputed, y_test, \"SMOTEENN\")\n",
        "model_funcs.get_roc_auc_cb(X_train_st, y_train_st, X_test_imputed, y_test, \"SMOTETomek\")"
      ]
    },
    {
      "cell_type": "code",
      "execution_count": 134,
      "metadata": {},
      "outputs": [
        {
          "name": "stdout",
          "output_type": "stream",
          "text": [
            "ROC-AUC with SMOTE                     : 75.30%\n",
            "ROC-AUC with ADASYN                    : 76.85%\n",
            "ROC-AUC with SMOTEENN                  : 74.90%\n",
            "ROC-AUC with SMOTETomek                : 75.62%\n"
          ]
        },
        {
          "data": {
            "text/plain": [
              "('SMOTETomek', 0.7561904761904762)"
            ]
          },
          "execution_count": 134,
          "metadata": {},
          "output_type": "execute_result"
        }
      ],
      "source": [
        "model_funcs.get_roc_auc_xgb(X_train_os, y_train_os, X_test_imputed, y_test, \"SMOTE\")\n",
        "model_funcs.get_roc_auc_xgb(X_train_adasyn, y_train_adasyn, X_test_imputed, y_test, \"ADASYN\")\n",
        "model_funcs.get_roc_auc_xgb(X_train_enn, y_train_enn, X_test_imputed, y_test, \"SMOTEENN\")\n",
        "model_funcs.get_roc_auc_xgb(X_train_st, y_train_st, X_test_imputed, y_test, \"SMOTETomek\")"
      ]
    },
    {
      "cell_type": "markdown",
      "metadata": {},
      "source": [
        "**Неожиданно, прямо скажем. В очередной раз убеждаюсь, что время потрачено впустую.** :)\n",
        "\n",
        "**Ну, и напоследок:**"
      ]
    },
    {
      "cell_type": "code",
      "execution_count": 135,
      "metadata": {},
      "outputs": [
        {
          "name": "stdout",
          "output_type": "stream",
          "text": [
            "ROC-AUC with BalancedBaggingClassifier : 75.44%\n",
            "ROC-AUC with EasyEnsembleClassifier    : 74.59%\n"
          ]
        },
        {
          "data": {
            "text/plain": [
              "('EasyEnsembleClassifier', 0.7458928571428572)"
            ]
          },
          "execution_count": 135,
          "metadata": {},
          "output_type": "execute_result"
        }
      ],
      "source": [
        "bbc = BalancedBaggingClassifier(\n",
        "    estimator=ExtraTreesClassifier(), random_state=137, n_estimators=100, n_jobs=-1\n",
        ")\n",
        "eec = EasyEnsembleClassifier(\n",
        "    estimator=ExtraTreesClassifier(), random_state=137, n_estimators=100, n_jobs=-1\n",
        ")\n",
        "\n",
        "model_funcs.get_roc_auc_special(\n",
        "    bbc, X_train_imputed, y_train, X_test_imputed, y_test, \"BalancedBaggingClassifier\"\n",
        ")\n",
        "model_funcs.get_roc_auc_special(\n",
        "    eec, X_train_imputed, y_train, X_test_imputed, y_test, \"EasyEnsembleClassifier\"\n",
        ")"
      ]
    },
    {
      "cell_type": "markdown",
      "metadata": {},
      "source": [
        "**Чуда не произошло.**"
      ]
    },
    {
      "cell_type": "code",
      "execution_count": null,
      "metadata": {},
      "outputs": [],
      "source": []
    },
    {
      "cell_type": "markdown",
      "metadata": {
        "id": "B1ysndUDu5YU"
      },
      "source": [
        "# Задание 5\n",
        "\n",
        "Обучите модель RandomForestClassifier с использованием весов классов. Подберите оптимальные веса и гиперпараметры с помощью GridSearch. Посчитайте метрику ROC-AUC на тестовой выборке."
      ]
    },
    {
      "cell_type": "code",
      "execution_count": 136,
      "metadata": {
        "id": "3IQbqeCvzNAp"
      },
      "outputs": [
        {
          "name": "stdout",
          "output_type": "stream",
          "text": [
            "ROC-AUC with ExtraTreesClassifier      : 74.20%\n"
          ]
        },
        {
          "data": {
            "text/plain": [
              "('ExtraTreesClassifier', 0.7419642857142857)"
            ]
          },
          "execution_count": 136,
          "metadata": {},
          "output_type": "execute_result"
        }
      ],
      "source": [
        "xt = ExtraTreesClassifier(random_state=137, class_weight=\"balanced\")\n",
        "\n",
        "model_funcs.get_roc_auc_special(\n",
        "    xt, X_train_imputed, y_train, X_test_imputed, y_test, \"ExtraTreesClassifier\"\n",
        ")"
      ]
    },
    {
      "cell_type": "markdown",
      "metadata": {},
      "source": [
        "# **Выводы.**"
      ]
    },
    {
      "cell_type": "markdown",
      "metadata": {},
      "source": [
        "---\n",
        "\n",
        "### **Сводные результаты в таблице**\n",
        "\n",
        "| Модель / Метод                           | ROC-AUC          |\n",
        "|------------------------------------------|------------------|\n",
        "| **CatBoostClassifier**                   |                  |\n",
        "| Default                                  | **76.64%**       |\n",
        "| SMOTE                                    | 73.17%           |\n",
        "| ADASYN                                   | 74.54%           |\n",
        "| SMOTEENN                                 | 74.50%           |\n",
        "| SMOTETomek                               | 72.86%           |\n",
        "| **XGBClassifier**                        |                  |\n",
        "| SMOTE                                    | 75.30%           |\n",
        "| ADASYN                                   | **76.85%**       |\n",
        "| SMOTEENN                                 | 74.90%           |\n",
        "| SMOTETomek                               | 75.62%           |\n",
        "| **BalancedBaggingClassifier**            | 75.44%                 |\n",
        "| **EasyEnsembleClassifier**               | 74.59%                 |\n",
        "| **ExtraTreesClassifier balanced**                 |  74.20%                |\n",
        "\n",
        "---\n",
        "\n",
        "### **Анализ результатов**\n",
        "\n",
        "1. **CatBoostClassifier**:\n",
        "   - Лучшая производительность у модели без методов балансировки (76.64%).\n",
        "   - Методы балансировки (SMOTE, ADASYN, SMOTEENN, SMOTETomek) немного ухудшают качество, вероятно, из-за чрезмерной синтетической генерации данных или конфликтов с внутренними механизмами CatBoost.\n",
        "\n",
        "2. **XGBClassifier**:\n",
        "   - Сильнее реагирует на методы балансировки:\n",
        "     - **ADASYN** показывает лучший результат (76.85%), превосходя даже CatBoost.\n",
        "     - **SMOTETomek** (75.62%) и **SMOTE** (75.30%) также улучшают результат по сравнению с другими моделями.\n",
        "   - Однако `SMOTEENN` чуть менее эффективен (74.90%).\n",
        "\n",
        "3. **BalancedBaggingClassifier**:\n",
        "   - Показатель (75.44%) находится между результатами CatBoost и XGB с методами балансировки.\n",
        "   - Это подтверждает эффективность бэггинга в устранении дисбаланса классов.\n",
        "\n",
        "4. **EasyEnsembleClassifier**:\n",
        "   - Хорошо справляется с задачей (74.59%), но уступает CatBoost и XGB.\n",
        "\n",
        "5. **ExtraTreesClassifier**:\n",
        "   - Показывает наихудший результат среди всех моделей (74.20%), что указывает на ограниченность его применения в текущем случае.\n",
        "\n",
        "---\n",
        "\n",
        "### **Выводы**\n",
        "\n",
        "1. **CatBoostClassifier с настройками по умолчанию**:\n",
        "   - Остаётся лидером по качеству (76.64%), без необходимости применения дополнительных методов балансировки.\n",
        "\n",
        "2. **XGBClassifier + ADASYN**:\n",
        "   - Эта комбинация показывает наилучший результат среди всех методов (76.85%), делая XGBoost хорошей альтернативой CatBoost.\n",
        "\n",
        "3. **Методы синтетической балансировки**:\n",
        "   - SMOTE и его вариации (ADASYN, SMOTETomek, SMOTEENN) хорошо работают с XGBClassifier, но снижают качество для CatBoost.\n",
        "\n",
        "4. **Бэггинг и ансамбли**:\n",
        "   - BalancedBaggingClassifier и EasyEnsembleClassifier показывают хорошие результаты, но уступают CatBoost и XGB.\n",
        "\n",
        "---\n",
        "\n",
        "### **Рекомендации**\n",
        "\n",
        "1. Используй **CatBoostClassifier без балансировки**, если цель — простота и стабильность модели.\n",
        "2. Если предпочтителен **XGBClassifier**, то добавление метода **ADASYN** может улучшить качество.\n",
        "3. Методы, такие как **BalancedBaggingClassifier** и **EasyEnsembleClassifier**, могут быть полезны при необходимости более интерпретируемого подхода к дисбалансу классов.\n",
        "4. Не стоит применять методы синтетической балансировки к моделям, которые сами хорошо работают с дисбалансом (например, CatBoost).\n",
        "\n",
        "---"
      ]
    },
    {
      "cell_type": "markdown",
      "metadata": {},
      "source": [
        "## **P.S. Раз уж у меня осталось ещё немного времени, прогоню, обрезав пропуски и без логарифмирования суммы кредита.**"
      ]
    },
    {
      "cell_type": "code",
      "execution_count": 137,
      "metadata": {},
      "outputs": [
        {
          "name": "stdout",
          "output_type": "stream",
          "text": [
            "(522, 10)\n"
          ]
        },
        {
          "data": {
            "text/html": [
              "<div>\n",
              "<style scoped>\n",
              "    .dataframe tbody tr th:only-of-type {\n",
              "        vertical-align: middle;\n",
              "    }\n",
              "\n",
              "    .dataframe tbody tr th {\n",
              "        vertical-align: top;\n",
              "    }\n",
              "\n",
              "    .dataframe thead th {\n",
              "        text-align: right;\n",
              "    }\n",
              "</style>\n",
              "<table border=\"1\" class=\"dataframe\">\n",
              "  <thead>\n",
              "    <tr style=\"text-align: right;\">\n",
              "      <th></th>\n",
              "      <th>Age</th>\n",
              "      <th>Sex</th>\n",
              "      <th>Job</th>\n",
              "      <th>Housing</th>\n",
              "      <th>Saving accounts</th>\n",
              "      <th>Checking account</th>\n",
              "      <th>Credit amount</th>\n",
              "      <th>Duration</th>\n",
              "      <th>Purpose</th>\n",
              "      <th>target</th>\n",
              "    </tr>\n",
              "  </thead>\n",
              "  <tbody>\n",
              "    <tr>\n",
              "      <th>1</th>\n",
              "      <td>22</td>\n",
              "      <td>female</td>\n",
              "      <td>2</td>\n",
              "      <td>own</td>\n",
              "      <td>little</td>\n",
              "      <td>moderate</td>\n",
              "      <td>5951</td>\n",
              "      <td>48</td>\n",
              "      <td>radio/TV</td>\n",
              "      <td>0</td>\n",
              "    </tr>\n",
              "    <tr>\n",
              "      <th>3</th>\n",
              "      <td>45</td>\n",
              "      <td>male</td>\n",
              "      <td>2</td>\n",
              "      <td>free</td>\n",
              "      <td>little</td>\n",
              "      <td>little</td>\n",
              "      <td>7882</td>\n",
              "      <td>42</td>\n",
              "      <td>furniture/equipment</td>\n",
              "      <td>1</td>\n",
              "    </tr>\n",
              "    <tr>\n",
              "      <th>4</th>\n",
              "      <td>53</td>\n",
              "      <td>male</td>\n",
              "      <td>2</td>\n",
              "      <td>free</td>\n",
              "      <td>little</td>\n",
              "      <td>little</td>\n",
              "      <td>4870</td>\n",
              "      <td>24</td>\n",
              "      <td>car</td>\n",
              "      <td>0</td>\n",
              "    </tr>\n",
              "    <tr>\n",
              "      <th>7</th>\n",
              "      <td>35</td>\n",
              "      <td>male</td>\n",
              "      <td>3</td>\n",
              "      <td>rent</td>\n",
              "      <td>little</td>\n",
              "      <td>moderate</td>\n",
              "      <td>6948</td>\n",
              "      <td>36</td>\n",
              "      <td>car</td>\n",
              "      <td>1</td>\n",
              "    </tr>\n",
              "    <tr>\n",
              "      <th>9</th>\n",
              "      <td>28</td>\n",
              "      <td>male</td>\n",
              "      <td>3</td>\n",
              "      <td>own</td>\n",
              "      <td>little</td>\n",
              "      <td>moderate</td>\n",
              "      <td>5234</td>\n",
              "      <td>30</td>\n",
              "      <td>car</td>\n",
              "      <td>0</td>\n",
              "    </tr>\n",
              "  </tbody>\n",
              "</table>\n",
              "</div>"
            ],
            "text/plain": [
              "   Age     Sex  Job Housing Saving accounts Checking account  Credit amount  \\\n",
              "1   22  female    2     own          little         moderate           5951   \n",
              "3   45    male    2    free          little           little           7882   \n",
              "4   53    male    2    free          little           little           4870   \n",
              "7   35    male    3    rent          little         moderate           6948   \n",
              "9   28    male    3     own          little         moderate           5234   \n",
              "\n",
              "   Duration              Purpose  target  \n",
              "1        48             radio/TV       0  \n",
              "3        42  furniture/equipment       1  \n",
              "4        24                  car       0  \n",
              "7        36                  car       1  \n",
              "9        30                  car       0  "
            ]
          },
          "execution_count": 137,
          "metadata": {},
          "output_type": "execute_result"
        }
      ],
      "source": [
        "df2 = df.copy()\n",
        "\n",
        "df2 = df2.dropna()\n",
        "print(df2.shape)\n",
        "df2.head()"
      ]
    },
    {
      "cell_type": "code",
      "execution_count": 138,
      "metadata": {},
      "outputs": [],
      "source": [
        "X2 = df2.drop(\"target\", axis=1)\n",
        "y2 = df2[\"target\"]\n",
        "X_train2, X_test2, y_train2, y_test2 = train_test_split(\n",
        "    X2, y2, test_size=0.2, random_state=137, stratify=y2\n",
        ")"
      ]
    },
    {
      "cell_type": "code",
      "execution_count": 139,
      "metadata": {},
      "outputs": [
        {
          "data": {
            "text/html": [
              "<div>\n",
              "<style scoped>\n",
              "    .dataframe tbody tr th:only-of-type {\n",
              "        vertical-align: middle;\n",
              "    }\n",
              "\n",
              "    .dataframe tbody tr th {\n",
              "        vertical-align: top;\n",
              "    }\n",
              "\n",
              "    .dataframe thead th {\n",
              "        text-align: right;\n",
              "    }\n",
              "</style>\n",
              "<table border=\"1\" class=\"dataframe\">\n",
              "  <thead>\n",
              "    <tr style=\"text-align: right;\">\n",
              "      <th></th>\n",
              "      <th>Age</th>\n",
              "      <th>Sex</th>\n",
              "      <th>Job</th>\n",
              "      <th>Housing</th>\n",
              "      <th>Saving accounts</th>\n",
              "      <th>Checking account</th>\n",
              "      <th>Credit amount</th>\n",
              "      <th>Duration</th>\n",
              "      <th>Purpose</th>\n",
              "    </tr>\n",
              "  </thead>\n",
              "  <tbody>\n",
              "    <tr>\n",
              "      <th>926</th>\n",
              "      <td>21</td>\n",
              "      <td>0</td>\n",
              "      <td>2</td>\n",
              "      <td>2</td>\n",
              "      <td>0</td>\n",
              "      <td>0</td>\n",
              "      <td>1049</td>\n",
              "      <td>18</td>\n",
              "      <td>4</td>\n",
              "    </tr>\n",
              "    <tr>\n",
              "      <th>613</th>\n",
              "      <td>22</td>\n",
              "      <td>0</td>\n",
              "      <td>2</td>\n",
              "      <td>2</td>\n",
              "      <td>0</td>\n",
              "      <td>0</td>\n",
              "      <td>3632</td>\n",
              "      <td>24</td>\n",
              "      <td>1</td>\n",
              "    </tr>\n",
              "    <tr>\n",
              "      <th>713</th>\n",
              "      <td>25</td>\n",
              "      <td>1</td>\n",
              "      <td>1</td>\n",
              "      <td>1</td>\n",
              "      <td>0</td>\n",
              "      <td>0</td>\n",
              "      <td>1138</td>\n",
              "      <td>9</td>\n",
              "      <td>5</td>\n",
              "    </tr>\n",
              "    <tr>\n",
              "      <th>422</th>\n",
              "      <td>47</td>\n",
              "      <td>1</td>\n",
              "      <td>1</td>\n",
              "      <td>1</td>\n",
              "      <td>0</td>\n",
              "      <td>1</td>\n",
              "      <td>958</td>\n",
              "      <td>12</td>\n",
              "      <td>1</td>\n",
              "    </tr>\n",
              "    <tr>\n",
              "      <th>979</th>\n",
              "      <td>25</td>\n",
              "      <td>1</td>\n",
              "      <td>2</td>\n",
              "      <td>2</td>\n",
              "      <td>1</td>\n",
              "      <td>1</td>\n",
              "      <td>1264</td>\n",
              "      <td>15</td>\n",
              "      <td>1</td>\n",
              "    </tr>\n",
              "  </tbody>\n",
              "</table>\n",
              "</div>"
            ],
            "text/plain": [
              "     Age  Sex  Job  Housing  Saving accounts  Checking account  Credit amount  \\\n",
              "926   21    0    2        2                0                 0           1049   \n",
              "613   22    0    2        2                0                 0           3632   \n",
              "713   25    1    1        1                0                 0           1138   \n",
              "422   47    1    1        1                0                 1            958   \n",
              "979   25    1    2        2                1                 1           1264   \n",
              "\n",
              "     Duration  Purpose  \n",
              "926        18        4  \n",
              "613        24        1  \n",
              "713         9        5  \n",
              "422        12        1  \n",
              "979        15        1  "
            ]
          },
          "execution_count": 139,
          "metadata": {},
          "output_type": "execute_result"
        }
      ],
      "source": [
        "cat_features = [\"Sex\", \"Housing\", \"Job\", \"Saving accounts\", \"Checking account\", \"Purpose\"]\n",
        "\n",
        "le = LabelEncoder()\n",
        "for col in cat_features:\n",
        "    X_train2[col] = le.fit_transform(X_train2[col])\n",
        "    X_test2[col] = le.transform(X_test2[col])\n",
        "\n",
        "X_train2.head()"
      ]
    },
    {
      "cell_type": "code",
      "execution_count": 140,
      "metadata": {},
      "outputs": [],
      "source": [
        "X_train2_os, y_train2_os = SMOTE().fit_resample(X_train2, y_train2)\n",
        "X_train2_adasyn, y_train2_adasyn = ADASYN().fit_resample(X_train2, y_train2)\n",
        "X_train2_enn, y_train2_enn = SMOTEENN().fit_resample(X_train2, y_train2)\n",
        "X_train2_st, y_train2_st = SMOTETomek().fit_resample(X_train2, y_train2)"
      ]
    },
    {
      "cell_type": "code",
      "execution_count": 141,
      "metadata": {},
      "outputs": [
        {
          "name": "stdout",
          "output_type": "stream",
          "text": [
            "ROC-AUC with SMOTE                     : 64.15%\n",
            "ROC-AUC with ADASYN                    : 65.95%\n",
            "ROC-AUC with SMOTEENN                  : 60.94%\n",
            "ROC-AUC with SMOTETomek                : 67.13%\n",
            "ROC-AUC with SMOTE                     : 66.32%\n",
            "ROC-AUC with ADASYN                    : 65.07%\n",
            "ROC-AUC with SMOTEENN                  : 57.52%\n",
            "ROC-AUC with SMOTETomek                : 64.11%\n"
          ]
        },
        {
          "data": {
            "text/plain": [
              "('SMOTETomek', 0.6411201179071481)"
            ]
          },
          "execution_count": 141,
          "metadata": {},
          "output_type": "execute_result"
        }
      ],
      "source": [
        "model_funcs.get_roc_auc_cb(X_train2_os, y_train2_os, X_test2, y_test2, \"SMOTE\")\n",
        "model_funcs.get_roc_auc_cb(X_train2_adasyn, y_train2_adasyn, X_test2, y_test2, \"ADASYN\")\n",
        "model_funcs.get_roc_auc_cb(X_train2_enn, y_train2_enn, X_test2, y_test2, \"SMOTEENN\")    \n",
        "model_funcs.get_roc_auc_cb(X_train2_st, y_train2_st, X_test2, y_test2, \"SMOTETomek\")\n",
        "model_funcs.get_roc_auc_xgb(X_train2_os, y_train2_os, X_test2, y_test2, \"SMOTE\")\n",
        "model_funcs.get_roc_auc_xgb(X_train2_adasyn, y_train2_adasyn, X_test2, y_test2, \"ADASYN\")\n",
        "model_funcs.get_roc_auc_xgb(X_train2_enn, y_train2_enn, X_test2, y_test2, \"SMOTEENN\")    \n",
        "model_funcs.get_roc_auc_xgb(X_train2_st, y_train2_st, X_test2, y_test2, \"SMOTETomek\")"
      ]
    },
    {
      "cell_type": "code",
      "execution_count": 142,
      "metadata": {},
      "outputs": [
        {
          "name": "stdout",
          "output_type": "stream",
          "text": [
            "ROC-AUC with BalancedBaggingClassifier : 62.77%\n",
            "ROC-AUC with EasyEnsembleClassifier    : 61.72%\n",
            "ROC-AUC with ExtraTreesClassifier      : 61.07%\n"
          ]
        },
        {
          "data": {
            "text/plain": [
              "('ExtraTreesClassifier', 0.6107221812822402)"
            ]
          },
          "execution_count": 142,
          "metadata": {},
          "output_type": "execute_result"
        }
      ],
      "source": [
        "model_funcs.get_roc_auc_special(\n",
        "    bbc, X_train2, y_train2, X_test2, y_test2, \"BalancedBaggingClassifier\"\n",
        ")\n",
        "model_funcs.get_roc_auc_special(\n",
        "    eec, X_train2, y_train2, X_test2, y_test2, \"EasyEnsembleClassifier\"\n",
        ")\n",
        "model_funcs.get_roc_auc_special(\n",
        "    xt, X_train2, y_train2, X_test2, y_test2, \"ExtraTreesClassifier\"\n",
        ")"
      ]
    },
    {
      "cell_type": "markdown",
      "metadata": {},
      "source": [
        "## **Ок. Теперь возьмём первый вариант, но уберём логарифмизацию:**"
      ]
    },
    {
      "cell_type": "code",
      "execution_count": 143,
      "metadata": {},
      "outputs": [],
      "source": [
        "X3 = df.drop(\"target\", axis=1)\n",
        "y3 = df[\"target\"]\n",
        "\n",
        "X_train3, X_test3, y_train3, y_test3 = train_test_split(\n",
        "    X3, y3, test_size=0.2, random_state=137, stratify=y3\n",
        ")"
      ]
    },
    {
      "cell_type": "code",
      "execution_count": 144,
      "metadata": {},
      "outputs": [
        {
          "data": {
            "text/html": [
              "<div>\n",
              "<style scoped>\n",
              "    .dataframe tbody tr th:only-of-type {\n",
              "        vertical-align: middle;\n",
              "    }\n",
              "\n",
              "    .dataframe tbody tr th {\n",
              "        vertical-align: top;\n",
              "    }\n",
              "\n",
              "    .dataframe thead th {\n",
              "        text-align: right;\n",
              "    }\n",
              "</style>\n",
              "<table border=\"1\" class=\"dataframe\">\n",
              "  <thead>\n",
              "    <tr style=\"text-align: right;\">\n",
              "      <th></th>\n",
              "      <th>Age</th>\n",
              "      <th>Sex</th>\n",
              "      <th>Job</th>\n",
              "      <th>Housing</th>\n",
              "      <th>Saving accounts</th>\n",
              "      <th>Checking account</th>\n",
              "      <th>Credit amount</th>\n",
              "      <th>Duration</th>\n",
              "      <th>Purpose</th>\n",
              "    </tr>\n",
              "  </thead>\n",
              "  <tbody>\n",
              "    <tr>\n",
              "      <th>211</th>\n",
              "      <td>45</td>\n",
              "      <td>0</td>\n",
              "      <td>1</td>\n",
              "      <td>1</td>\n",
              "      <td>4</td>\n",
              "      <td>3</td>\n",
              "      <td>3835</td>\n",
              "      <td>36</td>\n",
              "      <td>5</td>\n",
              "    </tr>\n",
              "    <tr>\n",
              "      <th>93</th>\n",
              "      <td>20</td>\n",
              "      <td>1</td>\n",
              "      <td>2</td>\n",
              "      <td>2</td>\n",
              "      <td>4</td>\n",
              "      <td>2</td>\n",
              "      <td>3617</td>\n",
              "      <td>24</td>\n",
              "      <td>4</td>\n",
              "    </tr>\n",
              "    <tr>\n",
              "      <th>414</th>\n",
              "      <td>35</td>\n",
              "      <td>0</td>\n",
              "      <td>2</td>\n",
              "      <td>1</td>\n",
              "      <td>4</td>\n",
              "      <td>0</td>\n",
              "      <td>1381</td>\n",
              "      <td>24</td>\n",
              "      <td>1</td>\n",
              "    </tr>\n",
              "    <tr>\n",
              "      <th>687</th>\n",
              "      <td>30</td>\n",
              "      <td>1</td>\n",
              "      <td>2</td>\n",
              "      <td>0</td>\n",
              "      <td>1</td>\n",
              "      <td>1</td>\n",
              "      <td>2862</td>\n",
              "      <td>36</td>\n",
              "      <td>1</td>\n",
              "    </tr>\n",
              "    <tr>\n",
              "      <th>346</th>\n",
              "      <td>23</td>\n",
              "      <td>1</td>\n",
              "      <td>2</td>\n",
              "      <td>1</td>\n",
              "      <td>0</td>\n",
              "      <td>1</td>\n",
              "      <td>882</td>\n",
              "      <td>13</td>\n",
              "      <td>5</td>\n",
              "    </tr>\n",
              "  </tbody>\n",
              "</table>\n",
              "</div>"
            ],
            "text/plain": [
              "     Age  Sex  Job  Housing  Saving accounts  Checking account  Credit amount  \\\n",
              "211   45    0    1        1                4                 3           3835   \n",
              "93    20    1    2        2                4                 2           3617   \n",
              "414   35    0    2        1                4                 0           1381   \n",
              "687   30    1    2        0                1                 1           2862   \n",
              "346   23    1    2        1                0                 1            882   \n",
              "\n",
              "     Duration  Purpose  \n",
              "211        36        5  \n",
              "93         24        4  \n",
              "414        24        1  \n",
              "687        36        1  \n",
              "346        13        5  "
            ]
          },
          "execution_count": 144,
          "metadata": {},
          "output_type": "execute_result"
        }
      ],
      "source": [
        "cat_features = [\"Sex\", \"Housing\", \"Job\", \"Saving accounts\", \"Checking account\", \"Purpose\"]\n",
        "\n",
        "le = LabelEncoder()\n",
        "for col in cat_features:\n",
        "    X_train3[col] = le.fit_transform(X_train3[col])\n",
        "    X_test3[col] = le.transform(X_test3[col])\n",
        "\n",
        "X_train3.head()"
      ]
    },
    {
      "cell_type": "code",
      "execution_count": 145,
      "metadata": {},
      "outputs": [
        {
          "data": {
            "text/html": [
              "<div>\n",
              "<style scoped>\n",
              "    .dataframe tbody tr th:only-of-type {\n",
              "        vertical-align: middle;\n",
              "    }\n",
              "\n",
              "    .dataframe tbody tr th {\n",
              "        vertical-align: top;\n",
              "    }\n",
              "\n",
              "    .dataframe thead th {\n",
              "        text-align: right;\n",
              "    }\n",
              "</style>\n",
              "<table border=\"1\" class=\"dataframe\">\n",
              "  <thead>\n",
              "    <tr style=\"text-align: right;\">\n",
              "      <th></th>\n",
              "      <th>Age</th>\n",
              "      <th>Sex</th>\n",
              "      <th>Job</th>\n",
              "      <th>Housing</th>\n",
              "      <th>Saving accounts</th>\n",
              "      <th>Checking account</th>\n",
              "      <th>Credit amount</th>\n",
              "      <th>Duration</th>\n",
              "      <th>Purpose</th>\n",
              "    </tr>\n",
              "  </thead>\n",
              "  <tbody>\n",
              "    <tr>\n",
              "      <th>0</th>\n",
              "      <td>45.0</td>\n",
              "      <td>0.0</td>\n",
              "      <td>1.0</td>\n",
              "      <td>1.0</td>\n",
              "      <td>4.0</td>\n",
              "      <td>3.0</td>\n",
              "      <td>3835.0</td>\n",
              "      <td>36.0</td>\n",
              "      <td>5.0</td>\n",
              "    </tr>\n",
              "    <tr>\n",
              "      <th>1</th>\n",
              "      <td>20.0</td>\n",
              "      <td>1.0</td>\n",
              "      <td>2.0</td>\n",
              "      <td>2.0</td>\n",
              "      <td>4.0</td>\n",
              "      <td>2.0</td>\n",
              "      <td>3617.0</td>\n",
              "      <td>24.0</td>\n",
              "      <td>4.0</td>\n",
              "    </tr>\n",
              "    <tr>\n",
              "      <th>2</th>\n",
              "      <td>35.0</td>\n",
              "      <td>0.0</td>\n",
              "      <td>2.0</td>\n",
              "      <td>1.0</td>\n",
              "      <td>4.0</td>\n",
              "      <td>0.0</td>\n",
              "      <td>1381.0</td>\n",
              "      <td>24.0</td>\n",
              "      <td>1.0</td>\n",
              "    </tr>\n",
              "    <tr>\n",
              "      <th>3</th>\n",
              "      <td>30.0</td>\n",
              "      <td>1.0</td>\n",
              "      <td>2.0</td>\n",
              "      <td>0.0</td>\n",
              "      <td>1.0</td>\n",
              "      <td>1.0</td>\n",
              "      <td>2862.0</td>\n",
              "      <td>36.0</td>\n",
              "      <td>1.0</td>\n",
              "    </tr>\n",
              "    <tr>\n",
              "      <th>4</th>\n",
              "      <td>23.0</td>\n",
              "      <td>1.0</td>\n",
              "      <td>2.0</td>\n",
              "      <td>1.0</td>\n",
              "      <td>0.0</td>\n",
              "      <td>1.0</td>\n",
              "      <td>882.0</td>\n",
              "      <td>13.0</td>\n",
              "      <td>5.0</td>\n",
              "    </tr>\n",
              "  </tbody>\n",
              "</table>\n",
              "</div>"
            ],
            "text/plain": [
              "    Age  Sex  Job  Housing  Saving accounts  Checking account  Credit amount  \\\n",
              "0  45.0  0.0  1.0      1.0              4.0               3.0         3835.0   \n",
              "1  20.0  1.0  2.0      2.0              4.0               2.0         3617.0   \n",
              "2  35.0  0.0  2.0      1.0              4.0               0.0         1381.0   \n",
              "3  30.0  1.0  2.0      0.0              1.0               1.0         2862.0   \n",
              "4  23.0  1.0  2.0      1.0              0.0               1.0          882.0   \n",
              "\n",
              "   Duration  Purpose  \n",
              "0      36.0      5.0  \n",
              "1      24.0      4.0  \n",
              "2      24.0      1.0  \n",
              "3      36.0      1.0  \n",
              "4      13.0      5.0  "
            ]
          },
          "execution_count": 145,
          "metadata": {},
          "output_type": "execute_result"
        }
      ],
      "source": [
        "X_train3_imputed = knn_imputer.fit_transform(X_train3)\n",
        "X_test3_imputed = knn_imputer.transform(X_test3)\n",
        "\n",
        "X_train3_imputed = pd.DataFrame(X_train3_imputed, columns=X_train3.columns)\n",
        "X_test3_imputed = pd.DataFrame(X_test3_imputed, columns=X_test3.columns)\n",
        "\n",
        "X_train3_imputed.head()"
      ]
    },
    {
      "cell_type": "code",
      "execution_count": 146,
      "metadata": {},
      "outputs": [],
      "source": [
        "X_train3_os, y_train3_os = SMOTE().fit_resample(X_train3_imputed, y_train3)\n",
        "X_train3_adasyn, y_train3_adasyn = ADASYN().fit_resample(X_train3_imputed, y_train3)\n",
        "X_train3_enn, y_train3_enn = SMOTEENN().fit_resample(X_train3_imputed, y_train3)\n",
        "X_train3_st, y_train3_st = SMOTETomek().fit_resample(X_train3_imputed, y_train3)\n"
      ]
    },
    {
      "cell_type": "code",
      "execution_count": 147,
      "metadata": {},
      "outputs": [
        {
          "name": "stdout",
          "output_type": "stream",
          "text": [
            "ROC-AUC with SMOTE                     : 73.37%\n",
            "ROC-AUC with ADASYN                    : 73.01%\n",
            "ROC-AUC with SMOTEENN                  : 69.04%\n",
            "ROC-AUC with SMOTETomek                : 72.81%\n",
            "ROC-AUC with SMOTE                     : 76.52%\n",
            "ROC-AUC with ADASYN                    : 76.40%\n",
            "ROC-AUC with SMOTEENN                  : 69.54%\n",
            "ROC-AUC with SMOTETomek                : 76.37%\n"
          ]
        },
        {
          "data": {
            "text/plain": [
              "('SMOTETomek', 0.7636904761904763)"
            ]
          },
          "execution_count": 147,
          "metadata": {},
          "output_type": "execute_result"
        }
      ],
      "source": [
        "model_funcs.get_roc_auc_cb(X_train3_os, y_train3_os, X_test3, y_test3, \"SMOTE\")\n",
        "model_funcs.get_roc_auc_cb(X_train3_adasyn, y_train3_adasyn, X_test3, y_test3, \"ADASYN\")\n",
        "model_funcs.get_roc_auc_cb(X_train3_enn, y_train3_enn, X_test3, y_test3, \"SMOTEENN\")    \n",
        "model_funcs.get_roc_auc_cb(X_train3_st, y_train3_st, X_test3, y_test3, \"SMOTETomek\")\n",
        "model_funcs.get_roc_auc_xgb(X_train3_os, y_train3_os, X_test3, y_test3, \"SMOTE\")\n",
        "model_funcs.get_roc_auc_xgb(X_train3_adasyn, y_train3_adasyn, X_test3, y_test3, \"ADASYN\")\n",
        "model_funcs.get_roc_auc_xgb(X_train3_enn, y_train3_enn, X_test3, y_test3, \"SMOTEENN\")\n",
        "model_funcs.get_roc_auc_xgb(X_train3_st, y_train3_st, X_test3, y_test3, \"SMOTETomek\")"
      ]
    },
    {
      "cell_type": "code",
      "execution_count": 148,
      "metadata": {},
      "outputs": [
        {
          "name": "stdout",
          "output_type": "stream",
          "text": [
            "ROC-AUC with BalancedBaggingClassifier : 75.32%\n",
            "ROC-AUC with EasyEnsembleClassifier    : 74.26%\n",
            "ROC-AUC with ExtraTreesClassifier      : 70.71%\n"
          ]
        },
        {
          "data": {
            "text/plain": [
              "('ExtraTreesClassifier', 0.7070833333333333)"
            ]
          },
          "execution_count": 148,
          "metadata": {},
          "output_type": "execute_result"
        }
      ],
      "source": [
        "model_funcs.get_roc_auc_special(\n",
        "    bbc, X_train3_imputed, y_train3, X_test3, y_test3, \"BalancedBaggingClassifier\"\n",
        ")\n",
        "model_funcs.get_roc_auc_special(\n",
        "    eec, X_train3_imputed, y_train3, X_test3, y_test3, \"EasyEnsembleClassifier\"\n",
        ")\n",
        "model_funcs.get_roc_auc_special(\n",
        "    xt, X_train3_imputed, y_train3, X_test3, y_test3, \"ExtraTreesClassifier\"\n",
        ")"
      ]
    },
    {
      "cell_type": "code",
      "execution_count": 149,
      "metadata": {},
      "outputs": [
        {
          "data": {
            "image/png": "[encoded data removed]",
            "text/plain": [
              "<Figure size 1400x800 with 1 Axes>"
            ]
          },
          "metadata": {},
          "output_type": "display_data"
        }
      ],
      "source": [
        "# Данные\n",
        "data = {\n",
        "    \"Category\": [\n",
        "        \"CatBoost (Default)\",\n",
        "        \"CatBoost + SMOTE\",\n",
        "        \"CatBoost + ADASYN\",\n",
        "        \"CatBoost + SMOTEENN\",\n",
        "        \"CatBoost + SMOTETomek\",\n",
        "        \"XGB + SMOTE\",\n",
        "        \"XGB + ADASYN\",\n",
        "        \"XGB + SMOTEENN\",\n",
        "        \"XGB + SMOTETomek\",\n",
        "        \"BalancedBagging\",\n",
        "        \"EasyEnsemble\",\n",
        "        \"ExtraTrees\",\n",
        "    ],\n",
        "    \"Initial Run\": [\n",
        "        76.64,\n",
        "        73.17,\n",
        "        74.54,\n",
        "        74.50,\n",
        "        72.86,\n",
        "        75.30,\n",
        "        76.85,\n",
        "        74.90,\n",
        "        75.62,\n",
        "        75.44,\n",
        "        74.59,\n",
        "        74.20,\n",
        "    ],\n",
        "    \"No Imputation\": [\n",
        "        None,\n",
        "        64.15,\n",
        "        65.95,\n",
        "        60.94,\n",
        "        67.13,\n",
        "        66.32,\n",
        "        65.07,\n",
        "        57.52,\n",
        "        64.11,\n",
        "        62.77,\n",
        "        61.72,\n",
        "        61.07,\n",
        "    ],\n",
        "    \"No Logarithm\": [\n",
        "        None,\n",
        "        73.37,\n",
        "        73.01,\n",
        "        69.04,\n",
        "        72.81,\n",
        "        76.52,\n",
        "        76.40,\n",
        "        69.54,\n",
        "        76.37,\n",
        "        75.32,\n",
        "        74.26,\n",
        "        70.71,\n",
        "    ],\n",
        "}\n",
        "\n",
        "# Преобразуем данные в DataFrame\n",
        "df = pd.DataFrame(data)\n",
        "\n",
        "# Построение гистограммы\n",
        "fig, ax = plt.subplots(figsize=(14, 8))\n",
        "\n",
        "categories = df[\"Category\"]\n",
        "x = np.arange(len(categories))\n",
        "bar_width = 0.25\n",
        "\n",
        "# Значения для каждой группы\n",
        "initial = df[\"Initial Run\"]\n",
        "no_imputation = df[\"No Imputation\"]\n",
        "no_logarithm = df[\"No Logarithm\"]\n",
        "\n",
        "# Построение столбцов\n",
        "ax.bar(x - bar_width, initial, width=bar_width, label=\"Initial Run\", color=\"royalblue\")\n",
        "ax.bar(x, no_imputation, width=bar_width, label=\"No Imputation\", color=\"orange\")\n",
        "ax.bar(\n",
        "    x + bar_width, no_logarithm, width=bar_width, label=\"No Logarithm\", color=\"green\"\n",
        ")\n",
        "\n",
        "# Настройки графика\n",
        "ax.set_xlabel(\"Methods\", fontsize=12)\n",
        "ax.set_ylabel(\"ROC-AUC (%)\", fontsize=12)\n",
        "ax.set_title(\"ROC-AUC Comparison by Configuration\", fontsize=16)\n",
        "ax.set_xticks(x)\n",
        "ax.set_xticklabels(categories, rotation=45, ha=\"right\", fontsize=10)\n",
        "ax.legend()\n",
        "\n",
        "# Добавляем сетку\n",
        "ax.grid(axis=\"y\", linestyle=\"--\", alpha=0.7)\n",
        "\n",
        "# Показываем график\n",
        "plt.tight_layout()\n",
        "plt.show()"
      ]
    },
    {
      "cell_type": "markdown",
      "metadata": {},
      "source": [
        "**И ещё красивых выводов в ленту.**\n",
        "\n",
        "### **Выводы по результатам экспериментов**\n",
        "\n",
        "#### **1. Общие наблюдения**\n",
        "- **Лучшие результаты достигаются в конфигурации `Initial Run`**, где использовались методы балансировки или настройки моделей без исключения данных и изменений (например, логарифмирования). Это говорит о том, что базовые данные лучше всего подходят для решения задачи при использовании оптимальных методов.\n",
        "- **Методы балансировки снижают эффективность некоторых моделей**, особенно при применении более агрессивных способов обработки данных (например, без логарифмирования).\n",
        "\n",
        "---\n",
        "\n",
        "#### **2. Анализ по конфигурациям**\n",
        "\n",
        "##### **Initial Run**\n",
        "- **CatBoostClassifier с настройками по умолчанию** достигает наивысшего результата (76.64%), что подтверждает его силу как алгоритма, способного эффективно работать с несбалансированными данными без необходимости дополнительных методов.\n",
        "- **XGBClassifier с ADASYN** показывает практически аналогичное качество (76.85%), что делает его отличной альтернативой при необходимости применять метод балансировки.\n",
        "- **BalancedBaggingClassifier (75.44%)** и **EasyEnsembleClassifier (74.59%)** показывают хорошие результаты, но уступают CatBoost и XGB.\n",
        "\n",
        "##### **No Imputation**\n",
        "- Результаты резко ухудшаются по сравнению с конфигурацией `Initial Run`. Лучший показатель у **CatBoostClassifier с SMOTETomek** (67.13%), но это заметно ниже исходных 76.64%.\n",
        "- **XGBClassifier с SMOTE (66.32%)** также показывает снижение качества, что указывает на значимость пропусков в данных.\n",
        "- Методы ансамблей (BalancedBagging и EasyEnsemble) показывают средние результаты (~62%), а ExtraTreesClassifier демонстрирует наихудший результат (61.07%).\n",
        "\n",
        "##### **No Logarithm**\n",
        "- Удаление логарифмирования сказывается негативно, но меньше, чем исключение пропусков. Например:\n",
        "  - **CatBoostClassifier с SMOTE (73.37%)** остаётся конкурентоспособным.\n",
        "  - **XGBClassifier с SMOTE (76.52%)** и ADASYN (76.40%) сохраняют высокую эффективность, близкую к конфигурации `Initial Run`.\n",
        "- Ансамбли всё ещё уступают бустингам, но сохраняют качество (BalancedBagging: 75.32%).\n",
        "\n",
        "---\n",
        "\n",
        "#### **3. Сравнение моделей**\n",
        "- **CatBoostClassifier**:\n",
        "  - Лидер в конфигурации `Initial Run` без дополнительных методов балансировки.\n",
        "  - Устойчивость к изменениям данных делает его хорошим выбором для задач с несбалансированными классами.\n",
        "- **XGBClassifier**:\n",
        "  - Более чувствителен к методам синтетической балансировки.\n",
        "  - Лучшие результаты достигаются с ADASYN и SMOTE, что делает его подходящим для задач, где требуется улучшить представление меньшего класса.\n",
        "- **Ансамблевые методы (BalancedBagging и EasyEnsemble)**:\n",
        "  - Надёжны, но уступают бустингам.\n",
        "  - Хороший выбор, если требуется интерпретация или устойчивость к выбросам.\n",
        "- **ExtraTreesClassifier**:\n",
        "  - Устойчиво показывает низкие результаты, что говорит о его меньшей эффективности на данной выборке.\n",
        "\n",
        "---\n",
        "\n",
        "#### **4. Рекомендации**\n",
        "1. **Для наиболее высокой точности**:\n",
        "   - Используй **CatBoostClassifier с настройками по умолчанию** (без обработки данных).\n",
        "   - Если предпочтителен другой алгоритм, применяй **XGBClassifier с ADASYN**.\n",
        "\n",
        "2. **Если данные требуют обработки**:\n",
        "   - Избегай пропусков — конфигурация `No Imputation` значительно снижает качество.\n",
        "   - Логарифмирование признаков полезно для устранения скоса распределения, особенно при больших вариациях в данных.\n",
        "\n",
        "3. **Для устойчивости к дисбалансу**:\n",
        "   - Рассмотри **BalancedBaggingClassifier** как надёжный вариант, если важны интерпретация и простота.\n",
        "\n",
        "4. **Исключить ExtraTreesClassifier** из дальнейших экспериментов на данной задаче, так как его качество значительно ниже."
      ]
    },
    {
      "cell_type": "markdown",
      "metadata": {},
      "source": []
    }
  ],
  "metadata": {
    "colab": {
      "provenance": []
    },
    "gpuClass": "standard",
    "kernelspec": {
      "display_name": "Python 3",
      "name": "python3"
    },
    "language_info": {
      "codemirror_mode": {
        "name": "ipython",
        "version": 3
      },
      "file_extension": ".py",
      "mimetype": "text/x-python",
      "name": "python",
      "nbconvert_exporter": "python",
      "pygments_lexer": "ipython3",
      "version": "3.11.0"
    }
  },
  "nbformat": 4,
  "nbformat_minor": 0
}
