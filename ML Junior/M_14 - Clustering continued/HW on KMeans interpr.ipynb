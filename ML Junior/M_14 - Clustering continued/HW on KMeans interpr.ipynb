{
  "cells": [
    {
      "cell_type": "markdown",
      "metadata": {
        "id": "Fa8xrPtQigaq"
      },
      "source": [
        "# Интерпретация. Практическая работа"
      ]
    },
    {
      "cell_type": "markdown",
      "metadata": {
        "id": "rM7f0TqsimDn"
      },
      "source": [
        "## Цель практической работы\n",
        "\n",
        "Научиться интерпретировать модели кластеризации."
      ]
    },
    {
      "cell_type": "markdown",
      "metadata": {
        "id": "yeRAMOIyjGyE"
      },
      "source": [
        "## Что входит в практическую работу\n",
        "\n",
        "\n",
        "1. Загрузить данные и провести разведочный анализ.\n",
        "2. Предположить оптимальное количество кластеров.\n",
        "3. Очистить и подготовить данные для использования в моделях машинного обучения.\n",
        "4. Построить модель кластеризации с помощью библиотеки Scikit-learn и вычислить оптимальное количество кластеров.\n",
        "5. Визуализировать результаты кластеризации.\n",
        "6. Интерпретировать полученные результаты.\n",
        "7. Подкрепить выводы интерпретации визуализациями."
      ]
    },
    {
      "cell_type": "markdown",
      "metadata": {
        "id": "SpyrwrqMm7cb"
      },
      "source": [
        "## Что оценивается \n",
        "\n",
        "* Выполнены все этапы работы.\n",
        "* Сделаны выводы по результатам разведочного анализа данных.\n",
        "* Выполнена и обоснована подготовка данных.\n",
        "* Выбор количества кластеров обоснован и подкреплён визуализацией. \n",
        "* Выбор гиперпараметров метода понижения размерности обоснован.\n",
        "* Интерпретация кластеров подкреплена расчётами и визуализацией. \n",
        "\n"
      ]
    },
    {
      "cell_type": "markdown",
      "metadata": {
        "id": "WZ-WRPIQn8ks"
      },
      "source": [
        "# Задача\n",
        "\n",
        "У вас имеется некоторый набор данных `marketing_campaign.csv` о покупателях супермаркета."
      ]
    },
    {
      "cell_type": "markdown",
      "metadata": {
        "id": "yBTmtB2BoCSD"
      },
      "source": [
        "* ID — уникальный идентификатор клиента.\n",
        "* Year_Birth — год рождения клиента.\n",
        "* Dt_Customer — дата регистрации клиента на сайте.\n",
        "* Recency — количество дней с момента последней покупки клиента.\n",
        "* MntFruits — сумма, потраченная на фрукты за последние два года.\n",
        "* MntMeatProducts — сумма, потраченная на мясо за последние два года.\n",
        "* MntFishProducts — сумма, потраченная на рыбу за последние два года.\n",
        "* MntSweetProducts — сумма, потраченная на сладости за последние два года.\n",
        "* NumWebPurchases — количество покупок, совершённых через сайт.\n",
        "* NumStorePurchases — количество покупок, совершённых непосредственно в магазинах.\n",
        "* Response: 1, если клиент участвовал в последней рекламной кампании, 0 — в противном случае.\n",
        "\n",
        "Решите задачу кластеризации покупателей, чтобы в дальнейшем планировать маркетинговые акции для каждой группы покупателей. Подготовьте результаты своей работы для демонстрации заказчику, не погружённому в машинное обучение."
      ]
    },
    {
      "cell_type": "code",
      "execution_count": 7,
      "metadata": {},
      "outputs": [],
      "source": [
        "import pandas as pd\n",
        "import numpy as np\n",
        "import matplotlib.pyplot as plt\n",
        "from sklearn.cluster import KMeans\n",
        "from sklearn.metrics import silhouette_score\n",
        "import hdbscan\n",
        "from ydata_profiling import ProfileReport"
      ]
    },
    {
      "cell_type": "markdown",
      "metadata": {
        "id": "Wyxcu8IA9Xlv"
      },
      "source": [
        "# Задание 1\n",
        "\n",
        "Загрузите датасет и выполните разведочный анализ данных. Сделайте выводы о найденных закономерностях, особенностях и других свойствах данных, которые вы обнаружите."
      ]
    },
    {
      "cell_type": "code",
      "execution_count": null,
      "metadata": {},
      "outputs": [],
      "source": []
    },
    {
      "cell_type": "code",
      "execution_count": null,
      "metadata": {},
      "outputs": [],
      "source": []
    },
    {
      "cell_type": "code",
      "execution_count": null,
      "metadata": {},
      "outputs": [],
      "source": []
    },
    {
      "cell_type": "markdown",
      "metadata": {
        "id": "pqyP34ti9gNX"
      },
      "source": [
        "# Задание 2\n",
        "\n",
        "Метод k-средних требует явно задать количество кластеров, на которые будут разбиваться данные. Данных может быть так много, что построение одной модели будет занимать несколько часов, поэтому важно заранее примерно представлять количество кластеров до запуска обучения модели.\n",
        "\n",
        "На основе проведённого разведочного анализа данных предположите, какое количество кластеров будет оптимальным, аргументируйте своё предположение."
      ]
    },
    {
      "cell_type": "markdown",
      "metadata": {
        "id": "KK_NoLgO9jeN"
      },
      "source": [
        "Напишите ваш ответ ниже\n"
      ]
    },
    {
      "cell_type": "markdown",
      "metadata": {
        "id": "QOgH7n4H_i_6"
      },
      "source": [
        "# Задание 3\n",
        "\n",
        "Выполните очистку и подготовку данных для дальнейшего использования при построении моделей машинного обучения. Аргументируйте выбранные шаги подготовки данных. "
      ]
    },
    {
      "cell_type": "code",
      "execution_count": null,
      "metadata": {
        "id": "QMpybzSJYlSX"
      },
      "outputs": [],
      "source": []
    },
    {
      "cell_type": "markdown",
      "metadata": {
        "id": "FJluelbRAL_m"
      },
      "source": [
        "# Задание 4\n",
        "\n",
        "Постройте модель кластеризации с помощью метода k-средних. Определите оптимальное количество кластеров с помощью метода локтя и метрики silhouette score. \n",
        "\n",
        "Помните, что аналитический способ определения количества кластеров не является единственно верным. Если ваше понимание предметной области и результаты анализа данных расходятся с результатами метода локтя, вы можете выбрать и обосновать количество кластеров, исходя из своего опыта."
      ]
    },
    {
      "cell_type": "code",
      "execution_count": null,
      "metadata": {
        "id": "ev0CM8N_YsuI"
      },
      "outputs": [],
      "source": []
    },
    {
      "cell_type": "markdown",
      "metadata": {
        "id": "fu6KHi83BhP3"
      },
      "source": [
        "# Задание 5\n",
        "\n",
        "Визуализируйте результаты кластеризации на двумерном графике с помощью метода t-SNE. Обоснуйте выбранные значения его гиперпараметров."
      ]
    },
    {
      "cell_type": "code",
      "execution_count": null,
      "metadata": {
        "id": "-lZU0PikYtn9"
      },
      "outputs": [],
      "source": []
    },
    {
      "cell_type": "markdown",
      "metadata": {
        "id": "mhmmvnkZB02h"
      },
      "source": [
        "# Задание 6\n",
        "\n",
        "Постройте профили кластеров и опишите их."
      ]
    },
    {
      "cell_type": "code",
      "execution_count": null,
      "metadata": {
        "id": "G1Pk1-khYusN"
      },
      "outputs": [],
      "source": []
    },
    {
      "cell_type": "markdown",
      "metadata": {
        "id": "6FCZqcWLDN38"
      },
      "source": [
        "# Задание 7\n",
        "\n",
        "Визуализируйте профили кластеров. Подготовьте краткое резюме результатов вашего исследования для заказчика."
      ]
    },
    {
      "cell_type": "code",
      "execution_count": null,
      "metadata": {},
      "outputs": [],
      "source": []
    },
    {
      "cell_type": "markdown",
      "metadata": {
        "id": "ERoaEjkJn26M"
      },
      "source": [
        "## Как отправить работу на проверку\n",
        "\n",
        "Скачайте файл с заданием в материалах, откройте его через Jupyter Notebook и выполните задания. Сохраните изменения при помощи опции Save and Checkpoint из вкладки меню File или кнопки Save and Checkpoint на панели инструментов. Отправьте через форму ниже итоговый файл Jupyter Notebook (.ipynb) или ссылку на него."
      ]
    },
    {
      "cell_type": "code",
      "execution_count": null,
      "metadata": {
        "id": "_xK9dAu7SQkL"
      },
      "outputs": [],
      "source": []
    }
  ],
  "metadata": {
    "colab": {
      "provenance": []
    },
    "gpuClass": "standard",
    "kernelspec": {
      "display_name": "Python 3 (ipykernel)",
      "language": "python",
      "name": "python3"
    },
    "language_info": {
      "codemirror_mode": {
        "name": "ipython",
        "version": 3
      },
      "file_extension": ".py",
      "mimetype": "text/x-python",
      "name": "python",
      "nbconvert_exporter": "python",
      "pygments_lexer": "ipython3",
      "version": "3.11.0"
    }
  },
  "nbformat": 4,
  "nbformat_minor": 0
}
