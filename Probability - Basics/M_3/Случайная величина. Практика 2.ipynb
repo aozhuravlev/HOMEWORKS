{
  "cells": [
    {
      "cell_type": "markdown",
      "id": "20d02d60",
      "metadata": {
        "id": "20d02d60"
      },
      "source": [
        "# Модуль 3. Практическая работа "
      ]
    },
    {
      "cell_type": "markdown",
      "id": "df9d0fa3",
      "metadata": {
        "id": "df9d0fa3"
      },
      "source": [
        "## Цели практической работы\n",
        "1. Закрепить полученные знания о дискретных случайных величинах.\n",
        "2. Ближе познакомиться с характеристиками случайных величин, изучить на практике дискретные распределения: Бернулли и Пуассона.\n"
      ]
    },
    {
      "cell_type": "markdown",
      "id": "c4a1bdf2",
      "metadata": {
        "id": "c4a1bdf2"
      },
      "source": [
        "## Что входит в практическую работу\n",
        "  3 практические задачи"
      ]
    },
    {
      "cell_type": "markdown",
      "id": "iSRcyHmvpGCM",
      "metadata": {
        "id": "iSRcyHmvpGCM"
      },
      "source": [
        "## Что оценивается\n",
        " \n",
        "*  Умение вычислять характеристики случайных величин на основе табличного или графического представления дискретных случайных величин и с использованием формул. \\\n",
        "*  Умение работать с формулами распределений Пуассона и Бернулли.\n",
        "\n",
        "\n",
        "## Как отправить задание на проверку \n",
        "\n",
        "Выполните задания, сохраните изменения при помощи опции Save and Checkpoint на вкладке меню File или кнопки Save and Checkpoint на панели инструментов. Отправьте итоговый файл Jupyter Notebook (в формате .ipynb) или ссылку на него через форму ниже."
      ]
    },
    {
      "cell_type": "markdown",
      "id": "3092d4ea",
      "metadata": {
        "id": "3092d4ea"
      },
      "source": [
        "## Задача 1 \n",
        "\n",
        "Имеется партия из десяти деталей. Вероятность, что деталь оказалась бракованной, для данной партии составляет $4/5 = 0.8.$ Определите, с какой вероятностью половина деталей окажется бракованной.\n",
        "\n",
        "Напишите функцию для расчёта этой вероятности. Используете биномиальное распределение.\n",
        "\n",
        " \n",
        "\n",
        "\n"
      ]
    },
    {
      "cell_type": "markdown",
      "metadata": {},
      "source": [
        "#### Решение\n",
        "\n",
        "Используем формулу биноминального распределения:\n",
        "$$\n",
        "P(X = k) = \\binom{n}{k} p^k (1 - p)^{n - k}\n",
        "$$\n",
        "\n",
        "для расчёта числа сочетаний формулу:\n",
        "\n",
        "$$\n",
        "\\binom{n}{k} = \\frac{n!}{k!(n - k)!}\n",
        "$$"
      ]
    },
    {
      "cell_type": "code",
      "execution_count": 15,
      "metadata": {},
      "outputs": [],
      "source": [
        "import math"
      ]
    },
    {
      "cell_type": "code",
      "execution_count": 11,
      "metadata": {},
      "outputs": [],
      "source": [
        "def binominal_probability(n, p, k):\n",
        "    # we could use comb-function from math:\n",
        "    binom_coeff = math.comb(n, k)\n",
        "    # binom_coef = math.factorial(n) / (math.factorial(k) * math.factorial(n - k))\n",
        "    probability = binom_coeff * (p ** k) * ((1 - p) ** (n - k))\n",
        "\n",
        "    return probability"
      ]
    },
    {
      "cell_type": "code",
      "execution_count": 12,
      "id": "859c4d2b",
      "metadata": {
        "ExecuteTime": {
          "end_time": "2022-02-23T19:39:15.915860Z",
          "start_time": "2022-02-23T19:39:15.902436Z"
        },
        "id": "859c4d2b"
      },
      "outputs": [
        {
          "name": "stdout",
          "output_type": "stream",
          "text": [
            "The probability equals to: \t2.64%\n"
          ]
        }
      ],
      "source": [
        "p = 0.8\n",
        "n = 10\n",
        "k = 5\n",
        "\n",
        "result = binominal_probability(n, p, k)\n",
        "print(f'The probability equals to: \\t{result:.2%}')\n"
      ]
    },
    {
      "cell_type": "markdown",
      "id": "f8266e27",
      "metadata": {
        "ExecuteTime": {
          "end_time": "2022-01-28T23:12:51.463454Z",
          "start_time": "2022-01-28T23:12:51.458075Z"
        },
        "id": "f8266e27"
      },
      "source": [
        "### Задача 2.  \n",
        "\n",
        "Вратарь последовательно отражает семь ударов в ворота от игрока. Вероятность этого составляет $0.3$ каждый раз независимо от характеристик удара. Найдите вероятность, с которой вратарь отразит хотя бы три удара. Используете биномиальное распределение.\n",
        "\n",
        "\n",
        "\n"
      ]
    },
    {
      "cell_type": "code",
      "execution_count": 13,
      "id": "a1349322",
      "metadata": {
        "id": "a1349322"
      },
      "outputs": [
        {
          "name": "stdout",
          "output_type": "stream",
          "text": [
            "The probability equals to: \t22.69%\n"
          ]
        }
      ],
      "source": [
        "n = 7\n",
        "p = 0.3\n",
        "k = 3\n",
        "\n",
        "result = binominal_probability(n, p, k)\n",
        "print(f'The probability equals to: \\t{result:.2%}')\n"
      ]
    },
    {
      "cell_type": "markdown",
      "id": "29bad2c6",
      "metadata": {
        "id": "29bad2c6"
      },
      "source": [
        "### Задача 3.  \n",
        "\n",
        "Представьте, что вы сделали бросок пары игральных кубиков десять раз подряд. При каждом броске получаете два значения на двух кубиках. Рассмотрите вероятность, при которой один раз выпадет пара из двух шестёрок. Найдите её:\n",
        "с помощью биномиального распределения;\n",
        "с помощью распределения Пуассона, используя закон редких событий. \n"
      ]
    },
    {
      "cell_type": "markdown",
      "metadata": {},
      "source": [
        "##### 3.1. Решение с помощью формулы биномиального распределения"
      ]
    },
    {
      "cell_type": "code",
      "execution_count": 14,
      "id": "ba31752e",
      "metadata": {
        "ExecuteTime": {
          "end_time": "2022-02-23T19:39:17.014992Z",
          "start_time": "2022-02-23T19:39:17.011993Z"
        },
        "id": "ba31752e"
      },
      "outputs": [
        {
          "name": "stdout",
          "output_type": "stream",
          "text": [
            "The probability equals to: \t21.56%\n"
          ]
        }
      ],
      "source": [
        "n = 10\n",
        "p = 1 / 36\n",
        "k = 1\n",
        "\n",
        "result = binominal_probability(n, p, k)\n",
        "print(f'The probability equals to: \\t{result:.2%}')"
      ]
    },
    {
      "cell_type": "markdown",
      "metadata": {},
      "source": [
        "##### 3.2. Решение с помощью формулы распределения Пуассона\n",
        "\n",
        "Используем формулу распределения Пуассона:\n",
        "$$\n",
        "P(X = k) = \\frac{\\lambda^k e^{-\\lambda}}{k!}\n",
        "$$\n",
        "\n",
        "При этом, $\\lambda$ рассчитаем по формуле:\n",
        "$$\\lambda = M(X) = np$$"
      ]
    },
    {
      "cell_type": "code",
      "execution_count": 21,
      "metadata": {},
      "outputs": [],
      "source": [
        "def poisson_probability(l, k):\n",
        "    probability = ((l ** k) * (math.exp(-l))) / math.factorial(k)\n",
        "    return probability"
      ]
    },
    {
      "cell_type": "code",
      "execution_count": 22,
      "metadata": {},
      "outputs": [
        {
          "name": "stdout",
          "output_type": "stream",
          "text": [
            "The probability equals to: \t21.04%\n"
          ]
        }
      ],
      "source": [
        "k = 1\n",
        "lmbda = 10 * (1 / 36)\n",
        "\n",
        "result = poisson_probability(lmbda, k)\n",
        "print(f'The probability equals to: \\t{result:.2%}')"
      ]
    }
  ],
  "metadata": {
    "colab": {
      "collapsed_sections": [],
      "name": "Модуль 3 Практика 2.ipynb",
      "provenance": []
    },
    "kernelspec": {
      "display_name": "Python 3",
      "language": "python",
      "name": "python3"
    },
    "language_info": {
      "codemirror_mode": {
        "name": "ipython",
        "version": 3
      },
      "file_extension": ".py",
      "mimetype": "text/x-python",
      "name": "python",
      "nbconvert_exporter": "python",
      "pygments_lexer": "ipython3",
      "version": "3.11.5"
    },
    "toc": {
      "base_numbering": 1,
      "nav_menu": {},
      "number_sections": true,
      "sideBar": true,
      "skip_h1_title": false,
      "title_cell": "Table of Contents",
      "title_sidebar": "Contents",
      "toc_cell": false,
      "toc_position": {},
      "toc_section_display": true,
      "toc_window_display": false
    }
  },
  "nbformat": 4,
  "nbformat_minor": 5
}
