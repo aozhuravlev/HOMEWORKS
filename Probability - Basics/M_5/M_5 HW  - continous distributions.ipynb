{
 "cells": [
  {
   "cell_type": "markdown",
   "metadata": {},
   "source": [
    "# Раздел 1."
   ]
  },
  {
   "cell_type": "markdown",
   "metadata": {},
   "source": [
    "## Задача 1.1.\n",
    "Дана функция распределения непрерывной величины:\n",
    "\n",
    "### Дано\n",
    "Функция распределения случайной величины $X$:\n",
    "$$\n",
    "F(x) = \n",
    "\\begin{cases}\n",
    "0, & \\text{если } x < 1 \\\\\n",
    "\\frac{1}{4}(x - 1), & \\text{если } c \\leq x \\leq d \\\\\n",
    "1, & \\text{если } x > 5\n",
    "\\end{cases}\n",
    "$$\n",
    "\n",
    "Необходимо найти:\n",
    "\n",
    "1. Значения $c$ и $d$.\n",
    "2. Плотность распределения вероятностей $f(x)$.\n",
    "3. Математическое ожидание $M(x)$.\n",
    "4. Дисперсию $D(x)$.\n",
    "5. Вероятность попадания случайной величины в отрезок $[1;2]$.\n",
    "\n",
    "\n",
    "### Решение\n",
    "\n",
    "#### 1. Найдём значения $c$ и $d$\n",
    "\n",
    "По границам первого и третьего уравнений видим, что $c = 1$ и $d = 5$.\n",
    "\n",
    "#### 2. Найдём плотность распределения вероятностей $f(x)$\n",
    "\n",
    "Используем формулу нахождения плотности вероятности для непрерывного распределения:\n",
    "$$\n",
    "f(x) = \n",
    "\\begin{cases} \n",
    "\\frac{1}{b - a}, & \\text{если } x \\in [a, b] \\\\\n",
    "0, & \\text{иначе} \n",
    "\\end{cases}\n",
    "$$\n",
    "\n",
    "Соответственно, для первого и третьего отрезков плотность вероятности будет равна 0, а в отрезке $[a, b]$: $$f(x) = \\frac{1}{5 - 1} = \\frac{1}{4}$$\n",
    "\n",
    "#### 3. Найдём математическое ожидание $M(X)$\n",
    "\n",
    "Используем формулу математического ожидания для непрерывного равномерного распределения:\n",
    "$$\n",
    "М(X) = \\frac{a + b}{2}\n",
    "$$\n",
    "\n",
    "Соответственно:\n",
    "\n",
    "$$\n",
    "М(X) = \\frac{1 + 5}{2} = 3\n",
    "$$\n",
    "\n",
    "\n",
    "#### 4. Найдём дисперсию $D(X)$\n",
    "\n",
    "Дисперсия $D(X)$ рассчитывается по формуле:\n",
    "$$\n",
    "D(X) = \\frac{(b - a)^2}{12}\n",
    "$$\n",
    "\n",
    "Соответственно:\n",
    "\n",
    "$$\n",
    "D(X) = \\frac{(5 - 1)^2}{12} = \\frac{16}{12} = \\frac{4}{3}\n",
    "$$\n",
    "\n",
    "\n",
    "#### 5. Найдём вероятность попадания случайной величины в отрезок $[1; 2]$\n",
    "\n",
    "##### Если под отрезком подразумевается открытый интервал $(1;2)$, то решение выглядит следующим образом:\n",
    "\n",
    "Воспользуемся формулой расчёта вероятности попадания случайной величины X в интервал $(\\alpha; \\beta)$:\n",
    "$$\n",
    "P(\\alpha<X<\\beta) = \\frac{\\alpha - \\beta}{a - b}\n",
    "$$\n",
    "\n",
    "Соответственно:\n",
    "\n",
    "$$\n",
    "P(1<X<2) = \\frac{2 - 1}{5 - 1} =  \\frac{1}{4}\n",
    "$$\n",
    "\n",
    "##### Если же промежуток конкретно $[1; 2]$, то каким-то образом необходимо ввести значения 1 и 2 в формулу расчёта, но в лекции про это не говорилось: по условию формулы граничные значения промежутка не учитываются. И, видимо, здесь просто небольшой недочёт в условии задачи.\n",
    "\n",
    "\n",
    "### Ответы\n",
    "- $c = 1$, $d = 5$.\n",
    "- Плотность вероятности $f(x)$:\n",
    "  $$\n",
    "  f(x) = \n",
    "  \\begin{cases}\n",
    "  0, & x < 1 \\\\\n",
    "  \\frac{1}{4}, & 1 \\leq x \\leq 5 \\\\\n",
    "  0, & x > 5\n",
    "  \\end{cases}\n",
    "  $$\n",
    "- Математическое ожидание $M(X) = 3$.\n",
    "- Дисперсия $D(X) = \\frac{4}{3}$.\n",
    "- Вероятность попадания в отрезок $(1; 2)$: $P(1 \\leq X \\leq 2) = \\frac{1}{4}$."
   ]
  },
  {
   "cell_type": "markdown",
   "metadata": {},
   "source": [
    "## Задача 1.2.\n",
    "\n",
    "Известно, что все значения равномерно распределённой случайной величины лежат в отрезке [3;9]. Найдите вероятность попадания этой случайной величины в промежуток (5;7).\n",
    "\n",
    "### Решение:\n",
    "\n",
    "Снова воспользуемся формулой расчёта вероятности попадания случайной величины X в интервал $[\\alpha; \\beta]$:\n",
    "$$\n",
    "P(\\alpha<X<\\beta) = \\frac{\\alpha - \\beta}{a - b}\n",
    "$$\n",
    "\n",
    "Соответственно:\n",
    "\n",
    "$$\n",
    "P(4<X<6) = \\frac{7 - 5}{9 - 3} =  \\frac{1}{3}\n",
    "$$\n",
    "\n",
    "### Ответ: \n",
    "вероятность попадания в промежуток $(5; 7)$: $P(5 \\leq X \\leq 7) = \\frac{1}{3}$.\n",
    "\n"
   ]
  },
  {
   "cell_type": "markdown",
   "metadata": {},
   "source": [
    "## Задача 1.3.\n",
    "\n",
    "Случайная величина $X$ имеет нормальное  распределение с математическим ожиданием $a = 5$ и дисперсией $D(x) = 9$. Найдите вероятность попадания этой случайной величины в интервал $(7;12)$.\n",
    "\n",
    "Указание: вспомните, как связано нормальное распределение с функцией Лапласа."
   ]
  },
  {
   "cell_type": "markdown",
   "metadata": {},
   "source": [
    "### Решение.\n",
    "\n",
    "Найдём стандартное отклонение:\n",
    "\n",
    "$\\sigma = \\sqrt{D(X)} = \\sqrt{9} = 3$\n",
    "\n",
    "Воспользуемся формулой нахождения вероятности попадания случайной величины $X$ в интервал $(\\alpha; \\beta)$\n",
    "$$\n",
    "P(\\alpha < X < \\beta) = \\Phi\\left(\\frac{\\beta - \\mu}{\\sigma}\\right) - \\Phi\\left(\\frac{\\alpha - \\mu}{\\sigma}\\right)\n",
    "$$\n",
    "\n",
    "Соответственно:\n",
    "$$\n",
    "P(7 < X < 12) = \\Phi\\left(\\frac{12 - 5}{3}\\right) - \\Phi\\left(\\frac{7 - 5}{3}\\right) = \\Phi(2.34) - \\Phi(0.67)\n",
    "$$\n",
    "\n",
    "По таблице значений интегральной функции Лапласа найдём значения:\n",
    "\n",
    "$$\n",
    "P(7 < X < 12) = 0,4903581 - 0,2485711 = 0,241787 \n",
    "$$ \n",
    "\n",
    "### Ответ: \n",
    "\n",
    "$P(7 < X < 12) = 0,241787 $"
   ]
  },
  {
   "cell_type": "markdown",
   "metadata": {},
   "source": [
    "## Задача 1.4.\n",
    "\n",
    "Составьте функцию плотности нормального распределения случайной величины $X$, если известно, что $M(x) = 4$ и $D(x) = 12$. Найдите вероятность того, что случайная величина примет значение из интервала $(6;10)$.\n",
    "\n",
    "Указание: используйте общий вид функции плотности нормально распределённой величины."
   ]
  },
  {
   "cell_type": "markdown",
   "metadata": {},
   "source": [
    "### Решение\n",
    "\n",
    "1. Воспользуемся функцией плотности вероятности для нормального распределения: \n",
    "$$\n",
    "f(x) = \\frac{1}{\\sigma \\sqrt{2 \\pi}} e^{-\\frac{(x - \\mu)^2}{2\\sigma^2}}\n",
    "$$\n",
    "\n",
    "Тогда наша функция примет следующий вид:\n",
    "$$\n",
    "f(x) = \\frac{1}{\\sqrt{12} \\cdot \\sqrt{2 \\pi}} e^{-\\frac{(x - 4)^2}{2\\cdot{12}}} = \\frac{1}{2\\sqrt{6 \\pi}} e^{-\\frac{x - 4}{2\\sqrt{6}}}\n",
    "$$\n",
    "\n"
   ]
  },
  {
   "cell_type": "markdown",
   "metadata": {},
   "source": [
    "2. По аналогии с решением задачи 1.3:\n",
    "\n",
    "Найдём стандартное отклонение:\n",
    "\n",
    "$\\sigma = \\sqrt{D(X)} = \\sqrt{12} = 3,4641$\n",
    "\n",
    "Воспользуемся формулой нахождения вероятности попадания случайной величины $X$ в интервал $(\\alpha; \\beta)$\n",
    "$$\n",
    "P(\\alpha < X < \\beta) = \\Phi\\left(\\frac{\\beta - \\mu}{\\sigma}\\right) - \\Phi\\left(\\frac{\\alpha - \\mu}{\\sigma}\\right)\n",
    "$$\n",
    "\n",
    "Соответственно:\n",
    "$$\n",
    "P(6 < X < 10) = \\Phi\\left(\\frac{10 - 4}{3,4641}\\right) - \\Phi\\left(\\frac{6 - 4}{3,4641}\\right) = \\Phi(1,7321) - \\Phi(0,5773)\n",
    "$$\n",
    "\n",
    "По таблице значений интегральной функции Лапласа найдём значения:\n",
    "\n",
    "$$\n",
    "P(6 < X < 10) = \\Phi(1,7321) - \\Phi(0,5773) = 0,4581849\t- 0,2190427\t= 0,2391422\n",
    "$$ \n",
    "\n",
    "## Ответ: \n",
    "\n",
    "1. Функция для значений из интервала $(6; 10)$:\n",
    "$$\n",
    "f(x) = \\frac{1}{2\\sqrt{6 \\pi}} e^{-\\frac{x - 4}{2\\sqrt{6}}}\n",
    "$$\n",
    "\n",
    "2. Вероятность того, что случайная величина примет значение из интервала $(6;10)$: $$P(6 < X < 10) = 0,2391422 $$"
   ]
  },
  {
   "cell_type": "markdown",
   "metadata": {},
   "source": [
    "# Раздел 2."
   ]
  },
  {
   "cell_type": "markdown",
   "metadata": {},
   "source": [
    "## Задача 2.1.\n",
    "\n",
    "Используя мультипликативный метод формирования случайной последовательности, рассмотренный в шестой теме модуля, постройте последовательность ста случайных чисел."
   ]
  },
  {
   "cell_type": "code",
   "execution_count": 7,
   "metadata": {},
   "outputs": [
    {
     "data": {
      "image/png": "[encoded data removed]",
      "text/plain": [
       "<Figure size 640x480 with 1 Axes>"
      ]
     },
     "metadata": {},
     "output_type": "display_data"
    }
   ],
   "source": [
    "import random\n",
    "import matplotlib.pyplot as plt\n",
    "\n",
    "x0 = random.randint(1, 2**31 - 2)\n",
    "lmbda = 7**5\n",
    "M = 2**31 - 1\n",
    "\n",
    "random_values = []\n",
    "for _ in range(100):\n",
    "    x0 = (lmbda * x0) % M\n",
    "    random_values.append(x0 / M)\n",
    "plt.hist(random_values, bins=50);"
   ]
  },
  {
   "cell_type": "markdown",
   "metadata": {},
   "source": [
    "## Задача 2.2.\n",
    "\n",
    "Некоторая случайная величина задана экспоненциальным законом распределения:\n",
    "$$\n",
    "f(x) = \n",
    "\\begin{cases} \n",
    "0, & \\text{если } y < 0 \\\\\n",
    "4e^{-4y}, & \\text{если } y \\geq 0 \\\\ \n",
    "\\end{cases}\n",
    "$$\n",
    "\n",
    "Составьте генерацию десяти случайных чисел $y_i$."
   ]
  },
  {
   "cell_type": "markdown",
   "metadata": {},
   "source": [
    "Для экспоненциального распределения с плотностью $f(y) = \\lambda e^{-\\lambda y}$, случайные числа $y$ можно получить по формуле:\n",
    "$$\n",
    "y = -\\frac{1}{\\lambda} \\ln(U),\n",
    "$$\n",
    "где $U$ — равномерно распределённая случайная величина на $[0, 1]$, а $\\lambda = 4$ в данном случае.\n"
   ]
  },
  {
   "cell_type": "code",
   "execution_count": 10,
   "metadata": {},
   "outputs": [
    {
     "data": {
      "image/png": "[encoded data removed]",
      "text/plain": [
       "<Figure size 640x480 with 1 Axes>"
      ]
     },
     "metadata": {},
     "output_type": "display_data"
    }
   ],
   "source": [
    "import math\n",
    "import numpy as np\n",
    "\n",
    "mu = 4\n",
    "y_i = [-math.log(1 - x) / mu for x in np.random.uniform(0, 1, 10)]\n",
    "plt.hist(y_i);"
   ]
  },
  {
   "cell_type": "code",
   "execution_count": null,
   "metadata": {},
   "outputs": [],
   "source": []
  }
 ],
 "metadata": {
  "kernelspec": {
   "display_name": "base",
   "language": "python",
   "name": "python3"
  },
  "language_info": {
   "codemirror_mode": {
    "name": "ipython",
    "version": 3
   },
   "file_extension": ".py",
   "mimetype": "text/x-python",
   "name": "python",
   "nbconvert_exporter": "python",
   "pygments_lexer": "ipython3",
   "version": "3.11.5"
  }
 },
 "nbformat": 4,
 "nbformat_minor": 2
}
