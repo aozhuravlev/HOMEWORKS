{
  "cells": [
    {
      "cell_type": "markdown",
      "metadata": {
        "id": "1ede1DhglCo2"
      },
      "source": [
        "## **Случайные события. Практическая работа**\n",
        "\n",
        "### Итоги модуля\n",
        "В этом модуле было введено понятие **пространства элементарных событий**. Это пространство состоит из различных **исходов** случайной величины. Вероятности элементарных событий в этом пространстве будут принимать значения от 0 до 1. \n",
        "\n",
        "В пространстве событий помимо **элементарных** исходов есть также **сложные** события, являющиеся объединением нескольких элементарных. \n",
        "\n",
        "Вы также познакомились с **зависимыми** событиями и понятием **условной вероятности**. На основе этого определения строится **формула Байеса**. Она связывает теоретические вероятности осуществления события (**априорная** вероятность) с вероятностями, основанными на некотором опыте (условная или **апостериорная** вероятность). Эта формула позволяет как бы «поменять местами» причину и следствие — получить взаимосвязь между P(A|B) и P(B|A).\n",
        "\n",
        "Эта практическая работа поможет закрепить полученные знания. В одной части заданий нужно вычислить вероятности сложных событий. Другая часть заданий посвящена применению теоремы Байеса, а также включает в себя краткое знакомство с **наивным байесовским классификатором (НБК)** — одной из моделей машинного обучения.\n",
        "\n",
        "Основную информацию, необходимую для решения данной практической работы, можно найти в теоретическом разделе этого модуля. Критерии оценки заданий основаны на полноте и правильности решений, а также правильности/неправильности финальных ответов. \n",
        "\n",
        "### Цели практической работы\n",
        "- закрепить полученные знания о вычислении вероятностей сложных событий;\n",
        "- ближе познакомиться с условными вероятностями, теоремой Байеса и байесовским классификатором.\n",
        "\n",
        "### Что оценивается\n",
        "Умение вычислять вероятности сложных событий и вероятности с использованием теоремы Байеса, понимание условных вероятностей. В каждой задаче требуется соотнести набор известных значений вероятностей с условными вероятностями и вычислить новые вероятности. Задача считается решённой, если выполнены все её условия, а также даны правильные ответы на вопросы.\n",
        "\n",
        "### Как отправить задание на проверку\n",
        "Выполните задания, сохраните изменения при помощи опции Save and Checkpoint на вкладке меню File или кнопки Save and Checkpoint на панели инструментов. Отправьте итоговый файл Jupyter Notebook (в формате .ipynb) или ссылку на него через форму.\n"
      ]
    },
    {
      "attachments": {
        "image-2.png": {
          "image/png": "[encoded data removed]"
        },
        "image.png": {
          "image/png": "[encoded data removed]"
        }
      },
      "cell_type": "markdown",
      "metadata": {
        "id": "vWRlpD8wmGom"
      },
      "source": [
        "### **Задание 1**\n",
        "\n",
        "Даны таблицы с суммами и произведениями значений при броске двух кубиков. Используя эти таблицы, вычислите вероятности следующих сложных событий.\n",
        "\n",
        "![image.png](attachment:image.png)\n",
        "![image-2.png](attachment:image-2.png)\n",
        "\n",
        "\n",
        "\n"
      ]
    },
    {
      "cell_type": "code",
      "execution_count": 167,
      "metadata": {},
      "outputs": [],
      "source": [
        "import pandas as pd\n",
        "from fractions import Fraction"
      ]
    },
    {
      "cell_type": "code",
      "execution_count": 168,
      "metadata": {
        "id": "op3eZLlXm7N6"
      },
      "outputs": [
        {
          "name": "stdout",
          "output_type": "stream",
          "text": [
            "36\n",
            "36\n"
          ]
        }
      ],
      "source": [
        "def create_sum_list():\n",
        "    num_list = [i + j for i in range(1, 7) for j in range(1, 7)]\n",
        "    return num_list\n",
        "\n",
        "def create_product_list():\n",
        "    num_list = [i * j for i in range(1, 7) for j in range(1, 7)]\n",
        "    return num_list\n",
        "\n",
        "\n",
        "sum_list = create_sum_list()\n",
        "product_list = create_product_list()\n",
        "print(f'{len(sum_list)}\\n{len(product_list)}')"
      ]
    },
    {
      "cell_type": "code",
      "execution_count": 169,
      "metadata": {},
      "outputs": [],
      "source": [
        "# Да, я не забыл про тот мощный инструмент (eval), что вы мне присоветовали :)\n",
        "\n",
        "def calculate_probability_table(cond, num_list):\n",
        "    positive_outcomes = [i for i in num_list if eval(cond)]\n",
        "    probability = len(positive_outcomes) / len(num_list)\n",
        "    return probability\n",
        "\n",
        "def calculate_probability_table_2(cond, num_list):\n",
        "    positive_outcomes = [(i + j) for i in range(1,7) for j in range(1,7) if eval(cond)]\n",
        "    probability = len(positive_outcomes) / len(num_list)\n",
        "    return probability\n",
        "\n",
        "def display_result(res):\n",
        "    frac = Fraction(res).limit_denominator()\n",
        "    percent = round((res * 100), 2)\n",
        "    print(f\"The probability equals to {frac} or {percent}%.\")"
      ]
    },
    {
      "cell_type": "markdown",
      "metadata": {},
      "source": [
        "1. Вероятность, что полученная сумма значений на кубиках — нечётное число."
      ]
    },
    {
      "cell_type": "code",
      "execution_count": 170,
      "metadata": {},
      "outputs": [
        {
          "name": "stdout",
          "output_type": "stream",
          "text": [
            "The probability equals to 1/2 or 50.0%.\n"
          ]
        }
      ],
      "source": [
        "clause = 'i % 2 != 0'\n",
        "result = calculate_probability_table(clause, sum_list)\n",
        "display_result(result)"
      ]
    },
    {
      "cell_type": "markdown",
      "metadata": {
        "id": "6cgcddHem7qV"
      },
      "source": [
        "2. Вероятность, что полученная сумма значений на кубиках — число, кратное трём.\n",
        "\n"
      ]
    },
    {
      "cell_type": "code",
      "execution_count": 171,
      "metadata": {
        "id": "YyJ5fkQvm-ev"
      },
      "outputs": [
        {
          "name": "stdout",
          "output_type": "stream",
          "text": [
            "The probability equals to 1/3 or 33.33%.\n"
          ]
        }
      ],
      "source": [
        "clause = 'i % 3 == 0'\n",
        "result = calculate_probability_table(clause, sum_list)\n",
        "display_result(result)"
      ]
    },
    {
      "cell_type": "markdown",
      "metadata": {
        "id": "87xRZ-Ydm_bd"
      },
      "source": [
        "3. Вероятность, что сумма будет меньше пяти или больше десяти.\n"
      ]
    },
    {
      "cell_type": "code",
      "execution_count": 172,
      "metadata": {
        "id": "4XqHSi9BnCVs"
      },
      "outputs": [
        {
          "name": "stdout",
          "output_type": "stream",
          "text": [
            "The probability equals to 1/4 or 25.0%.\n"
          ]
        }
      ],
      "source": [
        "clause = 'i < 5 or i > 10'\n",
        "result = calculate_probability_table(clause, sum_list)\n",
        "display_result(result)"
      ]
    },
    {
      "cell_type": "markdown",
      "metadata": {
        "id": "Dk0iqlGCnCoK"
      },
      "source": [
        "4. Вероятность, что произведение значений будет равно двенадцати.\n"
      ]
    },
    {
      "cell_type": "code",
      "execution_count": 173,
      "metadata": {
        "id": "4DsrJuKWnE_W"
      },
      "outputs": [
        {
          "name": "stdout",
          "output_type": "stream",
          "text": [
            "The probability equals to 1/9 or 11.11%.\n"
          ]
        }
      ],
      "source": [
        "clause = 'i == 12'\n",
        "result = calculate_probability_table(clause, product_list)\n",
        "display_result(result)"
      ]
    },
    {
      "cell_type": "markdown",
      "metadata": {
        "id": "61Qt7YUlnFXc"
      },
      "source": [
        "5. Вероятность, что произведение значений — нечётно.\n"
      ]
    },
    {
      "cell_type": "code",
      "execution_count": 174,
      "metadata": {
        "id": "NH4jaPzCnIIt"
      },
      "outputs": [
        {
          "name": "stdout",
          "output_type": "stream",
          "text": [
            "The probability equals to 1/2 or 50.0%.\n"
          ]
        }
      ],
      "source": [
        "clause = 'i % 2 != 0'\n",
        "result = calculate_probability_table(clause, sum_list)\n",
        "display_result(result)"
      ]
    },
    {
      "cell_type": "markdown",
      "metadata": {
        "id": "x1FyFtv9nJES"
      },
      "source": [
        "6. Вероятность, что сумма значений окажется больше или равной их произведению."
      ]
    },
    {
      "cell_type": "code",
      "execution_count": 175,
      "metadata": {
        "id": "qrPXWQYEnah2"
      },
      "outputs": [
        {
          "name": "stdout",
          "output_type": "stream",
          "text": [
            "The probability equals to 11/36 or 30.56%.\n"
          ]
        }
      ],
      "source": [
        "clause = '(i + j) > (i * j)'\n",
        "result = calculate_probability_table_2(clause, sum_list)\n",
        "display_result(result)"
      ]
    },
    {
      "cell_type": "markdown",
      "metadata": {
        "id": "HGqYRvcQnier"
      },
      "source": [
        "### **Задание 2**\n",
        "Загрузите данные о пассажирах «Титаника» из файла titanic.csv в приложенных к практической работе файлах. Ограничьтесь набором таких переменных, как класс билета пассажира, пол и переменной, показывающей, выжил он или нет. В этом датасете все эти переменные заполнены непустым значением.\n"
      ]
    },
    {
      "cell_type": "code",
      "execution_count": 176,
      "metadata": {
        "id": "ua6B5AdRa2Oj"
      },
      "outputs": [],
      "source": [
        "titanic = pd.read_csv(\"train.csv\")\n",
        "X = titanic[['PassengerId','Survived','Pclass','Sex']]"
      ]
    },
    {
      "cell_type": "code",
      "execution_count": 177,
      "metadata": {},
      "outputs": [
        {
          "data": {
            "text/html": [
              "<div>\n",
              "<style scoped>\n",
              "    .dataframe tbody tr th:only-of-type {\n",
              "        vertical-align: middle;\n",
              "    }\n",
              "\n",
              "    .dataframe tbody tr th {\n",
              "        vertical-align: top;\n",
              "    }\n",
              "\n",
              "    .dataframe thead th {\n",
              "        text-align: right;\n",
              "    }\n",
              "</style>\n",
              "<table border=\"1\" class=\"dataframe\">\n",
              "  <thead>\n",
              "    <tr style=\"text-align: right;\">\n",
              "      <th></th>\n",
              "      <th>PassengerId</th>\n",
              "      <th>Survived</th>\n",
              "      <th>Pclass</th>\n",
              "      <th>Sex</th>\n",
              "    </tr>\n",
              "  </thead>\n",
              "  <tbody>\n",
              "    <tr>\n",
              "      <th>0</th>\n",
              "      <td>1</td>\n",
              "      <td>0</td>\n",
              "      <td>3</td>\n",
              "      <td>male</td>\n",
              "    </tr>\n",
              "    <tr>\n",
              "      <th>1</th>\n",
              "      <td>2</td>\n",
              "      <td>1</td>\n",
              "      <td>1</td>\n",
              "      <td>female</td>\n",
              "    </tr>\n",
              "    <tr>\n",
              "      <th>2</th>\n",
              "      <td>3</td>\n",
              "      <td>1</td>\n",
              "      <td>3</td>\n",
              "      <td>female</td>\n",
              "    </tr>\n",
              "    <tr>\n",
              "      <th>3</th>\n",
              "      <td>4</td>\n",
              "      <td>1</td>\n",
              "      <td>1</td>\n",
              "      <td>female</td>\n",
              "    </tr>\n",
              "    <tr>\n",
              "      <th>4</th>\n",
              "      <td>5</td>\n",
              "      <td>0</td>\n",
              "      <td>3</td>\n",
              "      <td>male</td>\n",
              "    </tr>\n",
              "  </tbody>\n",
              "</table>\n",
              "</div>"
            ],
            "text/plain": [
              "   PassengerId  Survived  Pclass     Sex\n",
              "0            1         0       3    male\n",
              "1            2         1       1  female\n",
              "2            3         1       3  female\n",
              "3            4         1       1  female\n",
              "4            5         0       3    male"
            ]
          },
          "execution_count": 177,
          "metadata": {},
          "output_type": "execute_result"
        }
      ],
      "source": [
        "X.head()"
      ]
    },
    {
      "cell_type": "markdown",
      "metadata": {
        "id": "VREyy_REoXJ2"
      },
      "source": [
        "1. Запишите в P_fem вероятность, что случайный пассажир «Титаника» — женщина.\n"
      ]
    },
    {
      "cell_type": "code",
      "execution_count": 178,
      "metadata": {
        "id": "SOJB4aMvpdra"
      },
      "outputs": [
        {
          "name": "stdout",
          "output_type": "stream",
          "text": [
            "The probability equals to 314/891 or 35.24%.\n"
          ]
        }
      ],
      "source": [
        "total_females = len(X[X.Sex == 'female'])\n",
        "total_passengers = len(X)\n",
        "P_fem = total_females / total_passengers\n",
        "display_result(P_fem)"
      ]
    },
    {
      "cell_type": "markdown",
      "metadata": {
        "id": "NrQTNxYbpKod"
      },
      "source": [
        "2. Запишите в P_1class вероятность, что случайный пассажир «Титаника» ехал в первом классе.\n"
      ]
    },
    {
      "cell_type": "code",
      "execution_count": 179,
      "metadata": {
        "id": "G3MuKPrvpgwN"
      },
      "outputs": [
        {
          "name": "stdout",
          "output_type": "stream",
          "text": [
            "The probability equals to 8/33 or 24.24%.\n"
          ]
        }
      ],
      "source": [
        "total_1class = len(X[X.Pclass == 1])\n",
        "P1_class = total_1class / total_passengers\n",
        "display_result(P1_class)\n",
        " "
      ]
    },
    {
      "cell_type": "markdown",
      "metadata": {
        "id": "K621BwxepMms"
      },
      "source": [
        "3. Запишите в P_surv вероятность, что случайный пассажир «Титаника» выжил.\n"
      ]
    },
    {
      "cell_type": "code",
      "execution_count": 180,
      "metadata": {
        "id": "Y_hErf_ypjNQ"
      },
      "outputs": [
        {
          "name": "stdout",
          "output_type": "stream",
          "text": [
            "The probability equals to 38/99 or 38.38%.\n"
          ]
        }
      ],
      "source": [
        "total_survived_qty = len(X[X.Survived == 1])\n",
        "P_surv = total_survived_qty / total_passengers\n",
        "display_result(P_surv)"
      ]
    },
    {
      "cell_type": "markdown",
      "metadata": {
        "id": "DpnGD270pP34"
      },
      "source": [
        "4. Запишите в P_fem_surv вероятность, что пассажир — женщина, и одновременно с этим пассажир выжила в катастрофе.\n"
      ]
    },
    {
      "cell_type": "code",
      "execution_count": 181,
      "metadata": {},
      "outputs": [
        {
          "name": "stdout",
          "output_type": "stream",
          "text": [
            "The probability equals to 233/891 or 26.15%.\n"
          ]
        }
      ],
      "source": [
        "# Правильный вариант\n",
        "survived_females = len(X[(X.Sex == 'female') & (X.Survived == 1)])\n",
        "P_fem_surv = survived_females / total_passengers\n",
        "display_result(P_fem_surv)"
      ]
    },
    {
      "cell_type": "markdown",
      "metadata": {
        "id": "fZeLtDlQpRW9"
      },
      "source": [
        "5. Найдите условную вероятность того, что пассажир выживет, при условии, если пассажир — женщина.\n"
      ]
    },
    {
      "cell_type": "markdown",
      "metadata": {},
      "source": [
        "### Возьмём формулу полной вероятности\n",
        "$$\n",
        "P(A) = P(A | B_1) P(B_1) + P(A | B_2) P(B_2) + P(A | B_3) P(B_3)\n",
        "$$\n",
        "\n",
        "### В нашем случае:\n",
        "- $A$ — это событие, что пассажир является женщиной и выжила.\n",
        "- $B_1, B_2, B_3$ — это три класса пассажиров.\n",
        "  \n",
        "Чтобы применить формулу полной вероятности, нужно найти:\n",
        "1. Условные вероятности выживания женщины в каждом классе $P(A | B_1)$, $P(A | B_2)$, $P(A | B_3)$.\n",
        "2. Вероятности того, что женщина находится в каждом классе $P(B_1)$, $P(B_2)$, $P(B_3)$.\n"
      ]
    },
    {
      "cell_type": "code",
      "execution_count": 182,
      "metadata": {},
      "outputs": [
        {
          "name": "stdout",
          "output_type": "stream",
          "text": [
            "The probability equals to 233/314 or 74.2%.\n"
          ]
        }
      ],
      "source": [
        "# Вариант по формуле\n",
        "\n",
        "# Calculate probabilities of being in each class (only for females)\n",
        "females_1class_qty = len(X[(X['Pclass'] == 1) & (X['Sex'] == 'female')])\n",
        "females_2class_qty = len(X[(X['Pclass'] == 2) & (X['Sex'] == 'female')])\n",
        "females_3class_qty = len(X[(X['Pclass'] == 3) & (X['Sex'] == 'female')])\n",
        "total_females = len(X[X['Sex'] == 'female'])\n",
        "\n",
        "P_B1 = females_1class_qty / total_females\n",
        "P_B2 = females_2class_qty / total_females\n",
        "P_B3 = females_3class_qty / total_females\n",
        "\n",
        "# Calculate conditional probabilities of survival in each class (only for females)\n",
        "survived_1class_females = len(X[(X.Pclass == 1) & (X.Survived == 1) & (X.Sex == 'female')])\n",
        "survived_2class_females = len(X[(X.Pclass == 2) & (X.Survived == 1) & (X.Sex == 'female')])\n",
        "survived_3class_females = len(X[(X.Pclass == 3) & (X.Survived == 1) & (X.Sex == 'female')])\n",
        "\n",
        "P_A_B1 = survived_1class_females / females_1class_qty\n",
        "P_A_B2 = survived_2class_females / females_2class_qty\n",
        "P_A_B3 = survived_3class_females / females_3class_qty\n",
        "\n",
        "# Apply the law of total probability\n",
        "P_fem_surv_total = P_A_B1 * P_B1 + P_A_B2 * P_B2 + P_A_B3 * P_B3\n",
        "\n",
        "display_result(P_fem_surv_total)\n"
      ]
    },
    {
      "cell_type": "code",
      "execution_count": 183,
      "metadata": {
        "id": "Im6UwOEzpr_w"
      },
      "outputs": [
        {
          "name": "stdout",
          "output_type": "stream",
          "text": [
            "The probability equals to 233/314 or 74.2%.\n"
          ]
        }
      ],
      "source": [
        "# Правильный вариант\n",
        "P_cond_surv_fem = survived_females / total_females\n",
        "display_result(P_cond_surv_fem)"
      ]
    },
    {
      "cell_type": "markdown",
      "metadata": {
        "id": "qOs5rtX1pT94"
      },
      "source": [
        "6. По аналогии найдите вероятность того, что пассажир выживет, если пассажир ехал в первом классе.\n"
      ]
    },
    {
      "cell_type": "code",
      "execution_count": 184,
      "metadata": {
        "id": "c5wuOMJAp--_"
      },
      "outputs": [
        {
          "name": "stdout",
          "output_type": "stream",
          "text": [
            "The probability equals to 17/27 or 62.96%.\n"
          ]
        }
      ],
      "source": [
        "survived_1class_qty = len(X[(X.Pclass == 1) & (X.Survived == 1)])\n",
        "P_cond_surv_1class = survived_1class_qty / total_1class\n",
        "display_result(P_cond_surv_1class)"
      ]
    },
    {
      "cell_type": "markdown",
      "metadata": {
        "id": "t0acZwYNpVjs"
      },
      "source": [
        "7. Найдите вероятность того, что пассажир выживет при условии, что пассажир ехал в первом классе и является женщиной.\n"
      ]
    },
    {
      "cell_type": "markdown",
      "metadata": {},
      "source": [
        "Формула для условной вероятности выглядит так:\n",
        "$$\n",
        "P(\\text{Survived} \\, | \\, \\text{Female} \\cap \\text{1st Class}) = \\frac{P(\\text{Survived} \\cap \\text{Female} \\cap \\text{1st Class})}{P(\\text{Female} \\cap \\text{1st Class})}\n",
        "$$\n"
      ]
    },
    {
      "cell_type": "code",
      "execution_count": 185,
      "metadata": {},
      "outputs": [
        {
          "name": "stdout",
          "output_type": "stream",
          "text": [
            "The probability equals to 91/94 or 96.81%.\n"
          ]
        }
      ],
      "source": [
        "# Правильный вариант\n",
        "P_cond_surv_1class_fem = survived_1class_females / females_1class_qty\n",
        "display_result(P_cond_surv_1class_fem)"
      ]
    },
    {
      "cell_type": "markdown",
      "metadata": {
        "id": "YUzlJ1SVpXYN"
      },
      "source": [
        "8. Найдите вероятность того, что пассажир выживет при условии, что пассажир ехал во втором классе и является мужчиной.\n"
      ]
    },
    {
      "cell_type": "code",
      "execution_count": 186,
      "metadata": {},
      "outputs": [
        {
          "name": "stdout",
          "output_type": "stream",
          "text": [
            "The probability equals to 17/108 or 15.74%.\n"
          ]
        }
      ],
      "source": [
        "survived_2class_males = len(X[(X.Pclass == 2) & (X.Survived == 1) & (X.Sex == 'male')])\n",
        "total_2class_males = len(X[(X.Pclass == 2) & (X.Sex == 'male')])\n",
        "P_cond_surv_m = survived_2class_males / total_2class_males\n",
        "display_result(P_cond_surv_m)"
      ]
    },
    {
      "cell_type": "markdown",
      "metadata": {
        "id": "8Nbz8Xb0pYuj"
      },
      "source": [
        "9. Используя посчитанные вероятности, найдите вероятность того, что случайно выбранный пассажир — женщина, если мы знаем, что пассажир выжил."
      ]
    },
    {
      "cell_type": "markdown",
      "metadata": {},
      "source": [
        "### Введём обозначения\n",
        "\n",
        "$P(Ж)$ - вероятность выбрать женщину (`P_fem`)\n",
        "\n",
        "$P(В)$ - вероятность выживания (`P_surv`)\n",
        "\n",
        "$P(Ж|В)$ - вероятность выживания женщины (`P_cond_surv_fem`)\n",
        "\n",
        "$P(В|Ж)$ - ?\n",
        "\n",
        "По теореме Байеса: \n",
        "\n",
        "$$\n",
        "P(В|Ж) = \\frac{P(Ж | В) \\cdot P(Ж)}{P(B)}\n",
        "$$"
      ]
    },
    {
      "cell_type": "code",
      "execution_count": 187,
      "metadata": {
        "id": "I8JLH18Uql9V"
      },
      "outputs": [
        {
          "name": "stdout",
          "output_type": "stream",
          "text": [
            "The probability equals to 233/342 or 68.13%.\n"
          ]
        }
      ],
      "source": [
        "# Вариант по формуле\n",
        "P_cond_fem_surv = (P_cond_surv_fem * P_fem) / P_surv\n",
        "display_result(P_cond_fem_surv)"
      ]
    },
    {
      "cell_type": "code",
      "execution_count": 188,
      "metadata": {},
      "outputs": [
        {
          "name": "stdout",
          "output_type": "stream",
          "text": [
            "The probability equals to 233/342 or 68.13%.\n"
          ]
        }
      ],
      "source": [
        "# Правильный вариант \n",
        "P_cond_fem_surv = survived_females / total_survived_qty\n",
        "display_result(P_cond_fem_surv)"
      ]
    },
    {
      "cell_type": "markdown",
      "metadata": {
        "id": "b5UDgMYKpaMU"
      },
      "source": [
        "10. Используя посчитанные вероятности, найдите вероятность того, что случайно выбранный пассажир ехал в первом классе, если мы знаем, что пассажир выжил.\n"
      ]
    },
    {
      "cell_type": "markdown",
      "metadata": {},
      "source": [
        "### Введём обозначения\n",
        "\n",
        "$P(1)$ - вероятность выбрать пассажира первого класса (`P1_class`)\n",
        "\n",
        "$P(В)$ - вероятность выживания (`P_surv`)\n",
        "\n",
        "$P(1|В)$ - вероятность выживания пассажира первого класса (`P_cond_surv_1class`)\n",
        "\n",
        "$P(В|1)$ - ?\n",
        "\n",
        "По теореме Байеса: \n",
        "\n",
        "$$\n",
        "P(В|1) = \\frac{P(1 | В) \\cdot P(1)}{P(B)}\n",
        "$$\n"
      ]
    },
    {
      "cell_type": "code",
      "execution_count": 189,
      "metadata": {
        "id": "PcjRugZzqss1"
      },
      "outputs": [
        {
          "name": "stdout",
          "output_type": "stream",
          "text": [
            "The probability equals to 68/171 or 39.77%.\n"
          ]
        }
      ],
      "source": [
        "# Вариант по формуле\n",
        "P_cond_1class_1class = (P_cond_surv_1class * P1_class) / P_surv\n",
        "display_result(P_cond_1class_1class)"
      ]
    },
    {
      "cell_type": "code",
      "execution_count": 190,
      "metadata": {},
      "outputs": [
        {
          "name": "stdout",
          "output_type": "stream",
          "text": [
            "The probability equals to 68/171 or 39.77%.\n"
          ]
        }
      ],
      "source": [
        "# Правильный вариант\n",
        "P_cond_1class_1class = survived_1class_qty / total_survived_qty\n",
        "display_result(P_cond_1class_1class)"
      ]
    },
    {
      "cell_type": "markdown",
      "metadata": {
        "id": "yQHFXtulpbwm"
      },
      "source": [
        "11. Сравните полученные вероятности с безусловными вероятностями соответствующих событий. Объясните разницу в значениях."
      ]
    },
    {
      "cell_type": "markdown",
      "metadata": {
        "id": "rNgeDAeeq3SM"
      },
      "source": [
        "1. **Безусловные вероятности:**\n",
        "   - **P_fem_surv (вероятность того, что пассажир — женщина и выжила):** 0.2615\n",
        "     Это безусловная вероятность сочетания двух событий — быть женщиной и выжить.\n",
        "\n",
        "2. **Условные вероятности:**\n",
        "   - **P_cond_surv_fem (вероятность выживания при условии, что пассажир — женщина):** 0.7420\n",
        "     Эта вероятность выше, чем безусловная, так как рассматриваются только женщины. Среди женщин вероятность выживания заметно выше, чем в общей выборке.\n",
        "\n",
        "   - **P_cond_surv_1class (вероятность выживания при условии, что пассажир ехал в первом классе):** 0.6296\n",
        "     Первая группа класса имела лучшее положение на корабле и доступ к спасательным шлюпкам, что объясняет высокий шанс выживания.\n",
        "\n",
        "   - **P_cond_surv_1class_fem (вероятность выживания для женщин из первого класса):** 0.9681\n",
        "     Женщины из первого класса были наиболее защищены, что делает эту вероятность самой высокой. Этот факт связан с правилами эвакуации \"женщины и дети первыми\", особенно для пассажиров первого класса.\n",
        "\n",
        "   - **P_cond_surv_2class_male (вероятность выживания для мужчин из второго класса):** 0.1574\n",
        "     Мужчины второго класса имели гораздо меньшие шансы на выживание по сравнению с женщинами или пассажирами первого класса.\n",
        "\n",
        "   - **P_cond_fem_surv (вероятность, что пассажир — женщина, при условии, что он выжил):** 0.6813\n",
        "     Если пассажир выжил, то вероятность того, что это была женщина, достаточно высока, что отражает дисбаланс в шансах выживания между мужчинами и женщинами.\n",
        "\n",
        "   - **P_cond_1class_surv (вероятность, что пассажир ехал в первом классе, при условии, что он выжил):** 0.3977\n",
        "     Вероятность того, что выживший пассажир был из первого класса, почти 40%, что отражает преимущество пассажиров первого класса.\n",
        "\n",
        "**Объяснение разницы:**\n",
        "\n",
        "Условные вероятности дают больше информации, так как они основаны на дополнительной информации (например, \"если пассажир — женщина\" или \"если пассажир из первого класса\"). Это помогает лучше понять вероятность выживания для конкретных групп. Например, среди всех пассажиров вероятность выживания ниже, но среди женщин или пассажиров первого класса — значительно выше, что связано с доступом к спасательным шлюпкам и приоритетами спасения."
      ]
    },
    {
      "cell_type": "markdown",
      "metadata": {
        "id": "o7W2eNBuqzAF"
      },
      "source": [
        "."
      ]
    },
    {
      "cell_type": "markdown",
      "metadata": {
        "id": "uPoHizfkrDDx"
      },
      "source": [
        "### **Задание 3**\n",
        "Рассмотрим датасет со статистикой почтового ящика `letters.xlsx`. Данные можно найти в материалах к практической работе. Там содержится 248 записей с информацией о письмах. \n",
        "\n",
        "Нам хочется узнать, является ли новое письмо, пришедшее к нам на почту, спамом. Для этого у нас существует статистика писем. Каждое пришедшее письмо может быть либо спамом, либо нет. При этом и спам, и нормальные письма могут содержать слова, характерные для спам-писем. Данный датасет представляет собой набор записей с информацией о пришедших ранее письмах, распознанных человеком как спам или нет. \n",
        "\n",
        "\n"
      ]
    },
    {
      "cell_type": "code",
      "execution_count": 191,
      "metadata": {
        "colab": {
          "base_uri": "https://localhost:8080/",
          "height": 455
        },
        "id": "97q3xYj7a2On",
        "outputId": "fd7d7b10-c391-4ebe-dda4-0199fa8767f3"
      },
      "outputs": [
        {
          "data": {
            "text/html": [
              "<div>\n",
              "<style scoped>\n",
              "    .dataframe tbody tr th:only-of-type {\n",
              "        vertical-align: middle;\n",
              "    }\n",
              "\n",
              "    .dataframe tbody tr th {\n",
              "        vertical-align: top;\n",
              "    }\n",
              "\n",
              "    .dataframe thead th {\n",
              "        text-align: right;\n",
              "    }\n",
              "</style>\n",
              "<table border=\"1\" class=\"dataframe\">\n",
              "  <thead>\n",
              "    <tr style=\"text-align: right;\">\n",
              "      <th></th>\n",
              "      <th>spam</th>\n",
              "      <th>spam_words</th>\n",
              "    </tr>\n",
              "    <tr>\n",
              "      <th>id_letter</th>\n",
              "      <th></th>\n",
              "      <th></th>\n",
              "    </tr>\n",
              "  </thead>\n",
              "  <tbody>\n",
              "    <tr>\n",
              "      <th>1</th>\n",
              "      <td>да</td>\n",
              "      <td>нет</td>\n",
              "    </tr>\n",
              "    <tr>\n",
              "      <th>2</th>\n",
              "      <td>да</td>\n",
              "      <td>да</td>\n",
              "    </tr>\n",
              "    <tr>\n",
              "      <th>3</th>\n",
              "      <td>нет</td>\n",
              "      <td>нет</td>\n",
              "    </tr>\n",
              "    <tr>\n",
              "      <th>4</th>\n",
              "      <td>нет</td>\n",
              "      <td>да</td>\n",
              "    </tr>\n",
              "    <tr>\n",
              "      <th>5</th>\n",
              "      <td>да</td>\n",
              "      <td>да</td>\n",
              "    </tr>\n",
              "    <tr>\n",
              "      <th>...</th>\n",
              "      <td>...</td>\n",
              "      <td>...</td>\n",
              "    </tr>\n",
              "    <tr>\n",
              "      <th>244</th>\n",
              "      <td>нет</td>\n",
              "      <td>нет</td>\n",
              "    </tr>\n",
              "    <tr>\n",
              "      <th>245</th>\n",
              "      <td>нет</td>\n",
              "      <td>нет</td>\n",
              "    </tr>\n",
              "    <tr>\n",
              "      <th>246</th>\n",
              "      <td>нет</td>\n",
              "      <td>нет</td>\n",
              "    </tr>\n",
              "    <tr>\n",
              "      <th>247</th>\n",
              "      <td>нет</td>\n",
              "      <td>нет</td>\n",
              "    </tr>\n",
              "    <tr>\n",
              "      <th>248</th>\n",
              "      <td>нет</td>\n",
              "      <td>нет</td>\n",
              "    </tr>\n",
              "  </tbody>\n",
              "</table>\n",
              "<p>248 rows × 2 columns</p>\n",
              "</div>"
            ],
            "text/plain": [
              "          spam spam_words\n",
              "id_letter                \n",
              "1           да        нет\n",
              "2           да         да\n",
              "3          нет        нет\n",
              "4          нет         да\n",
              "5           да         да\n",
              "...        ...        ...\n",
              "244        нет        нет\n",
              "245        нет        нет\n",
              "246        нет        нет\n",
              "247        нет        нет\n",
              "248        нет        нет\n",
              "\n",
              "[248 rows x 2 columns]"
            ]
          },
          "execution_count": 191,
          "metadata": {},
          "output_type": "execute_result"
        }
      ],
      "source": [
        "df = pd.read_excel('letters.xlsx', sheet_name='Sheet1', index_col='id_letter')\n",
        "df"
      ]
    },
    {
      "cell_type": "markdown",
      "metadata": {
        "id": "VXZ48zp6s34j"
      },
      "source": [
        "Столбец `spam` отвечает на вопрос, является письмо спамом или нет, `spam_words` — содержит ли оно слова, встречающиеся в спам-письмах.\n",
        "\n",
        "1. Найдите долю спам-писем по отношению ко всем.\n",
        "\n"
      ]
    },
    {
      "cell_type": "code",
      "execution_count": 192,
      "metadata": {
        "id": "2-Xbar2xs_An"
      },
      "outputs": [
        {
          "name": "stdout",
          "output_type": "stream",
          "text": [
            "88\n",
            "The probability equals to 11/31 or 35.48%.\n"
          ]
        }
      ],
      "source": [
        "spam_letters = len(df[df.spam == 'да'])\n",
        "print(spam_letters)\n",
        "total_letters = len(df)\n",
        "P_spam = spam_letters / total_letters\n",
        "display_result(P_spam)"
      ]
    },
    {
      "cell_type": "markdown",
      "metadata": {
        "id": "K0FHedEys_au"
      },
      "source": [
        "2. Найдите долю писем со спам-подобными словами по отношению ко всем.\n"
      ]
    },
    {
      "cell_type": "code",
      "execution_count": 193,
      "metadata": {
        "id": "USOq8sNutCxC"
      },
      "outputs": [
        {
          "name": "stdout",
          "output_type": "stream",
          "text": [
            "93\n",
            "The probability equals to 3/8 or 37.5%.\n"
          ]
        }
      ],
      "source": [
        "spam_words_qty = len(df[df.spam_words == 'да'])\n",
        "print(spam_words_qty)\n",
        "P_spam_words = spam_words_qty / total_letters\n",
        "display_result(P_spam_words)"
      ]
    },
    {
      "cell_type": "markdown",
      "metadata": {
        "id": "x8OiJqvCtDCD"
      },
      "source": [
        "3. Найдите вероятность, что письмо содержит спам-подобные слова при условии, что оно является спамом.\n"
      ]
    },
    {
      "cell_type": "code",
      "execution_count": 194,
      "metadata": {
        "id": "4IwG20wNtGQ1"
      },
      "outputs": [
        {
          "name": "stdout",
          "output_type": "stream",
          "text": [
            "32\n",
            "The probability equals to 4/11 or 36.36%.\n"
          ]
        }
      ],
      "source": [
        "spam_words_spam = len(df[(df.spam_words == 'да') & (df.spam == 'да')])\n",
        "print(spam_words_spam)\n",
        "P_spam_words_cond = spam_words_spam / spam_letters\n",
        "display_result(P_spam_words_cond)"
      ]
    },
    {
      "cell_type": "markdown",
      "metadata": {
        "id": "ruU9vLPVtGoK"
      },
      "source": [
        "4. Найдите вероятность, что письмо является спамом при условии, что оно содержит спам-подобные слова.\n"
      ]
    },
    {
      "cell_type": "code",
      "execution_count": 195,
      "metadata": {
        "id": "q93GX-X6tJOT"
      },
      "outputs": [
        {
          "name": "stdout",
          "output_type": "stream",
          "text": [
            "The probability equals to 32/93 or 34.41%.\n"
          ]
        }
      ],
      "source": [
        "P_spam_letters_cond = spam_words_spam / spam_words_qty\n",
        "display_result(P_spam_letters_cond)"
      ]
    },
    {
      "cell_type": "markdown",
      "metadata": {
        "id": "LSWmnnWptJjb"
      },
      "source": [
        "С помощью такого принципа [работает наивный байесовский классификатор](https://ru.wikipedia.org/wiki/%D0%91%D0%B0%D0%B9%D0%B5%D1%81%D0%BE%D0%B2%D1%81%D0%BA%D0%B0%D1%8F_%D1%84%D0%B8%D0%BB%D1%8C%D1%82%D1%80%D0%B0%D1%86%D0%B8%D1%8F_%D1%81%D0%BF%D0%B0%D0%BC%D0%B0). При обучении модели для каждого встреченного в письмах слова высчитывается и сохраняется вероятность того, что письмо с этим словом — спам. И в дальнейшем, на основе наличия в письме слов с высокой вероятностью встречающихся в спам-письмах, машина может рассчитать условную вероятность того, что в таком случае письмо является спамом. Если эта вероятность превысит 0,5, можно положить такое письмо в спам. Более сложные модели учитывают не только наличие определённых слов, но и множество других факторов. Тем самым, по целому ряду свойств письма можно рассчитать соответствующую условную вероятность, что письмо будет спамом при условии, что оно обладает некоторым набором характеристик. Такой классификатор работает достаточно хорошо и быстро в простых ситуациях, однако он слишком завязан на варианты значений условий. Например, если в тренировочном датасете не встречалась определённая комбинация условных факторов, то классификатор не сможет оценить вероятность в ситуации, если такая комбинация встретится в тестовой выборке."
      ]
    }
  ],
  "metadata": {
    "colab": {
      "provenance": []
    },
    "kernelspec": {
      "display_name": "Python 3",
      "language": "python",
      "name": "python3"
    },
    "language_info": {
      "codemirror_mode": {
        "name": "ipython",
        "version": 3
      },
      "file_extension": ".py",
      "mimetype": "text/x-python",
      "name": "python",
      "nbconvert_exporter": "python",
      "pygments_lexer": "ipython3",
      "version": "3.11.5"
    }
  },
  "nbformat": 4,
  "nbformat_minor": 0
}
