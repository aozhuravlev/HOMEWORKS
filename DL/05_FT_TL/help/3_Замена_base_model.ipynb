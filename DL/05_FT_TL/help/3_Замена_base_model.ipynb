{
  "metadata": {
    "kernelspec": {
      "display_name": "Python 3",
      "language": "python",
      "name": "python3"
    },
    "language_info": {
      "name": "python",
      "version": "3.6.4",
      "mimetype": "text/x-python",
      "codemirror_mode": {
        "name": "ipython",
        "version": 3
      },
      "pygments_lexer": "ipython3",
      "nbconvert_exporter": "python",
      "file_extension": ".py"
    },
    "kaggle": {
      "accelerator": "gpu",
      "dataSources": [
        {
          "sourceId": 773427,
          "sourceType": "datasetVersion",
          "datasetId": 403293
        }
      ],
      "dockerImageVersionId": 29867,
      "isInternetEnabled": false,
      "language": "python",
      "sourceType": "notebook",
      "isGpuEnabled": true
    },
    "colab": {
      "provenance": []
    }
  },
  "nbformat_minor": 0,
  "nbformat": 4,
  "cells": [
    {
      "cell_type": "markdown",
      "source": [
        "# Transfer learning в решении задачи классификации цветов\n",
        "[Датасет классификации цветов](https://www.robots.ox.ac.uk/~vgg/data/flowers/102/index.html) состоит из 102 видов цветов, которые встречаются в Великобритании. Для каждого класса есть от 40 до 258 примеров — этого мало для обучения с нуля.\n",
        "<img src=\"http://bennycheung.github.io/images/deep-transfer-learning-on-small-dataset/flower_train_samples_700.jpg\" style=\"width:50%\">"
      ],
      "metadata": {
        "id": "EU9UQeT2y5mt"
      }
    },
    {
      "cell_type": "markdown",
      "source": [
        "Maria-Elena Nilsback, Andrew Zisserman / robots.ox.ac.uk"
      ],
      "metadata": {
        "id": "vgVDuP64zAuU"
      }
    },
    {
      "cell_type": "code",
      "source": [
        "!pip install tensorflow==2.1"
      ],
      "metadata": {
        "_kg_hide-output": true,
        "_kg_hide-input": false,
        "trusted": true,
        "id": "2ic00YvCy5mu"
      },
      "outputs": [],
      "execution_count": null
    },
    {
      "cell_type": "code",
      "source": [
        "!pip install -q efficientnet"
      ],
      "metadata": {
        "_kg_hide-output": true,
        "_kg_hide-input": false,
        "trusted": true,
        "id": "gzt4QLAxy5mv"
      },
      "outputs": [],
      "execution_count": null
    },
    {
      "cell_type": "code",
      "source": [
        "import numpy as np\n",
        "import pandas as pd\n",
        "import matplotlib.pyplot as plt\n",
        "import seaborn as sns\n",
        "import pickle\n",
        "import scipy.io\n",
        "import tarfile\n",
        "import csv\n",
        "import sys\n",
        "import os\n",
        "\n",
        "\n",
        "import tensorflow as tf\n",
        "import tensorflow.keras as keras\n",
        "import tensorflow.keras.models as M\n",
        "import tensorflow.keras.layers as L\n",
        "import tensorflow.keras.backend as K\n",
        "import tensorflow.keras.callbacks as C\n",
        "from tensorflow.keras.preprocessing import image\n",
        "from tensorflow.keras.preprocessing.image import ImageDataGenerator\n",
        "from tensorflow.keras.callbacks import LearningRateScheduler, ModelCheckpoint, EarlyStopping\n",
        "from tensorflow.keras.callbacks import Callback\n",
        "from tensorflow.keras import optimizers\n",
        "import efficientnet.tfkeras as efn\n",
        "\n",
        "from sklearn.model_selection import train_test_split\n",
        "\n",
        "import PIL\n",
        "from PIL import ImageOps, ImageFilter\n",
        "#увеличим дефолтный размер графиков\n",
        "from pylab import rcParams\n",
        "rcParams['figure.figsize'] = 10, 5\n",
        "%matplotlib inline\n",
        "\n",
        "print(os.listdir(\"../input\"))\n",
        "print('Python       :', sys.version.split('\\n')[0])\n",
        "print('Numpy        :', np.__version__)\n",
        "print('Tensorflow   :', tf.__version__)\n",
        "print('Keras        :', keras.__version__)"
      ],
      "metadata": {
        "_cell_guid": "79c7e3d0-c299-4dcb-8224-4455121ee9b0",
        "_kg_hide-input": true,
        "_uuid": "d629ff2d2480ee46fbb7e2d37f6b5fab8052498a",
        "trusted": true,
        "id": "PekmNU3qy5mv"
      },
      "outputs": [],
      "execution_count": null
    },
    {
      "cell_type": "code",
      "source": [
        "# Проверяем, что у нас работает GPU\n",
        "tf.test.gpu_device_name()"
      ],
      "metadata": {
        "trusted": true,
        "id": "8LFnJFRGy5mw"
      },
      "outputs": [],
      "execution_count": null
    },
    {
      "cell_type": "markdown",
      "source": [
        "Работаем уже с Tensorflow 2.1, но для воспроизводимости сохраним версии всех пакетов."
      ],
      "metadata": {
        "id": "a8iZavqey5mx"
      }
    },
    {
      "cell_type": "code",
      "source": [
        "!pip freeze > requirements.txt"
      ],
      "metadata": {
        "trusted": true,
        "_kg_hide-input": true,
        "id": "AFLyJfUMy5mx"
      },
      "outputs": [],
      "execution_count": null
    },
    {
      "cell_type": "markdown",
      "source": [
        "# Setup"
      ],
      "metadata": {
        "id": "mYMWaFgpy5my"
      }
    },
    {
      "cell_type": "code",
      "source": [
        "# В сетап выносим основные настройки, так удобнее их перебирать в дальнейшем\n",
        "\n",
        "EPOCHS               = 50\n",
        "BATCH_SIZE           = 8 # уменьшаем batch, если сеть большая, иначе не влезет в память на GPU\n",
        "LR                   = 1e-3\n",
        "VAL_SPLIT            = 0.2\n",
        "\n",
        "CLASS_NUM            = 102\n",
        "IMG_SIZE             = 250\n",
        "IMG_CHANNELS         = 3\n",
        "input_shape          = (IMG_SIZE, IMG_SIZE, IMG_CHANNELS)\n",
        "\n",
        "DATA_PATH = '../input/flower-dataset-102/'\n",
        "PATH = \"../working/flower/\""
      ],
      "metadata": {
        "trusted": true,
        "id": "HM7MbY-Hy5my"
      },
      "outputs": [],
      "execution_count": null
    },
    {
      "cell_type": "code",
      "source": [
        "# Setting seed for reproducibility\n",
        "os.makedirs(PATH,exist_ok=False)\n",
        "\n",
        "RANDOM_SEED = 42\n",
        "np.random.seed(RANDOM_SEED)\n",
        "PYTHONHASHSEED = 0"
      ],
      "metadata": {
        "_kg_hide-input": true,
        "trusted": true,
        "id": "k5YfBMKhy5my"
      },
      "outputs": [],
      "execution_count": null
    },
    {
      "cell_type": "markdown",
      "source": [
        "# Data"
      ],
      "metadata": {
        "id": "rKFpAMx4y5mz"
      }
    },
    {
      "cell_type": "code",
      "source": [
        "# Прочитаем все названия файлов прямо из архива и таргеты к ним\n",
        "def get_all_filenames(tar_fn):\n",
        "    with tarfile.open(tar_fn) as f:\n",
        "        return [m.name for m in f.getmembers() if m.isfile()]\n",
        "\n",
        "df = pd.DataFrame()\n",
        "df['Id'] = sorted(get_all_filenames(DATA_PATH+\"102flowers.tgz\"))\n",
        "df['Category'] = scipy.io.loadmat(DATA_PATH+'imagelabels.mat')['labels'][0] - 1  # классы (0, 1, 2, ...)\n",
        "df['Category'] = df['Category'].astype(str)"
      ],
      "metadata": {
        "trusted": true,
        "id": "PjOzVn4jy5mz"
      },
      "outputs": [],
      "execution_count": null
    },
    {
      "cell_type": "code",
      "source": [
        "df.head(5)"
      ],
      "metadata": {
        "trusted": true,
        "id": "QqWoZdqdy5mz"
      },
      "outputs": [],
      "execution_count": null
    },
    {
      "cell_type": "code",
      "source": [
        "df['Category'].value_counts()"
      ],
      "metadata": {
        "trusted": true,
        "id": "Dh7wVmmiy5m0"
      },
      "outputs": [],
      "execution_count": null
    },
    {
      "cell_type": "code",
      "source": [
        "df['Category'].nunique()"
      ],
      "metadata": {
        "trusted": true,
        "id": "_a7MKzOwy5m0"
      },
      "outputs": [],
      "execution_count": null
    },
    {
      "cell_type": "code",
      "source": [
        "print('Распаковываем картинки')\n",
        "# Will unzip the files so that you can see them..\n",
        "opened_tar = tarfile.open(DATA_PATH+\"102flowers.tgz\")\n",
        "opened_tar.extractall(PATH)\n",
        "\n",
        "print(os.listdir(PATH+'jpg')[:5])"
      ],
      "metadata": {
        "trusted": true,
        "id": "JzkswOdKy5m0"
      },
      "outputs": [],
      "execution_count": null
    },
    {
      "cell_type": "code",
      "source": [
        "print('Пример картинок (random sample)')\n",
        "plt.figure(figsize=(12,8))\n",
        "\n",
        "random_image = df.sample(n=9)\n",
        "random_image_paths = random_image['Id'].values\n",
        "random_image_cat = random_image['Category'].values\n",
        "\n",
        "for index, path in enumerate(random_image_paths):\n",
        "    im = PIL.Image.open(PATH+path)\n",
        "    plt.subplot(3,3, index+1)\n",
        "    plt.imshow(im)\n",
        "    plt.title('Class: '+str(random_image_cat[index]))\n",
        "    plt.axis('off')\n",
        "plt.show()"
      ],
      "metadata": {
        "_kg_hide-input": true,
        "trusted": true,
        "id": "wUR3doFKy5m0"
      },
      "outputs": [],
      "execution_count": null
    },
    {
      "cell_type": "code",
      "source": [
        "# Убедимся, что метки классов подгрузились верно\n",
        "print('Пример картинок (random sample)')\n",
        "plt.figure(figsize=(12,8))\n",
        "\n",
        "random_image = df[df['Category']=='1'].sample(n=9)\n",
        "random_image_paths = random_image['Id'].values\n",
        "random_image_cat = random_image['Category'].values\n",
        "\n",
        "for index, path in enumerate(random_image_paths):\n",
        "    im = PIL.Image.open(PATH+path)\n",
        "    plt.subplot(3,3, index+1)\n",
        "    plt.imshow(im)\n",
        "    plt.title('Class: '+str(random_image_cat[index]))\n",
        "    plt.axis('off')\n",
        "plt.show()"
      ],
      "metadata": {
        "trusted": true,
        "id": "U6yQaj-ey5m0"
      },
      "outputs": [],
      "execution_count": null
    },
    {
      "cell_type": "code",
      "source": [
        "# Как видим, изображения имеют разные размеры\n",
        "image = PIL.Image.open(PATH+path)\n",
        "imgplot = plt.imshow(image)\n",
        "plt.show()\n",
        "image.size"
      ],
      "metadata": {
        "trusted": true,
        "id": "z3swDmS_y5m0"
      },
      "outputs": [],
      "execution_count": null
    },
    {
      "cell_type": "markdown",
      "source": [
        " ## Stratify Split"
      ],
      "metadata": {
        "id": "JqCRsfxby5m0"
      }
    },
    {
      "cell_type": "code",
      "source": [
        "# трейн / тест\n",
        "train_files, test_files, train_labels, test_labels = \\\n",
        "    train_test_split(df['Id'], df['Category'], test_size=0.2, random_state=42, stratify=df['Category'])\n",
        "\n",
        "train_files = pd.DataFrame(train_files)\n",
        "test_files = pd.DataFrame(test_files)\n",
        "train_files['Category'] = train_labels\n",
        "test_files['Category'] = test_labels\n",
        "\n",
        "train_files.shape, test_files.shape"
      ],
      "metadata": {
        "trusted": true,
        "id": "61FVW135y5m0"
      },
      "outputs": [],
      "execution_count": null
    },
    {
      "cell_type": "code",
      "source": [
        "train_files.head(5)"
      ],
      "metadata": {
        "trusted": true,
        "id": "D6NoI_rEy5m1"
      },
      "outputs": [],
      "execution_count": null
    },
    {
      "cell_type": "code",
      "source": [
        "train_files['Category'].value_counts()"
      ],
      "metadata": {
        "trusted": true,
        "id": "nEqz8SUHy5m1"
      },
      "outputs": [],
      "execution_count": null
    },
    {
      "cell_type": "code",
      "source": [
        "test_files['Category'].value_counts()"
      ],
      "metadata": {
        "trusted": true,
        "id": "Rch_Uq6py5m1"
      },
      "outputs": [],
      "execution_count": null
    },
    {
      "cell_type": "markdown",
      "source": [
        "### Data augmentation"
      ],
      "metadata": {
        "id": "o973UWtGy5m1"
      }
    },
    {
      "cell_type": "code",
      "source": [
        "# Аугментация данных очень важна, когда у нас небольшой датасет (как в нашем случае)\n",
        "\n",
        "train_datagen = ImageDataGenerator(rescale=1. / 255,\n",
        "                                    rotation_range = 50,\n",
        "                                    shear_range=0.2,\n",
        "                                    zoom_range=[0.75,1.25],\n",
        "                                    brightness_range=[0.5, 1.5],\n",
        "                                    width_shift_range=0.1,\n",
        "                                    height_shift_range=0.1,\n",
        "                                    horizontal_flip=True)\n",
        "test_datagen = ImageDataGenerator(rescale=1. / 255)"
      ],
      "metadata": {
        "trusted": true,
        "id": "eBqdV1u8y5m1"
      },
      "outputs": [],
      "execution_count": null
    },
    {
      "cell_type": "markdown",
      "source": [
        "### datagen"
      ],
      "metadata": {
        "id": "W3R2Z-26y5m1"
      }
    },
    {
      "cell_type": "code",
      "source": [
        "# \"Заворачиваем\" наши данные в generator\n",
        "\n",
        "train_generator = train_datagen.flow_from_dataframe(\n",
        "    dataframe=train_files,\n",
        "    directory=PATH,\n",
        "    x_col=\"Id\",\n",
        "    y_col=\"Category\",\n",
        "    target_size=(IMG_SIZE, IMG_SIZE),\n",
        "    batch_size=BATCH_SIZE,\n",
        "    class_mode='categorical',\n",
        "    shuffle=True,\n",
        "    seed=RANDOM_SEED,)\n",
        "\n",
        "test_generator = test_datagen.flow_from_dataframe(\n",
        "    dataframe=test_files,\n",
        "    directory=PATH,\n",
        "    x_col=\"Id\",\n",
        "    y_col=\"Category\",\n",
        "    target_size=(IMG_SIZE, IMG_SIZE),\n",
        "    batch_size=BATCH_SIZE,\n",
        "    class_mode='categorical',\n",
        "    shuffle=False,\n",
        "    seed=RANDOM_SEED,)"
      ],
      "metadata": {
        "trusted": true,
        "id": "RlqFI2F_y5m1"
      },
      "outputs": [],
      "execution_count": null
    },
    {
      "cell_type": "code",
      "source": [
        "from skimage import io\n",
        "\n",
        "def imshow(image_RGB):\n",
        "  io.imshow(image_RGB)\n",
        "  io.show()\n",
        "\n",
        "x,y = train_generator.next()\n",
        "print('Пример картинок из train_generator')\n",
        "plt.figure(figsize=(12,8))\n",
        "\n",
        "for i in range(0,6):\n",
        "    image = x[i]\n",
        "    plt.subplot(3,3, i+1)\n",
        "    plt.imshow(image)\n",
        "    #plt.title('Class: '+str(y[i]))\n",
        "    #plt.axis('off')\n",
        "plt.show()"
      ],
      "metadata": {
        "trusted": true,
        "id": "2FnQO6wxy5m1"
      },
      "outputs": [],
      "execution_count": null
    },
    {
      "cell_type": "code",
      "source": [
        "x,y = test_generator.next()\n",
        "print('Пример картинок из test_generator')\n",
        "plt.figure(figsize=(12,8))\n",
        "\n",
        "for i in range(0,6):\n",
        "    image = x[i]\n",
        "    plt.subplot(3,3, i+1)\n",
        "    plt.imshow(image)\n",
        "    #plt.title('Class: '+str(y[i]))\n",
        "    #plt.axis('off')\n",
        "plt.show()"
      ],
      "metadata": {
        "trusted": true,
        "id": "pzNYdcqMy5m1"
      },
      "outputs": [],
      "execution_count": null
    },
    {
      "cell_type": "markdown",
      "source": [
        "# Model"
      ],
      "metadata": {
        "id": "O52_EMqJy5m1"
      }
    },
    {
      "cell_type": "code",
      "source": [
        "input_shape"
      ],
      "metadata": {
        "trusted": true,
        "id": "0cQZgJTuy5m2"
      },
      "outputs": [],
      "execution_count": null
    },
    {
      "cell_type": "code",
      "source": [
        "base_model = efn.EfficientNetB7(weights='imagenet', include_top=False, input_shape=input_shape)"
      ],
      "metadata": {
        "trusted": true,
        "id": "cW8Y6nHjy5m2"
      },
      "outputs": [],
      "execution_count": null
    },
    {
      "cell_type": "code",
      "source": [
        "base_model.summary()"
      ],
      "metadata": {
        "_kg_hide-output": true,
        "trusted": true,
        "id": "IAiL1sp6y5m2"
      },
      "outputs": [],
      "execution_count": null
    },
    {
      "cell_type": "code",
      "source": [
        "# first: train only the top layers (which were randomly initialized)\n",
        "base_model.trainable = False"
      ],
      "metadata": {
        "trusted": true,
        "id": "WuJ2jNhYy5m2"
      },
      "outputs": [],
      "execution_count": null
    },
    {
      "cell_type": "code",
      "source": [
        "model=M.Sequential()\n",
        "model.add(base_model)\n",
        "model.add(L.GlobalAveragePooling2D(),)\n",
        "model.add(L.Dense(CLASS_NUM, activation='softmax'))"
      ],
      "metadata": {
        "trusted": true,
        "id": "L4IAZz0ry5m2"
      },
      "outputs": [],
      "execution_count": null
    },
    {
      "cell_type": "code",
      "source": [
        "model.summary()"
      ],
      "metadata": {
        "_kg_hide-output": true,
        "trusted": true,
        "id": "-gvpXX7ty5m2"
      },
      "outputs": [],
      "execution_count": null
    },
    {
      "cell_type": "code",
      "source": [
        "# сколько слоев\n",
        "print(len(model.layers))"
      ],
      "metadata": {
        "trusted": true,
        "id": "Fbvnk52wy5m2"
      },
      "outputs": [],
      "execution_count": null
    },
    {
      "cell_type": "code",
      "source": [
        "len(model.trainable_variables)"
      ],
      "metadata": {
        "trusted": true,
        "id": "7X4sp3ZOy5m2"
      },
      "outputs": [],
      "execution_count": null
    },
    {
      "cell_type": "code",
      "source": [
        "# Check the trainable status of the individual layers\n",
        "for layer in model.layers:\n",
        "    print(layer, layer.trainable)"
      ],
      "metadata": {
        "trusted": true,
        "id": "c4vJszD8y5m-"
      },
      "outputs": [],
      "execution_count": null
    },
    {
      "cell_type": "markdown",
      "source": [
        "## Fit"
      ],
      "metadata": {
        "id": "vu1Kqm6Ny5m_"
      }
    },
    {
      "cell_type": "code",
      "source": [
        "LR=0.001\n",
        "model.compile(loss=\"categorical_crossentropy\", optimizer=optimizers.Adam(lr=LR), metrics=[\"accuracy\"])"
      ],
      "metadata": {
        "trusted": true,
        "id": "g6_4NR2_y5m_"
      },
      "outputs": [],
      "execution_count": null
    },
    {
      "cell_type": "code",
      "source": [
        "checkpoint = ModelCheckpoint('best_model.hdf5' , monitor = ['val_accuracy'] , verbose = 1  , mode = 'max')\n",
        "earlystop = EarlyStopping(monitor='val_accuracy', patience=5, restore_best_weights=True)\n",
        "callbacks_list = [checkpoint, earlystop]"
      ],
      "metadata": {
        "trusted": true,
        "id": "vwDyvNC1y5m_"
      },
      "outputs": [],
      "execution_count": null
    },
    {
      "cell_type": "code",
      "source": [
        "scores = model.evaluate_generator(test_generator, steps=1, verbose=1)\n",
        "print(\"Accuracy: %.2f%%\" % (scores[1]*100))"
      ],
      "metadata": {
        "trusted": true,
        "id": "rPVoQm5Qy5m_"
      },
      "outputs": [],
      "execution_count": null
    },
    {
      "cell_type": "code",
      "source": [
        "# Обучаем\n",
        "history = model.fit_generator(\n",
        "                    train_generator,\n",
        "                    steps_per_epoch = train_generator.samples//train_generator.batch_size,\n",
        "                    validation_data = test_generator,\n",
        "                    validation_steps = test_generator.samples//test_generator.batch_size,\n",
        "                    epochs = 5,\n",
        "                    callbacks = callbacks_list\n",
        "                    )"
      ],
      "metadata": {
        "trusted": true,
        "_kg_hide-output": true,
        "id": "LplsWTcry5m_"
      },
      "outputs": [],
      "execution_count": null
    },
    {
      "cell_type": "code",
      "source": [
        "# Удивительно, насколько эта модель хорошо умеет извлекать признаки!\n",
        "# Даже без дообучения получаем настолько высокий Accuracy"
      ],
      "metadata": {
        "trusted": true,
        "id": "z3K0RRghy5m_"
      },
      "outputs": [],
      "execution_count": null
    },
    {
      "cell_type": "code",
      "source": [
        "model.save('../working/model_step1.hdf5')\n",
        "model.load_weights('best_model.hdf5')"
      ],
      "metadata": {
        "trusted": true,
        "id": "h8Eyn1Qvy5m_"
      },
      "outputs": [],
      "execution_count": null
    },
    {
      "cell_type": "code",
      "source": [
        "scores = model.evaluate_generator(test_generator, steps=1, verbose=1)\n",
        "print(\"Accuracy: %.2f%%\" % (scores[1]*100))"
      ],
      "metadata": {
        "trusted": true,
        "id": "b9yuoFXcy5m_"
      },
      "outputs": [],
      "execution_count": null
    },
    {
      "cell_type": "code",
      "source": [
        "def plot_history(history):\n",
        "    plt.figure(figsize=(10,5))\n",
        "    #plt.style.use('dark_background')\n",
        "    acc = history.history['accuracy']\n",
        "    val_acc = history.history['val_accuracy']\n",
        "    loss = history.history['loss']\n",
        "    val_loss = history.history['val_loss']\n",
        "\n",
        "    epochs = range(len(acc))\n",
        "\n",
        "    plt.plot(epochs, acc, 'b', label='Training acc')\n",
        "    plt.plot(epochs, val_acc, 'g', label='Validation acc')\n",
        "    plt.title('Training and validation accuracy')\n",
        "    plt.legend()\n",
        "\n",
        "    #plt.figure()\n",
        "    plt.figure(figsize=(10,5))\n",
        "    #plt.style.use('dark_background')\n",
        "    plt.plot(epochs, loss, 'b', label='Training loss')\n",
        "    plt.plot(epochs, val_loss, 'g', label='Validation loss')\n",
        "    plt.title('Training and validation loss')\n",
        "    plt.legend()\n",
        "\n",
        "    plt.show()\n",
        "\n",
        "plot_history(history)"
      ],
      "metadata": {
        "_kg_hide-input": true,
        "trusted": true,
        "id": "wq7CDRPGy5m_"
      },
      "outputs": [],
      "execution_count": null
    },
    {
      "cell_type": "markdown",
      "source": [
        "## Step 2"
      ],
      "metadata": {
        "id": "UQlW9VcGy5nA"
      }
    },
    {
      "cell_type": "code",
      "source": [
        "base_model.trainable = True"
      ],
      "metadata": {
        "trusted": true,
        "id": "PAJvTYR8y5nA"
      },
      "outputs": [],
      "execution_count": null
    },
    {
      "cell_type": "code",
      "source": [
        "len(base_model.trainable_variables)"
      ],
      "metadata": {
        "trusted": true,
        "id": "rk6iHs0Ay5nA"
      },
      "outputs": [],
      "execution_count": null
    },
    {
      "cell_type": "code",
      "source": [
        "# Check the trainable status of the individual layers\n",
        "for layer in model.layers:\n",
        "    print(layer, layer.trainable)"
      ],
      "metadata": {
        "trusted": true,
        "id": "emeY7Cl8y5nA"
      },
      "outputs": [],
      "execution_count": null
    },
    {
      "cell_type": "code",
      "source": [
        "LR=0.00001\n",
        "model.compile(loss=\"categorical_crossentropy\", optimizer=optimizers.Adam(lr=LR), metrics=[\"accuracy\"])"
      ],
      "metadata": {
        "trusted": true,
        "id": "obNWa-sLy5nA"
      },
      "outputs": [],
      "execution_count": null
    },
    {
      "cell_type": "code",
      "source": [
        "model.summary()"
      ],
      "metadata": {
        "trusted": true,
        "id": "ypDR-hv-y5nA"
      },
      "outputs": [],
      "execution_count": null
    },
    {
      "cell_type": "code",
      "source": [
        "scores = model.evaluate_generator(test_generator, steps=1, verbose=1)\n",
        "print(\"Accuracy: %.2f%%\" % (scores[1]*100))"
      ],
      "metadata": {
        "trusted": true,
        "id": "1klhs4tIy5nA"
      },
      "outputs": [],
      "execution_count": null
    },
    {
      "cell_type": "code",
      "source": [
        "# Обучаем\n",
        "history = model.fit_generator(\n",
        "        train_generator,\n",
        "        steps_per_epoch = train_generator.samples//train_generator.batch_size,\n",
        "        validation_data = test_generator,\n",
        "        validation_steps = test_generator.samples//test_generator.batch_size,\n",
        "        epochs = 10,\n",
        "        callbacks = callbacks_list\n",
        ")"
      ],
      "metadata": {
        "trusted": true,
        "id": "Ik_AHs2Yy5nA"
      },
      "outputs": [],
      "execution_count": null
    },
    {
      "cell_type": "code",
      "source": [
        "model.save('../working/model_step2.hdf5')\n",
        "model.load_weights('best_model.hdf5')"
      ],
      "metadata": {
        "trusted": true,
        "id": "uKwzGVIyy5nA"
      },
      "outputs": [],
      "execution_count": null
    },
    {
      "cell_type": "code",
      "source": [
        "scores = model.evaluate_generator(test_generator, steps=1, verbose=1)\n",
        "print(\"Accuracy: %.2f%%\" % (scores[1]*100))"
      ],
      "metadata": {
        "trusted": true,
        "id": "ZCjvNRY2y5nA"
      },
      "outputs": [],
      "execution_count": null
    },
    {
      "cell_type": "code",
      "source": [
        "plot_history(history)"
      ],
      "metadata": {
        "trusted": true,
        "id": "lLRq0HQLy5nA"
      },
      "outputs": [],
      "execution_count": null
    },
    {
      "cell_type": "code",
      "source": [
        "# Clean PATH\n",
        "import shutil\n",
        "shutil.rmtree(PATH)"
      ],
      "metadata": {
        "_kg_hide-input": true,
        "trusted": true,
        "id": "AqdO1mb6y5nB"
      },
      "outputs": [],
      "execution_count": null
    },
    {
      "cell_type": "code",
      "source": [],
      "metadata": {
        "trusted": true,
        "id": "etBpR3nwy5nB"
      },
      "outputs": [],
      "execution_count": null
    }
  ]
}