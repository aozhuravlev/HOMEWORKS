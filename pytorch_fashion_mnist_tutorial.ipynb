{
  "cells": [
    {
      "cell_type": "code",
      "execution_count": null,
      "id": "73ca73bf-f1eb-4171-ac4a-b5065ed696cd",
      "metadata": {
        "id": "73ca73bf-f1eb-4171-ac4a-b5065ed696cd"
      },
      "outputs": [],
      "source": [
        "# Установка необходимых библиотек\n",
        "%pip install numpy\n",
        "%pip install torch torchvision\n",
        "%pip install jupyter\n",
        "%pip install scikit-learn\n",
        "%pip install seaborn matplotlib\n",
        "# !pip install numpy\n",
        "# !pip install torch torchvision\n",
        "# !pip install jupyter\n",
        "# !pip install scikit-learn\n",
        "# !pip install seaborn matplotlib"
      ]
    },
    {
      "cell_type": "markdown",
      "id": "c5b32885",
      "metadata": {
        "id": "c5b32885"
      },
      "source": [
        "## Импорт необходимых библиотек\n"
      ]
    },
    {
      "cell_type": "code",
      "execution_count": null,
      "id": "952eb33b",
      "metadata": {
        "id": "952eb33b",
        "outputId": "7779a854-1445-4455-e642-2cbd22582de1"
      },
      "outputs": [
        {
          "name": "stdout",
          "output_type": "stream",
          "text": [
            "Running on cpu.\n"
          ]
        },
        {
          "data": {
            "text/plain": [
              "device(type='cpu')"
            ]
          },
          "execution_count": 2,
          "metadata": {},
          "output_type": "execute_result"
        }
      ],
      "source": [
        "import torch\n",
        "import torchvision\n",
        "import torchvision.transforms as transforms\n",
        "import torch.nn as nn\n",
        "import torch.nn.functional as F\n",
        "import torch.optim as optim\n",
        "\n",
        "import numpy as np\n",
        "import matplotlib.pyplot as plt\n",
        "\n",
        "# For reproducibility\n",
        "torch.manual_seed(42)\n",
        "np.random.seed(42)\n",
        "\n",
        "# Проверка доступа к GPU\n",
        "device = torch.device(\"cuda\" if torch.cuda.is_available() else \"cpu\")\n",
        "print(f\"Running on {device}.\")\n",
        "\n",
        "device\n"
      ]
    },
    {
      "cell_type": "markdown",
      "id": "f78283c9",
      "metadata": {
        "id": "f78283c9"
      },
      "source": [
        "## Fashion MNIST\n",
        "\n",
        "\n",
        "![Fashion MNIST Sample](https://github.com/zalandoresearch/fashion-mnist/raw/master/doc/img/fashion-mnist-sprite.png)\n",
        "\n",
        "zalandoresearch / github.com\n",
        "\n",
        "В Fashion MNIST есть следующие классы:\n",
        "\n",
        "| Label | Description |\n",
        "| --- | --- |\n",
        "| 0 | T-shirt/top |\n",
        "| 1 | Trouser |\n",
        "| 2 | Pullover |\n",
        "| 3 | Dress |\n",
        "| 4 | Coat |\n",
        "| 5 | Sandal |\n",
        "| 6 | Shirt |\n",
        "| 7 | Sneaker |\n",
        "| 8 | Bag |\n",
        "| 9 | Ankle boot |\n"
      ]
    },
    {
      "cell_type": "markdown",
      "id": "c6fae0bf",
      "metadata": {
        "id": "c6fae0bf"
      },
      "source": [
        "## Загрузка и предобработка данных\n",
        "\n",
        "Для обработки и использования датасета Fashion MNIST с PyTorch мы будем использовать модуль `torchvision`, который предоставляет удобный API для загрузки и преобразования датасетов.\n",
        "\n",
        "## Утилиты PyTorch\n",
        "### torchvision\n",
        "\n",
        "`torchvision`— это библиотека в экосистеме PyTorch, которая предоставляет набор утилит для задач компьютерного зрения. Она включает:\n",
        "\n",
        "- предобученные модели (такие как ResNet, VGG и AlexNet);\n",
        "- популярные датасеты и преобразования для их предобработки;\n",
        "- утилиты для создания собственных датасетов и загрузчиков данных.\n",
        "\n",
        "На этом занятии мы будем использовать `torchvision` для доступа к датасету Fashion MNIST и для применения преобразований к изображениям.\n",
        "\n",
        "### torch.utils\n",
        "\n",
        "`torch.utils` — это утилитарный модуль в PyTorch, предоставляющий несколько подмодулей для выполнения различных задач. Одним из часто используемых подмодулей является `data`, который помогает работать с датасетами и предоставляет инструменты для их эффективной загрузки и предобработки.\n",
        "\n",
        "### DataLoader\n",
        "\n",
        "`DataLoader` — это класс в `torch.utils.data`, который оборачивает датасет и предоставляет мини-пакеты (mini-batches) данных. Он предлагает:\n",
        "\n",
        "- Формирование пакетов данных: вместо обучения на всём датасете сразу чаще используется обучение на небольших пакетах данных для лучшей оптимизации и более быстрого обучения.\n",
        "- Перемешивание: случайная перестановка тренировочных данных в начале каждой эпохи для уменьшения дисперсии модели.\n",
        "- Параллельная загрузка: использование многопоточности для подготовки пакетов в фоновом режиме, что обеспечивает максимальную загрузку GPU/CPU.\n",
        "В контексте этого занятия DataLoader используется для загрузки датасета Fashion MNIST по пакетам, их перемешивания и обеспечения эффективной загрузки с помощью нескольких рабочих потоков.\n",
        "\n",
        "Теперь давайте подробно разберём предоставленный код и рассмотрим его построчно.\n",
        "\n"
      ]
    },
    {
      "cell_type": "code",
      "execution_count": null,
      "id": "c4710455",
      "metadata": {
        "id": "c4710455",
        "outputId": "93067681-efc1-4e53-ed22-bbd673640779"
      },
      "outputs": [
        {
          "name": "stdout",
          "output_type": "stream",
          "text": [
            "Downloading http://fashion-mnist.s3-website.eu-central-1.amazonaws.com/train-images-idx3-ubyte.gz\n",
            "Downloading http://fashion-mnist.s3-website.eu-central-1.amazonaws.com/train-images-idx3-ubyte.gz to ./data/FashionMNIST/raw/train-images-idx3-ubyte.gz\n"
          ]
        },
        {
          "name": "stderr",
          "output_type": "stream",
          "text": [
            "100.0%\n"
          ]
        },
        {
          "name": "stdout",
          "output_type": "stream",
          "text": [
            "Extracting ./data/FashionMNIST/raw/train-images-idx3-ubyte.gz to ./data/FashionMNIST/raw\n",
            "\n",
            "Downloading http://fashion-mnist.s3-website.eu-central-1.amazonaws.com/train-labels-idx1-ubyte.gz\n",
            "Downloading http://fashion-mnist.s3-website.eu-central-1.amazonaws.com/train-labels-idx1-ubyte.gz to ./data/FashionMNIST/raw/train-labels-idx1-ubyte.gz\n"
          ]
        },
        {
          "name": "stderr",
          "output_type": "stream",
          "text": [
            "100.0%\n"
          ]
        },
        {
          "name": "stdout",
          "output_type": "stream",
          "text": [
            "Extracting ./data/FashionMNIST/raw/train-labels-idx1-ubyte.gz to ./data/FashionMNIST/raw\n",
            "\n",
            "Downloading http://fashion-mnist.s3-website.eu-central-1.amazonaws.com/t10k-images-idx3-ubyte.gz\n",
            "Downloading http://fashion-mnist.s3-website.eu-central-1.amazonaws.com/t10k-images-idx3-ubyte.gz to ./data/FashionMNIST/raw/t10k-images-idx3-ubyte.gz\n"
          ]
        },
        {
          "name": "stderr",
          "output_type": "stream",
          "text": [
            "100.0%\n"
          ]
        },
        {
          "name": "stdout",
          "output_type": "stream",
          "text": [
            "Extracting ./data/FashionMNIST/raw/t10k-images-idx3-ubyte.gz to ./data/FashionMNIST/raw\n",
            "\n",
            "Downloading http://fashion-mnist.s3-website.eu-central-1.amazonaws.com/t10k-labels-idx1-ubyte.gz\n",
            "Downloading http://fashion-mnist.s3-website.eu-central-1.amazonaws.com/t10k-labels-idx1-ubyte.gz to ./data/FashionMNIST/raw/t10k-labels-idx1-ubyte.gz\n"
          ]
        },
        {
          "name": "stderr",
          "output_type": "stream",
          "text": [
            "100.0%"
          ]
        },
        {
          "name": "stdout",
          "output_type": "stream",
          "text": [
            "Extracting ./data/FashionMNIST/raw/t10k-labels-idx1-ubyte.gz to ./data/FashionMNIST/raw\n",
            "\n"
          ]
        },
        {
          "name": "stderr",
          "output_type": "stream",
          "text": [
            "\n"
          ]
        }
      ],
      "source": [
        "# Импорт трансформеров\n",
        "import torchvision.transforms as transforms\n",
        "\n",
        "# Этот код создаёт пайплайн преобразований. Здесь используется только преобразование ToTensor(), которое конвертирует изображения в формат тензоров PyTorch.\n",
        "# Это позволяет использовать их в нейронных сетях.\n",
        "transform = transforms.Compose([transforms.ToTensor()])\n",
        "\n",
        "# Загрузка тренировочного датасета Fashion MNIST\n",
        "# root='./data': указывает директорию, куда будет сохранён датасет.\n",
        "# train=True: загружает тренировочную часть датасета.\n",
        "# download=True: загружает датасет, если он ещё не существует в указанной директории.\n",
        "# transform=transform: применяет указанные преобразования к изображениям.\n",
        "trainset = torchvision.datasets.FashionMNIST(root='./data', train=True, download=True, transform=transform)\n",
        "\n",
        "# Создание загрузчика данных для тренировочного набора\n",
        "# trainset: используется тренировочный набор данных, загруженный ранее.\n",
        "# batch_size=4: размер одного пакета данных равен 4.\n",
        "# shuffle=True: перемешивает данные в начале каждой эпохи для уменьшения зависимости от порядка данных.\n",
        "# num_workers=2: указывает, что два процесса будут использоваться для загрузки данных.\n",
        "trainloader = torch.utils.data.DataLoader(trainset, batch_size=4, shuffle=True, num_workers=2)\n",
        "\n",
        "# Загрузка тестового датасета Fashion MNIST.\n",
        "# train=False: загружается тестовая часть датасета.\n",
        "# shuffle=False: данные не перемешиваются, чтобы сохранить порядок тестовых данных.\n",
        "testset = torchvision.datasets.FashionMNIST(root='./data', train=False, download=True, transform=transform)\n",
        "testloader = torch.utils.data.DataLoader(testset, batch_size=4, shuffle=False, num_workers=2)\n",
        "\n",
        "# Определение классов для Fashion MNIST\n",
        "# Этот список определяет названия классов для элементов датасета. Они соответствуют меткам, которые будут предсказываться моделью.\n",
        "classes = ('T-shirt/top', 'Trouser', 'Pullover', 'Dress', 'Coat',\n",
        "           'Sandal', 'Shirt', 'Sneaker', 'Bag', 'Ankle boot')"
      ]
    },
    {
      "cell_type": "markdown",
      "id": "13f62614",
      "metadata": {
        "id": "13f62614"
      },
      "source": [
        "## Создание базовой свёрточной нейронной сети (CNN) для датасета\n",
        "Свёрточные нейронные сети (Convolutional Neural Networks, CNNs) действительно произвели революцию в области компьютерного зрения. Благодаря своей архитектуре они способны эффективно распознавать визуальные шаблоны непосредственно из изображений. Рассмотрим основные компоненты CNN и реализуем её для работы с датасетом Fashion MNIST.\n",
        "\n",
        "![CNN Architecture](https://miro.medium.com/max/2824/1*uAeANQIOQPqWZnnuH-VEyw.jpeg)\n",
        "Дмитрий ПереводIT / medium.com (недоступен при авторизации с территории Российской Федерации)\n",
        "\n",
        "### Основные слои в CNN\n",
        "1. **Слои свёртки (Convolutional Layers).** Выполняют свёртку над входными данными с фильтрами для выявления признаков (например, краёв, текстур).\n",
        "2. **Слои активации (Activation Layers).** Добавляют нелинейность в модель. Обычно используется функция активации ReLU (Rectified Linear Unit).\n",
        "3. **Слои подвыборки (Pooling Layers).** Снижают размерность данных, сохраняя важные признаки. Наиболее распространённый тип — Max Pooling.\n",
        "4. **Полносвязные слои (Fully Connected Layers).** После слоёв свёртки и подвыборки высокоуровневые признаки объединяются и используются для предсказания классов.\n"
      ]
    },
    {
      "cell_type": "code",
      "execution_count": null,
      "id": "910426cf",
      "metadata": {
        "id": "910426cf"
      },
      "outputs": [],
      "source": [
        "import torch.nn as nn\n",
        "import torch.nn.functional as F\n",
        "\n",
        "class BasicCNN(nn.Module):\n",
        "    def __init__(self):\n",
        "        super(BasicCNN, self).__init__()\n",
        "        # Вход: [batch_size, 1, 28, 28]\n",
        "        self.conv1 = nn.Conv2d(1, 32, 3)  # Выход: [batch_size, 32, 26, 26]\n",
        "\n",
        "        # Вход: [batch_size, 32, 26, 26]\n",
        "        self.conv2 = nn.Conv2d(32, 64, 3) # Выход: [batch_size, 64, 11, 11]\n",
        "\n",
        "        self.fc1 = nn.Linear(64 * 5 * 5, 128)  # Вытягивание: [batch_size, 64*5*5]\n",
        "        self.fc2 = nn.Linear(128, 10)\n",
        "\n",
        "    def forward(self, x):\n",
        "        # Вход: [batch_size, 1, 28, 28]\n",
        "        x = F.relu(self.conv1(x))\n",
        "        # Форма: [batch_size, 32, 26, 26]\n",
        "        x = F.max_pool2d(x, 2)\n",
        "        # Форма: [batch_size, 32, 13, 13]\n",
        "\n",
        "        x = F.relu(self.conv2(x))\n",
        "        # Форма: [batch_size, 64, 11, 11]\n",
        "        x = F.max_pool2d(x, 2)\n",
        "        # Форма: [batch_size, 64, 5, 5]\n",
        "\n",
        "        x = x.view(-1, 64 * 5 * 5) # Вытягивание\n",
        "        x = F.relu(self.fc1(x))\n",
        "        x = self.fc2(x)\n",
        "        return F.log_softmax(x, dim=1)"
      ]
    },
    {
      "cell_type": "markdown",
      "id": "b2adfb78",
      "metadata": {
        "id": "b2adfb78"
      },
      "source": [
        "## Обучение и оценка модели\n",
        "\n",
        "### 1. Создание экземпляра модели\n",
        "Перед началом обучения мы создаём экземпляр нашей модели и определяем устройство для вычислений (CPU или GPU)."
      ]
    },
    {
      "cell_type": "code",
      "execution_count": null,
      "id": "6cc5e4f2",
      "metadata": {
        "id": "6cc5e4f2"
      },
      "outputs": [],
      "source": [
        "model = BasicCNN().to(device)\n"
      ]
    },
    {
      "cell_type": "markdown",
      "id": "ebe51ba3",
      "metadata": {
        "id": "ebe51ba3"
      },
      "source": [
        "### 2. Оптимизатор и функция потерь\n",
        "\n",
        "Для обучения нейронной сети нам необходимы оптимизатор и функция потерь. Оптимизатор обновляет параметры модели (веса и смещения) для минимизации функции потерь.\n",
        "\n",
        "- **Оптимизатор.** Часто используется оптимизатор Adam, который адаптирует скорость обучения в процессе тренировки.\n",
        "- **Функция потерь.** Поскольку это задача классификации, мы используем Cross Entropy Loss."
      ]
    },
    {
      "cell_type": "code",
      "execution_count": null,
      "id": "d5a7be1d",
      "metadata": {
        "id": "d5a7be1d"
      },
      "outputs": [],
      "source": [
        "optimizer = torch.optim.Adam(model.parameters(), lr=0.001)\n",
        "criterion = nn.CrossEntropyLoss()"
      ]
    },
    {
      "cell_type": "markdown",
      "id": "8e34dd04",
      "metadata": {
        "id": "8e34dd04"
      },
      "source": [
        "## Понимание оптимизаторов и функций потерь\n",
        "\n",
        "### Оптимизаторы\n",
        "\n",
        "Оптимизаторы — это алгоритмы, используемые для корректировки весов модели на основе градиента функции потерь. Цель состоит в минимизации потерь. Существует несколько видов оптимизаторов:\n",
        "\n",
        "1. **SGD (Stochastic Gradient Descent).** Базовая форма алгоритма градиентного спуска. Обновляет веса модели, используя градиент функции потерь по каждому весу.\n",
        "    - Использование: `torch.optim.SGD(model.parameters(), lr=learning_rate)`.\n",
        "\n",
        "2. **Momentum.** Вариант SGD, который учитывает предыдущие шаги, помогая ускорить сходимость и избежать локальных минимумов.\n",
        "    - Использование: `torch.optim.SGD(model.parameters(), lr=learning_rate, momentum=0.9)`.\n",
        "\n",
        "3. **Adam.** Сочетает преимущества двух других расширений SGD: AdaGrad и RMSProp. Адаптирует скорость обучения каждого веса на основе исторической информации о градиентах.\n",
        "    - Использование: `torch.optim.Adam(model.parameters(), lr=learning_rate)`.\n",
        "\n",
        "4. **RMSProp.** Поддерживает скользящее среднее квадрата градиентов и делит градиент на корень из этого среднего.\n",
        "    - Использование: `torch.optim.RMSprop(model.parameters(), lr=learning_rate)`.\n",
        "\n",
        "### Loss Functions for Classification\n",
        "\n",
        "1. **Cross-Entropy Loss.** Используется для многоклассовой классификации. Оценивает разницу между предсказанным распределением вероятностей и фактическим распределением.\n",
        "    - Использование: `nn.CrossEntropyLoss()`.\n",
        "\n",
        "2. **Binary Cross-Entropy Loss.** Предназначена для задач бинарной классификации.\n",
        "    - Использование: `nn.BCELoss()`.\n",
        "\n",
        "3. **Hinge Loss (or Margin Loss).** Используется для классификации с «максимальным отступом», чаще всего для SVM.\n",
        "    - Использование: `nn.HingeEmbeddingLoss()`.\n",
        "\n",
        "### Identifying the Task\n",
        "\n",
        "- **Classification.** Цель — предсказать метку класса для входных данных. Например, если датасет содержит категории (например, «кот», «собака», «рубашка», «сандалии»), это задача классификации.\n",
        "\n",
        "- **Segmentation.** Цель — классифицировать каждый пиксель изображения. Например, если датасет содержит изображения с цветными регионами, обозначающими разные объекты или характеристики, это задача сегментации.\n",
        "\n",
        "- **Regression.** Цель — предсказать непрерывное значение. Например, если датасет содержит числовые значения (например, цены на дома, цены акций) в качестве меток, это задача регрессии.\n",
        "\n",
        "Для определения типа задачи необходимо изучить метки в датасете и требования задачи:\n",
        "\n",
        "- Если нужно предсказать категорию объекта, это классификация.\n",
        "- Если требуется предсказать числовое значение, это регрессия.\n",
        "- Если задача связана с классификацией каждого пикселя, это сегментация.\n"
      ]
    },
    {
      "cell_type": "markdown",
      "id": "a7001f49",
      "metadata": {
        "id": "a7001f49"
      },
      "source": [
        "## 3. Объяснение тренировочного цикла нейронной сети\n",
        "Обучение нейронной сети включает итеративное обновление её весов для минимизации функции потерь. Это достигается с использованием алгоритмов оптимизации, основанных на градиентном спуске. Вот подробное объяснение этапов тренировочного цикла:\n",
        "\n",
        "1. **Epochs.** Эпоха — это один полный проход по всему тренировочному набору данных, включающий прямой и обратный проход.  Количество эпох (`num_epochs`) задаётся вручную и определяет, сколько раз алгоритм обучения пройдёт по всему датасету.\n",
        "\n",
        "2. **Model Training Mode.** Нейронные сети могут работать в двух режимах: обучении и оценке. Некоторые слои (например, Dropout или Batch Normalization) ведут себя по-разному в этих режимах. Установка режима обучения (model.train()) гарантирует правильную работу слоёв, таких как Dropout.\n",
        "\n",
        "3. **Batch Processing.** Обновление весов после каждого примера (стохастический градиентный спуск) слишком нестабильно. Обновление после всего датасета (градиентный спуск на всём батче) слишком медленно. Использование мини-батчей — это баланс между скоростью и стабильностью.\n",
        "\n",
        "4. **Zeroing Gradients.** В PyTorch градиенты накапливаются после каждого шага обратного распространения. Перед вычислением новых градиентов для текущего батча необходимо обнулить старые.\n",
        "\n",
        "5. **Forward Pass.** Данные (например, изображения) передаются через сеть слой за слоем до получения выходных значений. Этот процесс называется прямым проходом, или `forward pass`.\n",
        "\n",
        "6. **Calculate Loss.** Результаты сети (выходы) сравниваются с истинными метками с помощью функции потерь. Потери показывают, насколько хорошо предсказания сети совпадают с правильными метками.\n",
        "\n",
        "7. **Backward Pass.** Для обновления весов необходимо вычислить градиенты функции потерь по каждому параметру. Обратный проход (`backpropagation`) вычисляет эти градиенты, распространяя ошибку от выходного слоя к входному.\n",
        "\n",
        "8. **Update Weights.** Оптимизатор обновляет веса модели на основе вычисленных градиентов и заданной скорости обучения.\n",
        "\n",
        "Этот цикл (прямой проход, вычисление потерь, обратный проход, обновление весов) выполняется для каждого батча в тренировочном наборе данных, а затем повторяется для заданного количества эпох."
      ]
    },
    {
      "cell_type": "code",
      "execution_count": null,
      "id": "cffbdc5a",
      "metadata": {
        "id": "cffbdc5a"
      },
      "outputs": [],
      "source": [
        "# Number of complete passes through the dataset\n",
        "num_epochs = 5\n",
        "\n",
        "# Start the training loop\n",
        "for epoch in range(num_epochs):\n",
        "    # Set the model to training mode\n",
        "    model.train()\n",
        "\n",
        "    # Iterate over each batch of the training data\n",
        "    for images, labels in trainloader:\n",
        "        # Move the images and labels to the computational device (CPU or GPU)\n",
        "        images, labels = images.to(device), labels.to(device)\n",
        "\n",
        "        # Clear the gradients from the previous iteration\n",
        "        optimizer.zero_grad()\n",
        "\n",
        "        # Forward pass: Pass the images through the model to get the predicted outputs\n",
        "        outputs = model(images)\n",
        "\n",
        "        # Compute the loss between the predicted outputs and the true labels\n",
        "        loss = criterion(outputs, labels)\n",
        "\n",
        "        # Backward pass: Compute the gradient of the loss w.r.t. model parameters\n",
        "        loss.backward()\n",
        "\n",
        "        # Update the model parameters\n",
        "        optimizer.step()\n"
      ]
    },
    {
      "cell_type": "markdown",
      "id": "59015629",
      "metadata": {
        "id": "59015629"
      },
      "source": [
        "## Оценка\n",
        "\n",
        "После обучения модели крайне важно оценить её производительность на невидимых данных. Для этого нужно:\n",
        "\n",
        "1. Сгенерировать предсказания для тестового набора.\n",
        "2. Вычислить метрику `accuracy`.\n",
        "3. Изучить производительность модели, используя `confusion matrix` и `classification report`.\n",
        "\n",
        "Так можно определить, насколько хорошо модель справляется с задачей и требуется ли доработка.\n",
        "\n",
        "**Заметьте,** нам не нужно вычислять градиенты, поэтому используем `torch.no_grad()`."
      ]
    },
    {
      "cell_type": "code",
      "execution_count": null,
      "id": "b08d003a",
      "metadata": {
        "id": "b08d003a",
        "outputId": "450911a6-a96b-4436-e357-8459b7d54ff3"
      },
      "outputs": [
        {
          "name": "stdout",
          "output_type": "stream",
          "text": [
            "              precision    recall  f1-score   support\n",
            "\n",
            " T-shirt/top       0.88      0.83      0.85      1000\n",
            "     Trouser       0.99      0.98      0.99      1000\n",
            "    Pullover       0.81      0.86      0.83      1000\n",
            "       Dress       0.89      0.91      0.90      1000\n",
            "        Coat       0.87      0.76      0.81      1000\n",
            "      Sandal       0.98      0.97      0.98      1000\n",
            "       Shirt       0.67      0.76      0.71      1000\n",
            "     Sneaker       0.93      0.97      0.95      1000\n",
            "         Bag       0.98      0.98      0.98      1000\n",
            "  Ankle boot       0.97      0.96      0.96      1000\n",
            "\n",
            "    accuracy                           0.90     10000\n",
            "   macro avg       0.90      0.90      0.90     10000\n",
            "weighted avg       0.90      0.90      0.90     10000\n",
            "\n"
          ]
        },
        {
          "data": {
            "image/png": "[encoded data removed]",
            "text/plain": [
              "<Figure size 1000x800 with 2 Axes>"
            ]
          },
          "metadata": {},
          "output_type": "display_data"
        }
      ],
      "source": [
        "\n",
        "import numpy as np\n",
        "from sklearn.metrics import classification_report, confusion_matrix\n",
        "import seaborn as sns\n",
        "import matplotlib.pyplot as plt\n",
        "\n",
        "# Перевод модели в режим оценки\n",
        "model.eval()\n",
        "\n",
        "# Пустые массивы для хранения предсказаний и меток\n",
        "all_preds = []\n",
        "all_labels = []\n",
        "\n",
        "\n",
        "with torch.no_grad():\n",
        "    # Итерируемся по всем батчам в test loader\n",
        "    for images, labels in testloader:\n",
        "        # Переводим изображения и метки на вычислительное устройство (CPU или GPU)\n",
        "        images, labels = images.to(device), labels.to(device)\n",
        "\n",
        "        # Пропускаем изображение через модель и получаем предсказание\n",
        "        outputs = model(images)\n",
        "\n",
        "        # Получаем класс в соответствии с максимальной вероятностью предсказанного класса\n",
        "        _, predicted = torch.max(outputs, 1)\n",
        "\n",
        "        # Заполняем массив предсказаниями\n",
        "        all_preds.extend(predicted.cpu().numpy())\n",
        "\n",
        "        # Заполняем массив истинными значениями меток классов\n",
        "        all_labels.extend(labels.cpu().numpy())\n",
        "\n",
        "# Печатаем отчёт о работе модели для каждого класса\n",
        "print(classification_report(all_labels, all_preds, target_names=classes))\n",
        "\n",
        "# Вычисляем confusion matrix\n",
        "cm = confusion_matrix(all_labels, all_preds)\n",
        "\n",
        "# Строим тепловую карту\n",
        "plt.figure(figsize=(10,8))\n",
        "sns.heatmap(cm, annot=True, fmt=\"d\", cmap=plt.cm.Blues, xticklabels=classes, yticklabels=classes)\n",
        "plt.xlabel('Predicted Label')  # x-axis label\n",
        "plt.ylabel('True Label')       # y-axis label\n",
        "plt.title('Confusion Matrix')  # Title of the plot\n",
        "plt.show()                     # Display the plot\n"
      ]
    },
    {
      "cell_type": "code",
      "execution_count": null,
      "id": "a2074ada",
      "metadata": {
        "id": "a2074ada",
        "outputId": "08b66245-0653-4d69-c487-92593f562653"
      },
      "outputs": [
        {
          "data": {
            "text/plain": [
              "NetDropout(\n",
              "  (conv1): Conv2d(1, 32, kernel_size=(3, 3), stride=(1, 1), padding=(1, 1))\n",
              "  (conv2): Conv2d(32, 64, kernel_size=(3, 3), stride=(1, 1), padding=(1, 1))\n",
              "  (pool): MaxPool2d(kernel_size=2, stride=2, padding=0, dilation=1, ceil_mode=False)\n",
              "  (dropout): Dropout(p=0.25, inplace=False)\n",
              "  (fc1): Linear(in_features=3136, out_features=512, bias=True)\n",
              "  (fc2): Linear(in_features=512, out_features=10, bias=True)\n",
              ")"
            ]
          },
          "execution_count": 10,
          "metadata": {},
          "output_type": "execute_result"
        }
      ],
      "source": [
        "import torch.nn as nn\n",
        "import torch.nn.functional as F\n",
        "\n",
        "class NetDropout(nn.Module):\n",
        "    def __init__(self):\n",
        "        super(NetDropout, self).__init__()\n",
        "\n",
        "        # Конволюционные слои\n",
        "        self.conv1 = nn.Conv2d(in_channels=1, out_channels=32, kernel_size=3, padding=1)  # Выходная форма: [batch_size, 32, 28, 28]\n",
        "        self.conv2 = nn.Conv2d(in_channels=32, out_channels=64, kernel_size=3, padding=1) # Выходная форма: [batch_size, 64, 14, 14]\n",
        "\n",
        "        # Слой Max pooling\n",
        "        self.pool = nn.MaxPool2d(kernel_size=2, stride=2, padding=0) # Уменьшает пространственные размеры вдвое\n",
        "\n",
        "        # Слой Dropout\n",
        "        self.dropout = nn.Dropout(0.25)  # Предотвращает переобучение\n",
        "\n",
        "        # Полносвязные слои\n",
        "        self.fc1 = nn.Linear(64 * 7 * 7, 512)  # Вытягивание входных данных в 512 фич\n",
        "        self.fc2 = nn.Linear(512, 10)          # 512 входных фич переходят в 10 классов\n",
        "\n",
        "    def forward(self, x):\n",
        "        x = self.pool(F.relu(self.conv1(x))) # Форма: [batch_size, 32, 14, 14]\n",
        "        x = self.pool(F.relu(self.conv2(x))) # Форма: [batch_size, 64, 7, 7]\n",
        "\n",
        "        x = x.view(-1, 64 * 7 * 7)  # Вытягивание в тензор\n",
        "        x = self.dropout(x)         #  Применение dropout\n",
        "\n",
        "        x = F.relu(self.fc1(x))     # Первый полносвязный слой с ReLU-активацией\n",
        "        x = self.fc2(x)             # Второй полносвязный слой\n",
        "\n",
        "        # Здесь мы не используем log_softmax. Если использовать nn.CrossEntropyLoss как функцию потерь позже,\n",
        "        # то она неявно применит softmax.\n",
        "        # Если вы планируете использовать nn.NLLLoss, расскоментируйте строку ниже:\n",
        "        # x = F.log_softmax(x, dim=1)\n",
        "\n",
        "        return x\n",
        "\n",
        "# Создание экземпляра модели с dropout\n",
        "model_dropout = NetDropout().to(device)\n",
        "model_dropout\n"
      ]
    },
    {
      "cell_type": "markdown",
      "id": "3b7d3b39",
      "metadata": {
        "id": "3b7d3b39"
      },
      "source": [
        "## Дополнение: регуляризация с Dropout\n",
        "\n",
        "Dropout — это метод регуляризации для уменьшения переобучения в нейронных сетях. Во время обучения случайно выбранные нейроны игнорируются, что помогает предотвратить чрезмерную зависимость модели от какого-либо конкретного нейрона. Этот процесс исключения вносит в процесс обучения своего рода шум, который может привести к лучшему обобщению.\n",
        "\n",
        "![Dropout](https://miro.medium.com/max/1200/1*iWQzxhVlvadk6VAJjsgXgg.png)\n",
        "Sketcher / neerc.ifmo.ru\n",
        "\n",
        "Изменим модель, добавив dropout.\n"
      ]
    },
    {
      "cell_type": "markdown",
      "id": "16a0823c",
      "metadata": {
        "id": "16a0823c"
      },
      "source": [
        "## Понимание роли `F.log_softmax`\n",
        "\n",
        "Применение функции `F.log_softmax` в конце модели имеет важное значение в определённых контекстах, и важно понимать, зачем и когда мы её используем.\n",
        "\n",
        "### Softmax\n",
        "Функция **softmax** часто используется в конечном слое классификационной нейронной сети. Её основная роль — преобразовать необработанные оценки, также известные как логиты, которые сеть выдаёт, в распределение вероятностей для различных классов. Результаты этого преобразования — значения в диапазоне (0, 1), и, что важно, их сумма равна 1.\n",
        "\n",
        "\n",
        "### Log Softmax\n",
        "С другой стороны, `Log Softmax` — это применение логарифма после преобразования с помощью softmax. Эта трансформация даёт логарифмические вероятности. В PyTorch часто используется пара: `F.log_softmax` и `nn.NLLLoss` (Negative Log Likelihood Loss), поскольку последняя ожидает в качестве входа логарифмические вероятности.\n",
        "\n",
        "### Почему стоит выбрать `F.log_softmax`, а не последовательное использование `F.softmax` и затем логарифма?\n",
        "Основная причина — числовая стабильность. Когда операции объединены в единую функцию `log_softmax`, они выполняются более стабильно, чем при их последовательном применении (сначала softmax, затем логарифм). Это особенно важно для числовой точности в задачах с большими или малыми значениями.\n",
        "\n",
        "### Что, если не использовать `F.log_softmax`?\n",
        "Если в модели не применяется `log_softmax` (или даже `softmax`), то её выходные данные остаются необработанными оценками (логитами). Когда используется функция потерь `nn.CrossEntropyLoss`, явное применение `softmax` или `log_softmax` становится ненужным, так как эта функция потерь автоматически обрабатывает их. Напротив, если выбирается функция потерь `nn.NLLLoss`, то применение `log_softmax` становится необходимым. Отказ от использования softmax означает, что предсказания модели не будут интерпретироваться как допустимые вероятности.\n"
      ]
    },
    {
      "cell_type": "code",
      "execution_count": null,
      "id": "524cfaeb",
      "metadata": {
        "id": "524cfaeb"
      },
      "outputs": [],
      "source": [
        "optimizer = torch.optim.Adam(model_dropout.parameters(), lr=0.001)\n",
        "criterion = nn.CrossEntropyLoss()\n"
      ]
    },
    {
      "cell_type": "markdown",
      "id": "fd1faac8",
      "metadata": {
        "id": "fd1faac8"
      },
      "source": [
        "## Обучение"
      ]
    },
    {
      "cell_type": "markdown",
      "id": "aee35440",
      "metadata": {
        "id": "aee35440"
      },
      "source": [
        "## Логирование и наблюдение за потерями во время обучения\n",
        "\n",
        "Во время обучения нейронных сетей важно отслеживать различные метрики, чтобы понять, как хорошо модель учится. Одной из фундаментальных метрик для отслеживания является потеря (loss). Потери показывают расхождения между предсказаниями модели и истинными метками. Низкие потери обычно означают, что предсказания модели ближе к истинным значениям.\n",
        "\n",
        "### Важность логирования потерь\n",
        "\n",
        "1. **Мониторинг сходимости.** Потери должны обычно уменьшаться по мере продвижения обучения. Если потери перестают уменьшаться (или начинают увеличиваться), это может указывать на то, что модель начала переобучаться, или на наличие других проблем, таких как слишком высокая скорость обучения, вызывающая расходимость.\n",
        "\n",
        "2. **Тюнинг гиперпараметров.** Наблюдение за потерями может помочь в настройке гиперпараметров. Например, если потери уменьшаются очень медленно, повышение скорости обучения или изменение оптимизатора может помочь. С другой стороны, если потери показывают высокую изменчивость, уменьшение скорости обучения может быть полезным.\n",
        "\n",
        "3. **Сравнение моделей.** При экспериментировании с различными архитектурами или стратегиями потери предоставляют способ сравнения эффективности различных моделей.\n",
        "\n",
        "4. **Раннее завершение.** Отслеживание потерь на валидационном наборе данных позволяет остановить обучение, когда потери на валидации начинают расти, предотвращая переобучение.\n",
        "\n",
        "### Best Practices\n",
        "\n",
        "- **Визуализация.** Хотя вывод потерь в консоль полезен, визуализация их с помощью графиков может быть ещё более информативной. Инструменты, такие как TensorBoard, или библиотеки, такие как Matplotlib, могут быть использованы для построения графиков потерь по эпохам, что даёт более ясное представление о динамике обучения.\n",
        "\n",
        "- **Частота логирования.** В зависимости от длительности обучения, можно логировать потери каждую эпоху, каждые N батчей или даже после каждого батча. Выбирайте частоту, которая обеспечит хороший баланс между полезной информацией и перегрузкой данными.\n",
        "\n",
        "- **Дополнительные метрики.** Помимо потерь, часто полезно отслеживать другие метрики, такие как точность, прецизионность, полнота и так далее, особенно на валидационном наборе данных. Эти метрики дают более полное представление о производительности модели.\n",
        "\n",
        "Постоянный мониторинг и логирование потерь во время обучения — это основная практика в глубоком обучении. Это служит первым диагностическим инструментом для процесса обучения, позволяя своевременно вмешиваться и направлять улучшения.\n"
      ]
    },
    {
      "cell_type": "code",
      "execution_count": null,
      "id": "f1b2f737",
      "metadata": {
        "id": "f1b2f737",
        "outputId": "73a3fe90-6c02-49cd-e98d-3fa5613e5332"
      },
      "outputs": [
        {
          "name": "stdout",
          "output_type": "stream",
          "text": [
            "Epoch [1/5], Loss: 0.3927\n",
            "Epoch [2/5], Loss: 0.2781\n",
            "Epoch [3/5], Loss: 0.2470\n",
            "Epoch [4/5], Loss: 0.2290\n",
            "Epoch [5/5], Loss: 0.2131\n",
            "Finished Training\n"
          ]
        }
      ],
      "source": [
        "num_epochs = 5\n",
        "\n",
        "# Старт эпохи обучения\n",
        "for epoch in range(num_epochs):\n",
        "    # Переменная для контроля совокупных потерь за эпоху\n",
        "    running_loss = 0.0\n",
        "\n",
        "    # Перевод модели в режим обучения\n",
        "    model_dropout.train()\n",
        "\n",
        "\n",
        "    for i, (images, labels) in enumerate(trainloader):\n",
        "        # Передача на устройство (CPU или GPU)\n",
        "        images, labels = images.to(device), labels.to(device)\n",
        "\n",
        "        # Очистка градиентов\n",
        "        optimizer.zero_grad()\n",
        "\n",
        "        # Прямой проход: передача изображения в модель\n",
        "        outputs = model_dropout(images)\n",
        "\n",
        "        # Вычисление потерь\n",
        "        loss = criterion(outputs, labels)\n",
        "\n",
        "        # Обратный проход: вычисление градиента потерь\n",
        "        loss.backward()\n",
        "\n",
        "        # Обновление параметров модели\n",
        "        optimizer.step()\n",
        "\n",
        "        # Обновление running loss\n",
        "        running_loss += loss.item()\n",
        "\n",
        "\n",
        "    print(f\"Epoch [{epoch+1}/{num_epochs}], Loss: {running_loss/len(trainloader):.4f}\")\n",
        "\n",
        "print(\"Finished Training\")\n",
        "\n"
      ]
    },
    {
      "cell_type": "markdown",
      "id": "4dd167f6",
      "metadata": {
        "id": "4dd167f6"
      },
      "source": [
        "## Оценка"
      ]
    },
    {
      "cell_type": "markdown",
      "id": "5f24c92c",
      "metadata": {
        "id": "5f24c92c"
      },
      "source": [
        "## Повторное использование кода для оценки и важность тестирования на валидационном наборе\n",
        "\n",
        "В последующих шагах я буду использовать тот же код для оценки, который мы обсуждали ранее. Возможно, у вас возникнут вопросы: «Почему не изменить его?» или «Зачем эта стадия вообще нужна?». Давайте разберёмся, почему это важно.\n",
        "\n",
        "### Суть оценки\n",
        "\n",
        "1. **Обобщение.** Хотя модель может показывать отличные результаты на обучающих данных, важно понять, как она будет вести себя на новых, невидимых данных. Оценка на тестовом или валидационном наборе даёт представление о способности модели обобщать информацию на новые примеры, что является основной целью построения моделей машинного обучения.\n",
        "\n",
        "2. **Обнаружение переобучения.** Если модель показывает отличные результаты на обучающих данных, но плохо справляется с валидационным набором, это может быть признаком переобучения. Переобучение происходит, когда модель слишком хорошо «запоминает» обучающие данные, включая шум и выбросы, что снижает её эффективность на новых данных.\n",
        "\n",
        "3. **Сравнение моделей.** Метрики оценки на валидационном наборе дают объективную основу для сравнения различных моделей или стратегий, помогая выбрать наилучшую для решения поставленной задачи.\n",
        "\n",
        "4. **Тюнинг гиперпараметров.** Производительность на валидационном наборе может помочь в настройке гиперпараметров модели. Это предоставляет обратную связь о том, насколько эффективны изменения, и помогает удостовериться, что они действительно приводят к улучшениям, а не просто к лучшей подгонке модели под обучающие данные.\n",
        "\n",
        "### Почему нужно повторно использовать код для оценки?\n",
        "\n",
        "- **Согласованность.** Использование одного и того же кода для оценки гарантирует согласованность результатов, делая сравнение моделей действительным и значимым.\n",
        "\n",
        "- **Эффективность.** Нет необходимости «изобретать колесо», если текущий код для оценки уже эффективно оценивает производительность модели на валидационном наборе.\n",
        "\n",
        "- **Точность.** Проверенный код для оценки, который уже зарекомендовал себя как корректный, снижает вероятность возникновения ошибок в процессе оценки.\n",
        "\n",
        "\n",
        "\n",
        "Регулярная оценка модели на валидационном или тестовом наборе данных — это неотъемлемая практика в машинном обучении. Она позволяет понять, как модель будет работать в реальных условиях, за пределами обучающих данных.\n",
        "\n",
        "**Примечание.** Мы оцениваем модель с dropout, поэтому используем `model_dropout`."
      ]
    },
    {
      "cell_type": "code",
      "execution_count": null,
      "id": "0ff96655",
      "metadata": {
        "id": "0ff96655",
        "outputId": "960c7251-6928-4060-ce07-4ff643678fe5"
      },
      "outputs": [
        {
          "name": "stdout",
          "output_type": "stream",
          "text": [
            "              precision    recall  f1-score   support\n",
            "\n",
            " T-shirt/top       0.84      0.87      0.86      1000\n",
            "     Trouser       0.99      0.99      0.99      1000\n",
            "    Pullover       0.86      0.86      0.86      1000\n",
            "       Dress       0.93      0.92      0.92      1000\n",
            "        Coat       0.84      0.88      0.86      1000\n",
            "      Sandal       0.99      0.98      0.99      1000\n",
            "       Shirt       0.75      0.70      0.72      1000\n",
            "     Sneaker       0.96      0.97      0.97      1000\n",
            "         Bag       0.99      0.99      0.99      1000\n",
            "  Ankle boot       0.97      0.97      0.97      1000\n",
            "\n",
            "    accuracy                           0.91     10000\n",
            "   macro avg       0.91      0.91      0.91     10000\n",
            "weighted avg       0.91      0.91      0.91     10000\n",
            "\n"
          ]
        },
        {
          "data": {
            "image/png": "[encoded data removed]",
            "text/plain": [
              "<Figure size 1000x800 with 2 Axes>"
            ]
          },
          "metadata": {},
          "output_type": "display_data"
        }
      ],
      "source": [
        "\n",
        "import numpy as np\n",
        "from sklearn.metrics import classification_report, confusion_matrix\n",
        "import seaborn as sns\n",
        "import matplotlib.pyplot as plt\n",
        "\n",
        "\n",
        "model_dropout.eval()\n",
        "\n",
        "\n",
        "all_preds = []\n",
        "all_labels = []\n",
        "\n",
        "\n",
        "with torch.no_grad():\n",
        "    for images, labels in testloader:\n",
        "        images, labels = images.to(device), labels.to(device)\n",
        "        outputs = model_dropout(images)\n",
        "        _, predicted = torch.max(outputs, 1)\n",
        "        all_preds.extend(predicted.cpu().numpy())\n",
        "        all_labels.extend(labels.cpu().numpy())\n",
        "print(classification_report(all_labels, all_preds, target_names=classes))\n",
        "\n",
        "cm = confusion_matrix(all_labels, all_preds)\n",
        "\n",
        "plt.figure(figsize=(10,8))\n",
        "sns.heatmap(cm, annot=True, fmt=\"d\", cmap=plt.cm.Blues, xticklabels=classes, yticklabels=classes)\n",
        "plt.xlabel('Predicted Label')  # x-axis label\n",
        "plt.ylabel('True Label')       # y-axis label\n",
        "plt.title('Confusion Matrix')  # Title of the plot\n",
        "plt.show()                     # Display the plot\n"
      ]
    },
    {
      "cell_type": "markdown",
      "id": "4b91b0b6",
      "metadata": {
        "id": "4b91b0b6"
      },
      "source": [
        "## Расширенные темы: аугментация данных\n",
        "\n",
        "## Понимание аугментации данных\n",
        "\n",
        "Аугментация данных — это мощная техника, позволяющая искусственно увеличить размер обучающего набора данных. Применяя различные трансформации к исходным изображениям, мы можем смоделировать разнообразие и случайность, которые модель может встретить в реальных сценариях, что улучшает её устойчивость и способность к обобщению.\n",
        "\n",
        "### Преимущества аугментации данных\n",
        "\n",
        "1. **Предотвращение переобучения.** Введение случайности в обучающие данные помогает предотвратить запоминание модели конкретных шаблонов, что делает модель более обобщённой.\n",
        "\n",
        "2. **Устойчивость модели.** Аугментированные данные знакомят модель с потенциальными сценариями, с которыми она может столкнуться в реальной жизни, такими как повёрнутые или смещённые изображения.\n",
        "\n",
        "3. **Увеличение размера набора данных.** Особенно полезно, когда исходный набор данных небольшой, — аугментация эффективно увеличивает количество обучающих данных.\n",
        "\n",
        "### Техники аугментации, которые используются\n",
        "\n",
        "- **RandomHorizontalFlip.** Отражает изображение по горизонтали. Полезно для наборов данных, где горизонтальная ориентация может варьироваться, но при этом всё ещё имеет одинаковое значение (например, перевёрнутая обувь всё равно остаётся обувью).\n",
        "\n",
        "- **RandomRotation.** Поворот изображения на определённый угол. Это помогает модели стать инвариантной к ориентации объектов.\n",
        "\n",
        "- **RandomCrop.** Случайный обрез изображения. Это может имитировать ситуации, когда объекты частично выходят за пределы кадра или видны с разных позиций.\n",
        "\n",
        "### Использование аугментированных данных с моделями\n",
        "\n",
        "Как `BasicCNN`, так и `NetDropOut` могут быть обучены на этом аугментированном наборе данных без изменений. Модели рассчитаны на приём данных формы [batch_size, 1, 28, 28], и наши аугментации гарантируют, что эта форма останется согласованной.\n",
        "\n",
        "Однако при обучении на аугментированных данных можно наблюдать:\n",
        "\n",
        "- Более медленную сходимость. Из-за увеличенной вариативности в данных модель может потребовать больше времени для сходимости.\n",
        "- Улучшенную точность на валидационном наборе. Когда модель подвергается разнообразным обучающим сценариям, она может лучше показывать результаты на валидационном наборе.\n",
        "\n",
        "### Python Code (Commented Out)\n",
        "```python\n",
        "# Трансформации для аугментации данных\n",
        "# transform_augmented = transforms.Compose([\n",
        "#     transforms.RandomHorizontalFlip(),\n",
        "#     transforms.RandomRotation(20),\n",
        "#     transforms.RandomCrop(28, padding=4),\n",
        "#     transforms.ToTensor()\n",
        "# ])\n",
        "\n",
        "# Аугментированные обучающие данные\n",
        "# trainset_augmented = torchvision.datasets.FashionMNIST(root='./data', train=True, download=True, transform=transform_augmented)\n",
        "# trainloader_augmented = torch.utils.data.DataLoader(trainset_augmented, batch_size=4, shuffle=True, num_workers=2)\n",
        "\n"
      ]
    },
    {
      "cell_type": "code",
      "execution_count": null,
      "id": "d76252ba",
      "metadata": {
        "id": "d76252ba",
        "outputId": "d513ca20-8a6e-4cbf-ef28-10863dd25f67"
      },
      "outputs": [
        {
          "data": {
            "text/plain": [
              "\"\\nimport torchvision.transforms as transforms\\nimport torchvision\\n\\n# Define the original transformation pipeline for the test set\\n# Convert the images to PyTorch tensor format\\ntransform = transforms.Compose([transforms.ToTensor()])\\n\\n# For the training set, we'll use additional transformations for data augmentation\\ntransform_augmented = transforms.Compose([\\n    # Flip the image horizontally with a 50% probability\\n    transforms.RandomHorizontalFlip(),\\n    \\n    # Rotate the image by up to 20 degrees\\n    transforms.RandomRotation(20),\\n    \\n    # Crop the image randomly and then resize it back to its original size\\n    transforms.RandomCrop(28, padding=4),\\n    \\n    # Convert the image to a PyTorch tensor\\n    transforms.ToTensor()\\n])\\n\\n# Load the Fashion MNIST training dataset with augmented transformations\\ntrainset_augmented = torchvision.datasets.FashionMNIST(root='./data', train=True, download=True, transform=transform_augmented)\\n\\n# Create a DataLoader for the augmented training set\\ntrainloader_augmented = torch.utils.data.DataLoader(trainset_augmented, batch_size=4, shuffle=True, num_workers=2)\\n\\n# Load the Fashion MNIST test dataset. Note that we don't use augmentation for the test set.\\ntestset = torchvision.datasets.FashionMNIST(root='./data', train=False, download=True, transform=transform)\\ntestloader = torch.utils.data.DataLoader(testset, batch_size=4, shuffle=False, num_workers=2)\\n\\n# Define the class labels for the Fashion MNIST dataset\\nclasses = ('T-shirt/top', 'Trouser', 'Pullover', 'Dress', 'Coat', \\n           'Sandal', 'Shirt', 'Sneaker', 'Bag', 'Ankle boot')\\n\""
            ]
          },
          "execution_count": 14,
          "metadata": {},
          "output_type": "execute_result"
        }
      ],
      "source": [
        "'''\n",
        "import torchvision.transforms as transforms\n",
        "import torchvision\n",
        "\n",
        "# Определяем оригинальный пайплайн преобразований для тестового набора данных\n",
        "# Преобразуем изображения в формат тензоров PyTorch\n",
        "transform = transforms.Compose([transforms.ToTensor()])\n",
        "\n",
        "# Для обучающего набора данных используем дополнительные преобразования для аугментации данных\n",
        "transform_augmented = transforms.Compose([\n",
        "    # Горизонтально переворачиваем изображение с вероятностью 50%\n",
        "    transforms.RandomHorizontalFlip(),\n",
        "\n",
        "    # Поворачиваем изображение на угол до 20 градусов\n",
        "    transforms.RandomRotation(20),\n",
        "\n",
        "    # Обрезаем изображение случайным образом и затем изменяем размер обратно до исходного\n",
        "    transforms.RandomCrop(28, padding=4),\n",
        "\n",
        "    # Преобразуем изображение в тензор PyTorch\n",
        "    transforms.ToTensor()\n",
        "])\n",
        "\n",
        "# Загружаем обучающий набор данных Fashion MNIST с аугментацией\n",
        "trainset_augmented = torchvision.datasets.FashionMNIST(root='./data', train=True, download=True, transform=transform_augmented)\n",
        "\n",
        "# Создаём DataLoader для обучающего набора с аугментацией\n",
        "trainloader_augmented = torch.utils.data.DataLoader(trainset_augmented, batch_size=4, shuffle=True, num_workers=2)\n",
        "\n",
        "# Загружаем тестовый набор данных Fashion MNIST. Обратите внимание, что для теста аугментацию не используем.\n",
        "testset = torchvision.datasets.FashionMNIST(root='./data', train=False, download=True, transform=transform)\n",
        "testloader = torch.utils.data.DataLoader(testset, batch_size=4, shuffle=False, num_workers=2)\n",
        "\n",
        "# Определяем метки классов для набора данных Fashion MNIST\n",
        "classes = ('T-shirt/top', 'Trouser', 'Pullover', 'Dress', 'Coat',\n",
        "           'Sandal', 'Shirt', 'Sneaker', 'Bag', 'Ankle boot')\n",
        "'''"
      ]
    },
    {
      "cell_type": "code",
      "execution_count": null,
      "id": "54618bf8",
      "metadata": {
        "id": "54618bf8",
        "outputId": "5f2ba1a5-a8ca-4e9a-fe2b-4903935410b5"
      },
      "outputs": [
        {
          "data": {
            "image/png": "[encoded data removed]",
            "text/plain": [
              "<Figure size 1200x300 with 4 Axes>"
            ]
          },
          "metadata": {},
          "output_type": "display_data"
        }
      ],
      "source": [
        "import torchvision.transforms as transforms\n",
        "import torchvision.datasets as datasets\n",
        "import matplotlib.pyplot as plt\n",
        "\n",
        "dataset = datasets.FashionMNIST(root='./data', train=True, download=True)\n",
        "\n",
        "# Вывод изображения для демонстрации\n",
        "image, _ = dataset[1]\n",
        "\n",
        "# Определение аугментации\n",
        "transform_flip = transforms.RandomHorizontalFlip(p=1)  # force flip every time\n",
        "transform_rotate = transforms.RandomRotation(20)\n",
        "transform_crop = transforms.RandomCrop(28, padding=4)\n",
        "\n",
        "# Применение аугментации\n",
        "image_flip = transform_flip(image)\n",
        "image_rotate = transform_rotate(image)\n",
        "image_crop = transform_crop(image)\n",
        "\n",
        "# Визуализация\n",
        "fig, axs = plt.subplots(1, 4, figsize=(12, 3))\n",
        "\n",
        "axs[0].imshow(image, cmap='gray')\n",
        "axs[0].set_title('Original')\n",
        "axs[0].axis('off')\n",
        "\n",
        "axs[1].imshow(image_flip, cmap='gray')\n",
        "axs[1].set_title('Flipped')\n",
        "axs[1].axis('off')\n",
        "\n",
        "axs[2].imshow(image_rotate, cmap='gray')\n",
        "axs[2].set_title('Rotated')\n",
        "axs[2].axis('off')\n",
        "\n",
        "axs[3].imshow(image_crop, cmap='gray')\n",
        "axs[3].set_title('Cropped')\n",
        "axs[3].axis('off')\n",
        "\n",
        "plt.tight_layout()\n",
        "plt.show()"
      ]
    }
  ],
  "metadata": {
    "kernelspec": {
      "display_name": "Python 3 (ipykernel)",
      "language": "python",
      "name": "python3"
    },
    "language_info": {
      "codemirror_mode": {
        "name": "ipython",
        "version": 3
      },
      "file_extension": ".py",
      "mimetype": "text/x-python",
      "name": "python",
      "nbconvert_exporter": "python",
      "pygments_lexer": "ipython3",
      "version": "3.12.3"
    },
    "colab": {
      "provenance": []
    }
  },
  "nbformat": 4,
  "nbformat_minor": 5
}